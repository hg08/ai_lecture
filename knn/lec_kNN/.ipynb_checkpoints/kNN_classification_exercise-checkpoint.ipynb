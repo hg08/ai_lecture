{
 "cells": [
  {
   "cell_type": "markdown",
   "metadata": {},
   "source": [
    "#### kNN分类算法分析-kNN回归 习题"
   ]
  },
  {
   "cell_type": "code",
   "execution_count": 1,
   "metadata": {},
   "outputs": [],
   "source": [
    "import mglearn\n",
    "import matplotlib.pyplot as plt\n"
   ]
  },
  {
   "cell_type": "code",
   "execution_count": 8,
   "metadata": {},
   "outputs": [],
   "source": [
    "import numpy as np\n",
    "\n",
    "def distance(p1, p2):\n",
    "    \"\"\"返回两点间的距离(欧几里得距离, Euclidean distance)\n",
    "       这个定义具有普遍性,可用于计算N维空间中的两点的距离.\n",
    "    \"\"\"\n",
    "    return np.sqrt(np.sum(np.power(p1 - p2, 2)))"
   ]
  },
  {
   "cell_type": "code",
   "execution_count": 9,
   "metadata": {},
   "outputs": [
    {
     "data": {
      "text/plain": [
       "2"
      ]
     },
     "execution_count": 9,
     "metadata": {},
     "output_type": "execute_result"
    }
   ],
   "source": [
    "import random \n",
    "\n",
    "def majority_vote(votes):\n",
    "    count_dict ={}\n",
    "    \n",
    "    for vote in votes:\n",
    "        # 已见过的选项(vote)\n",
    "        if vote in count_dict:\n",
    "            count_dict[vote] += 1\n",
    "        # 未见过的选项\n",
    "        else:\n",
    "            count_dict[vote] = 1\n",
    "            \n",
    "    winners = []       \n",
    "    max_count = max(count_dict.values())\n",
    "    for vote, counts in count_dict.items():\n",
    "        if counts == max_count:\n",
    "            winners.append(vote)\n",
    "    return random.choice(winners)\n",
    "# 定义一个序列\n",
    "votes = [1,2,1,3,4,2,2,2,3,3,2,3,3]\n",
    "majority_vote(votes)"
   ]
  },
  {
   "cell_type": "code",
   "execution_count": 10,
   "metadata": {},
   "outputs": [],
   "source": [
    "import numpy as np\n",
    "import scipy.stats as ss # 导入scipy.stats(约定)\n",
    "\n",
    "def majority_vote_simple(votes):\n",
    "    \"\"\"\n",
    "    返回序列中的最高频元素.\n",
    "    输入:NumPy数组\n",
    "    \"\"\"\n",
    "    mode, count = ss.mstats.mode(votes)\n",
    "    return mode"
   ]
  },
  {
   "cell_type": "markdown",
   "metadata": {},
   "source": [
    "求k个最近邻居的函数: find_nn(p,points,k)"
   ]
  },
  {
   "cell_type": "code",
   "execution_count": 28,
   "metadata": {},
   "outputs": [],
   "source": [
    "def find_nn(p,points, k=3):\n",
    "    \"\"\"\n",
    "    返回(points集合中)距离p点最近的k个点的索引值.\n",
    "    \"\"\"\n",
    "    distances = np.zeros(points.shape[0])\n",
    "    for i in range(len(distances)):\n",
    "        distances[i] = distance(points[i],p)\n",
    "    ind = np.argsort(distances)\n",
    "    # 计算出距离值(由小到大排序):\n",
    "    return ind[:k]  "
   ]
  },
  {
   "cell_type": "markdown",
   "metadata": {},
   "source": [
    "写一个函数实现:预言一个新点的类别. "
   ]
  },
  {
   "cell_type": "code",
   "execution_count": 14,
   "metadata": {},
   "outputs": [
    {
     "name": "stdout",
     "output_type": "stream",
     "text": [
      "所属类别: 1\n"
     ]
    },
    {
     "data": {
      "text/plain": [
       "[<matplotlib.lines.Line2D at 0x26d83211f60>]"
      ]
     },
     "execution_count": 14,
     "metadata": {},
     "output_type": "execute_result"
    },
    {
     "data": {
      "image/png": "[encoded data removed]",
      "text/plain": [
       "<Figure size 432x288 with 1 Axes>"
      ]
     },
     "metadata": {},
     "output_type": "display_data"
    }
   ],
   "source": [
    "import matplotlib.pyplot as plt\n",
    "# outcomes为已知点points的类别\n",
    "def knn_predict(p, points, outcomes, k=3):\n",
    "    \"\"\"返回新点p的类别.\"\"\"\n",
    "    ind = find_nn(p, points, k)\n",
    "    #print(\"ind: \",ind)\n",
    "    return majority_vote(outcomes[ind])\n",
    "    \n",
    "outcomes = np.array([0,0,0,0,1,1,1,1,1])\n",
    "p = np.array([-.49,.5])\n",
    "points = np.array([[-1,-1],[-1,0],[-1,1],[0,-1],[0,0],[0,1],[1,-1],[1,0],[1,1]])\n",
    "res = knn_predict(p, points,outcomes,3)\n",
    "print(\"所属类别:\",res)\n",
    "\n",
    "#作图\n",
    "plt.plot(points[:,0],points[:,1],\"bo\")\n",
    "plt.plot(points[:4,0],points[:4,1], \"go\")\n",
    "plt.plot(p[0],p[1],\"ro\")"
   ]
  },
  {
   "cell_type": "markdown",
   "metadata": {},
   "source": [
    "#### 产生数据\n"
   ]
  },
  {
   "cell_type": "code",
   "execution_count": 16,
   "metadata": {},
   "outputs": [],
   "source": [
    "def generate_synth_data(n=50):\n",
    "    points = np.concatenate((ss.norm(0,1).rvs((n,2)), ss.norm(1.5,1).rvs((n,2))), axis =0)\n",
    "    outcomes = np.concatenate((np.repeat(0,n),np.repeat(1,n))) \n",
    "    return (points, outcomes)  "
   ]
  },
  {
   "cell_type": "markdown",
   "metadata": {},
   "source": [
    "#### 制作预测格点"
   ]
  },
  {
   "cell_type": "code",
   "execution_count": 18,
   "metadata": {},
   "outputs": [],
   "source": [
    "def make_pred_grid(predictors,outcomes,limits,h,k):\n",
    "    (x_min,x_max, y_min,y_max) = limits\n",
    "    xs = np.arange(x_min,x_max,h) # h\n",
    "    ys = np.arange(y_min,y_max,h)\n",
    "    xx, yy = np.meshgrid(xs,ys)\n",
    "    \n",
    "    pred_grid = np.zeros(xx.shape, dtype = int)\n",
    "    for i, x in enumerate(xs):\n",
    "        for j, y in enumerate(ys):\n",
    "            p = np.array([x,y])\n",
    "            pred_grid[j,i] = knn_predict(p,predictors,outcomes,k)\n",
    "            \n",
    "    return (xx,yy,pred_grid)"
   ]
  },
  {
   "cell_type": "markdown",
   "metadata": {},
   "source": [
    "#### 对格点作图 "
   ]
  },
  {
   "cell_type": "code",
   "execution_count": 19,
   "metadata": {},
   "outputs": [
    {
     "data": {
      "image/png": "[encoded data removed]",
      "text/plain": [
       "<Figure size 720x720 with 1 Axes>"
      ]
     },
     "metadata": {},
     "output_type": "display_data"
    }
   ],
   "source": [
    "# 对格点作图\n",
    "def plot_pred_grid (xx, yy, prediction_grid, filename):\n",
    "    \"\"\" Plot KNN predictions for every point on the grid.\"\"\"\n",
    "    from matplotlib.colors import ListedColormap\n",
    "    background_colormap = ListedColormap ([\"hotpink\",\"yellowgreen\",\"lightskyblue\" ])\n",
    "    observation_colormap = ListedColormap ([\"red\",\"blue\",\"green\"])\n",
    "    plt.figure(figsize =(10,10))\n",
    "    plt.pcolormesh(xx, yy, prediction_grid, cmap = background_colormap, alpha = 0.5)\n",
    "    plt.scatter(predictors[:,0], predictors [:,1], c = outcomes, cmap = observation_colormap, s = 50)\n",
    "    plt.xlabel(\"x1\"); plt.ylabel(\"x2\")\n",
    "    plt.xticks(()); plt.yticks(())\n",
    "    plt.xlim (np.min(xx), np.max(xx))\n",
    "    plt.ylim (np.min(yy), np.max(yy))\n",
    "    plt.savefig(filename)\n",
    "    \n",
    "\n",
    "(predictors, outcomes) = generate_synth_data()\n",
    "\n",
    "k = 5 ; filename = \"knn_synth_5.pdf\"\n",
    "limits = (-3,4,-3,4) ;   h = 0.1\n",
    "\n",
    "(xx,yy, pred_grid) = make_pred_grid(predictors,outcomes,limits,h,k)\n",
    "plot_pred_grid(xx,yy, pred_grid, filename)\n",
    "\n"
   ]
  },
  {
   "cell_type": "markdown",
   "metadata": {},
   "source": [
    "#### 导入SciKit-Learn的 KNeighbors分类器. "
   ]
  },
  {
   "cell_type": "code",
   "execution_count": 20,
   "metadata": {},
   "outputs": [],
   "source": [
    "import pandas as pd\n",
    "from sklearn.neighbors import KNeighborsClassifier\n",
    "model = KNeighborsClassifier(n_neighbors=3)"
   ]
  },
  {
   "cell_type": "markdown",
   "metadata": {},
   "source": [
    "# 习题: 应用kNN模型\n",
    "应用我们自己写的kNN分类器到一个真实的数据集,并对比我们的kNN分类器和scikit-learn模块的kNN分类器的表现. \n",
    "    \n",
    "数据集: 150朵鸢尾花(Iris):共有三种,每种的数量为50.\n",
    "对每一朵花,有如下变量(covariates): \n",
    "\n",
    "    花萼(sepal)长度, 花萼宽度;\n",
    "    花瓣(petal)长度, 花瓣宽度."
   ]
  },
  {
   "cell_type": "code",
   "execution_count": 20,
   "metadata": {},
   "outputs": [
    {
     "data": {
      "image/png": "[encoded data removed]",
      "text/plain": [
       "<Figure size 432x288 with 1 Axes>"
      ]
     },
     "metadata": {},
     "output_type": "display_data"
    }
   ],
   "source": [
    "from sklearn import datasets\n",
    "iris = datasets.load_iris()\n",
    "\n",
    "#将iris数据集的部分列作为我们的数据集\n",
    "predictors = iris.data[:,0:2]\n",
    "outcomes = iris.target\n",
    "#print(outcomes == 0)\n",
    "#print(predictors[outcomes==0][:,0])\n",
    "plt.plot(predictors[outcomes==0][:,0], predictors[outcomes==0][:,1] , \"ro\")\n",
    "# 数据集中一共有三种鸢尾花,上面一行命令已经对第一种花的特征作图.对另外两种鸢尾花的特征作图.\n",
    "# ==your code\n",
    "\n",
    "plt.savefig(\"iris.svg\")"
   ]
  },
  {
   "cell_type": "code",
   "execution_count": 21,
   "metadata": {},
   "outputs": [],
   "source": [
    "#请确定三种花在特征空间中的边界. \n",
    "# 设置各个参数, 然后利用make_pred_grid()和plot_pred_grid().\n",
    "\n",
    "#==your code:\n"
   ]
  },
  {
   "cell_type": "code",
   "execution_count": 23,
   "metadata": {},
   "outputs": [],
   "source": [
    "# 利用scikit-learn模块作分类预测,并将预测结果 (sk_predictions)与knn_predict(p, predictors, outcomes,k)的结果(my_predictions)作比较.\n",
    "\n",
    "from sklearn.neighbors import KNeighborsClassifier\n",
    "\n",
    "# 建立knn模分类模型并作预测"
   ]
  },
  {
   "cell_type": "code",
   "execution_count": 29,
   "metadata": {},
   "outputs": [
    {
     "data": {
      "text/plain": [
       "(150,)"
      ]
     },
     "execution_count": 29,
     "metadata": {},
     "output_type": "execute_result"
    }
   ],
   "source": [
    "sk_predictions.shape"
   ]
  },
  {
   "cell_type": "code",
   "execution_count": 30,
   "metadata": {},
   "outputs": [
    {
     "data": {
      "text/plain": [
       "array([0, 0, 0, 0, 0, 0, 0, 0, 0, 0])"
      ]
     },
     "execution_count": 30,
     "metadata": {},
     "output_type": "execute_result"
    }
   ],
   "source": [
    "sk_predictions[:10]"
   ]
  },
  {
   "cell_type": "code",
   "execution_count": 24,
   "metadata": {},
   "outputs": [],
   "source": [
    " # 打印出knn_predict(p, predictors, outcomes,k)的结果: my_predictions"
   ]
  },
  {
   "cell_type": "code",
   "execution_count": 25,
   "metadata": {},
   "outputs": [],
   "source": [
    "#将预测结果 (sk_predictions)与knn_predict(p, predictors, outcomes,k)的结果(my_predictions)作比较\n",
    "#== your code"
   ]
  },
  {
   "cell_type": "code",
   "execution_count": 27,
   "metadata": {},
   "outputs": [],
   "source": [
    "# 两种算法的对比(直接运行下面的命令)\n",
    "# print(100 * np.mean(my_predictions == sk_predictions))"
   ]
  },
  {
   "cell_type": "code",
   "execution_count": 26,
   "metadata": {},
   "outputs": [],
   "source": [
    "# 对两种算法分别计算准确率\n"
   ]
  }
 ],
 "metadata": {
  "kernelspec": {
   "display_name": "Python 3",
   "language": "python",
   "name": "python3"
  },
  "language_info": {
   "codemirror_mode": {
    "name": "ipython",
    "version": 3
   },
   "file_extension": ".py",
   "mimetype": "text/x-python",
   "name": "python",
   "nbconvert_exporter": "python",
   "pygments_lexer": "ipython3",
   "version": "3.5.5"
  },
  "widgets": {
   "state": {},
   "version": "1.1.2"
  }
 },
 "nbformat": 4,
 "nbformat_minor": 2
}
