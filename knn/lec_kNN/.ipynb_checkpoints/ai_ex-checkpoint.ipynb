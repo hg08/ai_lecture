{
 "cells": [
  {
   "cell_type": "markdown",
   "metadata": {},
   "source": [
    "# kNN分类算法"
   ]
  },
  {
   "cell_type": "markdown",
   "metadata": {},
   "source": [
    "## 1. 数据集\n",
    "\n",
    "数据集的散点图,举例.  注意: mglearn,matplotlib的使用."
   ]
  },
  {
   "cell_type": "code",
   "execution_count": 2,
   "metadata": {},
   "outputs": [
    {
     "name": "stdout",
     "output_type": "stream",
     "text": [
      "X.shape:(26, 2)\n"
     ]
    },
    {
     "data": {
      "image/png": "[encoded data removed]",
      "text/plain": [
       "<Figure size 432x288 with 1 Axes>"
      ]
     },
     "metadata": {},
     "output_type": "display_data"
    }
   ],
   "source": [
    "import mglearn\n",
    "import matplotlib.pyplot as plt\n",
    "\n",
    "# generate dataset\n",
    "X,y = mglearn.datasets.make_forge()\n",
    "# X是一个二维的np数组\n",
    "# y是一个一维的np数组\n",
    "\n",
    "# plot dataset\n",
    "mglearn.discrete_scatter(X[:,0],X[:,1],y)\n",
    "plt.legend([\"Class 0\", \"Class 1\"])\n",
    "plt.xlabel(\"X1\")\n",
    "plt.ylabel(\"X2\")\n",
    "print(\"X.shape:{}\".format(X.shape))\n",
    "plt.show()\n"
   ]
  },
  {
   "cell_type": "markdown",
   "metadata": {},
   "source": [
    "特征数目: 2\n",
    "样本数目: 26\n",
    "类别: 2"
   ]
  },
  {
   "cell_type": "markdown",
   "metadata": {},
   "source": [
    "## 2. 求N维空间中两点之间的距离\n"
   ]
  },
  {
   "cell_type": "code",
   "execution_count": 1,
   "metadata": {},
   "outputs": [
    {
     "name": "stdout",
     "output_type": "stream",
     "text": [
      "3.0\n",
      "5.744562646538029\n"
     ]
    }
   ],
   "source": [
    "import numpy as np\n",
    "\n",
    "def distance(p1, p2):\n",
    "    \"\"\"返回两点间的距离(欧几里得距离, Euclidean distance)\n",
    "       这个定义具有普遍性,可用于计算N维空间中的两点的距离.\n",
    "    \"\"\"\n",
    "    return np.sqrt(np.sum(np.power(p1 - p2, 2)))\n",
    "\n",
    "a = np.array([4,0])\n",
    "c = np.array([4,3])\n",
    "\n",
    "print(distance(a,c))\n",
    "\n",
    "x = np.array([0,0,0,0])\n",
    "y = np.array([4,3,2,2])\n",
    "\n",
    "print(distance(x,y))\n"
   ]
  },
  {
   "cell_type": "markdown",
   "metadata": {},
   "source": [
    "## 3. 投票函数"
   ]
  },
  {
   "cell_type": "code",
   "execution_count": null,
   "metadata": {},
   "outputs": [],
   "source": [
    "# 类似于求词频的函数count_words(text), 定义如下函数count_votes(votes).\n",
    "\n",
    "def count_votes(votes):\n",
    "    count_dict ={}\n",
    "    for vote in votes:\n",
    "        # known word\n",
    "        if vote in count_dict:\n",
    "            count_dict[vote] += 1\n",
    "        else:\n",
    "            count_dict[vote] = 1\n",
    "    return count_dict\n",
    "\n",
    "# 定义一个序列\n",
    "votes = [1,2,1,3,4,2,2,2,3,3,2,3,3]\n",
    "\n",
    "# 调用函数,得到字典\n",
    "vote_count = count_votes(votes)\n",
    "vote_count"
   ]
  },
  {
   "cell_type": "code",
   "execution_count": null,
   "metadata": {},
   "outputs": [],
   "source": [
    "for vote, counts in vote_count.items():\n",
    "    print(vote, counts)"
   ]
  },
  {
   "cell_type": "markdown",
   "metadata": {},
   "source": [
    "一个序列中可能有多个最高频者(胜利者). 所以我们用列表来保存它们,命名为winners."
   ]
  },
  {
   "cell_type": "markdown",
   "metadata": {},
   "source": [
    "进一步修改, 我们只需要从众多的胜利者中选出一个就可以了.所以我们随机选择一个. 引用random模块,修改如下:"
   ]
  },
  {
   "cell_type": "code",
   "execution_count": null,
   "metadata": {},
   "outputs": [],
   "source": [
    "import random \n",
    "\n",
    "def majority_vote(votes):\n",
    "    count_dict ={}\n",
    "    \n",
    "    for vote in votes:\n",
    "        # 已见过的选项(vote)\n",
    "        if vote in count_dict:\n",
    "            count_dict[vote] += 1\n",
    "        # 未见过的选项\n",
    "        else:\n",
    "            count_dict[vote] = 1\n",
    "            \n",
    "    winners = []       \n",
    "    max_count = max(count_dict.values())\n",
    "    for vote, counts in count_dict.items():\n",
    "        if counts == max_count:\n",
    "            winners.append(vote)\n",
    "    return random.choice(winners)\n",
    "\n",
    "majority_vote(votes)"
   ]
  },
  {
   "cell_type": "markdown",
   "metadata": {},
   "source": [
    "一个序列(或其他数据结构)中的最高频者,常称为模式(Mode).\n",
    "\n",
    "找出一个序列中最高频的元素,是统计学中的极其常见和基本的操作. \n",
    "\n",
    "如何找到一个NumPy数组的模式呢?  \n",
    "\n",
    "scipy.stats.mode()可直接实现之. \n",
    "majority_vote(votes)更简洁的版本如下:"
   ]
  },
  {
   "cell_type": "code",
   "execution_count": null,
   "metadata": {},
   "outputs": [],
   "source": [
    "import numpy as np\n",
    "import scipy.stats as ss # 导入scipy.stats(约定)\n",
    "\n",
    "def majority_vote_simple(votes):\n",
    "    \"\"\"\n",
    "    返回序列中的最高频元素.\n",
    "    输入:NumPy数组\n",
    "    \"\"\"\n",
    "    mode, count = ss.mstats.mode(votes)\n",
    "    return mode\n",
    "\n",
    "votes = [1,2,1,1,2,3,1,5,6,3]\n",
    "votes = np.array(votes)\n",
    "majority_vote_simple(votes)"
   ]
  },
  {
   "cell_type": "code",
   "execution_count": null,
   "metadata": {},
   "outputs": [],
   "source": [
    "random.choice([2])"
   ]
  },
  {
   "cell_type": "markdown",
   "metadata": {},
   "source": [
    "## 4. 如何找到最近邻居?"
   ]
  },
  {
   "cell_type": "markdown",
   "metadata": {},
   "source": [
    "\"求最近邻居算法\"之基本思想:\n",
    "\n",
    "     对所有的点:\n",
    "         求出其中一点p与其他各点的距离\n",
    "     对距离排序,并返回离p点最近的k个点 \n",
    "\n",
    "举例如下:\n",
    "       "
   ]
  },
  {
   "cell_type": "code",
   "execution_count": null,
   "metadata": {},
   "outputs": [],
   "source": [
    "# 先举例:可视化所有的点\n",
    "\n",
    "import matplotlib.pyplot as plt\n",
    "\n",
    "points = np.array([[-1,-1],[-1,0],[-1,1],[0,-1],[0,0],[0,1],[1,-1],[1,0],[1,1]]) \n",
    "p = np.array([-.5, 0])\n",
    "\n",
    "plt.plot(points[:,0], points[:,1], \"ob\");\n",
    "plt.plot(p[0],p[1], \"or\")\n",
    "\n",
    "# 设置作图范围\n",
    "plt.axis([-1.5,1.5,-1.5,1.5])"
   ]
  },
  {
   "cell_type": "markdown",
   "metadata": {},
   "source": [
    "现在开始写函数."
   ]
  },
  {
   "cell_type": "code",
   "execution_count": null,
   "metadata": {},
   "outputs": [],
   "source": [
    "\n",
    "import matplotlib.pyplot as plt\n",
    "\n",
    "points = np.array([[-1,-1],[-1,0],[-1,1],[0,-1],[0,0],[0,1],[1,-1],[1,0],[1,1]]) \n",
    "p = np.array([-.5, 0])\n",
    "\n",
    "distances = np.zeros(points.shape[0])\n",
    "for i in range(len(distances)):\n",
    "    distances[i] = distance(points[i],p)\n",
    "\n",
    "# 打印出points中的点与p点的距离.\n",
    "print(\"p点与序列中的点的距离:\",distances)\n",
    "\n",
    "plt.plot(points[:,0], points[:,1], \"ob\");\n",
    "plt.plot(p[0],p[1], \"or\")\n",
    "\n",
    "# 设置作图范围\n",
    "plt.axis([-1.5,1.5,-1.5,1.5])"
   ]
  },
  {
   "cell_type": "markdown",
   "metadata": {},
   "source": [
    "如何对这些距离按由小到大顺序做排序?  NumPy中有一个这样的函数argsort(). 它返回最小的k个值的index."
   ]
  },
  {
   "cell_type": "code",
   "execution_count": null,
   "metadata": {},
   "outputs": [],
   "source": [
    "print(distances)\n",
    "np.argsort(distances)"
   ]
  },
  {
   "cell_type": "markdown",
   "metadata": {},
   "source": [
    "最小的两个距离值是第2个点和第5个点. 距离都为0.5."
   ]
  },
  {
   "cell_type": "code",
   "execution_count": null,
   "metadata": {},
   "outputs": [],
   "source": [
    "# 将argsort()之返回值赋给一个ind对象.\n",
    "ind = np.argsort(distances)\n",
    "# 计算出距离值(由小到大排序):\n",
    "distances[ind]"
   ]
  },
  {
   "cell_type": "markdown",
   "metadata": {},
   "source": [
    "如果只想求距离最短的两个值,命令如下:"
   ]
  },
  {
   "cell_type": "code",
   "execution_count": null,
   "metadata": {},
   "outputs": [],
   "source": [
    "distances[ind[:2]]"
   ]
  },
  {
   "cell_type": "markdown",
   "metadata": {},
   "source": [
    "现在,我们可以写出求k个最近邻居的函数: find_nn(p,points,k)"
   ]
  },
  {
   "cell_type": "code",
   "execution_count": null,
   "metadata": {},
   "outputs": [],
   "source": [
    "def find_nn(p,points, k=3):\n",
    "    \"\"\"\n",
    "    返回(points集合中)距离p点最近的k个点的索引值.\n",
    "    \"\"\"\n",
    "    distances = np.zeros(points.shape[0])\n",
    "    for i in range(len(distances)):\n",
    "        distances[i] = distance(points[i],p)\n",
    "    ind = np.argsort(distances)\n",
    "    # 计算出距离值(由小到大排序):\n",
    "    #return ind[0:k]\n",
    "    return ind[:k]  \n",
    "\n",
    "k = 3\n",
    "points = np.array([[-1,-1],[-1,0],[-1,1],[0,-1],[0,0],[0,1],[1,-1],[1,0],[1,1]]) \n",
    "p = np.array([-.5, 0])\n",
    "ind = find_nn(p,points,k)\n",
    "print(\"最近的{}个点的索引:\\n{}\".format(len(ind),ind))\n",
    "print(\"最近的{}个点的坐标:\\n{}\".format(len(ind),points[ind]))\n",
    "\n",
    "#作图\n",
    "plt.plot(points[:,0],points[:,1],\"bo\")\n",
    "plt.plot(p[0],p[1],\"ro\")"
   ]
  },
  {
   "cell_type": "markdown",
   "metadata": {},
   "source": [
    "## 4. 预言一个新的点的类别(class)"
   ]
  },
  {
   "cell_type": "markdown",
   "metadata": {},
   "source": [
    "写一个函数实现:预言一个新点的类别. \n",
    "    \n",
    "    找出距离p点最近的k个邻居的索引值;\n",
    "    选出这些邻居中落在各类的次数(\"类似词语出现的频率\")\n",
    "    "
   ]
  },
  {
   "cell_type": "code",
   "execution_count": null,
   "metadata": {},
   "outputs": [],
   "source": [
    "# outcomes为已知点points的类别\n",
    "def knn_predict(p, points, outcomes, k=3):\n",
    "    \"\"\"返回新点p的类别.\"\"\"\n",
    "    ind = find_nn(p, points, k)\n",
    "    #print(\"ind: \",ind)\n",
    "    return majority_vote(outcomes[ind])\n",
    "    \n",
    "outcomes = np.array([0,0,0,0,1,1,1,1,1])\n",
    "p = np.array([-.49,.5])\n",
    "points = np.array([[-1,-1],[-1,0],[-1,1],[0,-1],[0,0],[0,1],[1,-1],[1,0],[1,1]])\n",
    "res = knn_predict(p, points,outcomes,3)\n",
    "print(\"所属类别:\",res)\n",
    "\n",
    "#作图\n",
    "plt.plot(points[:,0],points[:,1],\"bo\")\n",
    "plt.plot(points[:4,0],points[:4,1], \"go\")\n",
    "plt.plot(p[0],p[1],\"ro\")"
   ]
  },
  {
   "cell_type": "markdown",
   "metadata": {},
   "source": [
    "## 5. 产生数据\n",
    "\n",
    "end points:\n",
    "bivariate:\n",
    "ipstats 模块\n"
   ]
  },
  {
   "cell_type": "code",
   "execution_count": null,
   "metadata": {},
   "outputs": [],
   "source": [
    "ss.norm(0,1).rvs((5,2))"
   ]
  },
  {
   "cell_type": "code",
   "execution_count": null,
   "metadata": {},
   "outputs": [],
   "source": [
    "ss.norm(1,1).rvs((5,2))"
   ]
  },
  {
   "cell_type": "code",
   "execution_count": null,
   "metadata": {},
   "outputs": [],
   "source": [
    "np.concatenate((ss.norm(0,1).rvs((5,2)), ss.norm(1,1).rvs((5,2))), axis =0)"
   ]
  },
  {
   "cell_type": "code",
   "execution_count": null,
   "metadata": {},
   "outputs": [],
   "source": [
    "def generate_synth_data(n=50):\n",
    "    points = np.concatenate((ss.norm(0,1).rvs((n,2)), ss.norm(1,1).rvs((n,2))), axis =0)\n",
    "    outcomes = np.concatenate((np.repeat(0,n),np.repeat(1,n))) \n",
    "    return (points, outcomes)\n",
    "\n",
    "generate_synth_data(n=50)\n",
    "    "
   ]
  },
  {
   "cell_type": "code",
   "execution_count": null,
   "metadata": {},
   "outputs": [],
   "source": [
    "points, outcomes = generate_synth_data(n=50)\n",
    "\n",
    "plt.figure()\n",
    "n = 50\n",
    "plt.plot(points[:n,0], points[:n,1], \"ro\")\n",
    "plt.plot(points[n:,0], points[n:,1], \"bo\")\n",
    "plt.savefig(\"bivaradata.pdf\")"
   ]
  },
  {
   "cell_type": "markdown",
   "metadata": {},
   "source": [
    "## 6. 制作预测Grid\n",
    "\n",
    "    Learn how to make a prediction grid\n",
    "    Learn how to use enumerate\n",
    "    Learn how to use NumPy meshgrid"
   ]
  },
  {
   "cell_type": "code",
   "execution_count": null,
   "metadata": {},
   "outputs": [],
   "source": [
    "def make_pred_grid(predictors,outcomes,limits,h,k):\n",
    "    (x_min,x_max, y_min,y_max) = limits\n",
    "    xs = np.arange(x_min,x_max,h) # h\n",
    "    ys = np.arange(y_min,y_max,h)\n",
    "    xx, yy = np.meshgrid(xs,ys)\n",
    "    \n",
    "    pred_grid = np.zeros(xx.shape, dtype = int)\n",
    "    for i, x in enumerate(xs):\n",
    "        for j, y in enumerate(ys):\n",
    "            p = np.array([x,y])\n",
    "            pred_grid[j,i] = knn_predict(p,predictors,outcomes,k)\n",
    "            \n",
    "    return (xx,yy,pred_grid)"
   ]
  },
  {
   "cell_type": "markdown",
   "metadata": {},
   "source": [
    "## 7. 对格点作图 \n",
    "\n",
    "    Learn how to plot the prediction grid\n",
    "    Learn about the bias-variance tradeoff"
   ]
  },
  {
   "cell_type": "code",
   "execution_count": null,
   "metadata": {},
   "outputs": [],
   "source": [
    "\n",
    "# 可下载\n",
    "def plot_pred_grid (xx, yy, prediction_grid, filename):\n",
    "    \"\"\" Plot KNN predictions for every point on the grid.\"\"\"\n",
    "    from matplotlib.colors import ListedColormap\n",
    "    background_colormap = ListedColormap ([\"hotpink\",\"yellowgreen\",\"lightskyblue\" ])\n",
    "    observation_colormap = ListedColormap ([\"red\",\"blue\",\"green\"])\n",
    "    plt.figure(figsize =(10,10))\n",
    "    plt.pcolormesh(xx, yy, prediction_grid, cmap = background_colormap, alpha = 0.5)\n",
    "    plt.scatter(predictors[:,0], predictors [:,1], c = outcomes, cmap = observation_colormap, s = 50)\n",
    "    plt.xlabel(\"x1\"); plt.ylabel(\"x2\")\n",
    "    plt.xticks(()); plt.yticks(())\n",
    "    plt.xlim (np.min(xx), np.max(xx))\n",
    "    plt.ylim (np.min(yy), np.max(yy))\n",
    "    plt.savefig(filename)\n",
    "    \n",
    "\n",
    "(predictors, outcomes) = generate_synth_data()\n",
    "\n",
    "k = 5 ; filename = \"knn_synth_5.pdf\"\n",
    "limits = (-3,4,-3,4) ;   h = 0.1\n",
    "\n",
    "(xx,yy, pred_grid) = make_pred_grid(predictors,outcomes,limits,h,k)\n",
    "plot_pred_grid(xx,yy, pred_grid, filename)\n",
    "\n"
   ]
  },
  {
   "cell_type": "code",
   "execution_count": null,
   "metadata": {
    "scrolled": true
   },
   "outputs": [],
   "source": [
    "(predictors, outcomes) = generate_synth_data()\n",
    "\n",
    "k = 13 ; filename = \"knn_synth_13.pdf\"\n",
    "limits = (-3,4,-3,4) ;   h = 0.1\n",
    "\n",
    "(xx,yy, pred_grid) = make_pred_grid(predictors,outcomes,limits,h,k)\n",
    "plot_pred_grid(xx,yy, pred_grid, filename)"
   ]
  },
  {
   "cell_type": "markdown",
   "metadata": {},
   "source": [
    "## 8. Scikit-learn的使用\n"
   ]
  },
  {
   "cell_type": "code",
   "execution_count": null,
   "metadata": {},
   "outputs": [],
   "source": [
    "import pandas as pd\n",
    "# 生成数据集: X中每个样本仅有一个特征. \n",
    "X_train = pd.DataFrame([ [0], [1], [2], [3] ])\n",
    "y_train = [0, 0, 1, 1]\n",
    "X_train"
   ]
  },
  {
   "cell_type": "code",
   "execution_count": null,
   "metadata": {},
   "outputs": [],
   "source": [
    "y_train"
   ]
  },
  {
   "cell_type": "markdown",
   "metadata": {},
   "source": [
    "导入SciKit-Learn的 KNeighbors分类器. "
   ]
  },
  {
   "cell_type": "code",
   "execution_count": null,
   "metadata": {},
   "outputs": [],
   "source": [
    "from sklearn.neighbors import KNeighborsClassifier\n",
    "model = KNeighborsClassifier(n_neighbors=3)"
   ]
  },
  {
   "cell_type": "markdown",
   "metadata": {},
   "source": [
    "当我们拟合模型时,我们需要同时提供样本的特征和标签. \n",
    "\n",
    "标签矢量应该为一个形状为(n_samples,)的数组, 它应该包括每一个训练样本的标签. \n",
    "\n",
    "下面是KNeighborsClassifier 类的几个参数(都是可选参数):\n",
    "\n",
    "    n_neighbors : 邻居数目.  类别为2时,往往将n_neighbors的值取为奇数. 尤其是我们用均匀权重时..\n",
    "    weights : 每个邻居的”投票次数”.  一般设每个邻居有相同的权重值 \n",
    "    algorithm : 我们可以选择搜索训练集的优化方法以找到最近邻居."
   ]
  },
  {
   "cell_type": "code",
   "execution_count": null,
   "metadata": {},
   "outputs": [],
   "source": [
    "model.fit(X_train, y_train) "
   ]
  },
  {
   "cell_type": "code",
   "execution_count": null,
   "metadata": {},
   "outputs": [],
   "source": [
    "# 传入一个dframe或者一个数组\n",
    "model.predict([[1.1]])"
   ]
  },
  {
   "cell_type": "code",
   "execution_count": null,
   "metadata": {},
   "outputs": [],
   "source": [
    "model.predict([[1.1],[3.3]])"
   ]
  },
  {
   "cell_type": "code",
   "execution_count": null,
   "metadata": {},
   "outputs": [],
   "source": [
    "model.predict_proba([[0.9],[0.3]])"
   ]
  },
  {
   "cell_type": "code",
   "execution_count": null,
   "metadata": {},
   "outputs": [],
   "source": [
    "model.score([[0.9],[0.3]],[0,1])"
   ]
  },
  {
   "cell_type": "markdown",
   "metadata": {},
   "source": [
    "## 9. 应用kNN模型\n",
    "    应用我们自己写的kNN分类器到一个真实的数据集. \n",
    "    对比我们的kNN分类器和scikit-learn模块的kNN分类器的表现. \n",
    "    \n",
    "数据集: 150朵鸢尾花(Iris):共有三种,每种的数量为50.\n",
    "\n",
    "对每一朵花,有如下变量(covariates): \n",
    "\n",
    "    花萼(sepal)长度, 花萼宽度;\n",
    "    花瓣(petal)长度, 花瓣宽度."
   ]
  },
  {
   "cell_type": "code",
   "execution_count": null,
   "metadata": {},
   "outputs": [],
   "source": [
    "from sklearn import datasets\n",
    "iris = datasets.load_iris()\n",
    "\n",
    "#iris\n",
    "predictors = iris.data[:,0:2]\n",
    "outcomes = iris.target\n",
    "#print(outcomes == 0)\n",
    "#print(predictors[outcomes==0][:,0])\n",
    "plt.plot(predictors[outcomes==0][:,0], predictors[outcomes==0][:,1] , \"ro\")\n",
    "plt.plot(predictors[outcomes==1][:,0], predictors[outcomes==1][:,1] , \"bo\")\n",
    "plt.plot(predictors[outcomes==2][:,0], predictors[outcomes==2][:,1] , \"go\")\n",
    "plt.savefig(\"iris.svg\")"
   ]
  },
  {
   "cell_type": "code",
   "execution_count": null,
   "metadata": {},
   "outputs": [],
   "source": [
    "k = 5 ; filename = \"iris_grid.pdf\";\n",
    "limits = (4, 8.5, 1.5, 5) ;   h = 0.1\n",
    "\n",
    "(xx,yy, pred_grid) = make_pred_grid(predictors,outcomes,limits,h,k)\n",
    "plot_pred_grid(xx,yy, pred_grid, filename)"
   ]
  },
  {
   "cell_type": "code",
   "execution_count": null,
   "metadata": {},
   "outputs": [],
   "source": [
    "from sklearn.neighbors import KNeighborsClassifier\n",
    "\n",
    "# 建立knn模型\n",
    "knn = KNeighborsClassifier(n_neighbors = 5)\n",
    "knn.fit(predictors,outcomes)\n",
    "sk_predictions = knn.predict(predictors)"
   ]
  },
  {
   "cell_type": "code",
   "execution_count": null,
   "metadata": {},
   "outputs": [],
   "source": [
    "sk_predictions.shape"
   ]
  },
  {
   "cell_type": "code",
   "execution_count": null,
   "metadata": {},
   "outputs": [],
   "source": [
    "sk_predictions[:10]"
   ]
  },
  {
   "cell_type": "code",
   "execution_count": null,
   "metadata": {},
   "outputs": [],
   "source": [
    "my_predictions = np.array([knn_predict(p,predictors, outcomes, 5) for p in predictors])\n",
    "my_predictions"
   ]
  },
  {
   "cell_type": "code",
   "execution_count": null,
   "metadata": {},
   "outputs": [],
   "source": [
    "my_predictions == sk_predictions"
   ]
  },
  {
   "cell_type": "code",
   "execution_count": null,
   "metadata": {},
   "outputs": [],
   "source": [
    "# 两种算法的对比\n",
    "print(100 * np.mean(my_predictions == sk_predictions))"
   ]
  },
  {
   "cell_type": "code",
   "execution_count": null,
   "metadata": {},
   "outputs": [],
   "source": [
    "# 计算准确率\n",
    "print(100 * np.mean(my_predictions == outcomes))\n",
    "print(100 * np.mean(sk_predictions == outcomes))"
   ]
  },
  {
   "cell_type": "markdown",
   "metadata": {},
   "source": [
    "## 小结:\n",
    "    1. kNN is particularly useful when no other model fits your data well, \n",
    "    因为它是一个不需要参数的分类方法. 例如,你不需要考虑你的数据是线性可分还是线性不可分.\n",
    "    \n",
    "    2. 要想用kNN算法,我们的数据必须是可测的(数据集上有距离可以定义出来)."
   ]
  },
  {
   "cell_type": "markdown",
   "metadata": {},
   "source": [
    "## 10. kNN应用(2)\n",
    "mglearn.plots.plot_classification()"
   ]
  },
  {
   "cell_type": "code",
   "execution_count": null,
   "metadata": {},
   "outputs": [],
   "source": [
    "import mglearn  \n",
    "import matplotlib.pyplot as plt  \n",
    "from sklearn.datasets import load_boston  \n",
    "  \n",
    "boston = load_boston()  \n",
    "  \n",
    "print(\"数据形状:{}\".format(boston.data.shape))  \n",
    "\n",
    "# 生成扩展数据集  \n",
    "X, y = mglearn.datasets.load_extended_boston()  \n",
    "print(\"X.shape:{}\".format(X.shape))  \n",
    "    \n",
    "mglearn.plots.plot_knn_classification(n_neighbors=1)  \n",
    "plt.show()  "
   ]
  },
  {
   "cell_type": "markdown",
   "metadata": {},
   "source": [
    "(2)计算决策边界."
   ]
  },
  {
   "cell_type": "code",
   "execution_count": null,
   "metadata": {},
   "outputs": [],
   "source": [
    "#from sklearn.model_selection import train_test_split  \n",
    "#from sklearn.neighbors import KNeighborsClassifier    \n",
    "X,y = mglearn.datasets.make_forge()  \n",
    "X_train, X_test, y_train, y_test = train_test_split(X,y, random_state=0)  \n",
    "\n",
    "n_neighbors =1\n",
    "# KNeighborsClassifier类的实例化 \n",
    "clf = KNeighborsClassifier(n_neighbors= n_neighbors)  \n",
    "clf.fit(X_train, y_train)  \n",
    "print(\"测试集预测: {}\".format(clf.predict(X_test)))  \n",
    "print(\"测试集准确度: {:.3f}\".format(clf.score(X_test,y_test)))  \n",
    "\n",
    "clf = KNeighborsClassifier(n_neighbors=n_neighbors).fit(X,y) \n",
    "#边界\n",
    "mglearn.plots.plot_2d_separator(clf, X, fill=True, eps=0.5, alpha=0.4)  \n",
    "# 散点图\n",
    "mglearn.discrete_scatter(X[:,0],X[:,1],y)  \n",
    "plt.title(\"{} neighbor(s)\".format(n_neighbors))  \n",
    "plt.xlabel(\"X0\")  \n",
    "plt.ylabel(\"X1\")  \n",
    "plt.legend(loc=3)  \n",
    "plt.show()  "
   ]
  },
  {
   "cell_type": "markdown",
   "metadata": {},
   "source": [
    "k越大,边界越光滑.\n",
    "\n",
    "k越小,模型越复杂.(复杂度大)\n",
    "\n",
    "k越大,模型越简单. \n",
    "\n",
    "k极其大,所有测试数据对应预测值都一样.\n"
   ]
  },
  {
   "cell_type": "markdown",
   "metadata": {},
   "source": [
    "(3) 测试性能和准确度."
   ]
  },
  {
   "cell_type": "code",
   "execution_count": null,
   "metadata": {},
   "outputs": [],
   "source": [
    "from sklearn.datasets import load_breast_cancer   \n",
    " \n",
    "cancer = load_breast_cancer()  \n",
    "X_train, X_test, y_train, y_test = train_test_split(  \n",
    "        cancer.data, cancer.target, stratify=cancer.target, random_state=6)  \n",
    " \n",
    "training_accuracy = []  \n",
    "test_accuracy = []  \n",
    "  \n",
    "# try n_neighbors from 1 to 10  \n",
    "neighbors = range(1,11)  \n",
    "  \n",
    "for n_neighbors in neighbors:  \n",
    "    # build the model  \n",
    "    clf = KNeighborsClassifier(n_neighbors=n_neighbors)  \n",
    "    clf.fit(X_train,y_train)  \n",
    "    #record training set accuracy  \n",
    "    training_accuracy.append(clf.score(X_train,y_train))  \n",
    "    #record generalization accuracy  \n",
    "    test_accuracy.append(clf.score(X_test,y_test))  \n",
    "  \n",
    "plt.plot(neighbors,training_accuracy,  \"o-\",label=\"training\")  \n",
    "plt.plot(neighbors,test_accuracy,  \"o-\",label=\"test\")  \n",
    "plt.ylabel(\"Accuracy\")  \n",
    "plt.xlabel(\"k\")  \n",
    "plt.legend()  "
   ]
  },
  {
   "cell_type": "markdown",
   "metadata": {},
   "source": [
    "k越小,模型越复杂.(复杂度大,过拟合: 对于训练集的预测是完美的.但对于测试集的预测表现很差劲. Too complex Model!)\n",
    "\n",
    "随着k增大,模型越来越简单. 训练集上的准确度降低.但测试集上的准确度逐渐增大.\n",
    "\n",
    "当k过大时,测试集上的准确度甚至比单邻居情形更惨. 表现很好的模型是k位于[1,10]之间的某个值的哪些模型.\n",
    "(注意:这里的模型表现都还不错!)\n",
    "\n",
    "\n",
    "当k取得极其大,所有测试数据对应预测值都一样."
   ]
  },
  {
   "cell_type": "markdown",
   "metadata": {},
   "source": [
    "## 11. kNN回归算法"
   ]
  },
  {
   "cell_type": "code",
   "execution_count": null,
   "metadata": {},
   "outputs": [],
   "source": [
    "from sklearn.model_selection import train_test_split   \n",
    "from sklearn.datasets import load_breast_cancer  \n",
    "#import matplotlib.pyplot as plt  \n",
    "#import mglearn  \n",
    "  \n",
    "X,y = mglearn.datasets.make_forge() \n",
    "# 数据集分割\n",
    "X_train, X_test, y_train, y_test = train_test_split(X, y, random_state=0)  \n",
    "# 选单个邻居数为1时, 目标值就是其最近邻居之目标值.(这就是k=1时的kNN回归) \n",
    "mglearn.plots.plot_knn_regression(n_neighbors=1)\n",
    "plt.show() "
   ]
  },
  {
   "cell_type": "code",
   "execution_count": null,
   "metadata": {},
   "outputs": [],
   "source": [
    "X,y = mglearn.datasets.make_forge() \n",
    "# 数据集分割\n",
    "X_train, X_test, y_train, y_test = train_test_split(X, y, random_state=0)  \n",
    "# 选单个邻居数为3时, 目标值就是其最近3个邻居之目标值之平均值.(这就是k=3时的kNN回归) \n",
    "mglearn.plots.plot_knn_regression(n_neighbors=3)\n",
    "plt.show() "
   ]
  },
  {
   "cell_type": "code",
   "execution_count": null,
   "metadata": {},
   "outputs": [],
   "source": [
    "from sklearn.neighbors import KNeighborsRegressor\n",
    "X,y = mglearn.datasets.make_wave(n_samples=40)\n",
    "# 分割数据集\n",
    "X_train, X_test, y_train, y_test = train_test_split(X, y, random_state=0)\n",
    "# 实例化模型,k=3\n",
    "reg = KNeighborsRegressor(n_neighbors=3)\n",
    "# 利用数据拟合模型\n",
    "reg.fit(X_train,y_train)"
   ]
  },
  {
   "cell_type": "code",
   "execution_count": null,
   "metadata": {},
   "outputs": [],
   "source": [
    "# 现在在新的数据集上做预测\n",
    "print(\"X_test:\",X_test)\n",
    "print(\"Test set predictions:\\n{}\".format(reg.predict(X_test)))"
   ]
  },
  {
   "cell_type": "markdown",
   "metadata": {},
   "source": [
    "### 拟合优度\n",
    "利用score()方法评估模型. 对回归算法,它返回判定系数$R^2$之值. (coefficient of determination),又称拟合优度.\n",
    "\n",
    "$R^2$是测量回归模型好坏的一个量. 取值在[0,1]之间. $R^2=1$表示模型可以做完美的预测; $R^2=0$表示该模型只能做出预测值mean(y_train).\n",
    "\n",
    "设一数据集包括$y_1,...,y_n$共n个观察值，相对应的模型预测值分别为$f_1,...,f_n$. \n",
    "\n",
    "定义残差$e_i = y_i - f_i$，平均观察值为\n",
    "\n",
    "$\\bar{y}=\\frac{1}{n}\\sum_{i=1}^{n}y_i$.\n",
    "\n",
    "决定系数定义为\n",
    "\n",
    "$R^{2}\\equiv 1-{SS_{\\rm {res}} \\over SS_{\\rm {tot}}}$.\n",
    "\n",
    "其中,总平方和\n",
    "\n",
    "$SS_{\\text{tot}}=\\sum_{i}(y_i-{\\bar y})^2$\n",
    "\n",
    "回归平方和\n",
    "\n",
    "$SS_{\\text{reg}}=\\sum _{i}(f_{i}-{\\bar {y}})^{2}$,\n",
    "\n",
    "残差平方和\n",
    "\n",
    "$SS_{\\text{res}}=\\sum_{i}(y_{i}-f_{i})^{2}=\\sum _{i}e_{i}^{2}$,\n",
    "\n"
   ]
  },
  {
   "cell_type": "code",
   "execution_count": null,
   "metadata": {},
   "outputs": [],
   "source": [
    "print(\"测试集拟合优度:{:.3f}\".format(reg.score(X_test,y_test)))"
   ]
  },
  {
   "cell_type": "markdown",
   "metadata": {},
   "source": [
    "### kNN回归分析"
   ]
  },
  {
   "cell_type": "code",
   "execution_count": null,
   "metadata": {},
   "outputs": [],
   "source": [
    "#如果数据仅有一个特征,利用array.reshape(-1, 1)改变数组形状;\n",
    "#如果数据中仅包含一个样本,则可利用array.reshape(1, -1)改变数组形状.\n",
    "line = np.linspace(-3,3, 1000).reshape(-1,1)\n",
    "n_neighbors = 1 # 可改变k值\n",
    "reg = KNeighborsRegressor(n_neighbors=n_neighbors)\n",
    "reg.fit(X_train,y_train)\n",
    "plt.plot(line[:,0], reg.predict(line))\n",
    "plt.plot(X_train[:,0],y_train, \"o\", c=\"r\")\n",
    "plt.plot(X_test[:,0],y_test, \"v\", c=\"b\")\n",
    "\n",
    "plt.title(\"{} neighbor(s)\\n train score:{:.2f} test score: {:.2f}\".format(n_neighbors, reg.score(X_train,y_train),\n",
    "                                                                          reg.score(X_test,y_test)))\n",
    "plt.xlabel(\"Feature\")\n",
    "plt.ylabel(\"Target\")\n",
    "plt.legend([\"Predictions\", \"Training data/target\", \"Test data/target\"])"
   ]
  },
  {
   "cell_type": "markdown",
   "metadata": {},
   "source": []
  }
 ],
 "metadata": {
  "kernelspec": {
   "display_name": "Python 3",
   "language": "python",
   "name": "python3"
  },
  "language_info": {
   "codemirror_mode": {
    "name": "ipython",
    "version": 3
   },
   "file_extension": ".py",
   "mimetype": "text/x-python",
   "name": "python",
   "nbconvert_exporter": "python",
   "pygments_lexer": "ipython3",
   "version": "3.5.5"
  },
  "widgets": {
   "state": {},
   "version": "1.1.2"
  }
 },
 "nbformat": 4,
 "nbformat_minor": 2
}
