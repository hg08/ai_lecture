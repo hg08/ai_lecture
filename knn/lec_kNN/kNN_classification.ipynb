{
 "cells": [
  {
   "cell_type": "markdown",
   "metadata": {},
   "source": [
    "# kNN分类算法"
   ]
  },
  {
   "cell_type": "markdown",
   "metadata": {},
   "source": [
    "## 1. 数据集\n",
    "\n",
    "数据集的散点图,举例.  注意: mglearn,matplotlib的使用."
   ]
  },
  {
   "cell_type": "code",
   "execution_count": 1,
   "metadata": {},
   "outputs": [
    {
     "name": "stdout",
     "output_type": "stream",
     "text": [
      "[ 9.96346605 11.0329545  11.54155807  8.69289001  8.1062269   8.30988863\n",
      " 11.93027136  9.67284681  8.34810316  8.67494727  9.17748385 10.24028948\n",
      "  8.68937095  8.92229526  9.49123469  9.25694192  7.99815287  8.18378052\n",
      "  8.7337095   9.32298256 10.06393839  9.50048972  8.34468785  9.50169345\n",
      "  9.15072323 11.563957  ]\n",
      "X.shape:(26, 2)\n"
     ]
    },
    {
     "data": {
      "text/plain": [
       "<Figure size 640x480 with 1 Axes>"
      ]
     },
     "metadata": {},
     "output_type": "display_data"
    }
   ],
   "source": [
    "import mglearn\n",
    "import matplotlib.pyplot as plt\n",
    "\n",
    "# generate dataset\n",
    "X,y = mglearn.datasets.make_forge()\n",
    "# X是一个二维的np数组\n",
    "print(X[:,0])\n",
    "# y是一个一维的np数组\n",
    "\n",
    "# plot dataset\n",
    "mglearn.discrete_scatter(X[:,0],X[:,1],y)\n",
    "plt.legend([\"Class 0\", \"Class 1\"])\n",
    "plt.xlabel(\"X1\")\n",
    "plt.ylabel(\"X2\")\n",
    "print(\"X.shape:{}\".format(X.shape))\n",
    "plt.show()\n"
   ]
  },
  {
   "cell_type": "markdown",
   "metadata": {},
   "source": [
    "特征数目: 2\n",
    "样本数目: 26\n",
    "类别: 2"
   ]
  },
  {
   "cell_type": "markdown",
   "metadata": {},
   "source": [
    "kNN分类算法是最简单的机器学习算法. 我们要先自己构建该算法, 这样非常有助于我们理解.而不是简单地调用已有的库函数.\n",
    "\n",
    "\n",
    "问题: 对于一个我们从未见过的数据样本,我们想知道它属于什么类别. (做图,如上.)\n",
    "\n",
    "kNN算法从整个训练集里找出离这个新数据样本最近的邻域内的样本.\n",
    "\n",
    "然后,该算法做一个关于类别的投票(mode vote),从而决定新的样本属于哪一类.\n",
    "\n",
    "因为必须计算新样本到所有训练样本的距离,\n",
    "\n",
    "kNN的执行速度依赖于类别的数目,以及样本的数目.\n",
    "\n",
    "\n",
    "我们可以用任意我们自定义的距离函数,而不必局限于欧几里得距离.\n",
    "\n",
    "极端一点的例子: 0 或1,对那些名义上的特征可用.\n",
    "    \n",
    "理解kNN比较容易,因而它称为数据科学家学习的第一个机器学习算法.\n",
    "\n",
    "当我们想用程序写一个分类器时,我们可以考虑用kNN算法."
   ]
  },
  {
   "cell_type": "markdown",
   "metadata": {},
   "source": [
    "## 2. 求N维空间中两点之间的距离\n"
   ]
  },
  {
   "cell_type": "code",
   "execution_count": 4,
   "metadata": {},
   "outputs": [
    {
     "name": "stdout",
     "output_type": "stream",
     "text": [
      "3.0\n",
      "5.744562646538029\n",
      "0.6435011087932843\n"
     ]
    }
   ],
   "source": [
    "import numpy as np\n",
    "\n",
    "def distance(p1, p2):\n",
    "    \"\"\"返回两点间的距离(欧几里得距离, Euclidean distance)\n",
    "       这个定义具有普遍性,可用于计算N维空间中的两点的距离.\n",
    "    \"\"\"\n",
    "    return np.sqrt(np.sum(np.power(p1 - p2, 2)))\n",
    "\n",
    "a = np.array([4,0])\n",
    "c = np.array([4,3])\n",
    "\n",
    "\n",
    "print(distance(a,c))\n",
    "\n",
    "x = np.array([0,0,0,0])\n",
    "y = np.array([4,3,2,2])\n",
    "\n",
    "print(distance(x,y))\n",
    "\n",
    "# 附: 求出OA与OC的夹角.\n",
    "a = np.array([4,0])\n",
    "c = np.array([4,3])\n",
    "o = np.zeros(2)\n",
    "len_OA = distance(a,o)\n",
    "len_OC = distance(c,o)\n",
    "cos_theta = np.sum(a * c) / (len_OA * len_OC)\n",
    "print(np.arccos(cos_theta))\n"
   ]
  },
  {
   "cell_type": "markdown",
   "metadata": {},
   "source": [
    "## 3. 投票函数"
   ]
  },
  {
   "cell_type": "code",
   "execution_count": 5,
   "metadata": {},
   "outputs": [
    {
     "data": {
      "text/plain": [
       "{1: 2, 2: 5, 3: 5, 4: 1}"
      ]
     },
     "execution_count": 5,
     "metadata": {},
     "output_type": "execute_result"
    }
   ],
   "source": [
    "# 类似于求词频的函数count_words(text), 定义如下函数count_votes(votes).\n",
    "\n",
    "def count_votes(votes):\n",
    "    count_dict ={}\n",
    "    for vote in votes:\n",
    "        # known word\n",
    "        if vote in count_dict:\n",
    "            count_dict[vote] += 1\n",
    "        else:\n",
    "            count_dict[vote] = 1\n",
    "    return count_dict\n",
    "\n",
    "# 定义一个序列\n",
    "votes = [1,2,1,3,4,2,2,2,3,3,2,3,3]\n",
    "\n",
    "# 调用函数,得到字典\n",
    "vote_count = count_votes(votes)\n",
    "vote_count"
   ]
  },
  {
   "cell_type": "markdown",
   "metadata": {},
   "source": [
    "在上面的例子中,序列votes中,2 出现了5次. 次数最多,频率最高. 问,我们如何把出现频率最高者找到并提取出来呢? "
   ]
  },
  {
   "cell_type": "code",
   "execution_count": 6,
   "metadata": {},
   "outputs": [
    {
     "data": {
      "text/plain": [
       "4"
      ]
     },
     "execution_count": 6,
     "metadata": {},
     "output_type": "execute_result"
    }
   ],
   "source": [
    "max(vote_count.keys())"
   ]
  },
  {
   "cell_type": "code",
   "execution_count": 7,
   "metadata": {},
   "outputs": [
    {
     "data": {
      "text/plain": [
       "5"
      ]
     },
     "execution_count": 7,
     "metadata": {},
     "output_type": "execute_result"
    }
   ],
   "source": [
    "max(vote_count.values())"
   ]
  },
  {
   "cell_type": "code",
   "execution_count": 8,
   "metadata": {},
   "outputs": [
    {
     "data": {
      "text/plain": [
       "5"
      ]
     },
     "execution_count": 8,
     "metadata": {},
     "output_type": "execute_result"
    }
   ],
   "source": [
    "max_count = max(vote_count.values())\n",
    "max_count"
   ]
  },
  {
   "cell_type": "markdown",
   "metadata": {},
   "source": [
    "items()方法: 提取出关键字和对应的值."
   ]
  },
  {
   "cell_type": "code",
   "execution_count": 9,
   "metadata": {},
   "outputs": [
    {
     "name": "stdout",
     "output_type": "stream",
     "text": [
      "1 2\n",
      "2 5\n",
      "3 5\n",
      "4 1\n"
     ]
    }
   ],
   "source": [
    "for vote, counts in vote_count.items():\n",
    "    print(vote, counts)"
   ]
  },
  {
   "cell_type": "markdown",
   "metadata": {},
   "source": [
    "一个序列中可能有多个最高频者(胜利者). 所以我们用列表来保存它们,命名为winners."
   ]
  },
  {
   "cell_type": "code",
   "execution_count": 10,
   "metadata": {},
   "outputs": [
    {
     "name": "stdout",
     "output_type": "stream",
     "text": [
      "2 5\n",
      "[2]\n",
      "3 5\n",
      "[2, 3]\n"
     ]
    }
   ],
   "source": [
    "winners = []\n",
    "max_count = max(vote_count.values())\n",
    "for vote, counts in vote_count.items():\n",
    "    if counts == max_count:\n",
    "        print(vote, counts)\n",
    "        winners.append(vote)\n",
    "        print(winners)\n"
   ]
  },
  {
   "cell_type": "markdown",
   "metadata": {},
   "source": [
    "进一步简化函数"
   ]
  },
  {
   "cell_type": "code",
   "execution_count": 11,
   "metadata": {},
   "outputs": [
    {
     "data": {
      "text/plain": [
       "[2, 3]"
      ]
     },
     "execution_count": 11,
     "metadata": {},
     "output_type": "execute_result"
    }
   ],
   "source": [
    "def majority_vote(votes):\n",
    "    count_dict ={}\n",
    "    \n",
    "    for vote in votes:\n",
    "        # 已见过的选项(vote)\n",
    "        if vote in count_dict:\n",
    "            count_dict[vote] += 1\n",
    "        # 未见过的选项\n",
    "        else:\n",
    "            count_dict[vote] = 1\n",
    "            \n",
    "    winners = []       \n",
    "    max_count = max(count_dict.values())\n",
    "    for vote, counts in count_dict.items():\n",
    "        if counts == max_count:\n",
    "            winners.append(vote)\n",
    "    return winners     # 注意缩进\n",
    "\n",
    "majority_vote(votes)"
   ]
  },
  {
   "cell_type": "markdown",
   "metadata": {},
   "source": [
    "进一步修改, 我们只需要从众多的胜利者中选出一个就可以了.所以我们随机选择一个. 引用random模块,修改如下:"
   ]
  },
  {
   "cell_type": "code",
   "execution_count": 12,
   "metadata": {},
   "outputs": [
    {
     "data": {
      "text/plain": [
       "3"
      ]
     },
     "execution_count": 12,
     "metadata": {},
     "output_type": "execute_result"
    }
   ],
   "source": [
    "import random \n",
    "\n",
    "def majority_vote(votes):\n",
    "    count_dict ={}\n",
    "    \n",
    "    for vote in votes:\n",
    "        # 已见过的选项(vote)\n",
    "        if vote in count_dict:\n",
    "            count_dict[vote] += 1\n",
    "        # 未见过的选项\n",
    "        else:\n",
    "            count_dict[vote] = 1\n",
    "            \n",
    "    winners = []       \n",
    "    max_count = max(count_dict.values())\n",
    "    for vote, counts in count_dict.items():\n",
    "        if counts == max_count:\n",
    "            winners.append(vote)\n",
    "    return random.choice(winners)\n",
    "\n",
    "majority_vote(votes)"
   ]
  },
  {
   "cell_type": "markdown",
   "metadata": {},
   "source": [
    "一个序列(或其他数据结构)中的最高频者,常称为模式(Mode),或称众数.\n",
    "\n",
    "找出一个序列中最高频的元素,是统计学中的极其常见和基本的操作. \n",
    "\n",
    "如何找到一个NumPy数组的众数呢?  \n",
    "\n",
    "scipy.stats.mode()可直接实现之. \n",
    "majority_vote(votes)更简洁的版本如下:"
   ]
  },
  {
   "cell_type": "code",
   "execution_count": 16,
   "metadata": {},
   "outputs": [
    {
     "data": {
      "text/plain": [
       "array([1.])"
      ]
     },
     "execution_count": 16,
     "metadata": {},
     "output_type": "execute_result"
    }
   ],
   "source": [
    "import numpy as np\n",
    "import scipy.stats as ss # 导入scipy.stats(约定)\n",
    "\n",
    "def majority_vote_simple(votes):\n",
    "    \"\"\"\n",
    "    返回序列中的最高频元素.\n",
    "    输入:NumPy数组\n",
    "    \"\"\"\n",
    "    mode, count = ss.mstats.mode(votes)\n",
    "    return mode\n",
    "\n",
    "votes = [1,2,1,1,2,3,1,5,6,3]\n",
    "votes = np.array(votes)\n",
    "majority_vote_simple(votes)"
   ]
  },
  {
   "cell_type": "code",
   "execution_count": 14,
   "metadata": {},
   "outputs": [
    {
     "data": {
      "text/plain": [
       "2"
      ]
     },
     "execution_count": 14,
     "metadata": {},
     "output_type": "execute_result"
    }
   ],
   "source": [
    "random.choice([2])"
   ]
  },
  {
   "cell_type": "markdown",
   "metadata": {},
   "source": [
    "## 4. 如何找到最近邻居?"
   ]
  },
  {
   "cell_type": "markdown",
   "metadata": {},
   "source": [
    "### 4.1 什么是\"最近邻居\"?\n",
    "前提: 空间, 距离.\n",
    "\n",
    "操作: 比较距离的大小,排序."
   ]
  },
  {
   "cell_type": "markdown",
   "metadata": {},
   "source": [
    "### 4.2. 找出最近邻居"
   ]
  },
  {
   "cell_type": "markdown",
   "metadata": {},
   "source": [
    "\"求最近邻居算法\"之基本思想:\n",
    "\n",
    "     对所有的点:\n",
    "         求出其中一点p与其他各点的距离\n",
    "     对距离排序,并返回离p点最近的k个点 \n",
    "\n",
    "举例如下:\n",
    "       "
   ]
  },
  {
   "cell_type": "code",
   "execution_count": 17,
   "metadata": {},
   "outputs": [
    {
     "data": {
      "text/plain": [
       "[-1.5, 1.5, -1.5, 1.5]"
      ]
     },
     "execution_count": 17,
     "metadata": {},
     "output_type": "execute_result"
    },
    {
     "data": {
      "image/png": "[encoded data removed]",
      "text/plain": [
       "<Figure size 432x288 with 1 Axes>"
      ]
     },
     "metadata": {},
     "output_type": "display_data"
    }
   ],
   "source": [
    "# 先举例:可视化所有的点\n",
    "\n",
    "import matplotlib.pyplot as plt\n",
    "\n",
    "points = np.array([[-1,-1],[-1,0],[-1,1],[0,-1],[0,0],[0,1],[1,-1],[1,0],[1,1]]) \n",
    "p = np.array([-.5, 0])\n",
    "\n",
    "plt.plot(points[:,0], points[:,1], \"ob\");\n",
    "plt.plot(p[0],p[1], \"or\")\n",
    "\n",
    "# 设置作图范围\n",
    "plt.axis([-1.5,1.5,-1.5,1.5])"
   ]
  },
  {
   "cell_type": "markdown",
   "metadata": {},
   "source": [
    "现在开始写函数."
   ]
  },
  {
   "cell_type": "code",
   "execution_count": 18,
   "metadata": {},
   "outputs": [
    {
     "name": "stdout",
     "output_type": "stream",
     "text": [
      "p点与序列中的点的距离: [1.11803399 0.5        1.11803399 1.11803399 0.5        1.11803399\n",
      " 1.80277564 1.5        1.80277564]\n"
     ]
    },
    {
     "data": {
      "text/plain": [
       "[-1.5, 1.5, -1.5, 1.5]"
      ]
     },
     "execution_count": 18,
     "metadata": {},
     "output_type": "execute_result"
    },
    {
     "data": {
      "image/png": "[encoded data removed]",
      "text/plain": [
       "<Figure size 432x288 with 1 Axes>"
      ]
     },
     "metadata": {},
     "output_type": "display_data"
    }
   ],
   "source": [
    "\n",
    "import matplotlib.pyplot as plt\n",
    "\n",
    "points = np.array([[-1,-1],[-1,0],[-1,1],[0,-1],[0,0],[0,1],[1,-1],[1,0],[1,1]]) \n",
    "p = np.array([-.5, 0])\n",
    "\n",
    "distances = np.zeros(points.shape[0])\n",
    "for i in range(len(distances)):\n",
    "    distances[i] = distance(points[i],p)\n",
    "\n",
    "# 打印出points中的点与p点的距离.\n",
    "print(\"p点与序列中的点的距离:\",distances)\n",
    "\n",
    "plt.plot(points[:,0], points[:,1], \"ob\");\n",
    "plt.plot(p[0],p[1], \"or\")\n",
    "\n",
    "# 设置作图范围\n",
    "plt.axis([-1.5,1.5,-1.5,1.5])"
   ]
  },
  {
   "cell_type": "markdown",
   "metadata": {},
   "source": [
    "如何对这些距离按由小到大顺序做排序?  NumPy中有一个这样的函数argsort(). 它返回最小的k个值的index."
   ]
  },
  {
   "cell_type": "code",
   "execution_count": 19,
   "metadata": {},
   "outputs": [
    {
     "name": "stdout",
     "output_type": "stream",
     "text": [
      "[1.11803399 0.5        1.11803399 1.11803399 0.5        1.11803399\n",
      " 1.80277564 1.5        1.80277564]\n"
     ]
    },
    {
     "data": {
      "text/plain": [
       "array([1, 4, 0, 2, 3, 5, 7, 6, 8], dtype=int64)"
      ]
     },
     "execution_count": 19,
     "metadata": {},
     "output_type": "execute_result"
    }
   ],
   "source": [
    "print(distances)\n",
    "np.argsort(distances)"
   ]
  },
  {
   "cell_type": "markdown",
   "metadata": {},
   "source": [
    "最小的两个距离值是第2个点和第5个点. 距离都为0.5."
   ]
  },
  {
   "cell_type": "code",
   "execution_count": 21,
   "metadata": {},
   "outputs": [
    {
     "data": {
      "text/plain": [
       "array([0.5       , 0.5       , 1.11803399, 1.11803399, 1.11803399,\n",
       "       1.11803399, 1.5       , 1.80277564, 1.80277564])"
      ]
     },
     "execution_count": 21,
     "metadata": {},
     "output_type": "execute_result"
    }
   ],
   "source": [
    "# 将argsort()之返回值赋给一个索引对象ind.\n",
    "ind = np.argsort(distances)\n",
    "# 计算出距离值(由小到大排序):\n",
    "distances[ind]"
   ]
  },
  {
   "cell_type": "markdown",
   "metadata": {},
   "source": [
    "如果只想求距离最短的两个值,命令如下:"
   ]
  },
  {
   "cell_type": "code",
   "execution_count": 24,
   "metadata": {},
   "outputs": [
    {
     "data": {
      "text/plain": [
       "(9, 2)"
      ]
     },
     "execution_count": 24,
     "metadata": {},
     "output_type": "execute_result"
    }
   ],
   "source": [
    "distances[ind[:2]]\n"
   ]
  },
  {
   "cell_type": "markdown",
   "metadata": {},
   "source": [
    "现在,我们可以写出求k个最近邻居的函数: find_nn(p,points,k)"
   ]
  },
  {
   "cell_type": "code",
   "execution_count": 25,
   "metadata": {},
   "outputs": [
    {
     "name": "stdout",
     "output_type": "stream",
     "text": [
      "最近的3个点的索引:\n",
      "[1 4 0]\n",
      "最近的3个点的坐标:\n",
      "[[-1  0]\n",
      " [ 0  0]\n",
      " [-1 -1]]\n"
     ]
    },
    {
     "data": {
      "text/plain": [
       "[<matplotlib.lines.Line2D at 0x18079e39f98>]"
      ]
     },
     "execution_count": 25,
     "metadata": {},
     "output_type": "execute_result"
    },
    {
     "data": {
      "image/png": "[encoded data removed]",
      "text/plain": [
       "<Figure size 432x288 with 1 Axes>"
      ]
     },
     "metadata": {},
     "output_type": "display_data"
    }
   ],
   "source": [
    "def find_nn(p,points, k=3):\n",
    "    \"\"\"\n",
    "    返回(points集合中)距离p点最近的k个点的索引值.\n",
    "    \"\"\"\n",
    "    #points.shape\n",
    "    distances = np.zeros(points.shape[0])\n",
    "    for i in range(len(distances)):\n",
    "        distances[i] = distance(points[i],p)\n",
    "    ind = np.argsort(distances)\n",
    "    # 计算出距离值(由小到大排序):\n",
    "    #return ind[0:k]\n",
    "    return ind[:k]  \n",
    "\n",
    "#计算最近邻居\n",
    "k = 3\n",
    "points = np.array([[-1,-1],[-1,0],[-1,1],[0,-1],[0,0],[0,1],[1,-1],[1,0],[1,1]]) \n",
    "p = np.array([-.5, 0])\n",
    "ind = find_nn(p,points,k)\n",
    "print(\"最近的{}个点的索引:\\n{}\".format(len(ind),ind))\n",
    "print(\"最近的{}个点的坐标:\\n{}\".format(len(ind),points[ind]))\n",
    "\n",
    "#作图\n",
    "plt.plot(points[:,0],points[:,1],\"bo\")\n",
    "plt.plot(p[0],p[1],\"ro\")"
   ]
  },
  {
   "cell_type": "markdown",
   "metadata": {},
   "source": [
    "## 4. 预言一个新的点的类别(class)"
   ]
  },
  {
   "cell_type": "markdown",
   "metadata": {},
   "source": [
    "写一个函数实现:预言一个新点的类别. \n",
    "    \n",
    "    找出距离p点最近的k个邻居的索引值;\n",
    "    选出这些邻居中落在各类的次数(\"类似词语出现的频率\")\n",
    "    "
   ]
  },
  {
   "cell_type": "code",
   "execution_count": 26,
   "metadata": {},
   "outputs": [
    {
     "name": "stdout",
     "output_type": "stream",
     "text": [
      "所属类别: 1\n"
     ]
    },
    {
     "data": {
      "text/plain": [
       "[<matplotlib.lines.Line2D at 0x18079e81e80>]"
      ]
     },
     "execution_count": 26,
     "metadata": {},
     "output_type": "execute_result"
    },
    {
     "data": {
      "image/png": "[encoded data removed]",
      "text/plain": [
       "<Figure size 432x288 with 1 Axes>"
      ]
     },
     "metadata": {},
     "output_type": "display_data"
    }
   ],
   "source": [
    "\n",
    "def knn_predict(p, points, outcomes, k=3):\n",
    "    \"\"\"返回新点p的类别.\"\"\"\n",
    "    ind = find_nn(p, points, k)\n",
    "    #print(\"ind: \",ind)\n",
    "    return majority_vote(outcomes[ind])\n",
    "\n",
    "# outcomes为已知点points的类别  \n",
    "outcomes = np.array([0,0,0,0,1,1,1,1,1])\n",
    "p = np.array([-.49,.5])\n",
    "points = np.array([[-1,-1],[-1,0],[-1,1],[0,-1],[0,0],[0,1],[1,-1],[1,0],[1,1]])\n",
    "res = knn_predict(p, points,outcomes,3)\n",
    "print(\"所属类别:\",res)\n",
    "\n",
    "#作图\n",
    "plt.plot(points[:,0],points[:,1],\"bo\")\n",
    "plt.plot(points[:4,0],points[:4,1], \"go\")\n",
    "plt.plot(p[0],p[1],\"ro\")"
   ]
  },
  {
   "cell_type": "markdown",
   "metadata": {},
   "source": [
    "## 5. 产生数据\n",
    "\n",
    "end points:\n",
    "\n",
    "bivariate:\n",
    "\n",
    "ipstats 模块\n"
   ]
  },
  {
   "cell_type": "code",
   "execution_count": 28,
   "metadata": {},
   "outputs": [
    {
     "data": {
      "text/plain": [
       "array([[ 0.83069181, -0.62347007],\n",
       "       [-0.2725449 ,  0.11232394],\n",
       "       [-1.11716573, -0.44054168],\n",
       "       [ 0.45781264,  1.3071023 ],\n",
       "       [ 1.23865135,  0.83660122]])"
      ]
     },
     "execution_count": 28,
     "metadata": {},
     "output_type": "execute_result"
    }
   ],
   "source": [
    "# rvs(): 随机变量\n",
    "ss.norm(0,1).rvs((5,2))"
   ]
  },
  {
   "cell_type": "code",
   "execution_count": 29,
   "metadata": {},
   "outputs": [
    {
     "data": {
      "text/plain": [
       "array([[ 1.35577686,  0.39040978],\n",
       "       [-0.66636033,  0.93560858],\n",
       "       [-0.41215857,  1.84704737],\n",
       "       [ 0.1551123 , -1.05379079],\n",
       "       [ 0.87793387, -0.03557217]])"
      ]
     },
     "execution_count": 29,
     "metadata": {},
     "output_type": "execute_result"
    }
   ],
   "source": [
    "ss.norm(1,1).rvs((5,2))"
   ]
  },
  {
   "cell_type": "code",
   "execution_count": 30,
   "metadata": {},
   "outputs": [
    {
     "data": {
      "text/plain": [
       "array([[-0.4071305 ,  1.0495255 ],\n",
       "       [-3.45917693, -0.67421897],\n",
       "       [-0.2545249 , -1.73763083],\n",
       "       [ 0.76165822,  0.06027817],\n",
       "       [ 0.31492657,  0.41800532],\n",
       "       [ 3.23131752,  1.5114335 ],\n",
       "       [ 1.25727685,  0.0283415 ],\n",
       "       [ 0.75631692,  1.12605519],\n",
       "       [ 2.44503412,  1.44955582],\n",
       "       [ 1.55355979,  0.15840327]])"
      ]
     },
     "execution_count": 30,
     "metadata": {},
     "output_type": "execute_result"
    }
   ],
   "source": [
    "np.concatenate((ss.norm(0,1).rvs((5,2)), ss.norm(1,1).rvs((5,2))), axis =0)"
   ]
  },
  {
   "cell_type": "code",
   "execution_count": 31,
   "metadata": {},
   "outputs": [
    {
     "data": {
      "text/plain": [
       "(array([[-0.16783697,  0.02050534],\n",
       "        [ 0.33780707, -1.85746227],\n",
       "        [ 1.1502792 ,  0.41800664],\n",
       "        [ 0.44686681, -0.71024393],\n",
       "        [ 0.2298997 ,  0.07213386],\n",
       "        [-0.8118586 ,  2.40017804],\n",
       "        [ 1.58433468, -1.39424132],\n",
       "        [-0.24241004, -0.04255055],\n",
       "        [ 0.41714192, -0.51050465],\n",
       "        [-0.5280403 , -0.65786153],\n",
       "        [-1.57055482,  1.27481566],\n",
       "        [ 0.62697621,  0.26311523],\n",
       "        [-1.43334422,  0.7390689 ],\n",
       "        [ 1.67809832, -0.54769948],\n",
       "        [-1.16425757,  0.50000568],\n",
       "        [ 0.3132702 , -0.26666044],\n",
       "        [ 0.67253587, -0.1422316 ],\n",
       "        [ 0.50244811, -1.19014203],\n",
       "        [-0.4274232 , -0.26463046],\n",
       "        [ 1.79649483, -1.32868628],\n",
       "        [ 1.13115787,  0.40142446],\n",
       "        [-0.19614848, -0.22420655],\n",
       "        [-0.90000798, -1.35075547],\n",
       "        [ 0.94683432,  0.67866955],\n",
       "        [ 1.86555968, -0.46159701],\n",
       "        [ 0.43713084, -1.99728955],\n",
       "        [ 1.19474333, -0.14155465],\n",
       "        [-0.45634546, -0.32428328],\n",
       "        [-1.48773399,  1.06669066],\n",
       "        [ 0.3490665 ,  0.2199291 ],\n",
       "        [ 0.47055561, -0.39828232],\n",
       "        [-0.06526523,  0.11699479],\n",
       "        [-1.32039946, -0.15029049],\n",
       "        [-0.47599881, -1.07159337],\n",
       "        [ 0.96077185,  1.20452941],\n",
       "        [ 0.60819762,  0.02412181],\n",
       "        [-1.0173916 , -0.67349799],\n",
       "        [-1.23975311, -1.04363138],\n",
       "        [ 0.94641183,  0.74220721],\n",
       "        [-0.95052702,  0.38768245],\n",
       "        [-1.59797228, -0.38475813],\n",
       "        [ 0.19346684, -0.65746161],\n",
       "        [ 1.56409047,  0.28242497],\n",
       "        [ 0.6899779 , -0.38342675],\n",
       "        [ 0.46711867, -1.59927686],\n",
       "        [-0.32635659, -0.54757973],\n",
       "        [-0.81629077, -0.90463963],\n",
       "        [ 1.19953136, -0.42577912],\n",
       "        [ 0.88766725,  0.64721389],\n",
       "        [-0.68097159,  0.95144207],\n",
       "        [ 0.15045745,  1.77308766],\n",
       "        [ 3.04339892, -0.34359456],\n",
       "        [ 0.56568942,  0.50108106],\n",
       "        [ 1.09376479, -0.03832559],\n",
       "        [ 0.39485443,  1.0304349 ],\n",
       "        [ 1.36046384,  1.75720897],\n",
       "        [ 2.5963883 ,  2.95865808],\n",
       "        [ 1.71715505,  1.83740353],\n",
       "        [ 1.023666  ,  2.46374039],\n",
       "        [ 1.14120557,  0.45604872],\n",
       "        [ 0.82877602,  1.04832503],\n",
       "        [ 1.31745272, -0.29050699],\n",
       "        [ 1.46701593,  0.03811428],\n",
       "        [-0.62785548,  2.0345153 ],\n",
       "        [ 1.55931117,  2.76731343],\n",
       "        [ 0.09051937, -0.1641055 ],\n",
       "        [ 0.76399475,  1.64064433],\n",
       "        [ 0.35090569,  2.62914281],\n",
       "        [ 2.17176319,  1.65748757],\n",
       "        [ 0.19211115, -0.47875665],\n",
       "        [ 0.05048023,  0.64249643],\n",
       "        [-0.09274217,  0.51781046],\n",
       "        [ 1.66872886,  0.93564912],\n",
       "        [ 0.75201328,  1.36039831],\n",
       "        [ 0.7924292 ,  0.05727138],\n",
       "        [ 0.10401508,  1.94239822],\n",
       "        [ 1.20988334,  1.82051461],\n",
       "        [ 0.88733247,  1.87191994],\n",
       "        [ 2.04219745, -1.21850758],\n",
       "        [ 1.9898411 , -0.20849328],\n",
       "        [ 0.41398302,  0.70738275],\n",
       "        [ 1.84098048,  1.54562855],\n",
       "        [-0.31238646,  1.36357364],\n",
       "        [-0.86696625,  0.11060323],\n",
       "        [ 1.38585139, -0.33003332],\n",
       "        [ 0.70032967, -0.75433882],\n",
       "        [ 0.86737276,  0.97686573],\n",
       "        [-0.05449175,  1.5307324 ],\n",
       "        [ 0.88908613,  1.21785863],\n",
       "        [-0.70619254, -0.87929872],\n",
       "        [ 0.51253895,  1.16199514],\n",
       "        [ 2.27498099,  3.11982834],\n",
       "        [ 3.25427128,  1.29038675],\n",
       "        [ 1.67351004, -0.38864826],\n",
       "        [ 1.60965757,  0.49361361],\n",
       "        [ 1.06842001,  0.97564107],\n",
       "        [-0.17121087,  2.61243406],\n",
       "        [-1.03616523,  1.62495132],\n",
       "        [-0.57657601,  1.5198456 ],\n",
       "        [-1.17619214,  1.64543992]]),\n",
       " array([0, 0, 0, 0, 0, 0, 0, 0, 0, 0, 0, 0, 0, 0, 0, 0, 0, 0, 0, 0, 0, 0,\n",
       "        0, 0, 0, 0, 0, 0, 0, 0, 0, 0, 0, 0, 0, 0, 0, 0, 0, 0, 0, 0, 0, 0,\n",
       "        0, 0, 0, 0, 0, 0, 1, 1, 1, 1, 1, 1, 1, 1, 1, 1, 1, 1, 1, 1, 1, 1,\n",
       "        1, 1, 1, 1, 1, 1, 1, 1, 1, 1, 1, 1, 1, 1, 1, 1, 1, 1, 1, 1, 1, 1,\n",
       "        1, 1, 1, 1, 1, 1, 1, 1, 1, 1, 1, 1]))"
      ]
     },
     "execution_count": 31,
     "metadata": {},
     "output_type": "execute_result"
    }
   ],
   "source": [
    "def generate_synth_data(n=50):\n",
    "    points = np.concatenate((ss.norm(0,1).rvs((n,2)), ss.norm(1,1).rvs((n,2))), axis =0)\n",
    "    outcomes = np.concatenate((np.repeat(0,n),np.repeat(1,n))) \n",
    "    return (points, outcomes)\n",
    "\n",
    "generate_synth_data(n=50)\n",
    "    "
   ]
  },
  {
   "cell_type": "code",
   "execution_count": 32,
   "metadata": {},
   "outputs": [
    {
     "data": {
      "image/png": "[encoded data removed]",
      "text/plain": [
       "<Figure size 432x288 with 1 Axes>"
      ]
     },
     "metadata": {},
     "output_type": "display_data"
    }
   ],
   "source": [
    "points, outcomes = generate_synth_data(n=50)\n",
    "\n",
    "plt.figure()\n",
    "n = 50\n",
    "plt.plot(points[:n,0], points[:n,1], \"ro\")\n",
    "plt.plot(points[n:,0], points[n:,1], \"bo\")\n",
    "plt.savefig(\"bivaradata.pdf\")"
   ]
  },
  {
   "cell_type": "markdown",
   "metadata": {},
   "source": [
    "## 6. 制作预测Grid\n",
    "\n",
    "    Learn how to make a prediction grid\n",
    "    Learn how to use enumerate\n",
    "    Learn how to use NumPy meshgrid"
   ]
  },
  {
   "cell_type": "code",
   "execution_count": 34,
   "metadata": {},
   "outputs": [],
   "source": [
    "def make_pred_grid(predictors,outcomes,limits,h,k):\n",
    "    (x_min,x_max, y_min,y_max) = limits\n",
    "    xs = np.arange(x_min,x_max,h) # h, 步长\n",
    "    ys = np.arange(y_min,y_max,h)\n",
    "    xx, yy = np.meshgrid(xs,ys)\n",
    "    \n",
    "    pred_grid = np.zeros(xx.shape, dtype = int)\n",
    "    for i, x in enumerate(xs):\n",
    "        for j, y in enumerate(ys):\n",
    "            p = np.array([x,y])\n",
    "            pred_grid[j,i] = knn_predict(p,predictors,outcomes,k)\n",
    "            \n",
    "    return (xx,yy,pred_grid)"
   ]
  },
  {
   "cell_type": "markdown",
   "metadata": {},
   "source": [
    "## 7. 对格点作图 \n",
    "\n",
    "    Learn how to plot the prediction grid\n",
    "    Learn about the bias-variance tradeoff"
   ]
  },
  {
   "cell_type": "code",
   "execution_count": 35,
   "metadata": {},
   "outputs": [
    {
     "data": {
      "image/png": "[encoded data removed]",
      "text/plain": [
       "<Figure size 720x720 with 1 Axes>"
      ]
     },
     "metadata": {},
     "output_type": "display_data"
    }
   ],
   "source": [
    "\n",
    "# 可下载\n",
    "def plot_pred_grid (xx, yy, prediction_grid, filename):\n",
    "    \"\"\" Plot KNN predictions for every point on the grid.\"\"\"\n",
    "    from matplotlib.colors import ListedColormap\n",
    "    background_colormap = ListedColormap ([\"hotpink\",\"yellowgreen\",\"lightskyblue\" ])\n",
    "    observation_colormap = ListedColormap ([\"red\",\"blue\",\"green\"])\n",
    "    plt.figure(figsize =(10,10))\n",
    "    plt.pcolormesh(xx, yy, prediction_grid, cmap = background_colormap, alpha = 0.5)\n",
    "    plt.scatter(predictors[:,0], predictors [:,1], c = outcomes, cmap = observation_colormap, s = 50)\n",
    "    plt.xlabel(\"x1\"); plt.ylabel(\"x2\")\n",
    "    plt.xticks(()); plt.yticks(())\n",
    "    plt.xlim (np.min(xx), np.max(xx))\n",
    "    plt.ylim (np.min(yy), np.max(yy))\n",
    "    plt.savefig(filename)\n",
    "    \n",
    "\n",
    "(predictors, outcomes) = generate_synth_data()\n",
    "\n",
    "k = 5 ; filename = \"knn_synth_5.pdf\"\n",
    "limits = (-3,4,-3,4) ;   h = 0.1\n",
    "\n",
    "(xx,yy, pred_grid) = make_pred_grid(predictors,outcomes,limits,h,k)\n",
    "plot_pred_grid(xx,yy, pred_grid, filename)\n",
    "\n"
   ]
  },
  {
   "cell_type": "code",
   "execution_count": 36,
   "metadata": {
    "scrolled": true
   },
   "outputs": [
    {
     "data": {
      "image/png": "[encoded data removed]",
      "text/plain": [
       "<Figure size 720x720 with 1 Axes>"
      ]
     },
     "metadata": {},
     "output_type": "display_data"
    }
   ],
   "source": [
    "(predictors, outcomes) = generate_synth_data()\n",
    "\n",
    "k = 13 ; filename = \"knn_synth_13.pdf\"\n",
    "limits = (-3,4,-3,4) ;   h = 0.1\n",
    "\n",
    "(xx,yy, pred_grid) = make_pred_grid(predictors,outcomes,limits,h,k)\n",
    "plot_pred_grid(xx,yy, pred_grid, filename)"
   ]
  },
  {
   "cell_type": "markdown",
   "metadata": {},
   "source": [
    "## 8. Scikit-learn的使用\n"
   ]
  },
  {
   "cell_type": "code",
   "execution_count": 37,
   "metadata": {},
   "outputs": [
    {
     "data": {
      "text/html": [
       "<div>\n",
       "<style scoped>\n",
       "    .dataframe tbody tr th:only-of-type {\n",
       "        vertical-align: middle;\n",
       "    }\n",
       "\n",
       "    .dataframe tbody tr th {\n",
       "        vertical-align: top;\n",
       "    }\n",
       "\n",
       "    .dataframe thead th {\n",
       "        text-align: right;\n",
       "    }\n",
       "</style>\n",
       "<table border=\"1\" class=\"dataframe\">\n",
       "  <thead>\n",
       "    <tr style=\"text-align: right;\">\n",
       "      <th></th>\n",
       "      <th>0</th>\n",
       "    </tr>\n",
       "  </thead>\n",
       "  <tbody>\n",
       "    <tr>\n",
       "      <th>0</th>\n",
       "      <td>0</td>\n",
       "    </tr>\n",
       "    <tr>\n",
       "      <th>1</th>\n",
       "      <td>1</td>\n",
       "    </tr>\n",
       "    <tr>\n",
       "      <th>2</th>\n",
       "      <td>2</td>\n",
       "    </tr>\n",
       "    <tr>\n",
       "      <th>3</th>\n",
       "      <td>3</td>\n",
       "    </tr>\n",
       "  </tbody>\n",
       "</table>\n",
       "</div>"
      ],
      "text/plain": [
       "   0\n",
       "0  0\n",
       "1  1\n",
       "2  2\n",
       "3  3"
      ]
     },
     "execution_count": 37,
     "metadata": {},
     "output_type": "execute_result"
    }
   ],
   "source": [
    "import pandas as pd\n",
    "# 生成数据集: X中每个样本仅有一个特征. \n",
    "X_train = pd.DataFrame([ [0], [1], [2], [3] ])\n",
    "y_train = [0, 0, 1, 1]\n",
    "X_train"
   ]
  },
  {
   "cell_type": "code",
   "execution_count": 38,
   "metadata": {},
   "outputs": [
    {
     "data": {
      "text/plain": [
       "[0, 0, 1, 1]"
      ]
     },
     "execution_count": 38,
     "metadata": {},
     "output_type": "execute_result"
    }
   ],
   "source": [
    "y_train"
   ]
  },
  {
   "cell_type": "markdown",
   "metadata": {},
   "source": [
    "导入SciKit-Learn的 KNeighbors分类器. "
   ]
  },
  {
   "cell_type": "code",
   "execution_count": 39,
   "metadata": {},
   "outputs": [],
   "source": [
    "from sklearn.neighbors import KNeighborsClassifier\n",
    "model = KNeighborsClassifier(n_neighbors=3)"
   ]
  },
  {
   "cell_type": "markdown",
   "metadata": {},
   "source": [
    "当我们拟合模型时,我们需要同时提供样本的特征和标签. \n",
    "\n",
    "标签矢量应该为一个形状为(n_samples,)的数组, 它应该包括每一个训练样本的标签. \n",
    "\n",
    "下面是KNeighborsClassifier 类的几个参数(都是可选参数):\n",
    "\n",
    "    n_neighbors : 邻居数目.  类别为2时,往往将n_neighbors的值取为奇数. 尤其是我们用均匀权重时..\n",
    "    weights : 每个邻居的”投票次数”.  一般设每个邻居有相同的权重值 \n",
    "    algorithm : 我们可以选择搜索训练集的优化方法以找到最近邻居."
   ]
  },
  {
   "cell_type": "code",
   "execution_count": 40,
   "metadata": {},
   "outputs": [
    {
     "data": {
      "text/plain": [
       "KNeighborsClassifier(algorithm='auto', leaf_size=30, metric='minkowski',\n",
       "           metric_params=None, n_jobs=1, n_neighbors=3, p=2,\n",
       "           weights='uniform')"
      ]
     },
     "execution_count": 40,
     "metadata": {},
     "output_type": "execute_result"
    }
   ],
   "source": [
    "model.fit(X_train, y_train) "
   ]
  },
  {
   "cell_type": "code",
   "execution_count": 41,
   "metadata": {},
   "outputs": [
    {
     "data": {
      "text/plain": [
       "array([0])"
      ]
     },
     "execution_count": 41,
     "metadata": {},
     "output_type": "execute_result"
    }
   ],
   "source": [
    "# 传入一个dframe或者一个数组\n",
    "model.predict([[1.1]])"
   ]
  },
  {
   "cell_type": "code",
   "execution_count": 42,
   "metadata": {},
   "outputs": [
    {
     "data": {
      "text/plain": [
       "array([0, 1])"
      ]
     },
     "execution_count": 42,
     "metadata": {},
     "output_type": "execute_result"
    }
   ],
   "source": [
    "model.predict([[1.1],[3.3]])"
   ]
  },
  {
   "cell_type": "code",
   "execution_count": 43,
   "metadata": {},
   "outputs": [
    {
     "data": {
      "text/plain": [
       "array([[0.66666667, 0.33333333],\n",
       "       [0.66666667, 0.33333333]])"
      ]
     },
     "execution_count": 43,
     "metadata": {},
     "output_type": "execute_result"
    }
   ],
   "source": [
    "model.predict_proba([[0.9],[0.3]])"
   ]
  },
  {
   "cell_type": "code",
   "execution_count": 44,
   "metadata": {},
   "outputs": [
    {
     "data": {
      "text/plain": [
       "0.5"
      ]
     },
     "execution_count": 44,
     "metadata": {},
     "output_type": "execute_result"
    }
   ],
   "source": [
    "model.score([[0.9],[0.3]],[0,1])"
   ]
  },
  {
   "cell_type": "markdown",
   "metadata": {},
   "source": [
    "## 9. 应用kNN模型\n",
    "    应用我们自己写的kNN分类器到一个真实的数据集. \n",
    "    对比我们的kNN分类器和scikit-learn模块的kNN分类器的表现. \n",
    "    \n",
    "数据集: 150朵鸢尾花(Iris):共有三种,每种的数量为50.\n",
    "\n",
    "对每一朵花,有如下变量(covariates): \n",
    "\n",
    "    花萼(sepal)长度, 花萼宽度;\n",
    "    花瓣(petal)长度, 花瓣宽度."
   ]
  },
  {
   "cell_type": "code",
   "execution_count": 45,
   "metadata": {},
   "outputs": [
    {
     "data": {
      "image/png": "[encoded data removed]",
      "text/plain": [
       "<Figure size 432x288 with 1 Axes>"
      ]
     },
     "metadata": {},
     "output_type": "display_data"
    }
   ],
   "source": [
    "from sklearn import datasets\n",
    "iris = datasets.load_iris()\n",
    "\n",
    "#iris\n",
    "predictors = iris.data[:,0:2]\n",
    "outcomes = iris.target\n",
    "#print(outcomes == 0)\n",
    "#print(predictors[outcomes==0][:,0])\n",
    "plt.plot(predictors[outcomes==0][:,0], predictors[outcomes==0][:,1] , \"ro\")\n",
    "plt.plot(predictors[outcomes==1][:,0], predictors[outcomes==1][:,1] , \"bo\")\n",
    "plt.plot(predictors[outcomes==2][:,0], predictors[outcomes==2][:,1] , \"go\")\n",
    "plt.savefig(\"iris.svg\")"
   ]
  },
  {
   "cell_type": "code",
   "execution_count": 46,
   "metadata": {},
   "outputs": [
    {
     "data": {
      "image/png": "[encoded data removed]",
      "text/plain": [
       "<Figure size 720x720 with 1 Axes>"
      ]
     },
     "metadata": {},
     "output_type": "display_data"
    }
   ],
   "source": [
    "k = 5 ; filename = \"iris_grid.pdf\";\n",
    "limits = (4, 8.5, 1.5, 5) ;   h = 0.1\n",
    "\n",
    "(xx,yy, pred_grid) = make_pred_grid(predictors,outcomes,limits,h,k)\n",
    "plot_pred_grid(xx,yy, pred_grid, filename)"
   ]
  },
  {
   "cell_type": "code",
   "execution_count": 47,
   "metadata": {},
   "outputs": [],
   "source": [
    "from sklearn.neighbors import KNeighborsClassifier\n",
    "\n",
    "# 建立knn模型\n",
    "knn = KNeighborsClassifier(n_neighbors = 5)\n",
    "knn.fit(predictors,outcomes)\n",
    "sk_predictions = knn.predict(predictors)"
   ]
  },
  {
   "cell_type": "code",
   "execution_count": 48,
   "metadata": {},
   "outputs": [
    {
     "data": {
      "text/plain": [
       "(150,)"
      ]
     },
     "execution_count": 48,
     "metadata": {},
     "output_type": "execute_result"
    }
   ],
   "source": [
    "sk_predictions.shape"
   ]
  },
  {
   "cell_type": "code",
   "execution_count": 49,
   "metadata": {},
   "outputs": [
    {
     "data": {
      "text/plain": [
       "array([0, 0, 0, 0, 0, 0, 0, 0, 0, 0])"
      ]
     },
     "execution_count": 49,
     "metadata": {},
     "output_type": "execute_result"
    }
   ],
   "source": [
    "sk_predictions[:10]"
   ]
  },
  {
   "cell_type": "code",
   "execution_count": 50,
   "metadata": {},
   "outputs": [
    {
     "data": {
      "text/plain": [
       "array([0, 0, 0, 0, 0, 0, 0, 0, 0, 0, 0, 0, 0, 0, 0, 0, 0, 0, 0, 0, 0, 0,\n",
       "       0, 0, 0, 0, 0, 0, 0, 0, 0, 0, 0, 0, 0, 0, 0, 0, 0, 0, 0, 1, 0, 0,\n",
       "       0, 0, 0, 0, 0, 0, 2, 2, 2, 1, 2, 1, 2, 1, 1, 1, 1, 2, 1, 1, 1, 1,\n",
       "       1, 2, 1, 1, 1, 1, 2, 1, 2, 2, 1, 2, 1, 1, 1, 1, 2, 1, 1, 1, 1, 1,\n",
       "       1, 1, 1, 1, 1, 1, 1, 1, 1, 2, 1, 1, 2, 2, 2, 2, 2, 2, 1, 2, 2, 2,\n",
       "       2, 2, 2, 1, 1, 2, 2, 2, 2, 1, 2, 1, 2, 2, 2, 2, 1, 1, 2, 2, 2, 2,\n",
       "       2, 2, 1, 2, 2, 2, 2, 2, 1, 2, 2, 2, 2, 2, 2, 2, 2, 2])"
      ]
     },
     "execution_count": 50,
     "metadata": {},
     "output_type": "execute_result"
    }
   ],
   "source": [
    "my_predictions = np.array([knn_predict(p,predictors, outcomes, 5) for p in predictors])\n",
    "my_predictions"
   ]
  },
  {
   "cell_type": "code",
   "execution_count": 51,
   "metadata": {},
   "outputs": [
    {
     "data": {
      "text/plain": [
       "array([ True,  True,  True,  True,  True,  True,  True,  True,  True,\n",
       "        True,  True,  True,  True,  True,  True,  True,  True,  True,\n",
       "        True,  True,  True,  True,  True,  True,  True,  True,  True,\n",
       "        True,  True,  True,  True,  True,  True,  True,  True,  True,\n",
       "        True,  True,  True,  True,  True,  True,  True,  True,  True,\n",
       "        True,  True,  True,  True,  True,  True,  True,  True,  True,\n",
       "        True,  True,  True,  True,  True,  True,  True, False,  True,\n",
       "        True,  True,  True,  True,  True,  True,  True,  True,  True,\n",
       "        True,  True,  True,  True,  True, False,  True,  True,  True,\n",
       "        True,  True,  True,  True, False,  True,  True,  True,  True,\n",
       "        True,  True,  True,  True,  True,  True,  True,  True,  True,\n",
       "        True,  True,  True,  True,  True,  True,  True,  True,  True,\n",
       "       False,  True,  True,  True,  True,  True,  True,  True,  True,\n",
       "        True,  True,  True,  True,  True,  True,  True,  True,  True,\n",
       "        True,  True,  True,  True,  True,  True,  True,  True,  True,\n",
       "        True,  True,  True,  True,  True,  True,  True,  True,  True,\n",
       "        True, False,  True,  True,  True, False])"
      ]
     },
     "execution_count": 51,
     "metadata": {},
     "output_type": "execute_result"
    }
   ],
   "source": [
    "my_predictions == sk_predictions"
   ]
  },
  {
   "cell_type": "code",
   "execution_count": 52,
   "metadata": {},
   "outputs": [
    {
     "name": "stdout",
     "output_type": "stream",
     "text": [
      "96.0\n"
     ]
    }
   ],
   "source": [
    "# 两种算法的对比\n",
    "print(100 * np.mean(my_predictions == sk_predictions))"
   ]
  },
  {
   "cell_type": "code",
   "execution_count": 53,
   "metadata": {},
   "outputs": [
    {
     "name": "stdout",
     "output_type": "stream",
     "text": [
      "84.66666666666667\n",
      "83.33333333333334\n"
     ]
    }
   ],
   "source": [
    "# 计算准确率\n",
    "print(100 * np.mean(my_predictions == outcomes))\n",
    "print(100 * np.mean(sk_predictions == outcomes))"
   ]
  },
  {
   "cell_type": "markdown",
   "metadata": {},
   "source": [
    "## 小结:\n",
    "    1. kNN is particularly useful when no other model fits your data well, \n",
    "    因为它是一个不需要参数的分类方法. 例如,你不需要考虑你的数据是线性可分还是线性不可分.\n",
    "    \n",
    "    2. 要想用kNN算法,我们的数据必须是可测的(数据集上有距离可以定义出来)."
   ]
  },
  {
   "cell_type": "markdown",
   "metadata": {},
   "source": [
    "## 10. kNN应用(2)\n",
    "mglearn.plots.plot_classification()"
   ]
  },
  {
   "cell_type": "code",
   "execution_count": 54,
   "metadata": {},
   "outputs": [
    {
     "name": "stdout",
     "output_type": "stream",
     "text": [
      "数据形状:(506, 13)\n",
      "X.shape:(506, 104)\n"
     ]
    },
    {
     "data": {
      "image/png": "[encoded data removed]",
      "text/plain": [
       "<Figure size 432x288 with 1 Axes>"
      ]
     },
     "metadata": {},
     "output_type": "display_data"
    }
   ],
   "source": [
    "import mglearn  \n",
    "import matplotlib.pyplot as plt  \n",
    "from sklearn.datasets import load_boston  \n",
    "  \n",
    "boston = load_boston()  \n",
    "  \n",
    "print(\"数据形状:{}\".format(boston.data.shape))  \n",
    "\n",
    "# 生成扩展数据集  \n",
    "X, y = mglearn.datasets.load_extended_boston()  \n",
    "print(\"X.shape:{}\".format(X.shape))  \n",
    "    \n",
    "mglearn.plots.plot_knn_classification(n_neighbors=1)  \n",
    "plt.show()  "
   ]
  },
  {
   "cell_type": "markdown",
   "metadata": {},
   "source": [
    "(2)计算决策边界."
   ]
  },
  {
   "cell_type": "code",
   "execution_count": 58,
   "metadata": {},
   "outputs": [
    {
     "name": "stdout",
     "output_type": "stream",
     "text": [
      "测试集预测: [1 0 1 0 1 0 0]\n",
      "测试集准确度: 0.857\n"
     ]
    },
    {
     "data": {
      "image/png": "[encoded data removed]",
      "text/plain": [
       "<Figure size 432x288 with 1 Axes>"
      ]
     },
     "metadata": {},
     "output_type": "display_data"
    }
   ],
   "source": [
    "from sklearn.model_selection import train_test_split  \n",
    "from sklearn.neighbors import KNeighborsClassifier    \n",
    "X,y = mglearn.datasets.make_forge()  \n",
    "X_train, X_test, y_train, y_test = train_test_split(X,y, random_state=0)  \n",
    "\n",
    "n_neighbors =1\n",
    "# KNeighborsClassifier类的实例化 \n",
    "clf = KNeighborsClassifier(n_neighbors= n_neighbors)  \n",
    "clf.fit(X_train, y_train)  \n",
    "print(\"测试集预测: {}\".format(clf.predict(X_test)))  \n",
    "print(\"测试集准确度: {:.3f}\".format(clf.score(X_test,y_test)))  \n",
    "\n",
    "clf = KNeighborsClassifier(n_neighbors=n_neighbors).fit(X,y) \n",
    "#边界\n",
    "mglearn.plots.plot_2d_separator(clf, X, fill=True, eps=0.5, alpha=0.4)  \n",
    "# 散点图\n",
    "mglearn.discrete_scatter(X[:,0],X[:,1],y)  \n",
    "plt.title(\"{} neighbor(s)\".format(n_neighbors))  \n",
    "plt.xlabel(\"X0\")  \n",
    "plt.ylabel(\"X1\")  \n",
    "plt.legend(loc=3)  \n",
    "plt.show()  "
   ]
  },
  {
   "cell_type": "markdown",
   "metadata": {},
   "source": [
    "k越大,边界越光滑.\n",
    "\n",
    "k越小,模型越复杂.(复杂度大)\n",
    "\n",
    "k越大,模型越简单. \n",
    "\n",
    "k极其大,所有测试数据对应预测值都一样.\n"
   ]
  },
  {
   "cell_type": "markdown",
   "metadata": {},
   "source": [
    "(3) 测试性能和准确度."
   ]
  },
  {
   "cell_type": "code",
   "execution_count": 59,
   "metadata": {},
   "outputs": [
    {
     "data": {
      "text/plain": [
       "<matplotlib.legend.Legend at 0x18000038c50>"
      ]
     },
     "execution_count": 59,
     "metadata": {},
     "output_type": "execute_result"
    },
    {
     "data": {
      "image/png": "[encoded data removed]",
      "text/plain": [
       "<Figure size 432x288 with 1 Axes>"
      ]
     },
     "metadata": {},
     "output_type": "display_data"
    }
   ],
   "source": [
    "from sklearn.datasets import load_breast_cancer   \n",
    " \n",
    "cancer = load_breast_cancer()  \n",
    "X_train, X_test, y_train, y_test = train_test_split(  \n",
    "        cancer.data, cancer.target, stratify=cancer.target, random_state=6)  \n",
    " \n",
    "training_accuracy = []  \n",
    "test_accuracy = []  \n",
    "  \n",
    "# try n_neighbors from 1 to 10  \n",
    "neighbors = range(1,11)  \n",
    "  \n",
    "for n_neighbors in neighbors:  \n",
    "    # build the model  \n",
    "    clf = KNeighborsClassifier(n_neighbors=n_neighbors)  \n",
    "    clf.fit(X_train,y_train)  \n",
    "    #record training set accuracy  \n",
    "    training_accuracy.append(clf.score(X_train,y_train))  \n",
    "    #record generalization accuracy  \n",
    "    test_accuracy.append(clf.score(X_test,y_test))  \n",
    "  \n",
    "plt.plot(neighbors,training_accuracy,  \"o-\",label=\"training\")  \n",
    "plt.plot(neighbors,test_accuracy,  \"o-\",label=\"test\")  \n",
    "plt.ylabel(\"Accuracy\")  \n",
    "plt.xlabel(\"k\")  \n",
    "plt.legend()  "
   ]
  },
  {
   "cell_type": "markdown",
   "metadata": {},
   "source": [
    "k越小,模型越复杂.(复杂度大,过拟合: 对于训练集的预测是完美的.但对于测试集的预测表现很差劲. Too complex Model!)\n",
    "\n",
    "随着k增大,模型越来越简单. 训练集上的准确度降低.但测试集上的准确度逐渐增大.\n",
    "\n",
    "当k过大时,测试集上的准确度甚至比单邻居情形更惨. 表现很好的模型是k位于[1,10]之间的某个值的哪些模型.\n",
    "(注意:这里的模型表现都还不错!)\n",
    "\n",
    "\n",
    "当k取得极其大,所有测试数据对应预测值都一样."
   ]
  },
  {
   "cell_type": "markdown",
   "metadata": {},
   "source": [
    "## 11. kNN回归算法"
   ]
  },
  {
   "cell_type": "code",
   "execution_count": 60,
   "metadata": {},
   "outputs": [
    {
     "data": {
      "image/png": "[encoded data removed]",
      "text/plain": [
       "<Figure size 720x432 with 1 Axes>"
      ]
     },
     "metadata": {},
     "output_type": "display_data"
    }
   ],
   "source": [
    "from sklearn.model_selection import train_test_split   \n",
    "from sklearn.datasets import load_breast_cancer  \n",
    "#import matplotlib.pyplot as plt  \n",
    "#import mglearn  \n",
    "  \n",
    "X,y = mglearn.datasets.make_forge() \n",
    "# 数据集分割\n",
    "X_train, X_test, y_train, y_test = train_test_split(X, y, random_state=0)  \n",
    "# 选单个邻居数为1时, 目标值就是其最近邻居之目标值.(这就是k=1时的kNN回归) \n",
    "mglearn.plots.plot_knn_regression(n_neighbors=1)\n",
    "plt.show() "
   ]
  },
  {
   "cell_type": "code",
   "execution_count": 61,
   "metadata": {},
   "outputs": [
    {
     "data": {
      "image/png": "[encoded data removed]",
      "text/plain": [
       "<Figure size 720x432 with 1 Axes>"
      ]
     },
     "metadata": {},
     "output_type": "display_data"
    }
   ],
   "source": [
    "X,y = mglearn.datasets.make_forge() \n",
    "# 数据集分割\n",
    "X_train, X_test, y_train, y_test = train_test_split(X, y, random_state=0)  \n",
    "# 选单个邻居数为3时, 目标值就是其最近3个邻居之目标值之平均值.(这就是k=3时的kNN回归) \n",
    "mglearn.plots.plot_knn_regression(n_neighbors=3)\n",
    "plt.show() "
   ]
  },
  {
   "cell_type": "code",
   "execution_count": 62,
   "metadata": {},
   "outputs": [
    {
     "data": {
      "text/plain": [
       "KNeighborsRegressor(algorithm='auto', leaf_size=30, metric='minkowski',\n",
       "          metric_params=None, n_jobs=1, n_neighbors=3, p=2,\n",
       "          weights='uniform')"
      ]
     },
     "execution_count": 62,
     "metadata": {},
     "output_type": "execute_result"
    }
   ],
   "source": [
    "from sklearn.neighbors import KNeighborsRegressor\n",
    "X,y = mglearn.datasets.make_wave(n_samples=40)\n",
    "# 分割数据集\n",
    "X_train, X_test, y_train, y_test = train_test_split(X, y, random_state=0)\n",
    "# 实例化模型,k=3\n",
    "reg = KNeighborsRegressor(n_neighbors=3)\n",
    "# 利用数据拟合模型\n",
    "reg.fit(X_train,y_train)"
   ]
  },
  {
   "cell_type": "code",
   "execution_count": 63,
   "metadata": {},
   "outputs": [
    {
     "name": "stdout",
     "output_type": "stream",
     "text": [
      "X_test: [[-1.24713211]\n",
      " [ 0.67111737]\n",
      " [ 1.71105577]\n",
      " [-2.06388816]\n",
      " [-2.87649303]\n",
      " [-1.89957294]\n",
      " [ 0.55448741]\n",
      " [ 2.81945911]\n",
      " [-0.40832989]\n",
      " [-2.72129752]]\n",
      "Test set predictions:\n",
      "[-0.05396539  0.35686046  1.13671923 -1.89415682 -1.13881398 -1.63113382\n",
      "  0.35686046  0.91241374 -0.44680446 -1.13881398]\n"
     ]
    }
   ],
   "source": [
    "# 现在在新的数据集上做预测\n",
    "print(\"X_test:\",X_test)\n",
    "print(\"Test set predictions:\\n{}\".format(reg.predict(X_test)))"
   ]
  },
  {
   "cell_type": "markdown",
   "metadata": {},
   "source": [
    "### 拟合优度\n",
    "利用score()方法评估模型. 对回归算法,它返回判定系数$R^2$之值. (coefficient of determination),又称拟合优度.\n",
    "\n",
    "$R^2$是测量回归模型好坏的一个量. 取值在[0,1]之间. $R^2=1$表示模型可以做完美的预测; $R^2=0$表示该模型只能做出预测值mean(y_train).\n",
    "\n",
    "设一数据集包括$y_1,...,y_n$共n个观察值，相对应的模型预测值分别为$f_1,...,f_n$. \n",
    "\n",
    "定义残差$e_i = y_i - f_i$，平均观察值为\n",
    "\n",
    "$\\bar{y}=\\frac{1}{n}\\sum_{i=1}^{n}y_i$.\n",
    "\n",
    "决定系数定义为\n",
    "\n",
    "$R^{2}\\equiv 1-{SS_{\\rm {res}} \\over SS_{\\rm {tot}}}$.\n",
    "\n",
    "其中,总平方和\n",
    "\n",
    "$SS_{\\text{tot}}=\\sum_{i}(y_i-{\\bar y})^2$\n",
    "\n",
    "回归平方和\n",
    "\n",
    "$SS_{\\text{reg}}=\\sum _{i}(f_{i}-{\\bar {y}})^{2}$,\n",
    "\n",
    "残差平方和\n",
    "\n",
    "$SS_{\\text{res}}=\\sum_{i}(y_{i}-f_{i})^{2}=\\sum _{i}e_{i}^{2}$,\n",
    "\n"
   ]
  },
  {
   "cell_type": "code",
   "execution_count": 64,
   "metadata": {},
   "outputs": [
    {
     "name": "stdout",
     "output_type": "stream",
     "text": [
      "测试集拟合优度:0.834\n"
     ]
    }
   ],
   "source": [
    "print(\"测试集拟合优度:{:.3f}\".format(reg.score(X_test,y_test)))"
   ]
  },
  {
   "cell_type": "markdown",
   "metadata": {},
   "source": [
    "### kNN回归分析"
   ]
  },
  {
   "cell_type": "code",
   "execution_count": 65,
   "metadata": {},
   "outputs": [
    {
     "data": {
      "text/plain": [
       "<matplotlib.legend.Legend at 0x1807b32c358>"
      ]
     },
     "execution_count": 65,
     "metadata": {},
     "output_type": "execute_result"
    },
    {
     "data": {
      "image/png": "[encoded data removed]",
      "text/plain": [
       "<Figure size 432x288 with 1 Axes>"
      ]
     },
     "metadata": {},
     "output_type": "display_data"
    }
   ],
   "source": [
    "#如果数据仅有一个特征,利用array.reshape(-1, 1)改变数组形状;\n",
    "#如果数据中仅包含一个样本,则可利用array.reshape(1, -1)改变数组形状.\n",
    "line = np.linspace(-3,3, 1000).reshape(-1,1)\n",
    "n_neighbors = 1 # 可改变k值\n",
    "reg = KNeighborsRegressor(n_neighbors=n_neighbors)\n",
    "reg.fit(X_train,y_train)\n",
    "plt.plot(line[:,0], reg.predict(line))\n",
    "plt.plot(X_train[:,0],y_train, \"o\", c=\"r\")\n",
    "plt.plot(X_test[:,0],y_test, \"v\", c=\"b\")\n",
    "\n",
    "plt.title(\"{} neighbor(s)\\n train score:{:.2f} test score: {:.2f}\".format(n_neighbors, reg.score(X_train,y_train),\n",
    "                                                                          reg.score(X_test,y_test)))\n",
    "plt.xlabel(\"Feature\")\n",
    "plt.ylabel(\"Target\")\n",
    "plt.legend([\"Predictions\", \"Training data/target\", \"Test data/target\"])"
   ]
  },
  {
   "cell_type": "markdown",
   "metadata": {},
   "source": []
  }
 ],
 "metadata": {
  "kernelspec": {
   "display_name": "Python 3",
   "language": "python",
   "name": "python3"
  },
  "language_info": {
   "codemirror_mode": {
    "name": "ipython",
    "version": 3
   },
   "file_extension": ".py",
   "mimetype": "text/x-python",
   "name": "python",
   "nbconvert_exporter": "python",
   "pygments_lexer": "ipython3",
   "version": "3.7.4"
  },
  "widgets": {
   "state": {},
   "version": "1.1.2"
  }
 },
 "nbformat": 4,
 "nbformat_minor": 2
}
