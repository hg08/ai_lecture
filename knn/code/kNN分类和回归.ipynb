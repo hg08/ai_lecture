{
 "cells": [
  {
   "cell_type": "markdown",
   "metadata": {},
   "source": [
    "# k近邻分类和回归\n"
   ]
  },
  {
   "cell_type": "markdown",
   "metadata": {},
   "source": [
    "## 1. 数据集"
   ]
  },
  {
   "cell_type": "code",
   "execution_count": 58,
   "metadata": {},
   "outputs": [
    {
     "name": "stdout",
     "output_type": "stream",
     "text": [
      "[[ 9.96346605  4.59676542]\n",
      " [11.0329545  -0.16816717]\n",
      " [11.54155807  5.21116083]\n",
      " [ 8.69289001  1.54322016]\n",
      " [ 8.1062269   4.28695977]\n",
      " [ 8.30988863  4.80623966]\n",
      " [11.93027136  4.64866327]\n",
      " [ 9.67284681 -0.20283165]\n",
      " [ 8.34810316  5.13415623]\n",
      " [ 8.67494727  4.47573059]\n",
      " [ 9.17748385  5.09283177]\n",
      " [10.24028948  2.45544401]\n",
      " [ 8.68937095  1.48709629]\n",
      " [ 8.92229526 -0.63993225]\n",
      " [ 9.49123469  4.33224792]\n",
      " [ 9.25694192  5.13284858]\n",
      " [ 7.99815287  4.8525051 ]\n",
      " [ 8.18378052  1.29564214]\n",
      " [ 8.7337095   2.49162431]\n",
      " [ 9.32298256  5.09840649]\n",
      " [10.06393839  0.99078055]\n",
      " [ 9.50048972 -0.26430318]\n",
      " [ 8.34468785  1.63824349]\n",
      " [ 9.50169345  1.93824624]\n",
      " [ 9.15072323  5.49832246]\n",
      " [11.563957    1.3389402 ]]\n",
      "(26, 2)\n",
      "[1 0 1 0 0 1 1 0 1 1 1 1 0 0 1 1 1 0 0 1 0 0 0 0 1 0]\n",
      "(26,)\n"
     ]
    }
   ],
   "source": [
    "import mglearn\n",
    "import matplotlib.pyplot as plt\n",
    "\n",
    "# 生成数据集\n",
    "X, y = mglearn.datasets.make_forge()\n",
    "print(X)\n",
    "print(X.shape)\n",
    "print(y)\n",
    "print(y.shape)"
   ]
  },
  {
   "cell_type": "code",
   "execution_count": 59,
   "metadata": {},
   "outputs": [
    {
     "data": {
      "image/png": "[encoded data removed]",
      "text/plain": [
       "<Figure size 432x288 with 1 Axes>"
      ]
     },
     "metadata": {},
     "output_type": "display_data"
    }
   ],
   "source": [
    "mglearn.discrete_scatter(X[:,0],X[:,1],y)\n",
    "plt.legend([\"Class 0\",\"Class 1\"])\n",
    "plt.xlabel(\"X1\")\n",
    "plt.ylabel(\"$X_2$\")\n",
    "plt.show()"
   ]
  },
  {
   "cell_type": "markdown",
   "metadata": {},
   "source": [
    "问题: 给定一个新的数据(点)(9,-1), 这个点属于哪一类? 从该点与其他已知点的距离猜测: 属于0类.\n",
    "(11, 6)呢?\n",
    "\n",
    "分类: 从已知的数据集出发,先训练一个模型. 对于一个从未见过的数据, 判断它所属的类别.\n",
    "\n",
    "kNN(k Nearest Neighbors)分类:\n",
    "前提: 要定义出距离.\n"
   ]
  },
  {
   "cell_type": "markdown",
   "metadata": {},
   "source": [
    "#### 学习目标:\n",
    "    1. kNN的原理\n",
    "    2. scikit-learn来实现KNN算法"
   ]
  },
  {
   "cell_type": "markdown",
   "metadata": {},
   "source": [
    "## 2. 求N维空间中两点的距离"
   ]
  },
  {
   "cell_type": "code",
   "execution_count": 60,
   "metadata": {},
   "outputs": [
    {
     "data": {
      "text/plain": [
       "39"
      ]
     },
     "execution_count": 60,
     "metadata": {},
     "output_type": "execute_result"
    }
   ],
   "source": [
    "import numpy as np\n",
    "\n",
    "def distance(p1,p2):\n",
    "    \"\"\"返回两点的距离(欧几里得距离)\"\"\"\n",
    "    return np.sqrt(np.sum(np.power(p1 - p2, 2)))\n",
    "\n",
    "a = np.array([4,0,3,4])\n",
    "c = np.array([4,3,1,5])\n",
    "o = np.array([0,0,0,0])\n",
    "\n",
    "distance(a,c)\n",
    "np.sum(a * c)"
   ]
  },
  {
   "cell_type": "markdown",
   "metadata": {},
   "source": [
    "## 2. 投票函数"
   ]
  },
  {
   "cell_type": "code",
   "execution_count": 61,
   "metadata": {},
   "outputs": [
    {
     "data": {
      "text/plain": [
       "{1: 2, 2: 5, 3: 5, 4: 1}"
      ]
     },
     "execution_count": 61,
     "metadata": {},
     "output_type": "execute_result"
    }
   ],
   "source": [
    "def count_vote(votes):\n",
    "    count_dict = {}\n",
    "    for vote in votes:\n",
    "        # known labels\n",
    "        if vote in count_dict:\n",
    "            count_dict[vote] += 1\n",
    "        # unknown labels\n",
    "        else:\n",
    "            count_dict[vote] = 1\n",
    "    return count_dict\n",
    "\n",
    "# 定义一个序列\n",
    "votes = [1,2,1,3,4,2,2,2,3,3,2,3,3]\n",
    "\n",
    "#调用\n",
    "vote_count = count_vote(votes)\n",
    "vote_count\n",
    "            "
   ]
  },
  {
   "cell_type": "code",
   "execution_count": 62,
   "metadata": {},
   "outputs": [
    {
     "data": {
      "text/plain": [
       "dict_keys([1, 2, 3, 4])"
      ]
     },
     "execution_count": 62,
     "metadata": {},
     "output_type": "execute_result"
    }
   ],
   "source": [
    "vote_count.keys()"
   ]
  },
  {
   "cell_type": "code",
   "execution_count": 63,
   "metadata": {},
   "outputs": [
    {
     "data": {
      "text/plain": [
       "dict_values([2, 5, 5, 1])"
      ]
     },
     "execution_count": 63,
     "metadata": {},
     "output_type": "execute_result"
    }
   ],
   "source": [
    "vote_count.values()"
   ]
  },
  {
   "cell_type": "code",
   "execution_count": 64,
   "metadata": {},
   "outputs": [
    {
     "data": {
      "text/plain": [
       "5"
      ]
     },
     "execution_count": 64,
     "metadata": {},
     "output_type": "execute_result"
    }
   ],
   "source": [
    "max(vote_count.values())"
   ]
  },
  {
   "cell_type": "markdown",
   "metadata": {},
   "source": [
    "items(): 提取出关键字和对应的值"
   ]
  },
  {
   "cell_type": "code",
   "execution_count": 65,
   "metadata": {},
   "outputs": [
    {
     "name": "stdout",
     "output_type": "stream",
     "text": [
      "1 2\n",
      "2 5\n",
      "3 5\n",
      "4 1\n"
     ]
    }
   ],
   "source": [
    "for vote, count in vote_count.items():\n",
    "    print(vote,count)"
   ]
  },
  {
   "cell_type": "code",
   "execution_count": 66,
   "metadata": {},
   "outputs": [
    {
     "name": "stdout",
     "output_type": "stream",
     "text": [
      "2 5\n",
      "[2]\n",
      "3 5\n",
      "[2, 3]\n"
     ]
    }
   ],
   "source": [
    "# 找出出现次数做多的标签\n",
    "winners = []\n",
    "max_count = max(vote_count.values())\n",
    "for vote, count in vote_count.items():\n",
    "    if count == max_count:\n",
    "        print(vote, count)\n",
    "        winners.append(vote)\n",
    "        print(winners)"
   ]
  },
  {
   "cell_type": "code",
   "execution_count": 96,
   "metadata": {},
   "outputs": [
    {
     "data": {
      "text/plain": [
       "4"
      ]
     },
     "execution_count": 96,
     "metadata": {},
     "output_type": "execute_result"
    }
   ],
   "source": [
    "import random\n",
    "# 投票\n",
    "def majority_vote(votes):\n",
    "    count_dict = {}\n",
    "    \n",
    "    for vote in votes:\n",
    "        # known labels\n",
    "        if vote in count_dict:\n",
    "            count_dict[vote] += 1\n",
    "        # unknown labels\n",
    "        else:\n",
    "            count_dict[vote] = 1\n",
    "\n",
    "    winners = []\n",
    "    max_count = max(count_dict.values())\n",
    "    for vote, count in count_dict.items():\n",
    "        if count == max_count:\n",
    "            #print(vote, count)\n",
    "            winners.append(vote)\n",
    "    return random.choice(winners)\n",
    "\n",
    "votes = [1,2,1,3,4,4,4,4,4,4,2,3,3,2,3,3]\n",
    "majority_vote(votes)"
   ]
  },
  {
   "cell_type": "markdown",
   "metadata": {},
   "source": [
    "Mode(众数)的概念:\n",
    "\n"
   ]
  },
  {
   "cell_type": "code",
   "execution_count": 68,
   "metadata": {},
   "outputs": [
    {
     "data": {
      "text/plain": [
       "array([2.])"
      ]
     },
     "execution_count": 68,
     "metadata": {},
     "output_type": "execute_result"
    }
   ],
   "source": [
    "import scipy.stats as ss \n",
    "\n",
    "def majority_vote_simple(votes):\n",
    "    \"\"\"返回序列中最高频的元素\"\"\"\n",
    "    mode, count = ss.mstats.mode(votes)\n",
    "    return mode\n",
    "\n",
    "votes = [1,2,1,3,4,2,2,2,3,3,2,3,3]\n",
    "majority_vote_simple(votes)"
   ]
  },
  {
   "cell_type": "markdown",
   "metadata": {},
   "source": [
    "### 4. 如何找出最近的邻居"
   ]
  },
  {
   "cell_type": "markdown",
   "metadata": {},
   "source": [
    "求最近邻居的基本思想:\n",
    "   \n",
    "    对所有点:\n",
    "      求出该点(p)到其他点的距离\n",
    "    对距离排序,选出离p点距离最近的k个点"
   ]
  },
  {
   "cell_type": "code",
   "execution_count": 69,
   "metadata": {},
   "outputs": [
    {
     "data": {
      "text/plain": [
       "[-1.5, 1.5, -1.5, 1.5]"
      ]
     },
     "execution_count": 69,
     "metadata": {},
     "output_type": "execute_result"
    },
    {
     "data": {
      "image/png": "[encoded data removed]",
      "text/plain": [
       "<Figure size 432x288 with 1 Axes>"
      ]
     },
     "metadata": {},
     "output_type": "display_data"
    }
   ],
   "source": [
    "# import matplotlib.pyplot as plt\n",
    "points = np.array([[-1,-1],[-1,0],[-1,1],[0,-1],[0,0],[0,1],[1,-1],[1,0],[1,1]])\n",
    "p = np.array([-.5,0])\n",
    "\n",
    "plt.plot(points[:,0], points[:,1], \"ob\") # blue\n",
    "plt.plot(p[0],p[1],\"or\") # red\n",
    "\n",
    "# 设置图像范围\n",
    "plt.axis([-1.5,1.5,-1.5, 1.5])"
   ]
  },
  {
   "cell_type": "code",
   "execution_count": 70,
   "metadata": {},
   "outputs": [
    {
     "name": "stdout",
     "output_type": "stream",
     "text": [
      "p点与序列中的点的距离: [1.11803399 0.5        1.11803399 1.11803399 0.5        1.11803399\n",
      " 1.80277564 1.5        1.80277564]\n"
     ]
    }
   ],
   "source": [
    "points = np.array([[-1,-1],[-1,0],[-1,1],[0,-1],[0,0],[0,1],[1,-1],[1,0],[1,1]])\n",
    "p = np.array([-.5,0])\n",
    "\n",
    "distances = np.zeros(points.shape[0])\n",
    "\n",
    "for i in range(len(distances)):\n",
    "    distances[i] = distance(points[i],p)\n",
    "\n",
    "print(\"p点与序列中的点的距离:\",distances)"
   ]
  },
  {
   "cell_type": "markdown",
   "metadata": {},
   "source": [
    "用于排序的一个函数: \n",
    "\n",
    "np.argsort():"
   ]
  },
  {
   "cell_type": "code",
   "execution_count": 71,
   "metadata": {},
   "outputs": [
    {
     "data": {
      "text/plain": [
       "array([1, 4, 0, 2, 3, 5, 7, 6, 8], dtype=int64)"
      ]
     },
     "execution_count": 71,
     "metadata": {},
     "output_type": "execute_result"
    }
   ],
   "source": [
    "np.argsort(distances)"
   ]
  },
  {
   "cell_type": "code",
   "execution_count": 72,
   "metadata": {},
   "outputs": [
    {
     "data": {
      "text/plain": [
       "array([0.5       , 0.5       , 1.11803399, 1.11803399, 1.11803399,\n",
       "       1.11803399, 1.5       , 1.80277564, 1.80277564])"
      ]
     },
     "execution_count": 72,
     "metadata": {},
     "output_type": "execute_result"
    }
   ],
   "source": [
    "# 索引对象\n",
    "ind = np.argsort(distances)\n",
    "distances[ind]"
   ]
  },
  {
   "cell_type": "code",
   "execution_count": 73,
   "metadata": {},
   "outputs": [
    {
     "data": {
      "text/plain": [
       "array([0.5       , 0.5       , 1.11803399])"
      ]
     },
     "execution_count": 73,
     "metadata": {},
     "output_type": "execute_result"
    }
   ],
   "source": [
    "distances[ind[:3]]"
   ]
  },
  {
   "cell_type": "code",
   "execution_count": 74,
   "metadata": {
    "scrolled": false
   },
   "outputs": [
    {
     "name": "stdout",
     "output_type": "stream",
     "text": [
      "最近的3个邻居的索引:\n",
      "[1 4 0]\n",
      "最近的3个邻居的坐标:\n",
      "[[-1  0]\n",
      " [ 0  0]\n",
      " [-1 -1]]\n"
     ]
    },
    {
     "data": {
      "text/plain": [
       "[-1.5, 1.5, -1.5, 1.5]"
      ]
     },
     "execution_count": 74,
     "metadata": {},
     "output_type": "execute_result"
    },
    {
     "data": {
      "image/png": "[encoded data removed]",
      "text/plain": [
       "<Figure size 432x288 with 1 Axes>"
      ]
     },
     "metadata": {},
     "output_type": "display_data"
    }
   ],
   "source": [
    "# 定义找出k个邻居的函数\n",
    "def find_nn(p,points,k):\n",
    "    \"\"\"返回集合points里距离p点最近的k个点的索引值\"\"\"\n",
    "    distances = np.zeros(points.shape[0])\n",
    "    \n",
    "    for i in range(len(distances)):\n",
    "        distances[i] = distance(points[i],p)\n",
    "    # 索引对象\n",
    "    ind = np.argsort(distances)\n",
    "    return ind[:k]\n",
    "\n",
    "#计算最近k个邻居\n",
    "k = 3\n",
    "points = np.array([[-1,-1],[-1,0],[-1,1],[0,-1],[0,0],[0,1],[1,-1],[1,0],[1,1]])\n",
    "p = np.array([-.5,0])\n",
    "\n",
    "ind = find_nn(p,points,k)\n",
    "\n",
    "print(\"最近的{}个邻居的索引:\\n{}\".format(len(ind),ind))\n",
    "print(\"最近的{}个邻居的坐标:\\n{}\".format(len(ind),points[ind]))\n",
    "\n",
    "plt.plot(points[:,0], points[:,1], \"ob\") # blue\n",
    "plt.plot(p[0],p[1],\"or\") # red\n",
    "\n",
    "# 设置图像范围\n",
    "plt.axis([-1.5,1.5,-1.5, 1.5])"
   ]
  },
  {
   "cell_type": "markdown",
   "metadata": {},
   "source": [
    "## 5. 找出新的数据点的类别"
   ]
  },
  {
   "cell_type": "code",
   "execution_count": 103,
   "metadata": {},
   "outputs": [
    {
     "name": "stdout",
     "output_type": "stream",
     "text": [
      "所属类别: 1\n"
     ]
    },
    {
     "data": {
      "text/plain": [
       "[<matplotlib.lines.Line2D at 0x26690c69b70>]"
      ]
     },
     "execution_count": 103,
     "metadata": {},
     "output_type": "execute_result"
    },
    {
     "data": {
      "image/png": "[encoded data removed]",
      "text/plain": [
       "<Figure size 432x288 with 1 Axes>"
      ]
     },
     "metadata": {},
     "output_type": "display_data"
    }
   ],
   "source": [
    "def knn_predict(p, points, outcomes, k=3):\n",
    "    \"\"\"返回一个新的数据点的类别.\"\"\"\n",
    "    ind = find_nn(p, points, k)\n",
    "    #print(ind)\n",
    "    return majority_vote(outcomes[ind])\n",
    "\n",
    "outcomes = np.array([0,0,0,0,1,1,1,1,1])\n",
    "p = np.array([0.1,0])\n",
    "points = np.array([[-1,-1],[-1,0],[-1,1],[0,-1],[0,0],[0,1],[1,-1],[1,0],[1,1]])\n",
    "\n",
    "res = knn_predict(p,points,outcomes, k=3)\n",
    "print(\"所属类别:\",res)\n",
    "\n",
    "# 作图\n",
    "plt.plot(points[:,0],points[:,1], \"bo\")\n",
    "plt.plot(points[:4,0],points[:4,1], \"go\")\n",
    "plt.plot(p[0], p[1], \"ro\")"
   ]
  },
  {
   "cell_type": "markdown",
   "metadata": {},
   "source": [
    "## 6 产生数据"
   ]
  },
  {
   "cell_type": "code",
   "execution_count": 76,
   "metadata": {},
   "outputs": [
    {
     "data": {
      "text/plain": [
       "array([[ 0.07075087,  0.48857399],\n",
       "       [ 1.27931978, -1.10570306],\n",
       "       [ 0.21918449, -1.21770264],\n",
       "       [-1.70641566, -0.60260823],\n",
       "       [ 0.10590276,  1.56487915]])"
      ]
     },
     "execution_count": 76,
     "metadata": {},
     "output_type": "execute_result"
    }
   ],
   "source": [
    "rs1 = ss.norm(0,1).rvs((5,2))\n",
    "rs1"
   ]
  },
  {
   "cell_type": "code",
   "execution_count": 77,
   "metadata": {},
   "outputs": [
    {
     "data": {
      "text/plain": [
       "array([[-0.06162132,  0.89999316],\n",
       "       [-0.20129355,  1.08433175],\n",
       "       [ 1.44656625,  0.85361667],\n",
       "       [ 2.72951867,  0.39449299],\n",
       "       [-0.08581978,  1.31509141]])"
      ]
     },
     "execution_count": 77,
     "metadata": {},
     "output_type": "execute_result"
    }
   ],
   "source": [
    "rs2 = ss.norm(1,1).rvs((5,2))\n",
    "rs2"
   ]
  },
  {
   "cell_type": "code",
   "execution_count": 78,
   "metadata": {},
   "outputs": [
    {
     "data": {
      "text/plain": [
       "array([[ 0.07075087,  0.48857399],\n",
       "       [ 1.27931978, -1.10570306],\n",
       "       [ 0.21918449, -1.21770264],\n",
       "       [-1.70641566, -0.60260823],\n",
       "       [ 0.10590276,  1.56487915],\n",
       "       [-0.06162132,  0.89999316],\n",
       "       [-0.20129355,  1.08433175],\n",
       "       [ 1.44656625,  0.85361667],\n",
       "       [ 2.72951867,  0.39449299],\n",
       "       [-0.08581978,  1.31509141]])"
      ]
     },
     "execution_count": 78,
     "metadata": {},
     "output_type": "execute_result"
    }
   ],
   "source": [
    "np.concatenate((rs1,rs2), axis=0)"
   ]
  },
  {
   "cell_type": "code",
   "execution_count": 79,
   "metadata": {},
   "outputs": [
    {
     "data": {
      "text/plain": [
       "(array([[ 0.54782663, -0.52283026],\n",
       "        [-1.093784  , -0.50211576],\n",
       "        [ 2.24363156, -0.86468743],\n",
       "        [-0.162719  , -0.04883179],\n",
       "        [-1.79348491, -1.83012451],\n",
       "        [-0.23458602, -1.36366146],\n",
       "        [ 0.50844626, -1.20407456],\n",
       "        [ 0.93492952, -0.68059614],\n",
       "        [ 0.04545778, -1.90056454],\n",
       "        [-1.06901008,  0.62817339],\n",
       "        [-2.31996647,  0.12196829],\n",
       "        [ 1.80457053, -1.06807118],\n",
       "        [ 0.42006639,  0.5437646 ],\n",
       "        [ 0.4304611 , -0.34131324],\n",
       "        [-0.3966015 , -1.34884203],\n",
       "        [ 0.05249739,  1.29875666],\n",
       "        [ 0.14344097, -0.45781215],\n",
       "        [-0.16746274, -0.26257346],\n",
       "        [ 1.4941374 , -2.88997401],\n",
       "        [ 0.72097128,  0.21188628],\n",
       "        [-0.64035348, -0.47070245],\n",
       "        [-1.30178609, -1.90405988],\n",
       "        [-1.0229775 ,  1.08054536],\n",
       "        [ 0.41120975, -1.21868701],\n",
       "        [-0.4036689 ,  0.72406321],\n",
       "        [-0.03222444,  0.14076011],\n",
       "        [ 1.35258897,  0.4584292 ],\n",
       "        [ 0.53872007, -0.67948092],\n",
       "        [-0.70159533,  0.17689565],\n",
       "        [-0.93795385, -0.12795089],\n",
       "        [ 2.02727493, -1.49332208],\n",
       "        [ 0.38482943, -0.60794515],\n",
       "        [ 0.94747832, -1.00338332],\n",
       "        [ 0.27712815,  0.00423805],\n",
       "        [ 0.23013837,  0.88581107],\n",
       "        [-0.06888073, -3.01710138],\n",
       "        [ 0.51561506,  0.6657495 ],\n",
       "        [ 1.46508897, -0.66210523],\n",
       "        [-0.18207356, -0.28197   ],\n",
       "        [ 1.27560156, -0.90498592],\n",
       "        [ 0.51006062,  0.20414449],\n",
       "        [-0.68650424, -1.87563391],\n",
       "        [-0.36315946, -0.62022519],\n",
       "        [ 0.23308552, -0.52441994],\n",
       "        [ 0.79192896, -0.71798731],\n",
       "        [-0.52968627,  0.65799875],\n",
       "        [ 0.10893738, -0.25869913],\n",
       "        [-0.50068825, -0.39109816],\n",
       "        [ 1.09866659,  0.07299124],\n",
       "        [ 0.9348577 , -1.23759774],\n",
       "        [ 1.29319716, -0.16210591],\n",
       "        [ 1.62374454,  2.14454891],\n",
       "        [ 0.84717962,  1.6606131 ],\n",
       "        [ 0.29763694,  3.01252403],\n",
       "        [ 1.64141488,  0.64420875],\n",
       "        [ 2.87384544,  0.22307649],\n",
       "        [ 2.04741259,  1.33024041],\n",
       "        [ 2.02830586,  2.41167333],\n",
       "        [ 0.86983168,  0.8735381 ],\n",
       "        [-0.1743952 ,  1.51605018],\n",
       "        [ 1.74546673,  2.03335727],\n",
       "        [ 2.91305702,  2.35595946],\n",
       "        [ 0.74042289,  1.10439164],\n",
       "        [ 0.97251942,  0.87642519],\n",
       "        [ 1.52805518,  1.87109593],\n",
       "        [ 1.05970708,  2.25037074],\n",
       "        [ 1.46113416,  1.10425288],\n",
       "        [ 2.22844562,  1.11375593],\n",
       "        [ 0.35473502,  0.6678246 ],\n",
       "        [ 2.17917192, -0.34202563],\n",
       "        [ 0.56318972,  0.80669224],\n",
       "        [ 1.23378714,  2.35474292],\n",
       "        [ 2.05837834,  1.27539656],\n",
       "        [ 1.48673533,  1.6980123 ],\n",
       "        [ 1.29270964, -0.09182488],\n",
       "        [ 0.32508628,  0.77180912],\n",
       "        [ 2.5228606 ,  3.23295541],\n",
       "        [-1.57098095,  1.34167001],\n",
       "        [ 0.89150261,  1.75524809],\n",
       "        [ 0.36739957,  0.87084441],\n",
       "        [ 1.14583782,  1.70222659],\n",
       "        [ 1.0535119 ,  0.00538994],\n",
       "        [ 1.91712671,  2.47443486],\n",
       "        [ 2.49832516,  1.89796964],\n",
       "        [ 2.38452178,  1.09938552],\n",
       "        [ 0.62869572,  1.3169348 ],\n",
       "        [ 0.73447723,  0.43724572],\n",
       "        [ 1.95992418,  1.18205949],\n",
       "        [-0.63254897,  0.30945371],\n",
       "        [-0.11485528,  1.50523744],\n",
       "        [ 0.76970827,  0.19782714],\n",
       "        [ 0.550714  ,  0.46913537],\n",
       "        [ 0.85861789,  0.92901697],\n",
       "        [ 1.56552947,  1.10898258],\n",
       "        [ 1.09417031,  0.57646596],\n",
       "        [ 0.53114467,  0.75154557],\n",
       "        [ 0.66572815, -0.0034879 ],\n",
       "        [ 1.25368834,  2.28185044],\n",
       "        [ 0.29367214,  0.89922069],\n",
       "        [ 0.09372321,  1.28719097]]),\n",
       " array([0, 0, 0, 0, 0, 0, 0, 0, 0, 0, 0, 0, 0, 0, 0, 0, 0, 0, 0, 0, 0, 0,\n",
       "        0, 0, 0, 0, 0, 0, 0, 0, 0, 0, 0, 0, 0, 0, 0, 0, 0, 0, 0, 0, 0, 0,\n",
       "        0, 0, 0, 0, 0, 0, 1, 1, 1, 1, 1, 1, 1, 1, 1, 1, 1, 1, 1, 1, 1, 1,\n",
       "        1, 1, 1, 1, 1, 1, 1, 1, 1, 1, 1, 1, 1, 1, 1, 1, 1, 1, 1, 1, 1, 1,\n",
       "        1, 1, 1, 1, 1, 1, 1, 1, 1, 1, 1, 1]))"
      ]
     },
     "execution_count": 79,
     "metadata": {},
     "output_type": "execute_result"
    }
   ],
   "source": [
    "#生成数据: 特征(点), 标签\n",
    "def generate_synth_data(n=50):\n",
    "    points = np.concatenate((ss.norm(0,1).rvs((n,2)), ss.norm(1,1).rvs((n,2))  ), axis=0)\n",
    "    outcomes = np.concatenate( (np.repeat(0,n),np.repeat(1,n)))\n",
    "    return (points, outcomes)\n",
    "\n",
    "generate_synth_data(n=50)                              \n",
    "    "
   ]
  },
  {
   "cell_type": "code",
   "execution_count": 80,
   "metadata": {},
   "outputs": [
    {
     "data": {
      "image/png": "[encoded data removed]",
      "text/plain": [
       "<Figure size 432x288 with 1 Axes>"
      ]
     },
     "metadata": {},
     "output_type": "display_data"
    }
   ],
   "source": [
    "points, outcomes = generate_synth_data(n=50) \n",
    "\n",
    "plt.figure()\n",
    "n = 50\n",
    "plt.plot(points[:n,0],points[:n,1], \"or\")\n",
    "plt.plot(points[n:,0],points[n:,1], \"ob\")\n",
    "plt.xlabel(\"Height\")\n",
    "plt.ylabel(\"Weight\")\n",
    "plt.savefig(\"bivar.pdf\")"
   ]
  },
  {
   "cell_type": "markdown",
   "metadata": {},
   "source": [
    "## 6. 制作格点(grid)"
   ]
  },
  {
   "cell_type": "code",
   "execution_count": 104,
   "metadata": {},
   "outputs": [],
   "source": [
    "def make_pred_grid(predictors, outcomes, limits, h, k):\n",
    "    (x_min, x_max, y_min, y_max) = limits\n",
    "    xs = np.arange(x_min, x_max, h) # h : 步长\n",
    "    ys = np.arange(y_min, y_max, h)\n",
    "    xx, yy = np.meshgrid(xs,ys) \n",
    "    \n",
    "    pred_grid = np.zeros(xx.shape,dtype=int)\n",
    "    \n",
    "    for i, x in enumerate(xs):\n",
    "        for j, y in enumerate(ys):\n",
    "            p = np.array([x,y])\n",
    "            pred_grid[j,i] = knn_predict(p, predictors,outcomes, k)\n",
    "    return (xx,yy, pred_grid)\n",
    "            \n",
    "    "
   ]
  },
  {
   "cell_type": "code",
   "execution_count": 111,
   "metadata": {},
   "outputs": [
    {
     "data": {
      "image/png": "[encoded data removed]",
      "text/plain": [
       "<Figure size 720x720 with 1 Axes>"
      ]
     },
     "metadata": {},
     "output_type": "display_data"
    }
   ],
   "source": [
    "# 对格点作图\n",
    "def plot_pred_grid (xx, yy, prediction_grid, filename):\n",
    "    \"\"\" Plot KNN predictions for every point on the grid.\"\"\"\n",
    "    from matplotlib.colors import ListedColormap\n",
    "    background_colormap = ListedColormap ([\"hotpink\", \"yellowgreen\",\"lightskyblue\"])\n",
    "    observation_colormap = ListedColormap ([\"red\",\"blue\",\"green\"])\n",
    "    plt.figure(figsize =(10,10))\n",
    "    plt.pcolormesh(xx, yy, prediction_grid, cmap = background_colormap, alpha = 0.5)\n",
    "    plt.scatter(predictors[:,0], predictors [:,1], c = outcomes, cmap = observation_colormap, s = 50)\n",
    "    plt.xlabel(\"x1\"); plt.ylabel(\"x2\")\n",
    "    plt.xticks(()); plt.yticks(())\n",
    "    plt.xlim (np.min(xx), np.max(xx))\n",
    "    plt.ylim (np.min(yy), np.max(yy))\n",
    "    plt.savefig(filename)\n",
    "\n",
    "predictors, outcomes = generate_synth_data(n=50) \n",
    "\n",
    "k = 30 ;  filename = \"knn_5.pdf\"\n",
    "limits = (-3,4, -3, 4); h = 0.1\n",
    "\n",
    "(xx,yy, pred_grid) = make_pred_grid(predictors, outcomes, limits, h, k)\n",
    "plot_pred_grid (xx, yy, pred_grid, filename)"
   ]
  },
  {
   "cell_type": "markdown",
   "metadata": {},
   "source": [
    "## 7. Scikit-Learn的使用"
   ]
  },
  {
   "cell_type": "code",
   "execution_count": 112,
   "metadata": {
    "scrolled": true
   },
   "outputs": [
    {
     "data": {
      "text/html": [
       "<div>\n",
       "<style scoped>\n",
       "    .dataframe tbody tr th:only-of-type {\n",
       "        vertical-align: middle;\n",
       "    }\n",
       "\n",
       "    .dataframe tbody tr th {\n",
       "        vertical-align: top;\n",
       "    }\n",
       "\n",
       "    .dataframe thead th {\n",
       "        text-align: right;\n",
       "    }\n",
       "</style>\n",
       "<table border=\"1\" class=\"dataframe\">\n",
       "  <thead>\n",
       "    <tr style=\"text-align: right;\">\n",
       "      <th></th>\n",
       "      <th>0</th>\n",
       "    </tr>\n",
       "  </thead>\n",
       "  <tbody>\n",
       "    <tr>\n",
       "      <th>0</th>\n",
       "      <td>0</td>\n",
       "    </tr>\n",
       "    <tr>\n",
       "      <th>1</th>\n",
       "      <td>1</td>\n",
       "    </tr>\n",
       "    <tr>\n",
       "      <th>2</th>\n",
       "      <td>2</td>\n",
       "    </tr>\n",
       "    <tr>\n",
       "      <th>3</th>\n",
       "      <td>3</td>\n",
       "    </tr>\n",
       "  </tbody>\n",
       "</table>\n",
       "</div>"
      ],
      "text/plain": [
       "   0\n",
       "0  0\n",
       "1  1\n",
       "2  2\n",
       "3  3"
      ]
     },
     "execution_count": 112,
     "metadata": {},
     "output_type": "execute_result"
    }
   ],
   "source": [
    "import pandas as pd\n",
    "\n",
    "\n",
    "\n",
    "# X_train, y_trian\n",
    "X_train = pd.DataFrame([ [0],[1],[2],[3] ])\n",
    "y_train = [0,0,1,1]\n",
    "\n",
    "X_train"
   ]
  },
  {
   "cell_type": "code",
   "execution_count": 113,
   "metadata": {},
   "outputs": [
    {
     "data": {
      "text/plain": [
       "[0, 0, 1, 1]"
      ]
     },
     "execution_count": 113,
     "metadata": {},
     "output_type": "execute_result"
    }
   ],
   "source": [
    "y_train"
   ]
  },
  {
   "cell_type": "code",
   "execution_count": 115,
   "metadata": {},
   "outputs": [
    {
     "data": {
      "text/plain": [
       "KNeighborsClassifier(algorithm='auto', leaf_size=30, metric='minkowski',\n",
       "           metric_params=None, n_jobs=1, n_neighbors=1, p=2,\n",
       "           weights='uniform')"
      ]
     },
     "execution_count": 115,
     "metadata": {},
     "output_type": "execute_result"
    }
   ],
   "source": [
    "# 导入kNN分类器\n",
    "from sklearn.neighbors import KNeighborsClassifier\n",
    "\n",
    "# 训练模型\n",
    "model = KNeighborsClassifier(n_neighbors=1)\n",
    "# 拟合出模型\n",
    "model.fit(X_train, y_train)"
   ]
  },
  {
   "cell_type": "code",
   "execution_count": 123,
   "metadata": {},
   "outputs": [
    {
     "data": {
      "text/plain": [
       "array([0, 1, 1])"
      ]
     },
     "execution_count": 123,
     "metadata": {},
     "output_type": "execute_result"
    }
   ],
   "source": [
    "# 预测\n",
    "X_test = [[1.2],[2.3],[4.5]]\n",
    "y_test = model.predict(X_test)\n",
    "y_test"
   ]
  },
  {
   "cell_type": "code",
   "execution_count": 120,
   "metadata": {},
   "outputs": [
    {
     "data": {
      "text/plain": [
       "array([[1., 0.],\n",
       "       [0., 1.]])"
      ]
     },
     "execution_count": 120,
     "metadata": {},
     "output_type": "execute_result"
    }
   ],
   "source": [
    "model.predict_proba([[1.2],[2.3]])"
   ]
  },
  {
   "cell_type": "code",
   "execution_count": 121,
   "metadata": {},
   "outputs": [
    {
     "data": {
      "text/plain": [
       "array([0, 1])"
      ]
     },
     "execution_count": 121,
     "metadata": {},
     "output_type": "execute_result"
    }
   ],
   "source": [
    "model.predict([[1.2],[2.3]])"
   ]
  }
 ],
 "metadata": {
  "kernelspec": {
   "display_name": "Python 3",
   "language": "python",
   "name": "python3"
  },
  "language_info": {
   "codemirror_mode": {
    "name": "ipython",
    "version": 3
   },
   "file_extension": ".py",
   "mimetype": "text/x-python",
   "name": "python",
   "nbconvert_exporter": "python",
   "pygments_lexer": "ipython3",
   "version": "3.6.5"
  }
 },
 "nbformat": 4,
 "nbformat_minor": 2
}
