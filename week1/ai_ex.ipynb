{
 "cells": [
  {
   "cell_type": "markdown",
   "metadata": {},
   "source": [
    "# 1. kNN分类算法"
   ]
  },
  {
   "cell_type": "markdown",
   "metadata": {},
   "source": [
    "## 1.1 数据集\n",
    "\n",
    "数据集的散点图,举例."
   ]
  },
  {
   "cell_type": "code",
   "execution_count": 3,
   "metadata": {},
   "outputs": [
    {
     "name": "stdout",
     "output_type": "stream",
     "text": [
      "X.shape:(26, 2)\n"
     ]
    },
    {
     "data": {
      "image/png": "[encoded data removed]",
      "text/plain": [
       "<Figure size 432x288 with 1 Axes>"
      ]
     },
     "metadata": {},
     "output_type": "display_data"
    }
   ],
   "source": [
    "import mglearn\n",
    "import matplotlib.pyplot as plt\n",
    "\n",
    "# generate dataset\n",
    "X,y = mglearn.datasets.make_forge()\n",
    "# X是一个二维的np数组\n",
    "# y是一个一维的np数组\n",
    "\n",
    "# plot dataset\n",
    "mglearn.discrete_scatter(X[:,0],X[:,1],y)\n",
    "plt.legend([\"Class 0\", \"Class 1\"])\n",
    "plt.xlabel(\"X1\")\n",
    "plt.ylabel(\"X2\")\n",
    "print(\"X.shape:{}\".format(X.shape))\n",
    "plt.show()\n"
   ]
  },
  {
   "cell_type": "markdown",
   "metadata": {},
   "source": [
    "特征数目: 2\n",
    "样本数目: 26\n",
    "类别: 2"
   ]
  },
  {
   "cell_type": "markdown",
   "metadata": {},
   "source": [
    "## 1.2 求N维空间中两点之间的距离\n"
   ]
  },
  {
   "cell_type": "code",
   "execution_count": 4,
   "metadata": {},
   "outputs": [
    {
     "name": "stdout",
     "output_type": "stream",
     "text": [
      "3.0\n",
      "5.744562646538029\n"
     ]
    }
   ],
   "source": [
    "import numpy as np\n",
    "\n",
    "def distance(p1, p2):\n",
    "    \"\"\"返回两点间的距离(欧几里得距离, Euclidean distance)\n",
    "       这个定义具有普遍性,可用于计算N维空间中的两点的距离.\n",
    "    \"\"\"\n",
    "    return np.sqrt(np.sum(np.power(p1 - p2, 2)))\n",
    "\n",
    "a = np.array([4,0])\n",
    "c = np.array([4,3])\n",
    "\n",
    "print(distance(a,c))\n",
    "\n",
    "x = np.array([0,0,0,0])\n",
    "y = np.array([4,3,2,2])\n",
    "\n",
    "print(distance(x,y))\n"
   ]
  },
  {
   "cell_type": "markdown",
   "metadata": {},
   "source": [
    "## 1.3. 投票函数"
   ]
  },
  {
   "cell_type": "code",
   "execution_count": 5,
   "metadata": {},
   "outputs": [
    {
     "data": {
      "text/plain": [
       "{1: 2, 2: 5, 3: 5, 4: 1}"
      ]
     },
     "execution_count": 5,
     "metadata": {},
     "output_type": "execute_result"
    }
   ],
   "source": [
    "# 类似于求词频的函数count_words(text), 定义如下函数count_votes(votes).\n",
    "\n",
    "def count_votes(votes):\n",
    "    count_dict ={}\n",
    "    for vote in votes:\n",
    "        # known word\n",
    "        if vote in count_dict:\n",
    "            count_dict[vote] += 1\n",
    "        else:\n",
    "            count_dict[vote] = 1\n",
    "    return count_dict\n",
    "\n",
    "# 定义一个序列\n",
    "votes = [1,2,1,3,4,2,2,2,3,3,2,3,3]\n",
    "\n",
    "# 调用函数,得到字典\n",
    "vote_count = count_votes(votes)\n",
    "vote_count"
   ]
  },
  {
   "cell_type": "code",
   "execution_count": 6,
   "metadata": {},
   "outputs": [
    {
     "name": "stdout",
     "output_type": "stream",
     "text": [
      "1 2\n",
      "2 5\n",
      "3 5\n",
      "4 1\n"
     ]
    }
   ],
   "source": [
    "for vote, counts in vote_count.items():\n",
    "    print(vote, counts)"
   ]
  },
  {
   "cell_type": "markdown",
   "metadata": {},
   "source": [
    "一个序列中可能有多个最高频者(胜利者). 所以我们用列表来保存它们,命名为winners."
   ]
  },
  {
   "cell_type": "markdown",
   "metadata": {},
   "source": [
    "我们从众多的胜利者中选出一个.我们随机选择一个. 引用random模块,如下:"
   ]
  },
  {
   "cell_type": "code",
   "execution_count": 7,
   "metadata": {},
   "outputs": [
    {
     "data": {
      "text/plain": [
       "3"
      ]
     },
     "execution_count": 7,
     "metadata": {},
     "output_type": "execute_result"
    }
   ],
   "source": [
    "import random \n",
    "\n",
    "def majority_vote(votes):\n",
    "    count_dict ={}\n",
    "    \n",
    "    for vote in votes:\n",
    "        # 已见过的选项(vote)\n",
    "        if vote in count_dict:\n",
    "            count_dict[vote] += 1\n",
    "        # 未见过的选项\n",
    "        else:\n",
    "            count_dict[vote] = 1\n",
    "            \n",
    "    winners = []       \n",
    "    max_count = max(count_dict.values())\n",
    "    for vote, counts in count_dict.items():\n",
    "        if counts == max_count:\n",
    "            winners.append(vote)\n",
    "    return random.choice(winners)\n",
    "\n",
    "majority_vote(votes)"
   ]
  },
  {
   "cell_type": "markdown",
   "metadata": {},
   "source": [
    "如何找到一个数组的模式?  \n",
    "\n",
    "scipy.stats.mode()可直接实现之. \n",
    "majority_vote(votes)更简洁版本:"
   ]
  },
  {
   "cell_type": "code",
   "execution_count": 8,
   "metadata": {},
   "outputs": [
    {
     "data": {
      "text/plain": [
       "array([1.])"
      ]
     },
     "execution_count": 8,
     "metadata": {},
     "output_type": "execute_result"
    }
   ],
   "source": [
    "import numpy as np\n",
    "import scipy.stats as ss # 导入scipy.stats(约定)\n",
    "\n",
    "def majority_vote_simple(votes):\n",
    "    \"\"\"\n",
    "    返回序列中的最高频元素.\n",
    "    输入:NumPy数组\n",
    "    \"\"\"\n",
    "    mode, count = ss.mstats.mode(votes)\n",
    "    return mode\n",
    "\n",
    "votes = [1,2,1,1,2,3,1,5,6,3]\n",
    "votes = np.array(votes)\n",
    "majority_vote_simple(votes)"
   ]
  },
  {
   "cell_type": "code",
   "execution_count": 9,
   "metadata": {},
   "outputs": [
    {
     "data": {
      "text/plain": [
       "2"
      ]
     },
     "execution_count": 9,
     "metadata": {},
     "output_type": "execute_result"
    }
   ],
   "source": [
    "random.choice([2])"
   ]
  },
  {
   "cell_type": "markdown",
   "metadata": {},
   "source": [
    "## 4. 如何找到最近邻居?"
   ]
  },
  {
   "cell_type": "code",
   "execution_count": 10,
   "metadata": {},
   "outputs": [
    {
     "data": {
      "text/plain": [
       "[-1.5, 1.5, -1.5, 1.5]"
      ]
     },
     "execution_count": 10,
     "metadata": {},
     "output_type": "execute_result"
    },
    {
     "data": {
      "image/png": "[encoded data removed]",
      "text/plain": [
       "<Figure size 432x288 with 1 Axes>"
      ]
     },
     "metadata": {},
     "output_type": "display_data"
    }
   ],
   "source": [
    "# 先举例:可视化所有的点\n",
    "import matplotlib.pyplot as plt\n",
    "\n",
    "points = np.array([[-1,-1],[-1,0],[-1,1],[0,-1],[0,0],[0,1],[1,-1],[1,0],[1,1]]) \n",
    "p = np.array([-.5, 0])\n",
    "\n",
    "plt.plot(points[:,0], points[:,1], \"ob\");\n",
    "plt.plot(p[0],p[1], \"or\")\n",
    "\n",
    "# 设置作图范围\n",
    "plt.axis([-1.5,1.5,-1.5,1.5])"
   ]
  },
  {
   "cell_type": "code",
   "execution_count": 11,
   "metadata": {},
   "outputs": [
    {
     "name": "stdout",
     "output_type": "stream",
     "text": [
      "p点与序列中的点的距离: [1.11803399 0.5        1.11803399 1.11803399 0.5        1.11803399\n",
      " 1.80277564 1.5        1.80277564]\n"
     ]
    },
    {
     "data": {
      "text/plain": [
       "[-1.5, 1.5, -1.5, 1.5]"
      ]
     },
     "execution_count": 11,
     "metadata": {},
     "output_type": "execute_result"
    },
    {
     "data": {
      "image/png": "[encoded data removed]",
      "text/plain": [
       "<Figure size 432x288 with 1 Axes>"
      ]
     },
     "metadata": {},
     "output_type": "display_data"
    }
   ],
   "source": [
    "\n",
    "import matplotlib.pyplot as plt\n",
    "\n",
    "points = np.array([[-1,-1],[-1,0],[-1,1],[0,-1],[0,0],[0,1],[1,-1],[1,0],[1,1]]) \n",
    "p = np.array([-.5, 0])\n",
    "\n",
    "distances = np.zeros(points.shape[0])\n",
    "for i in range(len(distances)):\n",
    "    distances[i] = distance(points[i],p)\n",
    "\n",
    "# 打印出points中的点与p点的距离.\n",
    "print(\"p点与序列中的点的距离:\",distances)\n",
    "\n",
    "plt.plot(points[:,0], points[:,1], \"ob\");\n",
    "plt.plot(p[0],p[1], \"or\")\n",
    "\n",
    "# 设置作图范围\n",
    "plt.axis([-1.5,1.5,-1.5,1.5])"
   ]
  },
  {
   "cell_type": "markdown",
   "metadata": {},
   "source": [
    "如何对这些距离按由小到大顺序做排序?  NumPy中有一个这样的函数argsort(). 它返回最小的k个值的index."
   ]
  },
  {
   "cell_type": "markdown",
   "metadata": {},
   "source": [
    "现在,我们可以写出求k个最近邻居的函数: find_nn(p,points,k)"
   ]
  },
  {
   "cell_type": "code",
   "execution_count": 12,
   "metadata": {},
   "outputs": [
    {
     "name": "stdout",
     "output_type": "stream",
     "text": [
      "最近的3个点的索引:\n",
      "[1 4 0]\n",
      "最近的3个点的坐标:\n",
      "[[-1  0]\n",
      " [ 0  0]\n",
      " [-1 -1]]\n"
     ]
    },
    {
     "data": {
      "text/plain": [
       "[<matplotlib.lines.Line2D at 0x17acb99ff60>]"
      ]
     },
     "execution_count": 12,
     "metadata": {},
     "output_type": "execute_result"
    },
    {
     "data": {
      "image/png": "[encoded data removed]",
      "text/plain": [
       "<Figure size 432x288 with 1 Axes>"
      ]
     },
     "metadata": {},
     "output_type": "display_data"
    }
   ],
   "source": [
    "def find_nn(p,points, k=3):\n",
    "    \"\"\"\n",
    "    返回(points集合中)距离p点最近的k个点的索引值.\n",
    "    \"\"\"\n",
    "    distances = np.zeros(points.shape[0])\n",
    "    for i in range(len(distances)):\n",
    "        distances[i] = distance(points[i],p)\n",
    "    ind = np.argsort(distances)\n",
    "    # 计算出距离值(由小到大排序):\n",
    "    #return ind[0:k]\n",
    "    return ind[:k]  \n",
    "\n",
    "k = 3\n",
    "points = np.array([[-1,-1],[-1,0],[-1,1],[0,-1],[0,0],[0,1],[1,-1],[1,0],[1,1]]) \n",
    "p = np.array([-.5, 0])\n",
    "ind = find_nn(p,points,k)\n",
    "print(\"最近的{}个点的索引:\\n{}\".format(len(ind),ind))\n",
    "print(\"最近的{}个点的坐标:\\n{}\".format(len(ind),points[ind]))\n",
    "\n",
    "#作图\n",
    "plt.plot(points[:,0],points[:,1],\"bo\")\n",
    "plt.plot(p[0],p[1],\"ro\")"
   ]
  },
  {
   "cell_type": "markdown",
   "metadata": {},
   "source": [
    "## 4. 预言一个新的点的类别(class)"
   ]
  },
  {
   "cell_type": "markdown",
   "metadata": {},
   "source": [
    "写一个函数实现:预言一个新点的类别. \n",
    "    \n",
    "    找出距离p点最近的k个邻居的索引值;\n",
    "    选出这些邻居中落在各类的次数\n",
    "    "
   ]
  },
  {
   "cell_type": "code",
   "execution_count": 13,
   "metadata": {},
   "outputs": [
    {
     "name": "stdout",
     "output_type": "stream",
     "text": [
      "所属类别: 1\n"
     ]
    },
    {
     "data": {
      "text/plain": [
       "[<matplotlib.lines.Line2D at 0x17acb9ef080>]"
      ]
     },
     "execution_count": 13,
     "metadata": {},
     "output_type": "execute_result"
    },
    {
     "data": {
      "image/png": "[encoded data removed]",
      "text/plain": [
       "<Figure size 432x288 with 1 Axes>"
      ]
     },
     "metadata": {},
     "output_type": "display_data"
    }
   ],
   "source": [
    "# outcomes为已知点points的类别\n",
    "def knn_predict(p, points, outcomes, k=3):\n",
    "    \"\"\"返回新点p的类别.\"\"\"\n",
    "    ind = find_nn(p, points, k)\n",
    "    #print(\"ind: \",ind)\n",
    "    return majority_vote(outcomes[ind])\n",
    "    \n",
    "outcomes = np.array([0,0,0,0,1,1,1,1,1])\n",
    "p = np.array([-.49,.5])\n",
    "points = np.array([[-1,-1],[-1,0],[-1,1],[0,-1],[0,0],[0,1],[1,-1],[1,0],[1,1]])\n",
    "res = knn_predict(p, points,outcomes,3)\n",
    "print(\"所属类别:\",res)\n",
    "\n",
    "#作图\n",
    "plt.plot(points[:,0],points[:,1],\"bo\")\n",
    "plt.plot(points[:4,0],points[:4,1], \"go\")\n",
    "plt.plot(p[0],p[1],\"ro\")"
   ]
  },
  {
   "cell_type": "markdown",
   "metadata": {},
   "source": [
    "## 5. 产生数据\n",
    "\n",
    "end points:\n",
    "bivariate:\n",
    "ipstats 模块\n"
   ]
  },
  {
   "cell_type": "code",
   "execution_count": 14,
   "metadata": {},
   "outputs": [
    {
     "data": {
      "text/plain": [
       "(array([[ 1.32596094e+00, -1.61942977e+00],\n",
       "        [ 9.92916420e-01, -8.19078704e-01],\n",
       "        [ 1.77170353e+00,  1.57982164e-01],\n",
       "        [ 6.59060181e-01, -6.29709411e-01],\n",
       "        [-4.46781310e-01,  8.88934673e-01],\n",
       "        [-1.23730531e+00,  4.57310183e-01],\n",
       "        [ 2.12212062e-01,  1.99974814e+00],\n",
       "        [-2.76736007e-01,  6.19152382e-01],\n",
       "        [ 1.32053844e-01, -1.33362267e+00],\n",
       "        [-3.96914746e-01, -1.06738922e+00],\n",
       "        [-8.25120247e-01, -7.90098187e-01],\n",
       "        [-1.83267954e+00,  6.28196780e-01],\n",
       "        [-1.45386645e+00,  1.11176276e+00],\n",
       "        [ 1.28789082e+00, -5.85893237e-01],\n",
       "        [ 3.66974186e-01, -6.85190355e-01],\n",
       "        [ 2.80506185e-01,  7.30302406e-01],\n",
       "        [-1.03603024e+00,  1.25973616e+00],\n",
       "        [-7.79735302e-01,  7.09803278e-01],\n",
       "        [-6.24987166e-01, -1.89735022e-01],\n",
       "        [ 5.58979584e-01, -7.02663319e-01],\n",
       "        [-2.20612030e+00, -6.68820273e-01],\n",
       "        [ 7.00985737e-01, -5.45807442e-01],\n",
       "        [-9.86677001e-01,  2.85269938e-01],\n",
       "        [ 1.16497934e-01,  6.03714602e-02],\n",
       "        [-2.20183995e+00,  1.45568193e+00],\n",
       "        [ 4.40590853e-01, -7.00896856e-01],\n",
       "        [ 1.26502237e+00, -1.09853124e-01],\n",
       "        [-7.57730504e-01, -1.07480929e+00],\n",
       "        [-3.27052954e-01, -1.17891683e-01],\n",
       "        [ 1.68298161e-01, -5.27206823e-01],\n",
       "        [-6.12414393e-01,  3.35455382e-01],\n",
       "        [-3.04900617e-01,  9.59149820e-01],\n",
       "        [-3.76872495e-01,  1.14528523e+00],\n",
       "        [-1.31386746e-01, -4.10856677e-01],\n",
       "        [-7.11863531e-01, -1.09829057e+00],\n",
       "        [ 2.46511016e-01, -2.18392559e+00],\n",
       "        [ 7.00423956e-01, -1.13242262e-01],\n",
       "        [-6.79409021e-01,  7.79983751e-02],\n",
       "        [ 8.83446356e-01,  1.06699146e+00],\n",
       "        [-3.01508499e-01, -1.64147174e+00],\n",
       "        [-1.57110048e+00,  2.80495813e-01],\n",
       "        [-1.45454173e+00,  5.02284304e-01],\n",
       "        [-2.07139063e-01, -1.63505522e+00],\n",
       "        [ 5.83108862e-01,  2.13505841e+00],\n",
       "        [-1.01523346e+00, -1.94949926e-02],\n",
       "        [ 1.26340410e+00,  4.79466004e-01],\n",
       "        [-8.67980847e-01, -9.92133452e-01],\n",
       "        [ 1.08804031e+00,  9.16389730e-01],\n",
       "        [ 4.37955401e-01, -3.66548996e-02],\n",
       "        [-9.71924177e-01, -1.24896487e-01],\n",
       "        [ 8.21781092e-01,  3.31549217e-01],\n",
       "        [ 6.52919248e-01,  2.04126100e+00],\n",
       "        [-6.01607941e-01,  1.82161457e+00],\n",
       "        [ 2.58717864e+00, -1.63551449e-01],\n",
       "        [ 8.37505145e-01,  7.94361966e-01],\n",
       "        [ 1.38954440e+00,  8.64108673e-01],\n",
       "        [ 4.03774199e-01,  1.50820266e+00],\n",
       "        [ 1.99532648e+00,  8.26031989e-01],\n",
       "        [ 1.58124932e+00,  4.16742632e-01],\n",
       "        [ 4.34065063e-01,  1.43123073e+00],\n",
       "        [ 4.84052560e-01,  3.40973352e-01],\n",
       "        [ 1.82750368e+00, -6.69424366e-01],\n",
       "        [ 1.22568516e+00,  7.37235290e-01],\n",
       "        [-2.07996353e-01,  1.01979762e+00],\n",
       "        [-2.49252661e-01,  1.89719321e-02],\n",
       "        [ 3.74836500e-01,  1.26445931e+00],\n",
       "        [ 1.80266127e-01,  2.16148522e+00],\n",
       "        [ 1.79910697e-01,  1.44603333e+00],\n",
       "        [ 1.37025088e+00, -7.07255734e-01],\n",
       "        [ 1.50478155e+00,  8.12495894e-01],\n",
       "        [ 1.68723791e+00,  1.39671752e+00],\n",
       "        [ 3.59054903e-01,  9.04135740e-01],\n",
       "        [-1.05566229e+00,  1.73316917e+00],\n",
       "        [ 1.47028165e+00,  1.00382135e+00],\n",
       "        [ 2.82712984e-01,  1.86316496e+00],\n",
       "        [ 3.34967679e+00, -4.45480691e-01],\n",
       "        [-1.40842013e-01,  1.35511367e+00],\n",
       "        [ 1.95158897e+00,  2.81171490e+00],\n",
       "        [ 5.09649660e-01,  4.07784583e-01],\n",
       "        [ 1.05498545e+00,  9.99560171e-01],\n",
       "        [-1.11696267e+00, -1.16492642e+00],\n",
       "        [-5.86881022e-01,  2.43020555e+00],\n",
       "        [ 1.95923894e+00, -1.53134893e+00],\n",
       "        [ 2.55930154e-01,  2.07812506e+00],\n",
       "        [ 1.09404434e-03, -9.55586634e-02],\n",
       "        [ 1.50960910e+00,  1.24027748e+00],\n",
       "        [ 1.03346565e+00,  1.11241418e+00],\n",
       "        [ 1.77745707e+00, -1.44348186e-01],\n",
       "        [-1.29504434e+00,  1.83795744e+00],\n",
       "        [ 1.33706199e+00,  1.20602143e+00],\n",
       "        [ 2.00645645e-01,  1.64103960e+00],\n",
       "        [ 9.21204961e-01,  2.66987316e+00],\n",
       "        [ 1.01330986e+00,  1.64353399e+00],\n",
       "        [-4.69852346e-01,  1.73010071e+00],\n",
       "        [ 1.73023449e+00,  1.39716654e+00],\n",
       "        [ 1.80301802e+00, -2.02473225e-01],\n",
       "        [ 1.33421635e+00,  1.64801047e+00],\n",
       "        [ 7.94522727e-01,  7.50736128e-02],\n",
       "        [-1.69532846e+00, -5.17834672e-01],\n",
       "        [ 1.07290606e+00,  1.97272101e+00]]),\n",
       " array([0, 0, 0, 0, 0, 0, 0, 0, 0, 0, 0, 0, 0, 0, 0, 0, 0, 0, 0, 0, 0, 0,\n",
       "        0, 0, 0, 0, 0, 0, 0, 0, 0, 0, 0, 0, 0, 0, 0, 0, 0, 0, 0, 0, 0, 0,\n",
       "        0, 0, 0, 0, 0, 0, 1, 1, 1, 1, 1, 1, 1, 1, 1, 1, 1, 1, 1, 1, 1, 1,\n",
       "        1, 1, 1, 1, 1, 1, 1, 1, 1, 1, 1, 1, 1, 1, 1, 1, 1, 1, 1, 1, 1, 1,\n",
       "        1, 1, 1, 1, 1, 1, 1, 1, 1, 1, 1, 1]))"
      ]
     },
     "execution_count": 14,
     "metadata": {},
     "output_type": "execute_result"
    }
   ],
   "source": [
    "def generate_synth_data(n=50):\n",
    "    points = np.concatenate((ss.norm(0,1).rvs((n,2)), ss.norm(1,1).rvs((n,2))), axis =0)\n",
    "    outcomes = np.concatenate((np.repeat(0,n),np.repeat(1,n))) \n",
    "    return (points, outcomes)\n",
    "\n",
    "generate_synth_data(n=50)\n",
    "    "
   ]
  },
  {
   "cell_type": "code",
   "execution_count": 15,
   "metadata": {},
   "outputs": [
    {
     "data": {
      "image/png": "[encoded data removed]",
      "text/plain": [
       "<Figure size 432x288 with 1 Axes>"
      ]
     },
     "metadata": {},
     "output_type": "display_data"
    }
   ],
   "source": [
    "points, outcomes = generate_synth_data(n=50)\n",
    "\n",
    "plt.figure()\n",
    "n = 50\n",
    "plt.plot(points[:n,0], points[:n,1], \"ro\")\n",
    "plt.plot(points[n:,0], points[n:,1], \"bo\")\n",
    "plt.savefig(\"bivaradata.pdf\")"
   ]
  },
  {
   "cell_type": "markdown",
   "metadata": {},
   "source": [
    "## 6. 制作预测Grid"
   ]
  },
  {
   "cell_type": "code",
   "execution_count": 16,
   "metadata": {},
   "outputs": [],
   "source": [
    "def make_pred_grid(predictors,outcomes,limits,h,k):\n",
    "    (x_min,x_max, y_min,y_max) = limits\n",
    "    xs = np.arange(x_min,x_max,h) # h\n",
    "    ys = np.arange(y_min,y_max,h)\n",
    "    xx, yy = np.meshgrid(xs,ys)\n",
    "    \n",
    "    pred_grid = np.zeros(xx.shape, dtype = int)\n",
    "    for i, x in enumerate(xs):\n",
    "        for j, y in enumerate(ys):\n",
    "            p = np.array([x,y])\n",
    "            pred_grid[j,i] = knn_predict(p,predictors,outcomes,k)\n",
    "            \n",
    "    return (xx,yy,pred_grid)"
   ]
  },
  {
   "cell_type": "markdown",
   "metadata": {},
   "source": [
    "## 7. 对格点作图 "
   ]
  },
  {
   "cell_type": "code",
   "execution_count": 39,
   "metadata": {},
   "outputs": [
    {
     "data": {
      "image/png": "[encoded data removed]",
      "text/plain": [
       "<Figure size 720x720 with 1 Axes>"
      ]
     },
     "metadata": {},
     "output_type": "display_data"
    }
   ],
   "source": [
    "def plot_pred_grid (xx, yy, prediction_grid, filename):\n",
    "    \"\"\" Plot KNN predictions for every point on the grid.\"\"\"\n",
    "    from matplotlib.colors import ListedColormap\n",
    "    background_colormap = ListedColormap ([\"hotpink\",\"yellowgreen\",\"lightskyblue\" ])\n",
    "    observation_colormap = ListedColormap ([\"red\",\"blue\",\"green\"])\n",
    "    plt.figure(figsize =(10,10))\n",
    "    plt.pcolormesh(xx, yy, prediction_grid, cmap = background_colormap, alpha = 0.5)\n",
    "    plt.scatter(predictors[:,0], predictors [:,1], c = outcomes, cmap = observation_colormap, s = 50)\n",
    "    plt.xlabel(\"x1\"); plt.ylabel(\"x2\")\n",
    "    plt.xticks(()); plt.yticks(())\n",
    "    plt.xlim (np.min(xx), np.max(xx))\n",
    "    plt.ylim (np.min(yy), np.max(yy))\n",
    "    plt.savefig(filename)\n",
    "    \n",
    "\n",
    "(predictors, outcomes) = generate_synth_data()\n",
    "\n",
    "k = 15 ; filename = \"knn_synth_5.pdf\"\n",
    "limits = (-3,4,-3,4) ;   h = 0.1\n",
    "\n",
    "(xx,yy, pred_grid) = make_pred_grid(predictors,outcomes,limits,h,k)\n",
    "plot_pred_grid(xx,yy, pred_grid, filename)\n",
    "\n"
   ]
  },
  {
   "cell_type": "code",
   "execution_count": 18,
   "metadata": {
    "scrolled": true
   },
   "outputs": [
    {
     "data": {
      "image/png": "[encoded data removed]",
      "text/plain": [
       "<Figure size 720x720 with 1 Axes>"
      ]
     },
     "metadata": {},
     "output_type": "display_data"
    }
   ],
   "source": [
    "(predictors, outcomes) = generate_synth_data()\n",
    "\n",
    "k = 15 ; filename = \"knn_synth_13.pdf\"\n",
    "limits = (-3,4,-3,4) ;   h = 0.1\n",
    "\n",
    "(xx,yy, pred_grid) = make_pred_grid(predictors,outcomes,limits,h,k)\n",
    "plot_pred_grid(xx,yy, pred_grid, filename)"
   ]
  },
  {
   "cell_type": "markdown",
   "metadata": {},
   "source": [
    "## 8. Scikit-learn的使用\n"
   ]
  },
  {
   "cell_type": "code",
   "execution_count": 40,
   "metadata": {},
   "outputs": [
    {
     "data": {
      "text/html": [
       "<div>\n",
       "<style scoped>\n",
       "    .dataframe tbody tr th:only-of-type {\n",
       "        vertical-align: middle;\n",
       "    }\n",
       "\n",
       "    .dataframe tbody tr th {\n",
       "        vertical-align: top;\n",
       "    }\n",
       "\n",
       "    .dataframe thead th {\n",
       "        text-align: right;\n",
       "    }\n",
       "</style>\n",
       "<table border=\"1\" class=\"dataframe\">\n",
       "  <thead>\n",
       "    <tr style=\"text-align: right;\">\n",
       "      <th></th>\n",
       "      <th>0</th>\n",
       "    </tr>\n",
       "  </thead>\n",
       "  <tbody>\n",
       "    <tr>\n",
       "      <th>0</th>\n",
       "      <td>0</td>\n",
       "    </tr>\n",
       "    <tr>\n",
       "      <th>1</th>\n",
       "      <td>1</td>\n",
       "    </tr>\n",
       "    <tr>\n",
       "      <th>2</th>\n",
       "      <td>2</td>\n",
       "    </tr>\n",
       "    <tr>\n",
       "      <th>3</th>\n",
       "      <td>3</td>\n",
       "    </tr>\n",
       "  </tbody>\n",
       "</table>\n",
       "</div>"
      ],
      "text/plain": [
       "   0\n",
       "0  0\n",
       "1  1\n",
       "2  2\n",
       "3  3"
      ]
     },
     "execution_count": 40,
     "metadata": {},
     "output_type": "execute_result"
    }
   ],
   "source": [
    "import pandas as pd\n",
    "# 生成数据集: X中每个样本仅有一个特征. \n",
    "X_train = pd.DataFrame([ [0], [1], [2], [3] ])\n",
    "y_train = [0, 0, 1, 1]\n",
    "X_train"
   ]
  },
  {
   "cell_type": "code",
   "execution_count": 41,
   "metadata": {},
   "outputs": [],
   "source": [
    "from sklearn.neighbors import KNeighborsClassifier\n",
    "model = KNeighborsClassifier(n_neighbors=3)"
   ]
  },
  {
   "cell_type": "code",
   "execution_count": 42,
   "metadata": {},
   "outputs": [
    {
     "data": {
      "text/plain": [
       "KNeighborsClassifier(algorithm='auto', leaf_size=30, metric='minkowski',\n",
       "           metric_params=None, n_jobs=1, n_neighbors=3, p=2,\n",
       "           weights='uniform')"
      ]
     },
     "execution_count": 42,
     "metadata": {},
     "output_type": "execute_result"
    }
   ],
   "source": [
    "model.fit(X_train, y_train) "
   ]
  },
  {
   "cell_type": "code",
   "execution_count": 43,
   "metadata": {},
   "outputs": [
    {
     "data": {
      "text/plain": [
       "array([0, 1])"
      ]
     },
     "execution_count": 43,
     "metadata": {},
     "output_type": "execute_result"
    }
   ],
   "source": [
    "model.predict([[1.1],[3.3]])"
   ]
  },
  {
   "cell_type": "code",
   "execution_count": 23,
   "metadata": {},
   "outputs": [
    {
     "data": {
      "text/plain": [
       "0.5"
      ]
     },
     "execution_count": 23,
     "metadata": {},
     "output_type": "execute_result"
    }
   ],
   "source": [
    "model.score([[0.9],[0.3]],[0,1])"
   ]
  },
  {
   "cell_type": "markdown",
   "metadata": {},
   "source": [
    "## kNN特点:\n",
    "    1. kNN is particularly useful when no other model fits your data well, \n",
    "    因为它是一个不需要参数的分类方法. 例如,你不需要考虑你的数据是线性可分还是线性不可分.\n",
    "    \n",
    "    2. 要想用kNN算法,我们的数据必须是可测的(数据集上有距离可以定义出来)."
   ]
  },
  {
   "cell_type": "markdown",
   "metadata": {},
   "source": [
    "# 2. 线性模型   "
   ]
  },
  {
   "cell_type": "code",
   "execution_count": 24,
   "metadata": {},
   "outputs": [],
   "source": [
    "# 导入模块:\n",
    "import mglearn \n",
    "import numpy as np\n",
    "import matplotlib.pyplot as plt  \n",
    "\n",
    "from sklearn.model_selection import train_test_split \n",
    "from sklearn.neighbors import KNeighborsRegressor \n",
    "from sklearn.linear_model import LinearRegression "
   ]
  },
  {
   "cell_type": "markdown",
   "metadata": {},
   "source": [
    "对于只有一个特征的数据集,\n",
    "\n",
    "$\\hat y = w[0]*x[0] + b$\n",
    "\n",
    "$w[0]$是斜率, $b$是y轴上的截距. $\\hat y$称为response, 是模型的\\____.\n",
    "\n",
    "对于只有$p+1$个特征的数据集,\n",
    "\n",
    "$\\hat y = w[0]*x[0]+ ...+ w[p]*x[p] + b$\n",
    "\n",
    "我们也可把$\\hat y$看作是输入特征$x[0],x[1],...,x[p]$的带权重的求和."
   ]
  },
  {
   "cell_type": "code",
   "execution_count": 25,
   "metadata": {},
   "outputs": [
    {
     "name": "stdout",
     "output_type": "stream",
     "text": [
      "lr.coef_:[0.47954524]\n",
      "lr.intercept_:-0.09847983994403892\n",
      "Traing set score: 0.653\n",
      "Test set score:0.773\n"
     ]
    },
    {
     "data": {
      "image/png": "[encoded data removed]",
      "text/plain": [
       "<Figure size 432x288 with 1 Axes>"
      ]
     },
     "metadata": {},
     "output_type": "display_data"
    }
   ],
   "source": [
    "#linear_regression.py  \n",
    "import mglearn  \n",
    "import matplotlib.pyplot as plt  \n",
    "from sklearn.model_selection import train_test_split  \n",
    "from sklearn.linear_model import LinearRegression  \n",
    "import numpy as np\n",
    "\n",
    "#生成数据集: 只有一个特征的数据集\n",
    "X, y = mglearn.datasets.make_wave(n_samples=40)  \n",
    "X_train, X_test, y_train, y_test = train_test_split(X, y, random_state=42)  \n",
    "# print(X.shape)\n",
    "\n",
    "lr = LinearRegression().fit(X_train, y_train)\n",
    "\n",
    "# 斜率和截距\n",
    "# w are stored in the coef_ attribute,  \n",
    "# b is stored in the intercept_ attribute. \n",
    "print(\"lr.coef_:{}\".format(lr.coef_))  \n",
    "print(\"lr.intercept_:{}\".format(lr.intercept_))  \n",
    "\n",
    "# 拟合优度  \n",
    "print(\"Traing set score: {:.3f}\".format(lr.score(X_train,y_train)))  \n",
    "print(\"Test set score:{:.3f}\".format(lr.score(X_test,y_test)))\n",
    "\n",
    "line = np.linspace(-3,3, 1000).reshape(-1,1) \n",
    "plt.plot(line[:,0], line[:,0]*lr.coef_ + lr.intercept_)\n",
    "plt.plot(X_train[:,0],y_train, \"o\", c=\"r\")\n",
    "plt.plot(X_test[:,0],y_test, \"v\", c=\"b\")\n",
    "plt.show()"
   ]
  },
  {
   "cell_type": "markdown",
   "metadata": {},
   "source": [
    "当你的特征数目( p+1p+1 )大于你的数据点的数目(样本个数)时,目标 yy 往往可以用线性模型很好地预测出来.\n",
    "\n",
    "下面就是一个例子.这个例子中,特征数目为506,样本数目104. 前者大于后者."
   ]
  },
  {
   "cell_type": "code",
   "execution_count": 26,
   "metadata": {},
   "outputs": [
    {
     "name": "stdout",
     "output_type": "stream",
     "text": [
      "(506, 104)\n",
      "ridge.coef_:[-1.70295812e+00 -1.21646220e+00 -2.26391270e+00  8.30845896e-01\n",
      " -8.58331367e-02  8.01116071e+00 -5.65999560e-03 -4.69520099e+00\n",
      "  3.64886980e+00 -1.76903379e+00 -1.84601461e+00  2.32007300e+00\n",
      " -2.80633098e+00 -1.00796122e+00  5.43017764e-03 -1.05926024e+00\n",
      "  1.58394405e+00 -1.66367827e+00 -1.33734211e+00 -1.24701369e+00\n",
      " -3.45676068e-01 -1.97789722e+00 -1.71426435e+00 -1.55777662e+00\n",
      " -1.22046160e+00 -1.18685106e+00  1.86974330e+00 -1.84090506e+00\n",
      "  2.15362590e+00  3.33286814e-01  3.44159376e+00 -1.96103914e+00\n",
      " -4.39026619e-01 -1.86641840e-01  3.53642680e-01  6.52130195e-01\n",
      " -1.00510187e+00 -1.77202481e+00  3.42271888e+00  1.40820125e+00\n",
      "  8.83430865e-01 -3.91620276e+00  2.18270833e+00 -3.72297245e+00\n",
      "  1.10970075e+00  2.54657815e+00 -1.16437597e+00 -5.84765670e-01\n",
      " -1.92913457e+00  8.30845896e-01 -4.88404275e+00 -3.65276071e+00\n",
      "  1.33691241e+00 -1.17583545e+00  2.82947313e+00  3.21863173e+00\n",
      "  3.94714722e-01  1.80083969e+00 -2.30349790e+00 -1.68219494e+00\n",
      " -3.55230706e+00 -2.18599021e+00 -9.27982628e-01 -2.53092628e+00\n",
      " -1.58471861e+00 -2.87271300e+00  1.62300691e+00 -1.90732301e+00\n",
      "  1.49389562e+01 -3.87316528e-01  1.24464700e+00 -6.64540858e+00\n",
      " -7.52121608e+00 -4.29542567e+00  1.07727555e+01 -6.29926886e+00\n",
      "  1.32751219e+00 -1.84322821e+00  3.61675455e+00  4.16241023e-01\n",
      " -1.69159673e+00 -1.97566230e+00 -3.25849616e+00  1.11350329e+00\n",
      " -1.60578810e+00 -2.75642376e+00 -7.75620554e-01 -3.82545173e+00\n",
      "  3.69223888e-01  7.20424872e-01  7.71237641e-01  2.50362234e+00\n",
      "  2.60244298e+00 -6.29040903e+00  1.51485823e+00  1.18394049e+00\n",
      " -1.15724635e+00 -6.39479783e+00  6.52519686e-01 -1.79273639e+00\n",
      " -1.73340672e+00 -1.03519815e+00 -5.83840387e+00  6.39666192e+00]\n",
      "ridge.intercept_:21.90287999498934\n",
      "Traing set score: 0.834\n",
      "Test set score:0.860\n"
     ]
    }
   ],
   "source": [
    "# 岭回归\n",
    "import mglearn  \n",
    "import matplotlib.pyplot as plt  \n",
    "from sklearn.model_selection import train_test_split  \n",
    "from sklearn.linear_model import Ridge  \n",
    "  \n",
    "X, y = mglearn.datasets.load_extended_boston()   \n",
    "X_train, X_test, y_train, y_test = train_test_split(X, y, random_state=40)  \n",
    "ridge = Ridge().fit(X_train, y_train)  \n",
    "print(X.shape)  \n",
    "# w are stored in the coef_ attribute,  \n",
    "# b is stored in the intercept_ attribute.  \n",
    "print(\"ridge.coef_:{}\".format(ridge.coef_))  \n",
    "print(\"ridge.intercept_:{}\".format(ridge.intercept_))  \n",
    "  \n",
    "print(\"Traing set score: {:.3f}\".format(ridge.score(X_train,y_train)))  \n",
    "print(\"Test set score:{:.3f}\".format(ridge.score(X_test,y_test))) "
   ]
  },
  {
   "cell_type": "code",
   "execution_count": 27,
   "metadata": {},
   "outputs": [
    {
     "name": "stdout",
     "output_type": "stream",
     "text": [
      "lasso.coef_:[ -0.          -0.         -10.20656209  13.33609506   0.63881475\n",
      "  48.96128811  18.93743693 -36.19688654  14.10300593  -0.\n",
      "   0.          28.98284998  13.68445403  -0.           0.\n",
      "  -0.         252.64349932  -0.           0.          -0.\n",
      "  -0.         -17.53882962  -0.          -0.           0.\n",
      "   0.           2.4754909   -0.          -0.           0.\n",
      "   1.65589239  -6.86874831  -6.3198252   -0.           9.78128386\n",
      "   0.90946864  -0.         -12.07756684   2.12838627   0.\n",
      "  24.27027891   1.13674649   2.2958079    0.           7.97332068\n",
      "  13.45793201  -2.34211132  -0.          -9.9320061    1.14763668\n",
      " -15.33902582 -23.47963408   2.5104258    5.16737446  -2.80966947\n",
      "  -0.          -3.27683571   4.35108324  -9.67012621   0.\n",
      "  -3.37769417 -19.28356932   9.62013497  -5.27186612  -0.\n",
      "  -7.6394013    3.27019118   0.          13.60313271 -12.05520577\n",
      "  -0.         -15.30710385 -10.73641882 -21.42127154   4.32974595\n",
      " -23.08253709   0.97906033   0.          16.1457672   -6.59149099\n",
      "   0.         -16.61436742  -4.62479388  29.51648556  -6.95508542\n",
      "  -0.           0.          -0.87659827  22.18682877 -20.09686068\n",
      "   8.90789151   5.05486177  -0.57098569  -7.46274127   0.\n",
      "  12.36938043  -8.71920573 -23.15211208   2.23755937   1.94880335\n",
      "  -0.          -4.6785975  -10.34010072  15.24324056]\n",
      "lasso.intercept_:-12.747735035958076\n",
      "No.of features used:70\n",
      "Traing set score: 0.91\n",
      "Test set score:0.91\n"
     ]
    },
    {
     "name": "stderr",
     "output_type": "stream",
     "text": [
      "D:\\programs\\Anaconda3\\envs\\base_cp\\lib\\site-packages\\sklearn\\linear_model\\coordinate_descent.py:491: ConvergenceWarning: Objective did not converge. You might want to increase the number of iterations. Fitting data with very small alpha may cause precision problems.\n",
      "  ConvergenceWarning)\n"
     ]
    }
   ],
   "source": [
    "#lasso001_regression.py  \n",
    "import mglearn  \n",
    "import matplotlib.pyplot as plt  \n",
    "  \n",
    "from sklearn.model_selection import train_test_split  \n",
    "from sklearn.linear_model import Lasso  \n",
    "  \n",
    "X, y = mglearn.datasets.load_extended_boston()  \n",
    "  \n",
    "X_train, X_test, y_train, y_test = train_test_split(X, y, random_state=40)  \n",
    "lasso01 = Lasso(alpha=0.001,max_iter=10000).fit(X_train, y_train)  \n",
    "  \n",
    "print(\"lasso.coef_:{}\".format(lasso01.coef_))  \n",
    "print(\"lasso.intercept_:{}\".format(lasso01.intercept_))  \n",
    "print(\"No.of features used:{}\".format(np.sum(lasso01.coef_!=0)))  \n",
    "\n",
    "print(\"Traing set score: {:.2f}\".format(lasso01.score(X_train,y_train)))  \n",
    "print(\"Test set score:{:.2f}\".format(lasso01.score(X_test,y_test)))  "
   ]
  },
  {
   "cell_type": "code",
   "execution_count": 28,
   "metadata": {},
   "outputs": [
    {
     "data": {
      "image/png": "[encoded data removed]",
      "text/plain": [
       "<Figure size 432x288 with 1 Axes>"
      ]
     },
     "metadata": {},
     "output_type": "display_data"
    }
   ],
   "source": [
    "# 续:线性逻辑回归分类器 \n",
    "import mglearn  \n",
    "import matplotlib.pyplot as plt  \n",
    "from sklearn.linear_model import LogisticRegression  \n",
    "from sklearn.svm import LinearSVC  \n",
    "  \n",
    "X,y = mglearn.datasets.make_forge()   \n",
    "clf = LogisticRegression().fit(X,y)  \n",
    "\n",
    "mglearn.plots.plot_2d_separator(clf, X, fill=False, eps=0.5, alpha=.7)  \n",
    "mglearn.discrete_scatter(X[:, 0], X[:,1], y)  \n",
    "plt.title(\"{}\".format(\"LogisticRegression\"))  \n",
    "plt.xlabel(\"X0\")  \n",
    "plt.ylabel(\"X1\")  \n",
    "plt.legend()  \n",
    "plt.show()"
   ]
  },
  {
   "cell_type": "code",
   "execution_count": 29,
   "metadata": {},
   "outputs": [],
   "source": [
    "from math import log  \n",
    " \n",
    "def calc_shannon_ent(data_set):  \n",
    "    \"\"\" \n",
    "    计算香农熵 : 前提：（数据集要足够大！）\n",
    "    :param data_set:数据集 \n",
    "    :return: 计算结果 \n",
    "    \"\"\"  \n",
    "    num_entries = len(data_set) #保存数据集中实例的总数 （N） \n",
    "    label_counts = {}  \n",
    "    #-----------------------  \n",
    "    # 为所有可能分类创建字典  \n",
    "    #-----------------------  \n",
    "    for vec in data_set: # 遍历每个实例(样本)，统计标签的频数  \n",
    "        current_label = vec[-1]  #设样本的最后一列的数值为键值  \n",
    "        if current_label not in label_counts.keys():  \n",
    "            label_counts[current_label] = 0  \n",
    "        label_counts[current_label] += 1  \n",
    "    shannon_ent = 0.0  \n",
    "    for key in label_counts:  \n",
    "        prob = float(label_counts[key]) / num_entries  \n",
    "        shannon_ent -= prob * log(prob,2) # 以2为底的对数  \n",
    "    return shannon_ent  \n"
   ]
  },
  {
   "cell_type": "code",
   "execution_count": 30,
   "metadata": {},
   "outputs": [],
   "source": [
    "#创建数据集  \n",
    "def create_data_set():  \n",
    "    data_set = [[1,1,'y'],  \n",
    "                [1,1,'y'],  \n",
    "                [1,0,'n'],  \n",
    "                [0,0,'n'],\n",
    "                [0,0,'n'],\n",
    "                [1,0,'n'],\n",
    "                [1,1,'y']  \n",
    "                ]  \n",
    "    labels = ['gill', 'fin']  \n",
    "    return data_set, labels "
   ]
  },
  {
   "cell_type": "code",
   "execution_count": 31,
   "metadata": {},
   "outputs": [
    {
     "name": "stdout",
     "output_type": "stream",
     "text": [
      "0.8112781244591328\n"
     ]
    }
   ],
   "source": [
    "binary_set = [[1,'y'],\n",
    "              [0,'n'],\n",
    "              [0,'n'],\n",
    "              [0,'n']]  \n",
    "print(calc_shannon_ent(binary_set))"
   ]
  },
  {
   "cell_type": "code",
   "execution_count": 32,
   "metadata": {},
   "outputs": [
    {
     "name": "stdout",
     "output_type": "stream",
     "text": [
      "[[1, 1, 'y'], [1, 1, 'y'], [1, 0, 'n'], [0, 0, 'n'], [0, 0, 'n'], [1, 0, 'n'], [1, 1, 'y']]\n",
      "0.9852281360342516\n"
     ]
    }
   ],
   "source": [
    "#使用自定义函数来计算香农熵\n",
    "my_data,labels = create_data_set()  \n",
    "print(my_data) \n",
    "\n",
    "print(calc_shannon_ent(my_data))  "
   ]
  },
  {
   "cell_type": "code",
   "execution_count": 33,
   "metadata": {},
   "outputs": [
    {
     "name": "stdout",
     "output_type": "stream",
     "text": [
      "[[1, 1, 'y'], [1, 1, 'y'], [1, 0, 'n'], [0, 0, 'n'], [0, 0, 'n'], [1, 0, 'n'], [1, 1, 'y']]\n",
      "[[0, 'n'], [0, 'n']]\n",
      "[[1, 1], [1, 1], [1, 1]]\n",
      "[[1, 'y'], [1, 'y'], [1, 'y']]\n"
     ]
    }
   ],
   "source": [
    "# 划分数据集\n",
    "def split_data_set(data_set, axis, value):  \n",
    "    ''''' \n",
    "    按照给定特征划分数据集 \n",
    "    :param data_set:待划分的数据集 \n",
    "    :param axis:划分数据集所用的特征 \n",
    "    :param value: 特征的返回值 \n",
    "    :return: 划分结果列表 \n",
    "    '''  \n",
    "    ret_data_set = []   # 为了不修改原始数据,新建一个列表  \n",
    "    for vec in data_set:  # vec: 样本, 某一行的数据  \n",
    "        if vec[axis] == value:  \n",
    "            reduced_vec = vec[:axis]    \n",
    "            reduced_vec.extend(vec[axis+1:])  \n",
    "            ret_data_set.append(reduced_vec)  \n",
    "    return ret_data_set  \n",
    "  \n",
    "my_data,labels = create_data_set()  \n",
    "print(my_data) \n",
    "\n",
    "print(split_data_set(my_data,0,0) )\n",
    "print(split_data_set(my_data,2,\"y\") )\n",
    "print(split_data_set(my_data,1,1) )"
   ]
  },
  {
   "cell_type": "code",
   "execution_count": 34,
   "metadata": {},
   "outputs": [
    {
     "name": "stdout",
     "output_type": "stream",
     "text": [
      "my_data:\n",
      "[[1, 1, 'y'], [1, 1, 'y'], [1, 0, 'n'], [0, 0, 'n'], [0, 0, 'n'], [1, 0, 'n'], [1, 1, 'y']]\n",
      "best feature:\n",
      "0.2916919971380598\n",
      "0.9852281360342516\n",
      "1\n"
     ]
    }
   ],
   "source": [
    "# 选择最好的划分方式\n",
    "def best_feature_to_split(data_set): # data_set 必须是以长度相同的列表为元素的列表. 每个样本的最后一个元素是当前样本的类别标签  \n",
    "    num_features = len(data_set[0])-1   # 求出当前数据集包含的特征的数目.  \n",
    "    base_entropy = calc_shannon_ent(data_set) # 求出原始香农值  \n",
    "    best_info_gain = 0.0   \n",
    "    best_feature = -1  \n",
    "    for i in range(num_features): # 遍历所有特征  \n",
    "        feat_list = [example[i] for example in data_set] # 将所有第i个特征值或所有可能存在的值写入新列表  \n",
    "        unique_values = set(feat_list)   # 去除重复元素  \n",
    "        new_entropy = 0.0   \n",
    "        for value in unique_values: #遍历所有唯一特征值  \n",
    "            sub_data_set = split_data_set(data_set,i, value) #对每个特征划分一次数据集  \n",
    "            prob = len(sub_data_set)/float(len(data_set))  \n",
    "            new_entropy += prob * calc_shannon_ent(sub_data_set) # 对特征i, 计算数据集的新的香农熵.   \n",
    "        info_gain = base_entropy - new_entropy \n",
    "        print(info_gain)\n",
    "        if (info_gain > best_info_gain):  \n",
    "            best_info_gain = info_gain # 取代原来的信息增益的值  \n",
    "            best_feature = i  \n",
    "    return best_feature  \n",
    "\n",
    "my_data, labels = create_data_set()  \n",
    "print(\"my_data:\")  \n",
    "print(my_data)  \n",
    "print(\"best feature:\")  \n",
    "print(best_feature_to_split(my_data))  "
   ]
  },
  {
   "cell_type": "code",
   "execution_count": 35,
   "metadata": {},
   "outputs": [],
   "source": [
    "# Gini指数\n",
    "def cal_gini_index(data_set):  \n",
    "    \"\"\"计算给定数据集的Gini指数 \n",
    "    input: data(list): 数据集\n",
    "    output: gini(float): Gini指数\n",
    "    \"\"\"  \n",
    "    # Total no. of the sample  \n",
    "    total_sample = len(data_set)  \n",
    "    if len(data_set)==0:  \n",
    "        return 0  \n",
    "    # Count the no. of labels in the data set  \n",
    "    label_counts = label_uniq_counts(data_set)  \n",
    "  \n",
    "    # Calculate the Gini index of the data set  \n",
    "    gini = 0  \n",
    "    for label in label_counts:  \n",
    "        gini = gini + pow(label_counts[label],2)  \n",
    "  \n",
    "    gini = 1 - float(gini)/ pow(total_sample,2)  \n",
    "    return gini  "
   ]
  },
  {
   "cell_type": "code",
   "execution_count": 36,
   "metadata": {},
   "outputs": [
    {
     "data": {
      "text/plain": [
       "{'n': 4, 'y': 3}"
      ]
     },
     "execution_count": 36,
     "metadata": {},
     "output_type": "execute_result"
    }
   ],
   "source": [
    "#计算数据集中类别标签的个数\n",
    "from math import pow  \n",
    "  \n",
    "def label_uniq_counts(data):  \n",
    "    \"\"\" \n",
    "    input: data(list) \n",
    "    output: label_uniq_counts(int) \n",
    "    \"\"\"  \n",
    "    label_uniq_count ={}  \n",
    "  \n",
    "    for x in data:  \n",
    "        label = x[len(x)-1] # 取得每个样本的类标签label  \n",
    "        if label not in label_uniq_count:  # WHY?  \n",
    "            label_uniq_count[label] = 0  \n",
    "        label_uniq_count[label]  += 1  \n",
    "    return label_uniq_count  \n",
    "\n",
    "label_uniq_counts(my_data)"
   ]
  },
  {
   "cell_type": "code",
   "execution_count": 37,
   "metadata": {},
   "outputs": [
    {
     "name": "stdout",
     "output_type": "stream",
     "text": [
      "X:  [[1 1]\n",
      " [1 1]\n",
      " [1 0]\n",
      " [0 1]\n",
      " [0 1]]\n",
      "y: [1 1 0 0 0]\n",
      "测试样本为各类的概率: [[0. 1.]\n",
      " [1. 0.]]\n",
      "分类预测结果 [1 0]\n"
     ]
    }
   ],
   "source": [
    "# 训练决策树 (Geron)  \n",
    "  \n",
    "# 1. 导入模块  \n",
    "from sklearn.tree import DecisionTreeClassifier  \n",
    "import numpy as np  \n",
    "    \n",
    "#2. 创建自己的数据集  \n",
    "  \n",
    "#create dataset  \n",
    "class Fish:  \n",
    "    def __init__(self):  \n",
    "        X = [[1,1],  \n",
    "             [1,1],  \n",
    "             [1,0],  \n",
    "             [0,1],  \n",
    "             [0,1]  \n",
    "             ]  \n",
    "        y = [1,1,0,0,0]  \n",
    "        self.data = np.array(X)  \n",
    "        self.label = np.array(y)  \n",
    "        self.feature = np.array(['鳃','鳍'])     \n",
    "# 训练集  \n",
    "fs = Fish()  \n",
    "  \n",
    "print('X: ', fs.data)  \n",
    "print('y:',fs.label)    \n",
    "  \n",
    "# 训练集的特征  \n",
    "X = fs.data  \n",
    "# 训练集的标签  \n",
    "y = fs.label  \n",
    "  \n",
    "#3.1 分类器这个类之实例化  \n",
    "tree_clf = DecisionTreeClassifier(max_depth=2)  \n",
    "# 3.2 最终生成决策树模型  \n",
    "tree_clf.fit(X,y)  \n",
    "  \n",
    "# 传入一个数据集,用决策树做预测  \n",
    "# predict_proba(测试集): 返回值: 一个ndarray数组,其行数为样本个数,其列数为种类数.  \n",
    "a = tree_clf.predict_proba([[1,1],[0,0]])  \n",
    "# predict(测试集): 函数的返回值: 一个一维array数组,其列数为样本个数  \n",
    "b = tree_clf.predict([[1,0]])  \n",
    "c = tree_clf.predict([[1,1],[1,0]])  \n",
    "print('测试样本为各类的概率:',a)  \n",
    "print('分类预测结果',c)  \n"
   ]
  },
  {
   "cell_type": "markdown",
   "metadata": {},
   "source": [
    "## 2.1  信息熵\n",
    "度量样本集合纯度最常用的一种指标是信息熵. \n",
    "\n",
    "对于有$K$个分类的数据集$D$, 样本属于第$k$个类别的概率为$p_k$,定义信息熵(Information Entropy)为\n",
    "\n",
    "$E = -\\sum_{k=1}^K p_k \\log_2(p_k)$.\n",
    "\n",
    "信息熵，又叫香农熵.\n",
    "\n",
    "例1. 对于一个数据集，计算其香农熵."
   ]
  },
  {
   "cell_type": "markdown",
   "metadata": {},
   "source": [
    "$E = -[（1/2）* \\log(1/2) + (1/3)* \\log(1/3) + (1/6)*\\log(1/6)]$"
   ]
  },
  {
   "cell_type": "code",
   "execution_count": 38,
   "metadata": {},
   "outputs": [
    {
     "data": {
      "text/plain": [
       "-1.0"
      ]
     },
     "execution_count": 38,
     "metadata": {},
     "output_type": "execute_result"
    }
   ],
   "source": [
    "#此例的数据集”\n",
    "import numpy as np\n",
    "a1 = np.log2(0.5)\n",
    "a1"
   ]
  },
  {
   "cell_type": "markdown",
   "metadata": {},
   "source": [
    "## 2.2 Gini指数\n",
    "\n",
    "与信息熵类似,对于有$K$个分类的数据集$D$, 样本属于第$k$个类别的概率为$p_k$,定义基尼指数\n",
    "\n",
    "$\\text{Gini}(D) = \\sum_{k=1}^K p_k (1-p_k)$\n",
    "\n",
    "这个定义可进一步简化为：\n",
    "\n",
    "$\\text{Gini}(D) = \\sum_{k=1}^K (p_k - p_k^2) = 1-\\sum_{k=1}^K p_k^2$."
   ]
  },
  {
   "cell_type": "markdown",
   "metadata": {},
   "source": [
    "## 决策森林算法原理\n",
    "\n",
    "考虑一个具有1000个观测值的数据集(1000个样本). 我们有9个特征:$x_1, x_2, ..., x_9$.\n",
    "比如,我们想建立50棵树. 首先将数据随机化.\n",
    "\n",
    "我们首先从最初的数据中提取出50个bootstrap样本, 并对每个数据集都单独建立一棵树.\n",
    "\n",
    "然后, 我们一一地拟合这些树. 从第一棵树和第一次分割,我们首先决定使用哪一个特征.\n",
    "\n",
    "比如,当我们做第一次特征空间分割时, 如果我们被允许使用三个特征,(如$X_2, X_6, X_7)$. \n",
    "对于已知数据和这三个特征,我们尽力做最好的分割.  \n",
    "\n",
    "然后,我们对该树做第二次分割.\n",
    "这次,我们可能被允许使用的三个特征为$X_1,X_5,X_7$, 我们同样地尽力做最好的分割.\n",
    "\n",
    "我们继续,直到我们拟合了第一棵树,也就是说,直到我们达到某个停止分割的标准.\n",
    "\n",
    "然后,我们对森林中的其他所有的树实施同样的操作.\n",
    "\n",
    "为了利用随机森林做预测, 对每一棵树,我们分别识别测试数据所在的那些特征空间区域.\n",
    "\n",
    "基于此, 我们接下来,对于每一棵树我们分别做一次预测.\n",
    "并将每个单独的树的预测结果结合起来, 形成森林的预测结果."
   ]
  },
  {
   "cell_type": "code",
   "execution_count": null,
   "metadata": {},
   "outputs": [],
   "source": []
  }
 ],
 "metadata": {
  "kernelspec": {
   "display_name": "Python 3",
   "language": "python",
   "name": "python3"
  },
  "language_info": {
   "codemirror_mode": {
    "name": "ipython",
    "version": 3
   },
   "file_extension": ".py",
   "mimetype": "text/x-python",
   "name": "python",
   "nbconvert_exporter": "python",
   "pygments_lexer": "ipython3",
   "version": "3.5.5"
  },
  "widgets": {
   "state": {},
   "version": "1.1.2"
  }
 },
 "nbformat": 4,
 "nbformat_minor": 2
}
