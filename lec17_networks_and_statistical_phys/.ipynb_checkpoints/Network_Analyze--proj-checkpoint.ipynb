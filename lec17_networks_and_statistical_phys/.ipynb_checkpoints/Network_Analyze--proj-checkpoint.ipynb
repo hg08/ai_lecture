{
 "cells": [
  {
   "cell_type": "markdown",
   "metadata": {},
   "source": [
    "# 网络分析项目--Homophily计算"
   ]
  },
  {
   "cell_type": "code",
   "execution_count": 12,
   "metadata": {},
   "outputs": [],
   "source": [
    "from scipy.stats import bernoulli\n",
    "import networkx as nx\n",
    "import matplotlib.pyplot as plt\n",
    "import pandas as pd"
   ]
  },
  {
   "cell_type": "code",
   "execution_count": 311,
   "metadata": {},
   "outputs": [],
   "source": [
    "# ex2 : 对比下面两个图G4,G5, 说明它们形态不同的原因.\n",
    "G4= nx.erdos_renyi_graph(100, 0.03)\n",
    "G5= nx.erdos_renyi_graph(100, 0.3)"
   ]
  },
  {
   "cell_type": "code",
   "execution_count": 13,
   "metadata": {},
   "outputs": [],
   "source": [
    "#nx.draw(G4,node_size=40,node_color=\"gray\")"
   ]
  },
  {
   "cell_type": "code",
   "execution_count": 1,
   "metadata": {},
   "outputs": [],
   "source": [
    "# 做出G4, G5的度分布函数\n",
    "#plot_deg_dist(G4)"
   ]
  },
  {
   "cell_type": "code",
   "execution_count": 2,
   "metadata": {},
   "outputs": [],
   "source": [
    "#nx.draw(G5,node_size=40,node_color=\"gray\")"
   ]
  },
  {
   "cell_type": "code",
   "execution_count": 3,
   "metadata": {},
   "outputs": [],
   "source": [
    "# 导入自定义函数plot_deg_dist(),再运行入校命令.\n",
    "#plot_deg_dist(G5)"
   ]
  },
  {
   "cell_type": "markdown",
   "metadata": {},
   "source": [
    "结果: "
   ]
  },
  {
   "cell_type": "markdown",
   "metadata": {},
   "source": [
    "##  同质性\n",
    "同质性(Homophily)是网络的一个特征. 含义: 相邻的结点具有一些共同的特征.(love of the same) \n",
    "同质性,即同与自身具有相似的类型的个体相互作用的趋势(\"the tendency to interact with others of similar type\" )在自然界普遍地存在.[3]\n",
    "\n",
    "该项目中,我们研究一个真实的网络(两个村庄(Village 1和Village 2)的人构成的网络)的几个特征的同质性."
   ]
  },
  {
   "cell_type": "markdown",
   "metadata": {},
   "source": [
    "### 1.\n",
    "对任意一个特征, 计算它的机会同质性(chance homophily). \n",
    "同质性是指, 网络中的边所占的比例. 组成边(or 网络)的结点都有该特征. \n",
    "\n",
    "(维基百科: Individuals in homophilic relationships share common characteristics (beliefs, values, education, etc.) that make communication and relationship formation easier. The opposite of homophily is heterophily or intermingling.)\n",
    "\n",
    "如果特征完全随机地分布, 我们能得到的同质程度是多少? \n",
    "\n",
    "如果特征完全随机地分布, \n",
    "那么两个结点$x$和$y$具有共同特征a的概率为$x$,$y$都有特征a的概率, 记为 $f(a)^2$, $f(a)$表示结点具有特征a的频率.\n",
    "\n",
    "$x$和$y$结点具有共同特征的总概率为: 该网络中每一个特征频率之和. (联合概率)\n",
    "\n",
    "例如, 在字典favorite_colors中, 红色和蓝色的频率分别是1/3, 2/3, 故机会同质(chance homophily)是\n",
    "$(1/3)^2+(2/3)^2 = 5/9$. (相加, joint probability.)\n",
    "\n",
    "\n",
    "(1)创建一个函数(自己命名),输入参数为一个字典chars(关键字为个人ID,值为特征), \n",
    "返回一个字典,其关键字为特征,其值为此特征出现的次数.\n"
   ]
  },
  {
   "cell_type": "code",
   "execution_count": 4,
   "metadata": {},
   "outputs": [],
   "source": [
    "from collections import Counter\n",
    "\n",
    "def val_count(chars):\n",
    "    # Your code\n",
    "\n",
    "# 传入一个字典,用来测试该函数\n",
    "\n",
    "# 测试\n"
   ]
  },
  {
   "cell_type": "markdown",
   "metadata": {},
   "source": [
    "(2)创建一个函数frequency(chars),输入参数为一个字典chars(关键字为个人ID,值为特征), \n",
    "返回一个字典,其关键字为特征,其值为此特征出现的频率."
   ]
  },
  {
   "cell_type": "code",
   "execution_count": 5,
   "metadata": {
    "scrolled": true
   },
   "outputs": [],
   "source": [
    "from collections import Counter\n",
    "def frequency(chars):\n",
    "    frequencies = # your code\n",
    "    sum_frequencies = # your code\n",
    "    for key in frequencies:\n",
    "        # Your code\n",
    "\n",
    "# 对你自己建立的字典,测试该函数\n"
   ]
  },
  {
   "cell_type": "markdown",
   "metadata": {},
   "source": [
    "(3). 创建一个函数chance_homophily(chars),其中,chars也是一个字典,代表一个特征. 此函数返回该特征的机会同质性.(其含义见上面举的例子)"
   ]
  },
  {
   "cell_type": "code",
   "execution_count": 6,
   "metadata": {},
   "outputs": [],
   "source": [
    "def chance_homophily(chars):\n",
    "    frequencies = frequency(chars)\n",
    "    # ==Your code\n",
    "\n",
    "# 传入特征(一个字典), 测试\n",
    "#==Your code\n",
    "# 已知,有如下字典, 计算其机会同质性,结果保存到color_homophily. 并打印出来.\n",
    "favorite_colors = {\n",
    "    \"ankit\":  \"red\",\n",
    "    \"xiaoyu\": \"blue\",\n",
    "    \"mary\":   \"blue\"\n",
    "}\n",
    "\n",
    "#== Your code"
   ]
  },
  {
   "cell_type": "markdown",
   "metadata": {},
   "source": [
    "\n",
    "\n",
    "## 2.\n",
    "接下来, 我们将研究并对比真实的同质性与机会同质性. \n",
    "\n",
    "(1)首先,请把数据\"personal_characters.dta\"读入pandas中, 保存为df. 你可能用的命令: pandas.read_stats().\n",
    "\n",
    "(2)在数据集df中,将属于Village 1和Village 2的人的数据分离,然后保存两个数据集df1, df2.\n",
    "\n",
    "(3)查看df2的前五行; 查看所有列名."
   ]
  },
  {
   "cell_type": "code",
   "execution_count": 7,
   "metadata": {},
   "outputs": [],
   "source": [
    "#==Your code"
   ]
  },
  {
   "cell_type": "markdown",
   "metadata": {},
   "source": [
    "## 3.\n",
    "\n",
    "定义六个字典分别用来查询连个村庄的人们的下面几个特征: sex, caste, and religion, 关键字为个人ID. 对 Villages 1 和 Village 2, 个人IDs都存在\"pid\"列.\n",
    " "
   ]
  },
  {
   "cell_type": "code",
   "execution_count": 337,
   "metadata": {},
   "outputs": [],
   "source": [
    "sex1      = # your code\n",
    "caste1    = # Your code\n",
    "religion1 = # your code\n",
    "\n",
    "# 对df2 做同样的操作.\n",
    "# your code"
   ]
  },
  {
   "cell_type": "markdown",
   "metadata": {},
   "source": [
    "## 4.\n",
    "对Village 1 和Village 2, 打印出性别(sex), 种姓(caste),宗教信仰(religion)几个特征的机会同质性. \n",
    "函数chance_homophily为前面定义."
   ]
  },
  {
   "cell_type": "code",
   "execution_count": 8,
   "metadata": {},
   "outputs": [],
   "source": [
    "print(\"Village 1 chance of same sex:\", chance_homophily(sex1))\n",
    "# Enter your code here.\n"
   ]
  },
  {
   "cell_type": "markdown",
   "metadata": {},
   "source": [
    "## 5.\n",
    "创建一个函数,用以对于给定的村庄和特征,计算观测到的同质性."
   ]
  },
  {
   "cell_type": "code",
   "execution_count": 339,
   "metadata": {},
   "outputs": [],
   "source": [
    "def homophily(G, chars, IDs):\n",
    "    \"\"\"\n",
    "    对已知的网络G, 结点的特征chars,以及网络中的结点的字典IDs, \n",
    "    计算该网络的同质性.\n",
    "    \"\"\"\n",
    "    num_same_ties = 0\n",
    "    num_ties = 0\n",
    "    for n1, n2 in G.edges():\n",
    "        if IDs[n1] in chars and IDs[n2] in chars:\n",
    "            if G.has_edge(n1, n2):\n",
    "                #==Your code\n",
    "                # `num_ties`该增加吗? `num_same_ties`呢?\n",
    "                if chars[IDs[n1]] == chars[IDs[n2]]:\n",
    "                    #==Your code\n",
    "                    # `num_ties`该增加吗? `num_same_ties`呢?\n",
    "    return(num_same_ties / num_ties) "
   ]
  },
  {
   "cell_type": "markdown",
   "metadata": {},
   "source": [
    "## 6.\n",
    "现在,我们想要得到Village 1 和Village 2的成员的个人ID. 这些值已经分别保存在key_1.csv和key_1.csv文件中了. 把它们分别读入两个序列(Series)pid1, pid2中."
   ]
  },
  {
   "cell_type": "code",
   "execution_count": 10,
   "metadata": {},
   "outputs": [],
   "source": [
    "# Enter code here!\n",
    "pid1 = \n",
    "pid2 = \n",
    "\n",
    "# 查看序列的前10行.\n",
    "# Your code"
   ]
  },
  {
   "cell_type": "markdown",
   "metadata": {},
   "source": [
    "## 7.\n",
    "对于Village 1 和Village 2, 分别计算几个网络特征(sex,caste,religion)的同质性, 并将这个结果与机会同质性做比较. 通过计算结果判断在该网络中,homophily和chance homophily哪一个更大?  \n",
    "\n",
    "Village 1 和Village 2的网络分别以networkx图的形式保存在G1和G2中.\n",
    "homophily()和chance_homophily()如前面所定义."
   ]
  },
  {
   "cell_type": "code",
   "execution_count": 11,
   "metadata": {},
   "outputs": [],
   "source": [
    "print(\"Village 1 observed proportion of same sex:\", homophily(G1, sex1, pid1))\n",
    "\n",
    "#=your code\n",
    "\n"
   ]
  },
  {
   "cell_type": "markdown",
   "metadata": {},
   "source": [
    "分析:\n",
    "\n"
   ]
  },
  {
   "cell_type": "markdown",
   "metadata": {},
   "source": [
    "参考:\n",
    "\n",
    "[1] http://www.analytictech.com/mgt780/topics/homophily.htm\n",
    "\n",
    "[2] https://www.nytimes.com/2006/12/10/magazine/10Section2a.t-4.html\n",
    "\n",
    "[3] https://www.nature.com/articles/srep00845.pdf"
   ]
  },
  {
   "cell_type": "code",
   "execution_count": null,
   "metadata": {},
   "outputs": [],
   "source": []
  }
 ],
 "metadata": {
  "kernelspec": {
   "display_name": "Python 3",
   "language": "python",
   "name": "python3"
  },
  "language_info": {
   "codemirror_mode": {
    "name": "ipython",
    "version": 3
   },
   "file_extension": ".py",
   "mimetype": "text/x-python",
   "name": "python",
   "nbconvert_exporter": "python",
   "pygments_lexer": "ipython3",
   "version": "3.5.5"
  },
  "widgets": {
   "state": {},
   "version": "1.1.2"
  }
 },
 "nbformat": 4,
 "nbformat_minor": 2
}
