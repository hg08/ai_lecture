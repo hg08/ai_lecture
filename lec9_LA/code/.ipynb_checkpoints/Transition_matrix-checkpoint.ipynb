{
 "cells": [
  {
   "cell_type": "markdown",
   "metadata": {},
   "source": [
    "## Applications of Numpy in statistical physics\n",
    "Suppose a particle can jump among the three vertex 1,2 and 3. There are three initial states, which can be represented as (1,0,0), (0,1,0) and (0,0,1). If a particle is at a certain state, then after one jump, it will jump to the other two state in probability of 1/2, respectively."
   ]
  },
  {
   "cell_type": "code",
   "execution_count": 1,
   "metadata": {},
   "outputs": [
    {
     "name": "stdout",
     "output_type": "stream",
     "text": [
      "b= [[0.5]\n",
      " [0. ]\n",
      " [0.5]]\n"
     ]
    }
   ],
   "source": [
    "#导入模块\n",
    "import numpy as np\n",
    "\n",
    "# Three-state model\n",
    "\n",
    "#创建矢量\n",
    "  #学生代码\n",
    "# the transition matrix\n",
    "T = np.mat([\n",
    "    [0,1/2,1/2],\n",
    "    [1/2,0,1/2],\n",
    "    [1/2,1/2,0]\n",
    "])\n",
    "    \n",
    "# the initial state    \n",
    "a = np.mat([\n",
    "    [0],\n",
    "    [1],\n",
    "    [0]\n",
    "])\n",
    "\n",
    "# the new state\n",
    "b = T*a\n",
    "\n",
    "\n",
    "#计算矩阵乘法\n",
    "  #学生代码\n",
    "print(\"b=\",b)"
   ]
  },
  {
   "cell_type": "code",
   "execution_count": 2,
   "metadata": {},
   "outputs": [
    {
     "name": "stdout",
     "output_type": "stream",
     "text": [
      "2 -th power of T: [[0.5  0.25 0.25]\n",
      " [0.25 0.5  0.25]\n",
      " [0.25 0.25 0.5 ]]\n",
      "4 -th power of T: [[0.375  0.3125 0.3125]\n",
      " [0.3125 0.375  0.3125]\n",
      " [0.3125 0.3125 0.375 ]]\n",
      "8 -th power of T: [[0.3359375  0.33203125 0.33203125]\n",
      " [0.33203125 0.3359375  0.33203125]\n",
      " [0.33203125 0.33203125 0.3359375 ]]\n",
      "16 -th power of T: [[0.33334351 0.33332825 0.33332825]\n",
      " [0.33332825 0.33334351 0.33332825]\n",
      " [0.33332825 0.33332825 0.33334351]]\n",
      "64 -th power of T: [[0.33333333 0.33333333 0.33333333]\n",
      " [0.33333333 0.33333333 0.33333333]\n",
      " [0.33333333 0.33333333 0.33333333]]\n"
     ]
    }
   ],
   "source": [
    "#Thermodynamical limit\n",
    "\n",
    "# the transition matrix\n",
    "T = np.mat([\n",
    "    [0,1/2,1/2],\n",
    "    [1/2,0,1/2],\n",
    "    [1/2,1/2,0]\n",
    "])\n",
    "\n",
    "n=2 \n",
    "T2 = T*T\n",
    "print(n,\"-th power of T:\",T2)\n",
    "n=4\n",
    "T4 = T*T*T2\n",
    "print(n,\"-th power of T:\",T4)\n",
    "n=8\n",
    "T8 = T*T*T*T*T4\n",
    "print(n,\"-th power of T:\",T8)\n",
    "n=16\n",
    "T16 = T*T*T*T*T*T*T*T*T8\n",
    "print(n,\"-th power of T:\",T16)\n",
    "n=64\n",
    "T64 = T16*T16*T16*T16\n",
    "print(n,\"-th power of T:\",T64)"
   ]
  },
  {
   "cell_type": "code",
   "execution_count": 3,
   "metadata": {},
   "outputs": [
    {
     "name": "stdout",
     "output_type": "stream",
     "text": [
      "64 -th power of T: [[0.33333333 0.33333333 0.33333333]\n",
      " [0.33333333 0.33333333 0.33333333]\n",
      " [0.33333333 0.33333333 0.33333333]]\n",
      "(1) When initial state 1 is: [[0]\n",
      " [1]\n",
      " [0]]\n",
      ":\n",
      "After operation of T4: [[0.3125]\n",
      " [0.375 ]\n",
      " [0.3125]]\n",
      "After operation of T16: [[0.33332825]\n",
      " [0.33334351]\n",
      " [0.33332825]]\n",
      "After operation of T64: [[0.33333333]\n",
      " [0.33333333]\n",
      " [0.33333333]]\n",
      "(2) When initial state 2 is: [[1]\n",
      " [0]\n",
      " [0]]\n",
      ":\n",
      "After operation of T4: [[0.375 ]\n",
      " [0.3125]\n",
      " [0.3125]]\n",
      "After operation of T16: [[0.33334351]\n",
      " [0.33332825]\n",
      " [0.33332825]]\n",
      "After operation of T64: [[0.33333333]\n",
      " [0.33333333]\n",
      " [0.33333333]]\n",
      "(3) When initial state 3 is: [[0.5]\n",
      " [0.5]\n",
      " [0. ]]\n",
      ":\n",
      "After operation of T4: [[0.34375]\n",
      " [0.34375]\n",
      " [0.3125 ]]\n",
      "After operation of T16: [[0.33333588]\n",
      " [0.33333588]\n",
      " [0.33332825]]\n",
      "After operation of T64: [[0.33333333]\n",
      " [0.33333333]\n",
      " [0.33333333]]\n"
     ]
    }
   ],
   "source": [
    "# The statistical properties\n",
    "\n",
    "# the transition matrix\n",
    "T = np.mat([\n",
    "    [0,1/2,1/2],\n",
    "    [1/2,0,1/2],\n",
    "    [1/2,1/2,0]\n",
    "])\n",
    "\n",
    "T4 = T*T*T*T\n",
    "T16 = T4*T4*T4*T4\n",
    "T64 = T16*T16*T16*T16\n",
    "print(n,\"-th power of T:\",T64)\n",
    "    \n",
    "# the initial state  1  \n",
    "a = np.mat([\n",
    "    [0],\n",
    "    [1],\n",
    "    [0]\n",
    "])\n",
    "print(\"(1) When initial state 1 is:\",a)\n",
    "print(\":\")\n",
    "print(\"After operation of T4:\",T4*a)\n",
    "print(\"After operation of T16:\",T16*a)\n",
    "print(\"After operation of T64:\",T64*a)\n",
    "\n",
    "#The initial state 2   \n",
    "a = np.mat([\n",
    "    [1],\n",
    "    [0],\n",
    "    [0]\n",
    "])\n",
    "print(\"(2) When initial state 2 is:\",a)\n",
    "print(\":\")\n",
    "print(\"After operation of T4:\",T4*a)\n",
    "print(\"After operation of T16:\",T16*a)\n",
    "print(\"After operation of T64:\",T64*a)\n",
    "\n",
    "\n",
    "#The initial state 3: superposition state   \n",
    "a = np.mat([\n",
    "    [1/2],\n",
    "    [1/2],\n",
    "    [0]\n",
    "])\n",
    "print(\"(3) When initial state 3 is:\",a)\n",
    "print(\":\")\n",
    "print(\"After operation of T4:\",T4*a)\n",
    "print(\"After operation of T16:\",T16*a)\n",
    "print(\"After operation of T64:\",T64*a)\n"
   ]
  },
  {
   "cell_type": "markdown",
   "metadata": {},
   "source": [
    "Conclusion: No matter what the initial state is, the system will go to the same distribution (the same final state), which is (0.33333333,0.33333333,0.33333333)."
   ]
  },
  {
   "cell_type": "markdown",
   "metadata": {},
   "source": [
    "## A Markov Model for a stock market\n",
    "Assume: The change of price is only determined by current price. Therefore, the change of price can be described as a Markove model.\n",
    "Ex. (rf.Xiao Liuqing and Zhou Shipeng,Stochastic Simulation Methods and its Applications) Tomorrow's price may be one of the three states: UP, FAIR, or DOWN. We denote them by 1, 2 and 3 respectively. We assume that:\n",
    "(1) If today is UP, then the probability of UP, Fair, and DOWN for tomorrow is: 0.3,0.2,0.5;\n",
    "(2) If today is Fair, then the probability of UP, Fair, and DOWN for tomorrow is: 0.4,0.2,0.4;\n",
    "(3) If today is DOWN, then the probability of UP, Fair, and DOWN for tomorrow is: 0.4,0.2,0.3.\n",
    "\n",
    "The transfer matrix $P$ is\n",
    "$\n",
    " \\begin{equation}\n",
    "  P=\\left(\n",
    "   \\begin{matrix}\n",
    "     0.3 & 0.2 & 0.5\\\\\n",
    "     0.4 & 0.2 & 0.4\\\\\n",
    "     0.4 & 0.3 & 0.3\n",
    "   \\end{matrix}\n",
    "   \\right).\n",
    "\\end{equation}\n",
    " $\n",
    "\n",
    "Now we can simulate the change of the stock market.\n",
    "First, we need a initial state. We assume that today the state is UP, i.e. $x_0 = 1$.\n",
    "\n",
    " Next we need to generate the random variable $x$ which satisfying the transfer probability distribution $\\{p_{11}=0.3, p_{12}=0.2, p_{13}=0.5 \\}$.\n",
    " \n",
    " In order to do this generating, we use the random numbers of continuous uniform distribution $r \\sim U(0,1)$:\n",
    " \n",
    " $\n",
    " \\begin{equation}\n",
    "  x=\n",
    "   \\begin{cases}\n",
    "     1, 0\\le r \\le p_{11} \\\\\n",
    "     2, p_{11} < r < p_{11} + P_{12}\\\\\n",
    "     3, p_{11} + p_{12} < r \\le 1. \n",
    "   \\end{cases}.\n",
    "\\end{equation}\n",
    " $\n",
    " \n",
    " We can define the accumulation distribution matrix for the transfer probability:\n",
    " \n",
    " $\n",
    " \\begin{equation}\n",
    "  C=\\left(\n",
    "   \\begin{matrix}\n",
    "     0.3 & 0.5 & 1\\\\\n",
    "     0.4 & 0.6 & 1\\\\\n",
    "     0.4 & 0.7 & 1\n",
    "   \\end{matrix}\n",
    "   \\right),\n",
    "\\end{equation}\n",
    " $\n",
    " \n",
    "where $c_{ij}= \\sum_{k=1}^j p_{ik}$ is the accumulation probability."
   ]
  },
  {
   "cell_type": "code",
   "execution_count": 29,
   "metadata": {},
   "outputs": [
    {
     "name": "stdout",
     "output_type": "stream",
     "text": [
      "transfer probability: [[0.3 0.2 0.5]\n",
      " [0.4 0.2 0.4]\n",
      " [0.4 0.3 0.3]]\n",
      "accumulation probability: [[0.3 0.5 1. ]\n",
      " [0.4 0.6 1. ]\n",
      " [0.4 0.7 1. ]]\n",
      "Choose a initial state: 3\n",
      "[1. 3. 1. 1. 1. 2. 2. 2. 3. 1. 3. 1. 2. 1. 1. 3. 1. 1. 3. 1. 1. 3. 2. 3.\n",
      " 2. 1. 3. 1. 3. 1. 3. 3. 1. 3. 1. 1. 2. 1. 3. 2. 3. 3. 3. 2. 1. 3. 2. 1.\n",
      " 1. 3. 1. 3. 1. 2. 3. 1. 2. 1. 1. 3. 2. 1. 3. 1. 2. 2. 2. 1. 3. 3. 2. 3.\n",
      " 3. 2. 1. 3. 3. 2. 3. 2. 1. 2. 2. 3. 1. 3. 1. 2. 2. 1. 2. 3. 3. 3. 1. 3.\n",
      " 1. 3. 1. 2. 2. 3. 3. 1. 3. 3. 3. 2. 1. 1. 3. 2. 3. 1. 3. 3. 3. 2. 2. 3.\n",
      " 3. 1. 2. 1. 2. 1. 3. 2. 3. 2. 1. 2. 3. 1. 2. 3. 3. 1. 3. 3. 1. 3. 2. 2.\n",
      " 3. 2. 2. 2. 3. 3. 1. 1. 3. 3. 3. 3. 2. 3. 3. 1. 3. 3. 2. 3. 2. 3. 2. 3.\n",
      " 1. 1. 3. 3. 2. 3. 1. 1. 1. 1. 2. 3. 2. 3. 3. 3. 3. 3. 1. 3. 1. 3. 2. 3.\n",
      " 1. 3. 2. 3. 1. 1. 3.]\n"
     ]
    },
    {
     "data": {
      "text/plain": [
       "([<matplotlib.axis.XTick at 0x7f44e2c37080>,\n",
       "  <matplotlib.axis.XTick at 0x7f44e2c369b0>,\n",
       "  <matplotlib.axis.XTick at 0x7f44e2c366d8>],\n",
       " <a list of 3 Text xticklabel objects>)"
      ]
     },
     "execution_count": 29,
     "metadata": {},
     "output_type": "execute_result"
    },
    {
     "data": {
      "image/png": "[encoded data removed]",
      "text/plain": [
       "<Figure size 432x288 with 1 Axes>"
      ]
     },
     "metadata": {
      "needs_background": "light"
     },
     "output_type": "display_data"
    }
   ],
   "source": [
    "import matplotlib.pyplot as plt\n",
    "from scipy.stats import uniform\n",
    "\n",
    "\n",
    "n = 25000 # iteration times\n",
    "t0 = 15000 # \n",
    "\n",
    "# the transition matrix\n",
    "T = np.array([\n",
    "    [0.3, 0.2, 0.5],\n",
    "    [0.4,0.2,0.4],\n",
    "    [0.4,0.3,0.3]\n",
    "])\n",
    "P = np.asmatrix(T)\n",
    "print(\"transfer probability:\", P)\n",
    "C = np.ones((3,3))\n",
    "C[:,0]= T[:,0]\n",
    "C[:,1]= T[:,0] + T[:,1]\n",
    "#C = np.asmatrix(C)\n",
    "print(\"accumulation probability:\",C)\n",
    "\n",
    "state = np.ones(n)\n",
    "#print(state)\n",
    "\n",
    "r = uniform.rvs(0,1,n) # the random number in (0,1)\n",
    "#print(r)\n",
    "\n",
    "i0 = input('Choose a initial state: ')\n",
    "i = int(i0)\n",
    "\n",
    "for t in range(n):\n",
    "    j = int(state[t])\n",
    "    while r[t] > C[i-1,j-1]:\n",
    "        j = j + 1\n",
    "\n",
    "    state[t] = j\n",
    "    i = j\n",
    "N=3\n",
    "ind = np.arange(N)+1\n",
    "print(state[-200:-1])\n",
    "\n",
    "plt.hist(state[t0:],bins=3,histtype=\"bar\",align=\"mid\",color=\"blue\",normed=1)\n",
    "plt.ylabel(\"Probability\")\n",
    "plt.xlabel(\"State\")\n",
    "plt.xticks(ind, ('UP', 'FAIR', 'DOWN'))\n"
   ]
  },
  {
   "cell_type": "markdown",
   "metadata": {},
   "source": [
    "Thus, we obtain that the stationary distribution is \n",
    "$\n",
    " \\begin{equation}\n",
    "  p = \\left(\n",
    "   \\begin{matrix}\n",
    "     0.3641 \\\\\n",
    "     0.2395 \\\\\n",
    "     0.3964\n",
    "   \\end{matrix}\n",
    "   \\right).\n",
    "\\end{equation}\n",
    " $\n",
    "To sum up, if we know the transfer matrix, we can predict the trend of the stock price in the future."
   ]
  },
  {
   "cell_type": "markdown",
   "metadata": {},
   "source": [
    "There are TWO QUESTIONS?\n",
    "\n",
    "(1) How can we know the transfer probabilities? ($P$)\n",
    "\n",
    "(2) Why we assume that the transfer probabilities are independent on time?"
   ]
  },
  {
   "cell_type": "markdown",
   "metadata": {},
   "source": [
    "### Application to a fund \"Xinquan Shehui Zeren\"\n",
    "First statistics: (20190120-20190506)\n",
    "\n",
    "1: UP 2: FAIR 3: DOWN \n",
    "1-1 :   6 \n",
    "1-2 :   4\n",
    "1-3 :   9   \n",
    "\n",
    "2-1 :   6\n",
    "2-2 :   5\n",
    "2-3 :   4\n",
    "\n",
    "3-1 :  11     \n",
    "3-2 :  4\n",
    "3-3 :  11 \n",
    "\n",
    "\n",
    "$p_{11}=0.1$;\n",
    "$p_{12}=1/15.$;\n",
    "$p_{13}=0.15$;\n",
    "\n",
    "\n",
    "$p_{21}=0.1$;\n",
    "$p_{22}=1/12.$;\n",
    "$p_{23}=1/15$;\n",
    "\n",
    "$p_{31}=0.11$;\n",
    "$p_{32}=1/15.$;\n",
    "$p_{33}=0.11$;\n"
   ]
  },
  {
   "cell_type": "code",
   "execution_count": 30,
   "metadata": {},
   "outputs": [
    {
     "name": "stdout",
     "output_type": "stream",
     "text": [
      "[[0.315 0.211 0.474]\n",
      " [0.4   0.332 0.268]\n",
      " [0.383 0.233 0.383]]\n",
      "[[0.315 0.526 1.   ]\n",
      " [0.4   0.732 1.   ]\n",
      " [0.383 0.616 1.   ]]\n",
      "Choose a initial state: 3\n",
      "[3. 3. 1. 3. 3. 3. 1. 3. 1. 1. 1. 3. 3. 3. 2. 1. 1. 3. 1. 3. 3. 3. 2. 2.\n",
      " 1. 3. 3. 1. 3. 3. 3. 2. 2. 3. 1. 1. 1. 1. 3. 2. 2. 3. 2. 1. 2. 1. 3. 2.\n",
      " 2. 2. 1. 3. 1. 3. 3. 1. 3. 1. 1. 1. 3. 1. 3. 1. 3. 1. 2. 3. 1. 1. 1. 2.\n",
      " 1. 1. 1. 1. 3. 2. 2. 1. 1. 3. 2. 1. 2. 2. 1. 3. 1. 2. 1. 1. 1. 1. 3. 1.\n",
      " 3. 1. 3. 1. 3. 2. 1. 3. 1. 3. 1. 3. 3. 2. 2. 1. 1. 1. 1. 3. 3. 3. 1. 1.\n",
      " 2. 1. 3. 3. 3. 1. 3. 3. 2. 1. 1. 3. 3. 3. 1. 1. 1. 3. 1. 3. 3. 1. 1. 1.\n",
      " 1. 1. 3. 1. 3. 3. 1. 3. 3. 3. 1. 3. 1. 1. 2. 1. 1. 1. 1. 2. 1. 3. 3. 2.\n",
      " 3. 3. 1. 1. 3. 3. 1. 3. 1. 1. 1. 2. 2. 1. 3. 1. 1. 2. 2. 2. 1. 3. 3. 3.\n",
      " 3. 3. 3. 3. 1. 1. 1.]\n"
     ]
    },
    {
     "data": {
      "text/plain": [
       "([<matplotlib.axis.XTick at 0x7f44e2c00da0>,\n",
       "  <matplotlib.axis.XTick at 0x7f44e2c00710>,\n",
       "  <matplotlib.axis.XTick at 0x7f44e2c00438>],\n",
       " <a list of 3 Text xticklabel objects>)"
      ]
     },
     "execution_count": 30,
     "metadata": {},
     "output_type": "execute_result"
    },
    {
     "data": {
      "image/png": "[encoded data removed]",
      "text/plain": [
       "<Figure size 432x288 with 1 Axes>"
      ]
     },
     "metadata": {
      "needs_background": "light"
     },
     "output_type": "display_data"
    }
   ],
   "source": [
    "import matplotlib.pyplot as plt\n",
    "from scipy.stats import uniform\n",
    "\n",
    "\n",
    "n = 25000 # iteration times\n",
    "t0 = 15000 # \n",
    "\n",
    "# the transition matrix\n",
    "T = np.array([\n",
    "    [0.315, 0.211, 0.474],\n",
    "    [0.4,0.332,0.268],\n",
    "    [0.383,0.233,0.383]\n",
    "])\n",
    "\n",
    "P = np.asmatrix(T)\n",
    "print(P)\n",
    "C = np.ones((3,3))\n",
    "C[:,0]= T[:,0]\n",
    "C[:,1]= T[:,0] + T[:,1]\n",
    "#C = np.asmatrix(C)\n",
    "print(C)\n",
    "\n",
    "state = np.ones(n)\n",
    "#print(state)\n",
    "\n",
    "r = uniform.rvs(0,1,n) # the random number in (0,1)\n",
    "#print(r)\n",
    "\n",
    "i0 = input('Choose a initial state: ')\n",
    "i = int(i0)\n",
    "\n",
    "for t in range(n):\n",
    "    j = int(state[t])\n",
    "    while r[t] > C[i-1,j-1]:\n",
    "        j = j + 1\n",
    "\n",
    "    state[t] = j\n",
    "    i = j\n",
    "\n",
    "print(state[-200:-1])\n",
    "\n",
    "N=3\n",
    "ind = np.arange(N)+1\n",
    "\n",
    "plt.hist(state[t0:],bins=3,histtype=\"step\",align=\"mid\",color=\"black\",normed=1)\n",
    "plt.ylabel(\"Probability\")\n",
    "plt.xlabel(\"State\")\n",
    "plt.xticks(ind, ('1', '2', '3'))\n",
    "#plt.plot(state[-20:-1])\n",
    "#plt.show()"
   ]
  },
  {
   "cell_type": "markdown",
   "metadata": {},
   "source": [
    "### Stationary distribution\n",
    "The stationary distribution is an eigen function of the transfer matrix."
   ]
  },
  {
   "cell_type": "markdown",
   "metadata": {},
   "source": [
    "## 6.3 Examples of Markov Chain MC simulations\n",
    "### 6.3.1 min neighbor domain method\n"
   ]
  },
  {
   "cell_type": "code",
   "execution_count": 43,
   "metadata": {},
   "outputs": [
    {
     "data": {
      "text/plain": [
       "([<matplotlib.axis.XTick at 0x7f44e2857be0>,\n",
       "  <matplotlib.axis.XTick at 0x7f44e2857550>,\n",
       "  <matplotlib.axis.XTick at 0x7f44e2857278>,\n",
       "  <matplotlib.axis.XTick at 0x7f44e2868e10>,\n",
       "  <matplotlib.axis.XTick at 0x7f44e28702e8>,\n",
       "  <matplotlib.axis.XTick at 0x7f44e28707b8>,\n",
       "  <matplotlib.axis.XTick at 0x7f44e2870c88>,\n",
       "  <matplotlib.axis.XTick at 0x7f44e27f91d0>,\n",
       "  <matplotlib.axis.XTick at 0x7f44e2870630>,\n",
       "  <matplotlib.axis.XTick at 0x7f44e27f95c0>,\n",
       "  <matplotlib.axis.XTick at 0x7f44e27f9a58>],\n",
       " <a list of 11 Text xticklabel objects>)"
      ]
     },
     "execution_count": 43,
     "metadata": {},
     "output_type": "execute_result"
    },
    {
     "data": {
      "image/png": "[encoded data removed]",
      "text/plain": [
       "<Figure size 432x288 with 1 Axes>"
      ]
     },
     "metadata": {
      "needs_background": "light"
     },
     "output_type": "display_data"
    }
   ],
   "source": [
    "import matplotlib.pyplot as plt\n",
    "from scipy.stats import uniform\n",
    "\n",
    "n = 25000 # iteration times\n",
    "d= np.zeros(n) # for storing data\n",
    "f = [0,1,2,3,4,5,6,5,4,3,2,1]\n",
    "x = 5\n",
    "\n",
    "for i in range(n):\n",
    "    u = uniform.rvs(0,1)\n",
    "    if x == 2:\n",
    "        if u < 0.5:\n",
    "            y = 3\n",
    "        else:\n",
    "            y = 2\n",
    "    elif x == 12:\n",
    "        if u < 0.5:\n",
    "            y = 11\n",
    "        else:\n",
    "            y = 12\n",
    "    else:\n",
    "        if u < 0.5:\n",
    "            y = x - 1\n",
    "        else:\n",
    "            y = x + 1       \n",
    "    h = min(1,f[y-1]/f[x-1])\n",
    "    u = uniform.rvs(0,1)\n",
    "    if u < h:\n",
    "        x = y\n",
    "    d[i] = x # recording data\n",
    "a = range(1,1,12)\n",
    "                \n",
    "N=11\n",
    "ind = np.arange(N)+2\n",
    "\n",
    "plt.hist(d,bins=11,histtype=\"step\",align=\"mid\",color=\"black\",normed=1)\n",
    "plt.ylabel(\"Probability\")\n",
    "plt.xlabel(\"State\")\n",
    "plt.xticks(ind, ('2', '3', '4','5','6','7','8','9','10','11','12'))"
   ]
  },
  {
   "cell_type": "code",
   "execution_count": null,
   "metadata": {},
   "outputs": [],
   "source": []
  }
 ],
 "metadata": {
  "kernelspec": {
   "display_name": "Python 3",
   "language": "python",
   "name": "python3"
  },
  "language_info": {
   "codemirror_mode": {
    "name": "ipython",
    "version": 3
   },
   "file_extension": ".py",
   "mimetype": "text/x-python",
   "name": "python",
   "nbconvert_exporter": "python",
   "pygments_lexer": "ipython3",
   "version": "3.7.1"
  }
 },
 "nbformat": 4,
 "nbformat_minor": 2
}
