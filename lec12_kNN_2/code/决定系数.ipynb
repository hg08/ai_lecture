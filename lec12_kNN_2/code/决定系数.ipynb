{
 "cells": [
  {
   "cell_type": "markdown",
   "metadata": {},
   "source": [
    "### 拟合优度\n",
    "利用score()方法评估模型. 对回归算法,它返回判定系数$R^2$之值. (coefficient of determination),又称拟合优度.\n",
    "\n",
    "$R^2$是测量回归模型好坏的一个量. 取值在[0,1]之间. $R^2=1$表示模型可以做完美的预测; $R^2=0$表示该模型只能做出预测值mean(y_train).\n",
    "\n",
    "设一数据集包括$y_1,...,y_n$共n个观察值，相对应的模型预测值分别为$f_1,...,f_n$. \n",
    "\n",
    "定义残差$e_i = y_i - f_i$，平均观察值为\n",
    "\n",
    "$\\bar{y}=\\frac{1}{n}\\sum_{i=1}^{n}y_i$.\n",
    "\n",
    "决定系数定义为\n",
    "\n",
    "$R^{2}\\equiv 1-{SS_{\\rm {res}} \\over SS_{\\rm {tot}}}$.\n",
    "\n",
    "其中,总平方和\n",
    "\n",
    "$SS_{\\text{tot}}=\\sum_{i}(y_i-{\\bar y})^2$\n",
    "\n",
    "回归平方和\n",
    "\n",
    "$SS_{\\text{reg}}=\\sum _{i}(f_{i}-{\\bar {y}})^{2}$,\n",
    "\n",
    "残差平方和\n",
    "\n",
    "$SS_{\\text{res}}=\\sum_{i}(y_{i}-f_{i})^{2}=\\sum _{i}e_{i}^{2}$."
   ]
  },
  {
   "cell_type": "code",
   "execution_count": null,
   "metadata": {},
   "outputs": [],
   "source": []
  }
 ],
 "metadata": {
  "kernelspec": {
   "display_name": "Python 3",
   "language": "python",
   "name": "python3"
  },
  "language_info": {
   "codemirror_mode": {
    "name": "ipython",
    "version": 3
   },
   "file_extension": ".py",
   "mimetype": "text/x-python",
   "name": "python",
   "nbconvert_exporter": "python",
   "pygments_lexer": "ipython3",
   "version": "3.5.5"
  },
  "widgets": {
   "state": {},
   "version": "1.1.2"
  }
 },
 "nbformat": 4,
 "nbformat_minor": 2
}
