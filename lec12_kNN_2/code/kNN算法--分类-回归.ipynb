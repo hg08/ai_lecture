{
 "cells": [
  {
   "cell_type": "markdown",
   "metadata": {},
   "source": [
    "# kNN 算法\n",
    "## 0. 机器学习基本概念"
   ]
  },
  {
   "cell_type": "markdown",
   "metadata": {},
   "source": [
    "机器学习的分类：classification \n",
    "\n",
    "监督学习： 有特征，有标签。\n",
    "\n",
    "\n",
    "邮件分类：\n",
    "标签值： 是或否 （0或1）分立的标签值。\n",
    "\n",
    "\n",
    "小李 ：\n",
    "\n",
    "特征1 特征2(feature)   目标targets（标签labels）\n",
    "\n",
    "年龄， 收入， 2000元\n",
    "\n",
    "数据集：\n",
    "\n",
    "小李 20    30000   1000  （样本）\n",
    "\n",
    "小王 30    55000   2000\n",
    "\n",
    "...\n",
    "\n",
    "小钱 \n",
    "\n",
    "\n",
    "全新的数据：\n",
    "\n",
    "小陈  40   59000   ？\n",
    "\n",
    "如果目标值可以取某个范围内的连续的值，这样一种监督学习算法，成为回归。\n",
    "如果目标值只可以取某某些分立的值（类别），这样一种监督学习算法，成为分类。\n",
    "\n",
    "两个概念\n",
    "\n",
    "训练：--> 模型\n",
    "测试： 用新的数据输入给模型，返回预测结果。\n",
    "\n",
    "训练集： 用于训练的数据集。\n",
    "测试集： 用于测试的数据集。\n",
    "\n",
    "\n",
    "非监督学习：数据集中只有特征（Features）: PCA, k-Means.\n",
    "\n",
    "强化学习：MinMax算法."
   ]
  },
  {
   "cell_type": "markdown",
   "metadata": {},
   "source": [
    "## 数据集"
   ]
  },
  {
   "cell_type": "code",
   "execution_count": 2,
   "metadata": {},
   "outputs": [],
   "source": [
    "import mglearn\n",
    "import matplotlib.pyplot as plt"
   ]
  },
  {
   "cell_type": "code",
   "execution_count": 3,
   "metadata": {},
   "outputs": [],
   "source": [
    "# 生成数据集\n",
    "X, y = mglearn.datasets.make_forge()"
   ]
  },
  {
   "cell_type": "code",
   "execution_count": 4,
   "metadata": {},
   "outputs": [
    {
     "data": {
      "text/plain": [
       "array([[ 9.96346605,  4.59676542],\n",
       "       [11.0329545 , -0.16816717],\n",
       "       [11.54155807,  5.21116083],\n",
       "       [ 8.69289001,  1.54322016]])"
      ]
     },
     "execution_count": 4,
     "metadata": {},
     "output_type": "execute_result"
    }
   ],
   "source": [
    "X[:4]"
   ]
  },
  {
   "cell_type": "code",
   "execution_count": 5,
   "metadata": {},
   "outputs": [
    {
     "data": {
      "text/plain": [
       "array([[ 9.96346605,  4.59676542],\n",
       "       [11.0329545 , -0.16816717],\n",
       "       [11.54155807,  5.21116083],\n",
       "       [ 8.69289001,  1.54322016],\n",
       "       [ 8.1062269 ,  4.28695977],\n",
       "       [ 8.30988863,  4.80623966],\n",
       "       [11.93027136,  4.64866327],\n",
       "       [ 9.67284681, -0.20283165],\n",
       "       [ 8.34810316,  5.13415623],\n",
       "       [ 8.67494727,  4.47573059],\n",
       "       [ 9.17748385,  5.09283177],\n",
       "       [10.24028948,  2.45544401],\n",
       "       [ 8.68937095,  1.48709629],\n",
       "       [ 8.92229526, -0.63993225],\n",
       "       [ 9.49123469,  4.33224792],\n",
       "       [ 9.25694192,  5.13284858],\n",
       "       [ 7.99815287,  4.8525051 ],\n",
       "       [ 8.18378052,  1.29564214],\n",
       "       [ 8.7337095 ,  2.49162431],\n",
       "       [ 9.32298256,  5.09840649],\n",
       "       [10.06393839,  0.99078055],\n",
       "       [ 9.50048972, -0.26430318],\n",
       "       [ 8.34468785,  1.63824349],\n",
       "       [ 9.50169345,  1.93824624],\n",
       "       [ 9.15072323,  5.49832246],\n",
       "       [11.563957  ,  1.3389402 ]])"
      ]
     },
     "execution_count": 5,
     "metadata": {},
     "output_type": "execute_result"
    }
   ],
   "source": [
    "X"
   ]
  },
  {
   "cell_type": "code",
   "execution_count": 6,
   "metadata": {},
   "outputs": [
    {
     "data": {
      "text/plain": [
       "array([1, 0, 1, 0, 0, 1, 1, 0, 1, 1, 1, 1, 0, 0, 1, 1, 1, 0, 0, 1, 0, 0,\n",
       "       0, 0, 1, 0])"
      ]
     },
     "execution_count": 6,
     "metadata": {},
     "output_type": "execute_result"
    }
   ],
   "source": [
    "y"
   ]
  },
  {
   "cell_type": "code",
   "execution_count": 7,
   "metadata": {},
   "outputs": [
    {
     "name": "stdout",
     "output_type": "stream",
     "text": [
      "X.shape:(26, 2)\n"
     ]
    },
    {
     "data": {
      "image/png": "[encoded data removed]",
      "text/plain": [
       "<Figure size 432x288 with 1 Axes>"
      ]
     },
     "metadata": {},
     "output_type": "display_data"
    }
   ],
   "source": [
    "mglearn.discrete_scatter(X[:,0],X[:,1], y)\n",
    "plt.legend([\"cls 0\",\"cls 1\"])\n",
    "plt.xlabel(\"X1\")\n",
    "plt.ylabel(\"X2\")\n",
    "print(\"X.shape:{}\".format(X.shape))\n",
    "plt.show()"
   ]
  },
  {
   "cell_type": "markdown",
   "metadata": {},
   "source": [
    "## 1. 求N维空间中的点的距离"
   ]
  },
  {
   "cell_type": "code",
   "execution_count": 8,
   "metadata": {},
   "outputs": [
    {
     "data": {
      "text/plain": [
       "2.1213203435596424"
      ]
     },
     "execution_count": 8,
     "metadata": {},
     "output_type": "execute_result"
    }
   ],
   "source": [
    "import numpy as np\n",
    "\n",
    "p1 = np.array([1,1.5,.5,1])\n",
    "p2 = np.array([0,0,0,0])\n",
    "\n",
    "def distance(p1,p2):\n",
    "    \"\"\"计算两点的距离\"\"\"\n",
    "    return np.sqrt(np.sum(np.power(p1-p2,2)))\n",
    "\n",
    "distance(p1,p2)"
   ]
  },
  {
   "cell_type": "markdown",
   "metadata": {},
   "source": [
    "## 2. 投票函数"
   ]
  },
  {
   "cell_type": "code",
   "execution_count": 9,
   "metadata": {},
   "outputs": [
    {
     "data": {
      "text/plain": [
       "{1: 1, 2: 5, 3: 5, 4: 1}"
      ]
     },
     "execution_count": 9,
     "metadata": {},
     "output_type": "execute_result"
    }
   ],
   "source": [
    "# count_words(text). 类似，定义： count_votes(votes)\n",
    "def count_votes(votes):\n",
    "    count_dict= {}\n",
    "    for vote in votes:\n",
    "        # 见过的vote\n",
    "        if vote in count_dict:\n",
    "            count_dict[vote] += 1\n",
    "        # 未见过的vote\n",
    "        else:\n",
    "            count_dict[vote] = 1\n",
    "    return count_dict\n",
    "\n",
    "votes = [1,2,3,4,2,2,3,2,3,2,3,3]\n",
    "vote_count = count_votes(votes)\n",
    "vote_count"
   ]
  },
  {
   "cell_type": "code",
   "execution_count": 10,
   "metadata": {},
   "outputs": [
    {
     "data": {
      "text/plain": [
       "5"
      ]
     },
     "execution_count": 10,
     "metadata": {},
     "output_type": "execute_result"
    }
   ],
   "source": [
    "max_count = max(vote_count.values())\n",
    "max_count"
   ]
  },
  {
   "cell_type": "markdown",
   "metadata": {},
   "source": [
    "items(): 同时提取出字典的关键字和对应的值"
   ]
  },
  {
   "cell_type": "code",
   "execution_count": 11,
   "metadata": {},
   "outputs": [
    {
     "ename": "NameError",
     "evalue": "name 'count' is not defined",
     "output_type": "error",
     "traceback": [
      "\u001b[1;31m---------------------------------------------------------------------------\u001b[0m",
      "\u001b[1;31mNameError\u001b[0m                                 Traceback (most recent call last)",
      "\u001b[1;32m<ipython-input-11-fe8c3674b526>\u001b[0m in \u001b[0;36m<module>\u001b[1;34m()\u001b[0m\n\u001b[0;32m      1\u001b[0m \u001b[1;32mfor\u001b[0m \u001b[0mvote\u001b[0m\u001b[1;33m,\u001b[0m\u001b[0mcounts\u001b[0m \u001b[1;32min\u001b[0m \u001b[0mvote_count\u001b[0m\u001b[1;33m.\u001b[0m\u001b[0mitems\u001b[0m\u001b[1;33m(\u001b[0m\u001b[1;33m)\u001b[0m\u001b[1;33m:\u001b[0m\u001b[1;33m\u001b[0m\u001b[0m\n\u001b[1;32m----> 2\u001b[1;33m     \u001b[0mprint\u001b[0m\u001b[1;33m(\u001b[0m\u001b[0mvote\u001b[0m\u001b[1;33m,\u001b[0m\u001b[0mcount\u001b[0m\u001b[1;33m)\u001b[0m\u001b[1;33m\u001b[0m\u001b[0m\n\u001b[0m",
      "\u001b[1;31mNameError\u001b[0m: name 'count' is not defined"
     ]
    }
   ],
   "source": [
    "for vote,counts in vote_count.items():\n",
    "    print(vote,count)"
   ]
  },
  {
   "cell_type": "code",
   "execution_count": null,
   "metadata": {},
   "outputs": [],
   "source": [
    "winner =[]\n",
    "max_count = max(vote_count.values())\n",
    "for vote,counts in vote_count.items():\n",
    "    if counts == max_count:\n",
    "        print(vote,counts)\n",
    "        winner.append(vote)\n",
    "        print(winner)"
   ]
  },
  {
   "cell_type": "code",
   "execution_count": null,
   "metadata": {},
   "outputs": [],
   "source": [
    "# 投票函数 majority_vote(votes)\n",
    "import random\n",
    "\n",
    "def majority_vote(votes):\n",
    "    count_dict= {}\n",
    "    for vote in votes:\n",
    "        # 见过的vote\n",
    "        if vote in count_dict:\n",
    "            count_dict[vote] += 1\n",
    "        # 未见过的vote\n",
    "        else:\n",
    "            count_dict[vote] = 1\n",
    "    \n",
    "    winner =[]\n",
    "    max_count = max(count_dict.values())\n",
    "    for vote,counts in count_dict.items():\n",
    "        if counts == max_count:\n",
    "            #print(vote,counts)\n",
    "            winner.append(vote)\n",
    "    return random.choice(winner)\n",
    "\n",
    "print(votes)\n",
    "print(\"count_dict:\", count_votes(votes) )\n",
    "\n",
    "majority_vote(votes)"
   ]
  },
  {
   "cell_type": "markdown",
   "metadata": {},
   "source": [
    "从一个序列中出现频率最高的元素，这个过程叫模式。（Mode）\n",
    "如何从NumPy数组中找到Mode?"
   ]
  },
  {
   "cell_type": "code",
   "execution_count": null,
   "metadata": {},
   "outputs": [],
   "source": [
    "import scipy.stats as ss\n",
    "\n",
    "def majority_vote(votes):\n",
    "    mode, count = ss.mstats.mode(votes)\n",
    "    return mode\n",
    "\n",
    "print(votes)\n",
    "majority_vote(votes)"
   ]
  },
  {
   "cell_type": "markdown",
   "metadata": {},
   "source": [
    "## 4. 如何找出最近邻居？"
   ]
  },
  {
   "cell_type": "code",
   "execution_count": null,
   "metadata": {},
   "outputs": [],
   "source": [
    "points = np.array([[-1,-1],[-1,0],[-1,1],[0,-1],[0,0],[0,1],[1,-1],[1,0],[1,1]])\n",
    "p = np.array([-.5,0])\n",
    "\n",
    "plt.plot(points[:,0],points[:,1], 'bo')\n",
    "plt.plot(p[0],p[1], 'ro')\n",
    "plt.axis([-1.5, 1.5, -1.5, 1.5])\n",
    "\n",
    "plt.show()\n"
   ]
  },
  {
   "cell_type": "code",
   "execution_count": null,
   "metadata": {},
   "outputs": [],
   "source": [
    "points = np.array([[-1,-1],[-1,0],[-1,1],[0,-1],[0,0],[0,1],[1,-1],[1,0],[1,1]])\n",
    "p = np.array([-.5,0])\n",
    "\n",
    "distances = np.zeros(points.shape[0])\n",
    "print(\"distance:\",distances)\n",
    "for i in range(len(distances)):\n",
    "     distances[i]= distance(p,points[i])\n",
    "\n",
    "print(\"distance:\",distances)\n",
    "\n",
    "plt.plot(points[:,0],points[:,1], 'bo')\n",
    "plt.plot(p[0],p[1], 'ro')\n",
    "plt.axis([-1.5, 1.5, -1.5, 1.5])\n",
    "\n",
    "plt.show()\n"
   ]
  },
  {
   "cell_type": "code",
   "execution_count": null,
   "metadata": {},
   "outputs": [],
   "source": [
    "# 定义找最近邻的函数： find_knn(p,points,k)\n",
    "def find_knn(p,points,k):\n",
    "    distances = np.zeros(points.shape[0])\n",
    "    for i in range(len(distances)):\n",
    "        distances[i]= distance(p,points[i])\n",
    "    #对distances做argsort()排序，返回索引\n",
    "    ind = np.argsort(distances)\n",
    "    #返回索引范\n",
    "    return ind[0:k]\n",
    "        \n",
    "points = np.array([[-1,-1],[-1,0],[-1,1],[0,-1],[0,0],[0,1],[1,-1],[1,0],[1,1]])\n",
    "p = np.array([-.5,0])\n",
    "find_knn(p,points,k=5)"
   ]
  },
  {
   "cell_type": "markdown",
   "metadata": {},
   "source": [
    "## 5. 预测一个新点的类别.\n",
    " 方法：找出距离p点最近的k个邻居\n",
    "      找出这些邻居落在各类的次数（类似于“词语在文本出现的频率”）"
   ]
  },
  {
   "cell_type": "code",
   "execution_count": null,
   "metadata": {},
   "outputs": [],
   "source": [
    "# knn_predict(p,points,outcomes,k)\n",
    "def knn_predict(p,points,outcomes,k=3):\n",
    "    \"\"\"返回新点p的类别\"\"\"\n",
    "    #找出最近的k个邻居\n",
    "    ind = find_knn(p,points,k)\n",
    "    #调用投票函数\n",
    "    return majority_vote(outcomes[ind])\n",
    "    \n",
    "#类别设定: 标签\n",
    "# 0: 离原点近的点\n",
    "# 1： 离原点远的点\n",
    "\n",
    "outcomes = np.array([0,0,0,0,1,1,1,1,1])\n",
    "\n",
    "points = np.array([[-1,-1],[-1,0],[-1,1],[0,-1],[0,0],[0,1],[1,-1],[1,0],[1,1]])\n",
    "p = np.array([0.3,0])\n",
    "res = knn_predict(p,points,outcomes,k=3)\n",
    "print(\"所属的类别：\",res)\n",
    "\n",
    "plt.plot(points[:,0],points[:,1], 'bo')\n",
    "plt.plot(points[:4,0],points[:4,1], 'go')\n",
    "plt.plot(p[0],p[1], 'ro')\n",
    "plt.axis([-1.5, 1.5, -1.5, 1.5])\n",
    "     "
   ]
  },
  {
   "cell_type": "markdown",
   "metadata": {},
   "source": [
    "## 6. 生成数据 "
   ]
  },
  {
   "cell_type": "code",
   "execution_count": null,
   "metadata": {},
   "outputs": [],
   "source": [
    "ss.norm(0,1).rvs((5,2))"
   ]
  },
  {
   "cell_type": "code",
   "execution_count": null,
   "metadata": {},
   "outputs": [],
   "source": [
    "ss.norm(1,1).rvs((5,2))"
   ]
  },
  {
   "cell_type": "code",
   "execution_count": null,
   "metadata": {},
   "outputs": [],
   "source": [
    "np.concatenate((ss.norm(0,1).rvs((5,2)), ss.norm(1,1).rvs((5,2))),axis=0)"
   ]
  },
  {
   "cell_type": "code",
   "execution_count": null,
   "metadata": {},
   "outputs": [],
   "source": [
    "def generate_data(n=50):\n",
    "    points = np.concatenate((ss.norm(0,1).rvs((n,2)), ss.norm(1.5,1).rvs((n,2))),axis=0)\n",
    "    outcomes = np.concatenate((np.repeat(0,n), np.repeat(1,n)))\n",
    "    return (points, outcomes)\n",
    "\n",
    "generate_data()"
   ]
  },
  {
   "cell_type": "code",
   "execution_count": null,
   "metadata": {},
   "outputs": [],
   "source": [
    "points, outcomes = generate_data(n=50)\n",
    "plt.figure()\n",
    "n=50\n",
    "plt.plot(points[:n,0],points[:n,1], 'bo')\n",
    "plt.plot(points[n:,0],points[n:,1], 'go')\n"
   ]
  },
  {
   "cell_type": "markdown",
   "metadata": {},
   "source": [
    "## 6.  生成格点(grid)\n"
   ]
  },
  {
   "cell_type": "code",
   "execution_count": null,
   "metadata": {},
   "outputs": [],
   "source": [
    "def make_pred_grid(predictors, outcomes,limits,h,k):\n",
    "    (x_min,x_max, y_min, y_max) = limits\n",
    "    xs = np.arange(x_min,x_max, h) # h: 步长\n",
    "    ys = np.arange(y_min,y_max, h) \n",
    "    xx, yy = np.meshgrid(xs,ys)\n",
    "    \n",
    "    pred_grid = np.zeros(xx.shape,dtype=int)\n",
    "    for i,x in enumerate(xs):\n",
    "        for j,y in enumerate(ys):\n",
    "            p = np.array([x,y])\n",
    "            pred_grid[j,i] = knn_predict(p,predictors,outcomes,k)\n",
    "    \n",
    "    return (xx,yy,pred_grid)"
   ]
  },
  {
   "cell_type": "markdown",
   "metadata": {},
   "source": [
    "## 7. 对格点作图"
   ]
  },
  {
   "cell_type": "code",
   "execution_count": null,
   "metadata": {},
   "outputs": [],
   "source": [
    "#import matplotlib.pyplot as plt\n",
    "# 可以下载\n",
    "def plot_pred_grid(xx, yy, prediction_grid, filename):\n",
    "    \"\"\" Plot KNN predictions for every point on the grid.\"\"\"\n",
    "    from matplotlib.colors import ListedColormap\n",
    "    background_colormap = ListedColormap ([\"hotpink\", \"yellowgreen\",\"lightskyblue\"])\n",
    "    observation_colormap = ListedColormap ([\"red\",\"blue\",\"green\"])\n",
    "    plt.figure(figsize =(10,10))\n",
    "    plt.pcolormesh(xx, yy, prediction_grid, cmap = background_colormap, alpha = 0.5)\n",
    "    plt.scatter(predictors[:,0], predictors [:,1], c = outcomes, cmap = observation_colormap, s = 50)\n",
    "    plt.xlabel(\"x1\"); plt.ylabel(\"x2\")\n",
    "    plt.xticks(()); plt.yticks(())\n",
    "    plt.xlim (np.min(xx), np.max(xx))\n",
    "    plt.ylim (np.min(yy), np.max(yy))\n",
    "    plt.savefig(filename)\n",
    "    \n",
    "\n",
    "(predictors, outcomes) = generate_data(n=50)\n",
    "k = 3\n",
    "h = 0.1\n",
    "limits =(-3,4,-3,4)\n",
    "filename = 'data_knn_5.pdf'\n",
    "(xx,yy,pred_grid) = make_pred_grid(predictors, outcomes,limits,h,k)\n",
    "plot_pred_grid(xx, yy, pred_grid, filename)\n",
    "    \n",
    "    "
   ]
  },
  {
   "cell_type": "markdown",
   "metadata": {},
   "source": [
    "## 8. Scikit-Learn"
   ]
  },
  {
   "cell_type": "code",
   "execution_count": null,
   "metadata": {},
   "outputs": [],
   "source": [
    "import pandas as pd\n",
    "\n",
    "# 生成数据集\n",
    "X_train = pd.DataFrame([[0,1],[1,0],[2,5],[3,5],[4,3]])\n",
    "y_train = [0,0,1,1,1]\n",
    "X_train"
   ]
  },
  {
   "cell_type": "code",
   "execution_count": null,
   "metadata": {},
   "outputs": [],
   "source": [
    "y"
   ]
  },
  {
   "cell_type": "markdown",
   "metadata": {},
   "source": [
    "分类器： KNeighborsClassifier(k=3)\n",
    "\n",
    "n_neighbors: \n",
    "\n",
    "weights: 权重(默认取1)\n",
    "\n",
    "algorithm: 优化的算法.\n",
    "\n"
   ]
  },
  {
   "cell_type": "code",
   "execution_count": null,
   "metadata": {},
   "outputs": [],
   "source": [
    "from sklearn.neighbors import KNeighborsClassifier\n",
    "# 实例化分类器\n",
    "model = KNeighborsClassifier(n_neighbors=3)\n",
    "#拟合： fit\n",
    "model.fit(X_train,y_train)"
   ]
  },
  {
   "cell_type": "code",
   "execution_count": null,
   "metadata": {},
   "outputs": [],
   "source": [
    "model.predict([[0,0],[2,0]])"
   ]
  },
  {
   "cell_type": "markdown",
   "metadata": {},
   "source": [
    "题目： \n",
    "数据集："
   ]
  },
  {
   "cell_type": "code",
   "execution_count": null,
   "metadata": {},
   "outputs": [],
   "source": [
    "from sklearn import datasets\n",
    "iris = datasets.load_iris()\n",
    "\n",
    "#数据集\n",
    "# iris \n",
    "# X\n",
    "predictors = iris.data[:,0:2] \n",
    "# y\n",
    "outcomes = iris.target\n",
    "\n",
    "#(1) plotting\n",
    "plt.plot(  [:,0], predictors[outcomes==0][:,1],'ro')\n",
    "plt.plot(predictors[outcomes==1][:,0], predictors[outcomes==1][:,1],'')\n",
    "\n",
    "#knn 计算\n",
    "make_pred_grid()\n",
    "plot_pred_grid()\n",
    "\n",
    "\n",
    "\n",
    "#(2) Scikitlearn KNeighborsClassifier 来实现同样的数据集的分类\n",
    "\n",
    "\n",
    "#（3）对比结果\n"
   ]
  },
  {
   "cell_type": "code",
   "execution_count": null,
   "metadata": {},
   "outputs": [],
   "source": [
    "from sklearn import datasets\n",
    "iris = datasets.load_iris()\n",
    "\n",
    "#数据集\n",
    "# iris \n",
    "# X\n",
    "predictors = iris.data[:,0:2] \n",
    "# y\n",
    "outcomes = iris.target"
   ]
  },
  {
   "cell_type": "code",
   "execution_count": null,
   "metadata": {},
   "outputs": [],
   "source": [
    "outcomes"
   ]
  },
  {
   "cell_type": "code",
   "execution_count": null,
   "metadata": {},
   "outputs": [],
   "source": [
    "## 作业"
   ]
  },
  {
   "cell_type": "markdown",
   "metadata": {},
   "source": [
    "## kNN 算法的基本操作步骤：\n",
    "    #导入sklearn相关的库\n",
    "    # 生成数据集 X，y\n",
    "    # 把数据集分离成训练集和测试集\n",
    "    # 实例化你的分类器（回归器）\n",
    "\n",
    "    #拟合fit(X,y), 生成模型\n",
    "    # 预测类别，目标值，类别的边界\n",
    "    #主要的参数： k"
   ]
  },
  {
   "cell_type": "code",
   "execution_count": 31,
   "metadata": {},
   "outputs": [
    {
     "name": "stdout",
     "output_type": "stream",
     "text": [
      "数据集数据： (19, 2)\n",
      "predictions: [0 0 0 0 0 0 0]\n",
      "准确度： 0.42857142857142855\n"
     ]
    },
    {
     "data": {
      "image/png": "[encoded data removed]",
      "text/plain": [
       "<Figure size 432x288 with 1 Axes>"
      ]
     },
     "metadata": {},
     "output_type": "display_data"
    }
   ],
   "source": [
    "import mglearn\n",
    "import matplotlib.pyplot as plt\n",
    "from sklearn.model_selection import train_test_split\n",
    "from sklearn.neighbors import KNeighborsClassifier\n",
    "\n",
    "#生成数据集\n",
    "X,y = mglearn.datasets.make_forge()\n",
    "X_train, X_test, y_train, y_test = train_test_split(X,y,random_state=0)\n",
    "print(\"数据集数据：\",X_train.shape)\n",
    "#print(\"测试数据\",X_test)\n",
    "#训练模型\n",
    "n_neighbors = 18\n",
    "clf = KNeighborsClassifier(n_neighbors=n_neighbors)\n",
    "clf.fit(X_train,y_train) # 模型 clf\n",
    "\n",
    "# 测试\n",
    "print(\"predictions: {}\".format(clf.predict(X_test)))\n",
    "print(\"准确度：\",clf.score(X_test,y_test))\n",
    "\n",
    "# Step 2:\n",
    "clf = KNeighborsClassifier(n_neighbors=n_neighbors).fit(X,y)\n",
    "\n",
    "# 散点图 scatter : 对两个特征的相关性进行分析\n",
    "# X1 增大时，X2也增大\n",
    "mglearn.plots.plot_2d_separator(clf, X, fill=True,eps=0.5, alpha=0.5)\n",
    "mglearn.discrete_scatter(X[:,0],X[:,1],y)\n",
    "plt.xlabel(\"X0\")\n",
    "plt.xlabel(\"X1\")\n",
    "plt.legend(loc=3)\n",
    "plt.show()\n"
   ]
  },
  {
   "cell_type": "markdown",
   "metadata": {},
   "source": [
    "k越大， 边界越光滑；\n",
    "\n",
    "k越大，模型越简单；k越大，模型越复杂。k极其大时，模型失去了预测能力（简单化）。\n",
    "\n",
    "k需要适当取大一点（3-10）"
   ]
  },
  {
   "cell_type": "markdown",
   "metadata": {},
   "source": [
    "k取很小时，对训练集预测准确率很高； 但是对测试集，准确率很低。"
   ]
  },
  {
   "cell_type": "markdown",
   "metadata": {},
   "source": [
    "### 什么是过拟合？欠拟合？ 如何避免过拟合？（overfitting）\n",
    "适当调整k的值."
   ]
  },
  {
   "cell_type": "code",
   "execution_count": 39,
   "metadata": {},
   "outputs": [
    {
     "data": {
      "image/png": "[encoded data removed]",
      "text/plain": [
       "<Figure size 432x288 with 1 Axes>"
      ]
     },
     "metadata": {},
     "output_type": "display_data"
    }
   ],
   "source": [
    "from sklearn.datasets import load_breast_cancer\n",
    "\n",
    "cancer = load_breast_cancer()\n",
    "X_train, X_test, y_train, y_test = train_test_split(cancer.data,cancer.target,stratify=cancer.target, random_state=3)\n",
    "\n",
    "a =[]\n",
    "a_test =[]\n",
    "\n",
    "# 对不同的k值，分别对照准确度\n",
    "neighbors = range(1,11)\n",
    "\n",
    "for n_neighbors in neighbors:\n",
    "    clf = KNeighborsClassifier(n_neighbors=n_neighbors)\n",
    "    clf.fit(X_train,y_train)\n",
    "    a.append(clf.score(X_train,y_train))\n",
    "    a_test.append(clf.score(X_test,y_test))\n",
    "\n",
    "    \n",
    "plt.plot(neighbors, a, \"o-\", label=\"training\")\n",
    "plt.plot(neighbors, a_test, \"o-\", label=\"test\")\n",
    "plt.xlabel(\"k\")\n",
    "plt.ylabel(\"Accuracy\")\n",
    "plt.legend()\n",
    "plt.show()"
   ]
  },
  {
   "cell_type": "markdown",
   "metadata": {},
   "source": [
    "## 11. kNN回归"
   ]
  },
  {
   "cell_type": "code",
   "execution_count": 41,
   "metadata": {},
   "outputs": [
    {
     "data": {
      "image/png": "[encoded data removed]",
      "text/plain": [
       "<Figure size 720x432 with 1 Axes>"
      ]
     },
     "metadata": {},
     "output_type": "display_data"
    }
   ],
   "source": [
    "# 分离数据集\n",
    "from sklearn.datasets import load_breast_cancer\n",
    "\n",
    "X,y = mglearn.datasets.make_forge()\n",
    "X_train, X_test, y_train, y_test = train_test_split(X,y,random_state=0)\n",
    "\n",
    "mglearn.plots.plot_knn_regression(n_neighbors=3)\n",
    "plt.show()\n"
   ]
  },
  {
   "cell_type": "markdown",
   "metadata": {},
   "source": [
    "### kNN回归分析"
   ]
  },
  {
   "cell_type": "code",
   "execution_count": 42,
   "metadata": {},
   "outputs": [
    {
     "data": {
      "text/plain": [
       "KNeighborsRegressor(algorithm='auto', leaf_size=30, metric='minkowski',\n",
       "          metric_params=None, n_jobs=1, n_neighbors=3, p=2,\n",
       "          weights='uniform')"
      ]
     },
     "execution_count": 42,
     "metadata": {},
     "output_type": "execute_result"
    }
   ],
   "source": [
    "from sklearn.neighbors  import KNeighborsRegressor\n",
    "X,y = mglearn.datasets.make_wave(n_samples=50)\n",
    "X_train, X_test, y_train, y_test = train_test_split(X,y,random_state=0)\n",
    "\n",
    "#回归模型\n",
    "reg = KNeighborsRegressor(n_neighbors=3)\n",
    "reg.fit(X_train,y_train)"
   ]
  },
  {
   "cell_type": "code",
   "execution_count": 43,
   "metadata": {},
   "outputs": [
    {
     "name": "stdout",
     "output_type": "stream",
     "text": [
      "X_test: [[ 0.55448741]\n",
      " [ 2.81945911]\n",
      " [-2.87649303]\n",
      " [-0.02893854]\n",
      " [ 1.39196365]\n",
      " [ 0.08540663]\n",
      " [ 1.10539816]\n",
      " [-1.97685526]\n",
      " [-1.24713211]\n",
      " [-2.06388816]\n",
      " [ 2.69331322]\n",
      " [ 1.85038409]\n",
      " [-1.80195731]]\n"
     ]
    }
   ],
   "source": [
    "print(\"X_test:\", X_test)"
   ]
  },
  {
   "cell_type": "code",
   "execution_count": 44,
   "metadata": {},
   "outputs": [
    {
     "name": "stdout",
     "output_type": "stream",
     "text": [
      "Predictions:\n",
      "[ 0.68896417  0.43848302 -0.81522381  0.1651502   0.31821632  0.32709629\n",
      " -0.17612523 -1.02098696 -0.07009828 -1.43420766  0.43848302  1.62632353\n",
      " -0.99456101]\n"
     ]
    }
   ],
   "source": [
    "print(\"Predictions:\\n{}\".format(reg.predict(X_test)))"
   ]
  },
  {
   "cell_type": "markdown",
   "metadata": {},
   "source": [
    "### 决定系数、 判定系数， 拟合优度 （reg.score()）\n",
    "取值：(0,1)区间"
   ]
  },
  {
   "cell_type": "code",
   "execution_count": 55,
   "metadata": {},
   "outputs": [
    {
     "data": {
      "image/png": "[encoded data removed]",
      "text/plain": [
       "<Figure size 432x288 with 1 Axes>"
      ]
     },
     "metadata": {},
     "output_type": "display_data"
    }
   ],
   "source": [
    "line = np.linspace(-3, 3, 1000).reshape(-1,1)\n",
    "n_neighbors = 1 # 可选\n",
    "reg = KNeighborsRegressor(n_neighbors=n_neighbors)\n",
    "reg.fit(X_train,y_train) # 模型生成\n",
    "\n",
    "X_t1= np.array([[4]])\n",
    "plt.plot(line[:,0],reg.predict(line))\n",
    "plt.plot(X_train[:,0],y_train,'o',c='r')\n",
    "plt.plot(X_test[:,0],y_test,'v',c='b')\n",
    "#plt.plot(X_t1[:,0],reg.predict(X_t1),'v',c='b')\n",
    "\n",
    "plt.title(\"{}neighbors\\n train score:{:.3f} test score:{:.3f}\".format(n_neighbors,reg.score(X_train,y_train),reg.score(X_test,y_test)))\n",
    "plt.xlabel(\"Feature\")\n",
    "plt.ylabel(\"Target\")\n",
    "plt.show()"
   ]
  },
  {
   "cell_type": "code",
   "execution_count": null,
   "metadata": {},
   "outputs": [],
   "source": []
  }
 ],
 "metadata": {
  "kernelspec": {
   "display_name": "Python 3",
   "language": "python",
   "name": "python3"
  },
  "language_info": {
   "codemirror_mode": {
    "name": "ipython",
    "version": 3
   },
   "file_extension": ".py",
   "mimetype": "text/x-python",
   "name": "python",
   "nbconvert_exporter": "python",
   "pygments_lexer": "ipython3",
   "version": "3.6.5"
  }
 },
 "nbformat": 4,
 "nbformat_minor": 2
}
