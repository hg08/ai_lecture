{
 "cells": [
  {
   "cell_type": "markdown",
   "metadata": {},
   "source": [
    "# kNN分类算法"
   ]
  },
  {
   "cell_type": "markdown",
   "metadata": {},
   "source": [
    "## 1. 数据集\n",
    "数据集的散点图,举例.  注意: matplotlib的使用."
   ]
  },
  {
   "cell_type": "code",
   "execution_count": 1,
   "metadata": {},
   "outputs": [
    {
     "ename": "ModuleNotFoundError",
     "evalue": "No module named 'mglearn'",
     "output_type": "error",
     "traceback": [
      "\u001b[1;31m---------------------------------------------------------------------------\u001b[0m",
      "\u001b[1;31mModuleNotFoundError\u001b[0m                       Traceback (most recent call last)",
      "\u001b[1;32m<ipython-input-1-3cd77360f632>\u001b[0m in \u001b[0;36m<module>\u001b[1;34m\u001b[0m\n\u001b[1;32m----> 1\u001b[1;33m \u001b[1;32mimport\u001b[0m \u001b[0mmglearn\u001b[0m\u001b[1;33m\u001b[0m\u001b[1;33m\u001b[0m\u001b[0m\n\u001b[0m\u001b[0;32m      2\u001b[0m \u001b[1;32mimport\u001b[0m \u001b[0mmatplotlib\u001b[0m\u001b[1;33m.\u001b[0m\u001b[0mpyplot\u001b[0m \u001b[1;32mas\u001b[0m \u001b[0mplt\u001b[0m\u001b[1;33m\u001b[0m\u001b[1;33m\u001b[0m\u001b[0m\n\u001b[0;32m      3\u001b[0m \u001b[1;33m\u001b[0m\u001b[0m\n\u001b[0;32m      4\u001b[0m \u001b[1;31m# generate dataset\u001b[0m\u001b[1;33m\u001b[0m\u001b[1;33m\u001b[0m\u001b[1;33m\u001b[0m\u001b[0m\n\u001b[0;32m      5\u001b[0m \u001b[0mX\u001b[0m\u001b[1;33m,\u001b[0m\u001b[0my\u001b[0m \u001b[1;33m=\u001b[0m \u001b[0mmglearn\u001b[0m\u001b[1;33m.\u001b[0m\u001b[0mdatasets\u001b[0m\u001b[1;33m.\u001b[0m\u001b[0mmake_forge\u001b[0m\u001b[1;33m(\u001b[0m\u001b[1;33m)\u001b[0m\u001b[1;33m\u001b[0m\u001b[1;33m\u001b[0m\u001b[0m\n",
      "\u001b[1;31mModuleNotFoundError\u001b[0m: No module named 'mglearn'"
     ]
    }
   ],
   "source": [
    "import mglearn\n",
    "import matplotlib.pyplot as plt\n",
    "\n",
    "# generate dataset\n",
    "X,y = mglearn.datasets.make_forge()\n",
    "# X是一个二维的np数组\n",
    "print(X[:,0])\n",
    "# y是一个一维的np数组\n",
    "\n",
    "# plot dataset\n",
    "mglearn.discrete_scatter(X[:,0],X[:,1],y)\n",
    "plt.legend([\"Class 0\", \"Class 1\"])\n",
    "plt.xlabel(\"X1\")\n",
    "plt.ylabel(\"X2\")\n",
    "print(\"X.shape:{}\".format(X.shape))\n",
    "plt.show()\n"
   ]
  },
  {
   "cell_type": "markdown",
   "metadata": {},
   "source": [
    "特征数目: 2\n",
    "样本数目: 26\n",
    "类别: 2"
   ]
  },
  {
   "cell_type": "markdown",
   "metadata": {},
   "source": [
    "kNN分类算法是最简单的机器学习算法. 我们要先自己构建该算法, 这样非常有助于我们理解.而不是简单地调用已有的库函数.\n",
    "\n",
    "\n",
    "问题: 对于一个我们从未见过的新数据(新样本),我们想知道它属于什么类别. (做图,如上.)\n",
    "\n",
    "kNN算法从整个训练集里找出离这个新数据样本最近的邻域内的样本.\n",
    "\n",
    "然后,该算法做一个关于类别的投票(mode vote),从而决定新的样本属于哪一类.\n",
    "\n",
    "因为必须计算新样本到所有训练样本的距离,\n",
    "\n",
    "kNN的执行速度依赖于类别的数目,以及样本的数目.\n",
    "\n",
    "\n",
    "我们可以用任意我们自定义的距离函数,而不必局限于欧几里得距离.\n",
    "\n",
    "极端一点的例子: 0 或1,对那些名义上的特征可用.\n",
    "    \n",
    "理解kNN比较容易,因而它称为数据科学家学习的第一个机器学习算法.\n",
    "\n",
    "当我们想用程序写一个分类器时,我们可以考虑用kNN算法."
   ]
  },
  {
   "cell_type": "markdown",
   "metadata": {},
   "source": [
    "## 2. 求N维空间中两点之间的距离\n"
   ]
  },
  {
   "cell_type": "code",
   "execution_count": 4,
   "metadata": {},
   "outputs": [
    {
     "name": "stdout",
     "output_type": "stream",
     "text": [
      "3.0\n",
      "5.744562646538029\n",
      "0.6435011087932843\n"
     ]
    }
   ],
   "source": [
    "import numpy as np\n",
    "import matplotlib.pyplot as plt\n",
    "\n",
    "def distance(p1, p2):\n",
    "    \"\"\"返回两点间的距离(欧几里得距离, Euclidean distance)\n",
    "       这个定义具有普遍性,可用于计算N维空间中的两点的距离.\n",
    "    \"\"\"\n",
    "    return np.sqrt(np.sum(np.power(p1 - p2, 2)))\n",
    "\n",
    "a = np.array([4,0])\n",
    "c = np.array([4,3])\n",
    "\n",
    "\n",
    "print(distance(a,c))\n",
    "\n",
    "x = np.array([0,0,0,0])\n",
    "y = np.array([4,3,2,2])\n",
    "\n",
    "print(distance(x,y))\n",
    "\n",
    "# 附: 求出OA与OC的夹角.\n",
    "a = np.array([4,0])\n",
    "c = np.array([4,3])\n",
    "o = np.zeros(2)\n",
    "len_OA = distance(a,o)\n",
    "len_OC = distance(c,o)\n",
    "cos_theta = np.sum(a * c) / (len_OA * len_OC)\n",
    "print(np.arccos(cos_theta))\n"
   ]
  },
  {
   "cell_type": "markdown",
   "metadata": {},
   "source": [
    "## 3. 投票函数"
   ]
  },
  {
   "cell_type": "code",
   "execution_count": 5,
   "metadata": {},
   "outputs": [
    {
     "data": {
      "text/plain": [
       "{1: 2, 2: 5, 3: 5, 4: 1}"
      ]
     },
     "execution_count": 5,
     "metadata": {},
     "output_type": "execute_result"
    }
   ],
   "source": [
    "# 类似于求词频的函数count_words(text), 定义如下函数count_votes(votes).\n",
    "\n",
    "def count_votes(votes):\n",
    "    count_dict ={}\n",
    "    for vote in votes:\n",
    "        # known word\n",
    "        if vote in count_dict:\n",
    "            count_dict[vote] += 1\n",
    "        else:\n",
    "            count_dict[vote] = 1\n",
    "    return count_dict\n",
    "\n",
    "# 定义一个序列\n",
    "votes = [1,2,1,3,4,2,2,2,3,3,2,3,3]\n",
    "\n",
    "# 调用函数,得到字典\n",
    "vote_count = count_votes(votes)\n",
    "vote_count"
   ]
  },
  {
   "cell_type": "markdown",
   "metadata": {},
   "source": [
    "在上面的例子中,序列votes中,2 出现了5次. 次数最多,频率最高. 问,我们如何把出现频率最高者找到并提取出来呢? "
   ]
  },
  {
   "cell_type": "code",
   "execution_count": 6,
   "metadata": {},
   "outputs": [
    {
     "data": {
      "text/plain": [
       "4"
      ]
     },
     "execution_count": 6,
     "metadata": {},
     "output_type": "execute_result"
    }
   ],
   "source": [
    "max(vote_count.keys())"
   ]
  },
  {
   "cell_type": "code",
   "execution_count": 7,
   "metadata": {},
   "outputs": [
    {
     "data": {
      "text/plain": [
       "5"
      ]
     },
     "execution_count": 7,
     "metadata": {},
     "output_type": "execute_result"
    }
   ],
   "source": [
    "max(vote_count.values())"
   ]
  },
  {
   "cell_type": "code",
   "execution_count": 8,
   "metadata": {},
   "outputs": [
    {
     "data": {
      "text/plain": [
       "5"
      ]
     },
     "execution_count": 8,
     "metadata": {},
     "output_type": "execute_result"
    }
   ],
   "source": [
    "max_count = max(vote_count.values())\n",
    "max_count"
   ]
  },
  {
   "cell_type": "markdown",
   "metadata": {},
   "source": [
    "items()方法: 提取出关键字和对应的值."
   ]
  },
  {
   "cell_type": "code",
   "execution_count": 9,
   "metadata": {},
   "outputs": [
    {
     "name": "stdout",
     "output_type": "stream",
     "text": [
      "1 2\n",
      "2 5\n",
      "3 5\n",
      "4 1\n"
     ]
    }
   ],
   "source": [
    "for vote, counts in vote_count.items():\n",
    "    print(vote, counts)"
   ]
  },
  {
   "cell_type": "markdown",
   "metadata": {},
   "source": [
    "一个序列中可能有多个最高频者(胜利者). 所以我们用列表来保存它们,命名为winners."
   ]
  },
  {
   "cell_type": "code",
   "execution_count": 10,
   "metadata": {},
   "outputs": [
    {
     "name": "stdout",
     "output_type": "stream",
     "text": [
      "2 5\n",
      "[2]\n",
      "3 5\n",
      "[2, 3]\n"
     ]
    }
   ],
   "source": [
    "winners = []\n",
    "max_count = max(vote_count.values())\n",
    "for vote, counts in vote_count.items():\n",
    "    if counts == max_count:\n",
    "        print(vote, counts)\n",
    "        winners.append(vote)\n",
    "        print(winners)\n"
   ]
  },
  {
   "cell_type": "markdown",
   "metadata": {},
   "source": [
    "进一步简化函数"
   ]
  },
  {
   "cell_type": "code",
   "execution_count": 11,
   "metadata": {},
   "outputs": [
    {
     "data": {
      "text/plain": [
       "[2, 3]"
      ]
     },
     "execution_count": 11,
     "metadata": {},
     "output_type": "execute_result"
    }
   ],
   "source": [
    "def majority_vote(votes):\n",
    "    count_dict ={}\n",
    "    \n",
    "    for vote in votes:\n",
    "        # 已见过的选项(vote)\n",
    "        if vote in count_dict:\n",
    "            count_dict[vote] += 1\n",
    "        # 未见过的选项\n",
    "        else:\n",
    "            count_dict[vote] = 1\n",
    "            \n",
    "    winners = []       \n",
    "    max_count = max(count_dict.values())\n",
    "    for vote, counts in count_dict.items():\n",
    "        if counts == max_count:\n",
    "            winners.append(vote)\n",
    "    return winners     # 注意缩进\n",
    "\n",
    "majority_vote(votes)"
   ]
  },
  {
   "cell_type": "markdown",
   "metadata": {},
   "source": [
    "进一步修改, 我们只需要从众多的胜利者中选出一个就可以了.所以我们随机选择一个. 引用random模块,修改如下:"
   ]
  },
  {
   "cell_type": "code",
   "execution_count": 12,
   "metadata": {},
   "outputs": [
    {
     "data": {
      "text/plain": [
       "2"
      ]
     },
     "execution_count": 12,
     "metadata": {},
     "output_type": "execute_result"
    }
   ],
   "source": [
    "import random \n",
    "\n",
    "def majority_vote(votes):\n",
    "    count_dict ={}\n",
    "    \n",
    "    for vote in votes:\n",
    "        # 已见过的选项(vote)\n",
    "        if vote in count_dict:\n",
    "            count_dict[vote] += 1\n",
    "        # 未见过的选项\n",
    "        else:\n",
    "            count_dict[vote] = 1\n",
    "            \n",
    "    winners = []       \n",
    "    max_count = max(count_dict.values())\n",
    "    for vote, counts in count_dict.items():\n",
    "        if counts == max_count:\n",
    "            winners.append(vote)\n",
    "    return random.choice(winners)\n",
    "\n",
    "majority_vote(votes)"
   ]
  },
  {
   "cell_type": "markdown",
   "metadata": {},
   "source": [
    "一个序列(或其他数据结构)中的最高频者,常称为众数（Mode）.\n",
    "\n",
    "找出一个序列中最高频的元素,是统计学中的极其常见和基本的操作. \n",
    "\n",
    "如何找到一个NumPy数组的众数呢?  \n",
    "\n",
    "scipy.stats.mode()可直接实现. \n",
    "majority_vote(votes)更简洁的版本如下:"
   ]
  },
  {
   "cell_type": "code",
   "execution_count": 13,
   "metadata": {},
   "outputs": [
    {
     "data": {
      "text/plain": [
       "array([1.])"
      ]
     },
     "execution_count": 13,
     "metadata": {},
     "output_type": "execute_result"
    }
   ],
   "source": [
    "import numpy as np\n",
    "import scipy.stats as ss # 导入scipy.stats(约定)\n",
    "\n",
    "def majority_vote_simple(votes):\n",
    "    \"\"\"\n",
    "    返回序列中的最高频元素.\n",
    "    输入:NumPy数组\n",
    "    \"\"\"\n",
    "    mode, count = ss.mstats.mode(votes)\n",
    "    return mode\n",
    "\n",
    "votes = [1,2,1,1,2,3,1,5,6,3]\n",
    "votes = np.array(votes)\n",
    "majority_vote_simple(votes)"
   ]
  },
  {
   "cell_type": "code",
   "execution_count": 14,
   "metadata": {},
   "outputs": [
    {
     "data": {
      "text/plain": [
       "2"
      ]
     },
     "execution_count": 14,
     "metadata": {},
     "output_type": "execute_result"
    }
   ],
   "source": [
    "random.choice([2])"
   ]
  },
  {
   "cell_type": "markdown",
   "metadata": {},
   "source": [
    "## 4. 如何找到最近邻居?"
   ]
  },
  {
   "cell_type": "markdown",
   "metadata": {},
   "source": [
    "### 4.1 什么是\"最近邻居\"?\n",
    "前提: 空间, 距离.\n",
    "\n",
    "操作: 比较距离的大小,排序."
   ]
  },
  {
   "cell_type": "markdown",
   "metadata": {},
   "source": [
    "### 4.2. 找出最近邻居"
   ]
  },
  {
   "cell_type": "markdown",
   "metadata": {},
   "source": [
    "\"求最近邻居算法\"之基本思想:\n",
    "\n",
    "     对所有的点:\n",
    "         求出其中一点p与其他各点的距离\n",
    "     对距离排序,并返回离p点最近的k个点 \n",
    "\n",
    "举例如下:\n",
    "       "
   ]
  },
  {
   "cell_type": "code",
   "execution_count": 15,
   "metadata": {},
   "outputs": [
    {
     "data": {
      "text/plain": [
       "[-1.5, 1.5, -1.5, 1.5]"
      ]
     },
     "execution_count": 15,
     "metadata": {},
     "output_type": "execute_result"
    },
    {
     "data": {
      "image/png": "[encoded data removed]",
      "text/plain": [
       "<Figure size 432x288 with 1 Axes>"
      ]
     },
     "metadata": {
      "needs_background": "light"
     },
     "output_type": "display_data"
    }
   ],
   "source": [
    "# 先举例:可视化所有的点\n",
    "import matplotlib.pyplot as plt\n",
    "\n",
    "points = np.array([[-1,-1],[-1,0],[-1,1],[0,-1],[0,0],[0,1],[1,-1],[1,0],[1,1]]) \n",
    "p = np.array([-.5, 0])\n",
    "\n",
    "plt.plot(points[:,0], points[:,1], \"ob\");\n",
    "plt.plot(p[0],p[1], \"or\")\n",
    "\n",
    "# 设置作图范围\n",
    "plt.axis([-1.5,1.5,-1.5,1.5])"
   ]
  },
  {
   "cell_type": "markdown",
   "metadata": {},
   "source": [
    "现在开始写函数."
   ]
  },
  {
   "cell_type": "code",
   "execution_count": 16,
   "metadata": {},
   "outputs": [
    {
     "name": "stdout",
     "output_type": "stream",
     "text": [
      "p点与序列中的点的距离: [1.11803399 0.5        1.11803399 1.11803399 0.5        1.11803399\n",
      " 1.80277564 1.5        1.80277564]\n"
     ]
    },
    {
     "data": {
      "text/plain": [
       "[-1.5, 1.5, -1.5, 1.5]"
      ]
     },
     "execution_count": 16,
     "metadata": {},
     "output_type": "execute_result"
    },
    {
     "data": {
      "image/png": "[encoded data removed]",
      "text/plain": [
       "<Figure size 432x288 with 1 Axes>"
      ]
     },
     "metadata": {
      "needs_background": "light"
     },
     "output_type": "display_data"
    }
   ],
   "source": [
    "\n",
    "import matplotlib.pyplot as plt\n",
    "\n",
    "points = np.array([[-1,-1],[-1,0],[-1,1],[0,-1],[0,0],[0,1],[1,-1],[1,0],[1,1]]) \n",
    "p = np.array([-.5, 0])\n",
    "\n",
    "distances = np.zeros(points.shape[0])\n",
    "for i in range(len(distances)):\n",
    "    distances[i] = distance(points[i],p)\n",
    "\n",
    "# 打印出points中的点与p点的距离.\n",
    "print(\"p点与序列中的点的距离:\",distances)\n",
    "\n",
    "plt.plot(points[:,0], points[:,1], \"ob\");\n",
    "plt.plot(p[0],p[1], \"or\")\n",
    "\n",
    "# 设置作图范围\n",
    "plt.axis([-1.5,1.5,-1.5,1.5])"
   ]
  },
  {
   "cell_type": "markdown",
   "metadata": {},
   "source": [
    "如何对这些距离按由小到大顺序做排序?  NumPy中有一个这样的函数argsort(). 它返回最小的k个值的index."
   ]
  },
  {
   "cell_type": "code",
   "execution_count": 17,
   "metadata": {},
   "outputs": [
    {
     "name": "stdout",
     "output_type": "stream",
     "text": [
      "[1.11803399 0.5        1.11803399 1.11803399 0.5        1.11803399\n",
      " 1.80277564 1.5        1.80277564]\n"
     ]
    },
    {
     "data": {
      "text/plain": [
       "array([1, 4, 0, 2, 3, 5, 7, 6, 8], dtype=int64)"
      ]
     },
     "execution_count": 17,
     "metadata": {},
     "output_type": "execute_result"
    }
   ],
   "source": [
    "print(distances)\n",
    "np.argsort(distances)"
   ]
  },
  {
   "cell_type": "markdown",
   "metadata": {},
   "source": [
    "最小的两个距离值是第2个点和第5个点. 距离都为0.5."
   ]
  },
  {
   "cell_type": "code",
   "execution_count": 18,
   "metadata": {},
   "outputs": [
    {
     "data": {
      "text/plain": [
       "array([0.5       , 0.5       , 1.11803399, 1.11803399, 1.11803399,\n",
       "       1.11803399, 1.5       , 1.80277564, 1.80277564])"
      ]
     },
     "execution_count": 18,
     "metadata": {},
     "output_type": "execute_result"
    }
   ],
   "source": [
    "# 将argsort()之返回值赋给一个索引对象ind.\n",
    "ind = np.argsort(distances)\n",
    "# 计算出距离值(由小到大排序):\n",
    "distances[ind]"
   ]
  },
  {
   "cell_type": "markdown",
   "metadata": {},
   "source": [
    "如果只想求距离最短的两个值,命令如下:"
   ]
  },
  {
   "cell_type": "code",
   "execution_count": 19,
   "metadata": {},
   "outputs": [
    {
     "data": {
      "text/plain": [
       "array([0.5, 0.5])"
      ]
     },
     "execution_count": 19,
     "metadata": {},
     "output_type": "execute_result"
    }
   ],
   "source": [
    "distances[ind[:2]]\n"
   ]
  },
  {
   "cell_type": "markdown",
   "metadata": {},
   "source": [
    "现在,我们可以写出求k个最近邻居的函数: find_nn(p,points,k)"
   ]
  },
  {
   "cell_type": "code",
   "execution_count": 20,
   "metadata": {},
   "outputs": [
    {
     "name": "stdout",
     "output_type": "stream",
     "text": [
      "最近的3个点的索引:\n",
      "[1 4 0]\n",
      "最近的3个点的坐标:\n",
      "[[-1  0]\n",
      " [ 0  0]\n",
      " [-1 -1]]\n"
     ]
    },
    {
     "data": {
      "text/plain": [
       "[<matplotlib.lines.Line2D at 0x1e39e7a7088>]"
      ]
     },
     "execution_count": 20,
     "metadata": {},
     "output_type": "execute_result"
    },
    {
     "data": {
      "image/png": "[encoded data removed]",
      "text/plain": [
       "<Figure size 432x288 with 1 Axes>"
      ]
     },
     "metadata": {
      "needs_background": "light"
     },
     "output_type": "display_data"
    }
   ],
   "source": [
    "def find_nn(p,points, k=3):\n",
    "    \"\"\"\n",
    "    返回(points集合中)距离p点最近的k个点的索引值.\n",
    "    \"\"\"\n",
    "    #points.shape\n",
    "    distances = np.zeros(points.shape[0])\n",
    "    for i in range(len(distances)):\n",
    "        distances[i] = distance(points[i],p)\n",
    "    ind = np.argsort(distances)\n",
    "    # 计算出距离值(由小到大排序):\n",
    "    #return ind[0:k]\n",
    "    return ind[:k]  \n",
    "\n",
    "#计算最近邻居\n",
    "k = 3\n",
    "points = np.array([[-1,-1],[-1,0],[-1,1],[0,-1],[0,0],[0,1],[1,-1],[1,0],[1,1]]) \n",
    "p = np.array([-.5, 0])\n",
    "ind = find_nn(p,points,k)\n",
    "print(\"最近的{}个点的索引:\\n{}\".format(len(ind),ind))\n",
    "print(\"最近的{}个点的坐标:\\n{}\".format(len(ind),points[ind]))\n",
    "\n",
    "#作图\n",
    "plt.plot(points[:,0],points[:,1],\"bo\")\n",
    "plt.plot(p[0],p[1],\"ro\")"
   ]
  },
  {
   "cell_type": "markdown",
   "metadata": {},
   "source": [
    "## 4. 预言一个新的点的类别(class)"
   ]
  },
  {
   "cell_type": "markdown",
   "metadata": {},
   "source": [
    "写一个函数实现:预言一个新点的类别. \n",
    "    \n",
    "    找出距离p点最近的k个邻居的索引值;\n",
    "    选出这些邻居中落在各类的次数(\"类似词语出现的频率\")\n",
    "    "
   ]
  },
  {
   "cell_type": "code",
   "execution_count": 21,
   "metadata": {},
   "outputs": [
    {
     "name": "stdout",
     "output_type": "stream",
     "text": [
      "所属类别: 1\n"
     ]
    },
    {
     "data": {
      "text/plain": [
       "[<matplotlib.lines.Line2D at 0x1e39e841ac8>]"
      ]
     },
     "execution_count": 21,
     "metadata": {},
     "output_type": "execute_result"
    },
    {
     "data": {
      "image/png": "[encoded data removed]",
      "text/plain": [
       "<Figure size 432x288 with 1 Axes>"
      ]
     },
     "metadata": {
      "needs_background": "light"
     },
     "output_type": "display_data"
    }
   ],
   "source": [
    "\n",
    "def knn_predict(p, points, outcomes, k=3):\n",
    "    \"\"\"返回新点p的类别.\"\"\"\n",
    "    ind = find_nn(p, points, k)\n",
    "    #print(\"ind: \",ind)\n",
    "    return majority_vote(outcomes[ind])\n",
    "\n",
    "# outcomes为已知点points的类别  \n",
    "outcomes = np.array([0,0,0,0,1,1,1,1,1])\n",
    "p = np.array([-.49,.5])\n",
    "points = np.array([[-1,-1],[-1,0],[-1,1],[0,-1],[0,0],[0,1],[1,-1],[1,0],[1,1]])\n",
    "res = knn_predict(p, points,outcomes,3)\n",
    "print(\"所属类别:\",res)\n",
    "\n",
    "#作图\n",
    "plt.plot(points[:,0],points[:,1],\"bo\")\n",
    "plt.plot(points[:4,0],points[:4,1], \"go\")\n",
    "plt.plot(p[0],p[1],\"ro\")"
   ]
  },
  {
   "cell_type": "markdown",
   "metadata": {},
   "source": [
    "## 5. 产生数据\n",
    "\n",
    "end points:\n",
    "\n",
    "bivariate:\n",
    "\n",
    "ipstats 模块\n"
   ]
  },
  {
   "cell_type": "code",
   "execution_count": 22,
   "metadata": {},
   "outputs": [
    {
     "data": {
      "text/plain": [
       "array([[ 1.01735171, -1.09875128],\n",
       "       [ 1.85586721, -0.82440381],\n",
       "       [ 0.48728348, -0.03902327],\n",
       "       [-0.00438748, -0.13389442],\n",
       "       [-1.49936986, -1.89588325]])"
      ]
     },
     "execution_count": 22,
     "metadata": {},
     "output_type": "execute_result"
    }
   ],
   "source": [
    "# rvs(): 随机变量\n",
    "ss.norm(0,1).rvs((5,2))"
   ]
  },
  {
   "cell_type": "code",
   "execution_count": 23,
   "metadata": {},
   "outputs": [
    {
     "data": {
      "text/plain": [
       "array([[-1.19851597,  1.8206608 ],\n",
       "       [ 0.33970617,  2.03022526],\n",
       "       [ 1.45013049,  0.43622441],\n",
       "       [ 1.65656283,  1.84010261],\n",
       "       [ 1.27341867,  1.98405738]])"
      ]
     },
     "execution_count": 23,
     "metadata": {},
     "output_type": "execute_result"
    }
   ],
   "source": [
    "ss.norm(1,1).rvs((5,2))"
   ]
  },
  {
   "cell_type": "code",
   "execution_count": 24,
   "metadata": {},
   "outputs": [
    {
     "data": {
      "text/plain": [
       "array([[-1.03276304,  0.98589273],\n",
       "       [ 0.7549507 ,  0.66944993],\n",
       "       [-0.3438156 ,  0.79923499],\n",
       "       [-1.84140653,  0.2423837 ],\n",
       "       [ 0.72558492,  1.02247953],\n",
       "       [ 1.64994471,  1.41943388],\n",
       "       [ 0.06725098,  1.35690906],\n",
       "       [ 0.90050975,  0.98744606],\n",
       "       [-0.21077018,  0.28517679],\n",
       "       [-0.27766765, -1.99474367]])"
      ]
     },
     "execution_count": 24,
     "metadata": {},
     "output_type": "execute_result"
    }
   ],
   "source": [
    "np.concatenate((ss.norm(0,1).rvs((5,2)), ss.norm(1,1).rvs((5,2))), axis =0)"
   ]
  },
  {
   "cell_type": "code",
   "execution_count": 25,
   "metadata": {},
   "outputs": [
    {
     "data": {
      "text/plain": [
       "(array([[-7.93744191e-02, -1.75421169e-01],\n",
       "        [-2.03867462e+00,  9.24284760e-01],\n",
       "        [-3.88277439e-01,  1.00785462e+00],\n",
       "        [ 1.15580235e+00, -2.15445002e+00],\n",
       "        [-1.50782759e+00, -2.40133627e-01],\n",
       "        [ 8.34661991e-01, -6.05607218e-01],\n",
       "        [ 4.25993326e-01, -8.55775229e-01],\n",
       "        [ 1.47688331e-01, -3.23068138e+00],\n",
       "        [ 1.45753648e-01, -1.62997402e+00],\n",
       "        [-4.03666297e-02,  1.75588923e+00],\n",
       "        [ 5.95178573e-01,  7.23257926e-01],\n",
       "        [ 8.00453853e-01,  4.29335282e-01],\n",
       "        [-8.34012779e-01, -2.11348626e+00],\n",
       "        [ 5.00365412e-01, -1.20457930e+00],\n",
       "        [ 1.21104722e+00,  1.25448652e+00],\n",
       "        [-2.21550868e-01, -5.95344224e-01],\n",
       "        [-1.00653520e+00,  1.38281381e-02],\n",
       "        [-2.95627247e-01,  8.78548032e-01],\n",
       "        [-1.56721286e-01,  3.09498660e-01],\n",
       "        [ 4.76624132e-01,  9.17420661e-01],\n",
       "        [-1.33212928e+00,  4.96236932e-01],\n",
       "        [ 9.18423353e-02, -9.50867747e-01],\n",
       "        [-2.23462820e+00,  4.96737215e-01],\n",
       "        [ 1.50932340e+00, -7.02780169e-01],\n",
       "        [-7.95660202e-01, -7.61598702e-03],\n",
       "        [ 1.59203365e-02,  2.56509293e+00],\n",
       "        [-1.79170039e-01, -1.11945118e+00],\n",
       "        [ 1.50970146e-01,  1.52003606e+00],\n",
       "        [ 2.84794888e-01,  9.27181797e-01],\n",
       "        [ 1.42800755e+00,  6.63284765e-01],\n",
       "        [-8.09184107e-02, -4.98499274e-01],\n",
       "        [-8.51032682e-01, -1.61532321e+00],\n",
       "        [ 1.17253300e+00, -1.73449396e-01],\n",
       "        [ 1.81019120e-01,  2.49415987e-01],\n",
       "        [ 1.53568193e+00,  8.66014892e-01],\n",
       "        [ 7.39258502e-01,  1.94030219e+00],\n",
       "        [-7.59102715e-01, -5.39274148e-01],\n",
       "        [ 1.10892329e+00,  8.67193209e-01],\n",
       "        [ 1.07608609e+00, -2.20383340e-01],\n",
       "        [ 3.80583118e-01,  1.43680303e+00],\n",
       "        [ 1.33865120e+00,  1.32345847e+00],\n",
       "        [-1.55617647e+00,  2.67792192e-01],\n",
       "        [-1.11766779e+00,  6.63757015e-01],\n",
       "        [-5.68975059e-01,  1.13153471e+00],\n",
       "        [-9.37538251e-01,  3.02132880e-01],\n",
       "        [-4.31092312e-01, -1.39649971e-01],\n",
       "        [ 1.40754650e+00, -2.05107531e-01],\n",
       "        [-3.41308203e-02, -8.55546961e-01],\n",
       "        [-1.58429703e+00, -1.79762431e+00],\n",
       "        [-1.50168012e-01, -8.38960198e-01],\n",
       "        [-2.23955478e-02, -2.67489086e-03],\n",
       "        [ 4.01859391e-01,  3.61329787e-01],\n",
       "        [ 1.47692063e+00,  1.11523801e+00],\n",
       "        [ 1.83185812e+00,  1.34649013e+00],\n",
       "        [ 1.30415888e-01,  1.69637465e-01],\n",
       "        [ 2.34677844e-01,  2.16443422e+00],\n",
       "        [ 1.00269257e+00,  2.44908910e+00],\n",
       "        [ 1.90059249e+00,  7.55520086e-01],\n",
       "        [ 2.02259045e+00,  1.25699790e+00],\n",
       "        [ 5.92886886e-01, -3.59768849e-01],\n",
       "        [ 1.20865882e+00,  9.08144219e-01],\n",
       "        [ 8.47431312e-01,  1.81353837e-01],\n",
       "        [-8.72802822e-01,  3.54064080e-01],\n",
       "        [ 2.48720310e+00,  2.66275964e+00],\n",
       "        [-9.27101036e-01,  7.22715198e-01],\n",
       "        [ 1.21538883e+00, -9.48178600e-01],\n",
       "        [ 1.41144416e+00,  8.40998129e-01],\n",
       "        [ 1.77362815e+00, -7.81644933e-03],\n",
       "        [ 1.84114403e+00,  2.72741703e-01],\n",
       "        [ 2.60527105e-01,  1.09025331e+00],\n",
       "        [ 1.72159683e+00,  1.57282201e+00],\n",
       "        [ 2.20035429e+00,  1.93533545e+00],\n",
       "        [ 4.82490861e-01,  1.37304507e+00],\n",
       "        [ 1.81574404e+00,  2.45122030e+00],\n",
       "        [ 1.39167819e+00,  3.64334289e-01],\n",
       "        [ 2.77274994e+00,  1.06271532e+00],\n",
       "        [ 1.64574808e+00,  1.13475078e+00],\n",
       "        [ 1.14194581e+00,  7.05067768e-01],\n",
       "        [ 9.63224417e-01,  2.06497656e+00],\n",
       "        [ 6.04902165e-01,  1.65699792e+00],\n",
       "        [ 1.75148283e+00,  5.86048342e-01],\n",
       "        [ 2.04131382e+00, -7.67780154e-01],\n",
       "        [ 1.51463760e+00,  1.22681725e+00],\n",
       "        [-2.93896864e-02,  1.17165228e+00],\n",
       "        [-5.96141330e-01,  1.18482889e+00],\n",
       "        [ 8.44259151e-01,  2.41021815e+00],\n",
       "        [ 1.39860778e+00, -3.16366905e-01],\n",
       "        [ 6.58493815e-01, -2.77505727e-01],\n",
       "        [ 1.90347213e+00,  1.02894177e+00],\n",
       "        [ 1.47697477e+00,  8.54233805e-01],\n",
       "        [ 1.17357321e+00,  1.36393526e+00],\n",
       "        [ 1.63077626e+00, -7.42732438e-01],\n",
       "        [ 7.87634537e-02,  6.85119574e-01],\n",
       "        [ 1.26502199e+00,  1.59744941e+00],\n",
       "        [ 2.84637397e+00,  1.38109307e+00],\n",
       "        [ 1.29314976e+00, -4.58558794e-01],\n",
       "        [ 1.49804544e+00, -1.67719181e+00],\n",
       "        [ 1.26466211e-01,  5.12417026e-01],\n",
       "        [ 7.54217334e-01,  6.24844911e-01],\n",
       "        [ 1.39464072e+00,  1.56649952e+00]]),\n",
       " array([0, 0, 0, 0, 0, 0, 0, 0, 0, 0, 0, 0, 0, 0, 0, 0, 0, 0, 0, 0, 0, 0,\n",
       "        0, 0, 0, 0, 0, 0, 0, 0, 0, 0, 0, 0, 0, 0, 0, 0, 0, 0, 0, 0, 0, 0,\n",
       "        0, 0, 0, 0, 0, 0, 1, 1, 1, 1, 1, 1, 1, 1, 1, 1, 1, 1, 1, 1, 1, 1,\n",
       "        1, 1, 1, 1, 1, 1, 1, 1, 1, 1, 1, 1, 1, 1, 1, 1, 1, 1, 1, 1, 1, 1,\n",
       "        1, 1, 1, 1, 1, 1, 1, 1, 1, 1, 1, 1]))"
      ]
     },
     "execution_count": 25,
     "metadata": {},
     "output_type": "execute_result"
    }
   ],
   "source": [
    "def generate_synth_data(n=50):\n",
    "    points = np.concatenate((ss.norm(0,1).rvs((n,2)), ss.norm(1,1).rvs((n,2))), axis =0)\n",
    "    outcomes = np.concatenate((np.repeat(0,n),np.repeat(1,n))) \n",
    "    return (points, outcomes)\n",
    "\n",
    "generate_synth_data(n=50)\n",
    "    "
   ]
  },
  {
   "cell_type": "code",
   "execution_count": 32,
   "metadata": {},
   "outputs": [
    {
     "data": {
      "image/png": "[encoded data removed]",
      "text/plain": [
       "<Figure size 432x288 with 1 Axes>"
      ]
     },
     "metadata": {
      "needs_background": "light"
     },
     "output_type": "display_data"
    }
   ],
   "source": [
    "points, outcomes = generate_synth_data(n=50)\n",
    "\n",
    "plt.figure()\n",
    "n = 50\n",
    "plt.plot(points[:n,0], points[:n,1], \"ro\",label=\"$Group 1$\")\n",
    "plt.plot(points[n:,0], points[n:,1], \"bv\",label=\"$Group 2$\")\n",
    "plt.legend()\n",
    "plt.xlabel(r\"$X_1$\")\n",
    "plt.ylabel(r\"$X_2$\")\n",
    "plt.savefig(\"bivaradata.pdf\")"
   ]
  },
  {
   "cell_type": "markdown",
   "metadata": {},
   "source": [
    "## 6. 制作预测Grid\n",
    "\n",
    "    Learn how to make a prediction grid\n",
    "    Learn how to use enumerate\n",
    "    Learn how to use NumPy meshgrid"
   ]
  },
  {
   "cell_type": "code",
   "execution_count": 2,
   "metadata": {},
   "outputs": [],
   "source": [
    "def make_pred_grid(predictors,outcomes,limits,h,k):\n",
    "    (x_min,x_max, y_min,y_max) = limits\n",
    "    xs = np.arange(x_min,x_max,h) # h, 步长\n",
    "    ys = np.arange(y_min,y_max,h)\n",
    "    xx, yy = np.meshgrid(xs,ys)\n",
    "    \n",
    "    pred_grid = np.zeros(xx.shape, dtype = int)\n",
    "    for i, x in enumerate(xs):\n",
    "        for j, y in enumerate(ys):\n",
    "            p = np.array([x,y])\n",
    "            pred_grid[j,i] = knn_predict(p,predictors,outcomes,k)\n",
    "            \n",
    "    return (xx,yy,pred_grid)"
   ]
  },
  {
   "cell_type": "markdown",
   "metadata": {},
   "source": [
    "## 7. 对格点作图 \n",
    "\n",
    "    Learn how to plot the prediction grid\n",
    "    Learn about the bias-variance tradeoff"
   ]
  },
  {
   "cell_type": "code",
   "execution_count": 3,
   "metadata": {},
   "outputs": [
    {
     "ename": "NameError",
     "evalue": "name 'generate_synth_data' is not defined",
     "output_type": "error",
     "traceback": [
      "\u001b[1;31m---------------------------------------------------------------------------\u001b[0m",
      "\u001b[1;31mNameError\u001b[0m                                 Traceback (most recent call last)",
      "\u001b[1;32m<ipython-input-3-0169e1b6780b>\u001b[0m in \u001b[0;36m<module>\u001b[1;34m\u001b[0m\n\u001b[0;32m     15\u001b[0m \u001b[1;33m\u001b[0m\u001b[0m\n\u001b[0;32m     16\u001b[0m \u001b[1;33m\u001b[0m\u001b[0m\n\u001b[1;32m---> 17\u001b[1;33m \u001b[1;33m(\u001b[0m\u001b[0mpredictors\u001b[0m\u001b[1;33m,\u001b[0m \u001b[0moutcomes\u001b[0m\u001b[1;33m)\u001b[0m \u001b[1;33m=\u001b[0m \u001b[0mgenerate_synth_data\u001b[0m\u001b[1;33m(\u001b[0m\u001b[1;33m)\u001b[0m\u001b[1;33m\u001b[0m\u001b[1;33m\u001b[0m\u001b[0m\n\u001b[0m\u001b[0;32m     18\u001b[0m \u001b[1;33m\u001b[0m\u001b[0m\n\u001b[0;32m     19\u001b[0m \u001b[0mk\u001b[0m \u001b[1;33m=\u001b[0m \u001b[1;36m5\u001b[0m \u001b[1;33m;\u001b[0m \u001b[0mfilename\u001b[0m \u001b[1;33m=\u001b[0m \u001b[1;34m\"knn_synth_5.pdf\"\u001b[0m\u001b[1;33m\u001b[0m\u001b[1;33m\u001b[0m\u001b[0m\n",
      "\u001b[1;31mNameError\u001b[0m: name 'generate_synth_data' is not defined"
     ]
    }
   ],
   "source": [
    "# 可下载\n",
    "def plot_pred_grid (xx, yy, prediction_grid, filename):\n",
    "    \"\"\" Plot KNN predictions for every point on the grid.\"\"\"\n",
    "    from matplotlib.colors import ListedColormap\n",
    "    background_colormap = ListedColormap ([\"tomato\",\"yellowgreen\",\"skyblue\" ])\n",
    "    observation_colormap = ListedColormap ([\"red\",\"blue\",\"green\"])\n",
    "    plt.figure(figsize =(10,10))\n",
    "    plt.pcolormesh(xx, yy, prediction_grid, cmap = background_colormap, alpha = 0.5)\n",
    "    plt.scatter(predictors[:,0], predictors [:,1], c = outcomes, cmap = observation_colormap, s = 50)\n",
    "    plt.xlabel(\"x1\"); plt.ylabel(\"x2\")\n",
    "    plt.xticks(()); plt.yticks(())\n",
    "    plt.xlim (np.min(xx), np.max(xx))\n",
    "    plt.ylim (np.min(yy), np.max(yy))\n",
    "    plt.savefig(filename)\n",
    "    \n",
    "\n",
    "(predictors, outcomes) = generate_synth_data()\n",
    "\n",
    "k = 5 ; filename = \"knn_synth_5.pdf\"\n",
    "limits = (-3,4,-3,4) ;   h = 0.1\n",
    "\n",
    "(xx,yy, pred_grid) = make_pred_grid(predictors,outcomes,limits,h,k)\n",
    "plot_pred_grid(xx,yy, pred_grid, filename)\n",
    "\n"
   ]
  },
  {
   "cell_type": "code",
   "execution_count": null,
   "metadata": {
    "scrolled": true
   },
   "outputs": [],
   "source": [
    "(predictors, outcomes) = generate_synth_data()\n",
    "\n",
    "k = 13 ; filename = \"knn_synth_13.pdf\"\n",
    "limits = (-3,4,-3,4) ;   h = 0.1\n",
    "\n",
    "(xx,yy, pred_grid) = make_pred_grid(predictors,outcomes,limits,h,k)\n",
    "plot_pred_grid(xx,yy, pred_grid, filename)"
   ]
  },
  {
   "cell_type": "markdown",
   "metadata": {},
   "source": [
    "## 8. Scikit-learn的使用\n"
   ]
  },
  {
   "cell_type": "code",
   "execution_count": null,
   "metadata": {},
   "outputs": [],
   "source": [
    "import pandas as pd\n",
    "# 生成数据集: X中每个样本仅有一个特征. \n",
    "X_train = pd.DataFrame([ [0], [1], [2], [3] ])\n",
    "y_train = [0, 0, 1, 1]\n",
    "X_train"
   ]
  },
  {
   "cell_type": "code",
   "execution_count": null,
   "metadata": {},
   "outputs": [],
   "source": [
    "y_train"
   ]
  },
  {
   "cell_type": "markdown",
   "metadata": {},
   "source": [
    "导入SciKit-Learn的 KNeighbors分类器. "
   ]
  },
  {
   "cell_type": "code",
   "execution_count": null,
   "metadata": {},
   "outputs": [],
   "source": [
    "from sklearn.neighbors import KNeighborsClassifier\n",
    "model = KNeighborsClassifier(n_neighbors=3)"
   ]
  },
  {
   "cell_type": "markdown",
   "metadata": {},
   "source": [
    "当我们拟合模型时,我们需要同时提供样本的特征和标签. \n",
    "\n",
    "标签矢量应该为一个形状为(n_samples,)的数组, 它应该包括每一个训练样本的标签. \n",
    "\n",
    "下面是KNeighborsClassifier 类的几个参数(都是可选参数):\n",
    "\n",
    "    n_neighbors : 邻居数目.  类别为2时,往往将n_neighbors的值取为奇数. 尤其是我们用均匀权重时..\n",
    "    weights : 每个邻居的”投票次数”.  一般设每个邻居有相同的权重值 \n",
    "    algorithm : 我们可以选择搜索训练集的优化方法以找到最近邻居."
   ]
  },
  {
   "cell_type": "code",
   "execution_count": null,
   "metadata": {},
   "outputs": [],
   "source": [
    "model.fit(X_train, y_train) "
   ]
  },
  {
   "cell_type": "code",
   "execution_count": null,
   "metadata": {},
   "outputs": [],
   "source": [
    "# 传入一个dframe或者一个数组\n",
    "model.predict([[1.1]])"
   ]
  },
  {
   "cell_type": "code",
   "execution_count": null,
   "metadata": {},
   "outputs": [],
   "source": [
    "model.predict([[1.1],[3.3]])"
   ]
  },
  {
   "cell_type": "code",
   "execution_count": null,
   "metadata": {},
   "outputs": [],
   "source": [
    "model.predict_proba([[0.9],[0.3]])"
   ]
  },
  {
   "cell_type": "code",
   "execution_count": null,
   "metadata": {},
   "outputs": [],
   "source": [
    "model.score([[0.9],[0.3]],[0,1])"
   ]
  },
  {
   "cell_type": "markdown",
   "metadata": {},
   "source": [
    "## 9. 应用kNN模型\n",
    "    应用我们自己写的kNN分类器到一个真实的数据集. \n",
    "    对比我们的kNN分类器和scikit-learn模块的kNN分类器的表现. \n",
    "    \n",
    "数据集: 150朵鸢尾花(Iris):共有三种,每种的数量为50.\n",
    "\n",
    "对每一朵花,有如下变量(covariates): \n",
    "\n",
    "    花萼(sepal)长度, 花萼宽度;\n",
    "    花瓣(petal)长度, 花瓣宽度."
   ]
  },
  {
   "cell_type": "code",
   "execution_count": null,
   "metadata": {},
   "outputs": [],
   "source": [
    "from sklearn import datasets\n",
    "iris = datasets.load_iris()\n",
    "\n",
    "#iris\n",
    "predictors = iris.data[:,0:2]\n",
    "outcomes = iris.target\n",
    "#print(outcomes == 0)\n",
    "#print(predictors[outcomes==0][:,0])\n",
    "plt.plot(predictors[outcomes==0][:,0], predictors[outcomes==0][:,1] , \"ro\")\n",
    "plt.plot(predictors[outcomes==1][:,0], predictors[outcomes==1][:,1] , \"bo\")\n",
    "plt.plot(predictors[outcomes==2][:,0], predictors[outcomes==2][:,1] , \"go\")\n",
    "plt.savefig(\"iris.svg\")"
   ]
  },
  {
   "cell_type": "code",
   "execution_count": null,
   "metadata": {},
   "outputs": [],
   "source": [
    "k = 5 ; filename = \"iris_grid.pdf\";\n",
    "limits = (4, 8.5, 1.5, 5) ;   h = 0.1\n",
    "\n",
    "(xx,yy, pred_grid) = make_pred_grid(predictors,outcomes,limits,h,k)\n",
    "plot_pred_grid(xx,yy, pred_grid, filename)"
   ]
  },
  {
   "cell_type": "code",
   "execution_count": null,
   "metadata": {},
   "outputs": [],
   "source": [
    "from sklearn.neighbors import KNeighborsClassifier\n",
    "\n",
    "# 建立knn模型\n",
    "knn = KNeighborsClassifier(n_neighbors = 5)\n",
    "knn.fit(predictors,outcomes)\n",
    "sk_predictions = knn.predict(predictors)"
   ]
  },
  {
   "cell_type": "code",
   "execution_count": null,
   "metadata": {},
   "outputs": [],
   "source": [
    "sk_predictions.shape"
   ]
  },
  {
   "cell_type": "code",
   "execution_count": null,
   "metadata": {},
   "outputs": [],
   "source": [
    "sk_predictions[:10]"
   ]
  },
  {
   "cell_type": "code",
   "execution_count": null,
   "metadata": {},
   "outputs": [],
   "source": [
    "my_predictions = np.array([knn_predict(p,predictors, outcomes, 5) for p in predictors])\n",
    "my_predictions"
   ]
  },
  {
   "cell_type": "code",
   "execution_count": null,
   "metadata": {},
   "outputs": [],
   "source": [
    "my_predictions == sk_predictions"
   ]
  },
  {
   "cell_type": "code",
   "execution_count": null,
   "metadata": {},
   "outputs": [],
   "source": [
    "# 两种算法的对比\n",
    "print(100 * np.mean(my_predictions == sk_predictions))"
   ]
  },
  {
   "cell_type": "code",
   "execution_count": null,
   "metadata": {},
   "outputs": [],
   "source": [
    "# 计算准确率\n",
    "print(100 * np.mean(my_predictions == outcomes))\n",
    "print(100 * np.mean(sk_predictions == outcomes))"
   ]
  },
  {
   "cell_type": "markdown",
   "metadata": {},
   "source": [
    "## 小结:\n",
    "    1. kNN is particularly useful when no other model fits your data well, \n",
    "    因为它是一个不需要参数的分类方法. 例如,你不需要考虑你的数据是线性可分还是线性不可分.\n",
    "    \n",
    "    2. 要想用kNN算法,我们的数据必须是可测的(数据集上有距离可以定义出来)."
   ]
  },
  {
   "cell_type": "markdown",
   "metadata": {},
   "source": [
    "## 10. kNN应用(2)\n",
    "mglearn.plots.plot_classification()"
   ]
  },
  {
   "cell_type": "code",
   "execution_count": null,
   "metadata": {},
   "outputs": [],
   "source": [
    "import mglearn  \n",
    "import matplotlib.pyplot as plt  \n",
    "from sklearn.datasets import load_boston  \n",
    "  \n",
    "boston = load_boston()  \n",
    "  \n",
    "print(\"数据形状:{}\".format(boston.data.shape))  \n",
    "\n",
    "# 生成扩展数据集  \n",
    "X, y = mglearn.datasets.load_extended_boston()  \n",
    "print(\"X.shape:{}\".format(X.shape))  \n",
    "    \n",
    "mglearn.plots.plot_knn_classification(n_neighbors=1)  \n",
    "plt.show()  "
   ]
  },
  {
   "cell_type": "markdown",
   "metadata": {},
   "source": [
    "(2)计算决策边界."
   ]
  },
  {
   "cell_type": "code",
   "execution_count": null,
   "metadata": {},
   "outputs": [],
   "source": [
    "from sklearn.model_selection import train_test_split  \n",
    "from sklearn.neighbors import KNeighborsClassifier    \n",
    "X,y = mglearn.datasets.make_forge()  \n",
    "X_train, X_test, y_train, y_test = train_test_split(X,y, random_state=0)  \n",
    "\n",
    "n_neighbors =1\n",
    "# KNeighborsClassifier类的实例化 \n",
    "clf = KNeighborsClassifier(n_neighbors= n_neighbors)  \n",
    "clf.fit(X_train, y_train)  \n",
    "print(\"测试集预测: {}\".format(clf.predict(X_test)))  \n",
    "print(\"测试集准确度: {:.3f}\".format(clf.score(X_test,y_test)))  \n",
    "\n",
    "clf = KNeighborsClassifier(n_neighbors=n_neighbors).fit(X,y) \n",
    "#边界\n",
    "mglearn.plots.plot_2d_separator(clf, X, fill=True, eps=0.5, alpha=0.4)  \n",
    "# 散点图\n",
    "mglearn.discrete_scatter(X[:,0],X[:,1],y)  \n",
    "plt.title(\"{} neighbor(s)\".format(n_neighbors))  \n",
    "plt.xlabel(\"X0\")  \n",
    "plt.ylabel(\"X1\")  \n",
    "plt.legend(loc=3)  \n",
    "plt.show()  "
   ]
  },
  {
   "cell_type": "markdown",
   "metadata": {},
   "source": [
    "k越大,边界越光滑.\n",
    "\n",
    "k越小,模型越复杂.(复杂度大)\n",
    "\n",
    "k越大,模型越简单. \n",
    "\n",
    "k极其大,所有测试数据对应预测值都一样.\n"
   ]
  },
  {
   "cell_type": "markdown",
   "metadata": {},
   "source": [
    "(3) 测试性能和准确度."
   ]
  },
  {
   "cell_type": "code",
   "execution_count": null,
   "metadata": {},
   "outputs": [],
   "source": [
    "from sklearn.datasets import load_breast_cancer   \n",
    " \n",
    "cancer = load_breast_cancer()  \n",
    "X_train, X_test, y_train, y_test = train_test_split(  \n",
    "        cancer.data, cancer.target, stratify=cancer.target, random_state=6)  \n",
    " \n",
    "training_accuracy = []  \n",
    "test_accuracy = []  \n",
    "  \n",
    "# try n_neighbors from 1 to 10  \n",
    "neighbors = range(1,11)  \n",
    "  \n",
    "for n_neighbors in neighbors:  \n",
    "    # build the model  \n",
    "    clf = KNeighborsClassifier(n_neighbors=n_neighbors)  \n",
    "    clf.fit(X_train,y_train)  \n",
    "    #record training set accuracy  \n",
    "    training_accuracy.append(clf.score(X_train,y_train))  \n",
    "    #record generalization accuracy  \n",
    "    test_accuracy.append(clf.score(X_test,y_test))  \n",
    "  \n",
    "plt.plot(neighbors,training_accuracy,  \"o-\",label=\"training\")  \n",
    "plt.plot(neighbors,test_accuracy,  \"o-\",label=\"test\")  \n",
    "plt.ylabel(\"Accuracy\")  \n",
    "plt.xlabel(\"k\")  \n",
    "plt.legend()  "
   ]
  },
  {
   "cell_type": "markdown",
   "metadata": {},
   "source": [
    "k越小,模型越复杂.(复杂度大,过拟合: 对于训练集的预测是完美的.但对于测试集的预测表现很差劲. Too complex Model!)\n",
    "\n",
    "随着k增大,模型越来越简单. 训练集上的准确度降低.但测试集上的准确度逐渐增大.\n",
    "\n",
    "当k过大时,测试集上的准确度甚至比单邻居情形更惨. 表现很好的模型是k位于[1,10]之间的某个值的哪些模型.\n",
    "(注意:这里的模型表现都还不错!)\n",
    "\n",
    "\n",
    "当k取得极其大,所有测试数据对应预测值都一样."
   ]
  },
  {
   "cell_type": "markdown",
   "metadata": {},
   "source": [
    "## 11. kNN回归算法(了解)"
   ]
  },
  {
   "cell_type": "code",
   "execution_count": null,
   "metadata": {},
   "outputs": [],
   "source": [
    "from sklearn.model_selection import train_test_split   \n",
    "from sklearn.datasets import load_breast_cancer  \n",
    "#import matplotlib.pyplot as plt  \n",
    "#import mglearn  \n",
    "  \n",
    "X,y = mglearn.datasets.make_forge() \n",
    "# 数据集分割\n",
    "X_train, X_test, y_train, y_test = train_test_split(X, y, random_state=0)  \n",
    "# 选单个邻居数为1时, 目标值就是其最近邻居之目标值.(这就是k=1时的kNN回归) \n",
    "mglearn.plots.plot_knn_regression(n_neighbors=1)\n",
    "plt.show() "
   ]
  },
  {
   "cell_type": "code",
   "execution_count": null,
   "metadata": {},
   "outputs": [],
   "source": [
    "X,y = mglearn.datasets.make_forge() \n",
    "# 数据集分割\n",
    "X_train, X_test, y_train, y_test = train_test_split(X, y, random_state=0)  \n",
    "# 选单个邻居数为3时, 目标值就是其最近3个邻居之目标值之平均值.(这就是k=3时的kNN回归) \n",
    "mglearn.plots.plot_knn_regression(n_neighbors=3)\n",
    "plt.show() "
   ]
  },
  {
   "cell_type": "code",
   "execution_count": null,
   "metadata": {},
   "outputs": [],
   "source": [
    "from sklearn.neighbors import KNeighborsRegressor\n",
    "X,y = mglearn.datasets.make_wave(n_samples=40)\n",
    "# 分割数据集\n",
    "X_train, X_test, y_train, y_test = train_test_split(X, y, random_state=0)\n",
    "# 实例化模型,k=3\n",
    "reg = KNeighborsRegressor(n_neighbors=3)\n",
    "# 利用数据拟合模型\n",
    "reg.fit(X_train,y_train)"
   ]
  },
  {
   "cell_type": "code",
   "execution_count": null,
   "metadata": {},
   "outputs": [],
   "source": [
    "# 现在在新的数据集上做预测\n",
    "print(\"X_test:\",X_test)\n",
    "print(\"Test set predictions:\\n{}\".format(reg.predict(X_test)))"
   ]
  },
  {
   "cell_type": "markdown",
   "metadata": {},
   "source": [
    "### 拟合优度\n",
    "利用score()方法评估模型. 对回归算法,它返回判定系数$R^2$之值. (coefficient of determination),又称拟合优度.\n",
    "\n",
    "$R^2$是测量回归模型好坏的一个量. 取值在[0,1]之间. $R^2=1$表示模型可以做完美的预测; $R^2=0$表示该模型只能做出预测值mean(y_train).\n",
    "\n",
    "设一数据集包括$y_1,...,y_n$共n个观察值，相对应的模型预测值分别为$f_1,...,f_n$. \n",
    "\n",
    "定义残差$e_i = y_i - f_i$，平均观察值为\n",
    "\n",
    "$\\bar{y}=\\frac{1}{n}\\sum_{i=1}^{n}y_i$.\n",
    "\n",
    "决定系数定义为\n",
    "\n",
    "$R^{2}\\equiv 1-{SS_{\\rm {res}} \\over SS_{\\rm {tot}}}$.\n",
    "\n",
    "其中,总平方和\n",
    "\n",
    "$SS_{\\text{tot}}=\\sum_{i}(y_i-{\\bar y})^2$\n",
    "\n",
    "回归平方和\n",
    "\n",
    "$SS_{\\text{reg}}=\\sum _{i}(f_{i}-{\\bar {y}})^{2}$,\n",
    "\n",
    "残差平方和\n",
    "\n",
    "$SS_{\\text{res}}=\\sum_{i}(y_{i}-f_{i})^{2}=\\sum _{i}e_{i}^{2}$,\n",
    "\n"
   ]
  },
  {
   "cell_type": "code",
   "execution_count": null,
   "metadata": {},
   "outputs": [],
   "source": [
    "print(\"测试集拟合优度:{:.3f}\".format(reg.score(X_test,y_test)))"
   ]
  },
  {
   "cell_type": "markdown",
   "metadata": {},
   "source": [
    "### kNN回归分析"
   ]
  },
  {
   "cell_type": "code",
   "execution_count": null,
   "metadata": {},
   "outputs": [],
   "source": [
    "#如果数据仅有一个特征,利用array.reshape(-1, 1)改变数组形状;\n",
    "#如果数据中仅包含一个样本,则可利用array.reshape(1, -1)改变数组形状.\n",
    "line = np.linspace(-3,3, 1000).reshape(-1,1)\n",
    "n_neighbors = 1 # 可改变k值\n",
    "reg = KNeighborsRegressor(n_neighbors=n_neighbors)\n",
    "reg.fit(X_train,y_train)\n",
    "plt.plot(line[:,0], reg.predict(line))\n",
    "plt.plot(X_train[:,0],y_train, \"o\", c=\"r\")\n",
    "plt.plot(X_test[:,0],y_test, \"v\", c=\"b\")\n",
    "\n",
    "plt.title(\"{} neighbor(s)\\n train score:{:.2f} test score: {:.2f}\".format(n_neighbors, reg.score(X_train,y_train),\n",
    "                                                                          reg.score(X_test,y_test)))\n",
    "plt.xlabel(\"Feature\")\n",
    "plt.ylabel(\"Target\")\n",
    "plt.legend([\"Predictions\", \"Training data/target\", \"Test data/target\"])"
   ]
  }
 ],
 "metadata": {
  "kernelspec": {
   "display_name": "Python 3",
   "language": "python",
   "name": "python3"
  },
  "language_info": {
   "codemirror_mode": {
    "name": "ipython",
    "version": 3
   },
   "file_extension": ".py",
   "mimetype": "text/x-python",
   "name": "python",
   "nbconvert_exporter": "python",
   "pygments_lexer": "ipython3",
   "version": "3.7.4"
  },
  "widgets": {
   "state": {},
   "version": "1.1.2"
  }
 },
 "nbformat": 4,
 "nbformat_minor": 2
}
