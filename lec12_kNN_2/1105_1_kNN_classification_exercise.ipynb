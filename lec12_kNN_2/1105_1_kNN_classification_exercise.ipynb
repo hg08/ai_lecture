{
 "cells": [
  {
   "cell_type": "markdown",
   "metadata": {},
   "source": [
    "#### kNN分类算法分析-kNN回归 习题"
   ]
  },
  {
   "cell_type": "code",
   "execution_count": 1,
   "metadata": {},
   "outputs": [
    {
     "name": "stderr",
     "output_type": "stream",
     "text": [
      "D:\\Programs\\Conda\\lib\\site-packages\\sklearn\\externals\\six.py:31: DeprecationWarning: The module is deprecated in version 0.21 and will be removed in version 0.23 since we've dropped support for Python 2.7. Please rely on the official version of six (https://pypi.org/project/six/).\n",
      "  \"(https://pypi.org/project/six/).\", DeprecationWarning)\n",
      "D:\\Programs\\Conda\\lib\\site-packages\\sklearn\\externals\\joblib\\__init__.py:15: DeprecationWarning: sklearn.externals.joblib is deprecated in 0.21 and will be removed in 0.23. Please import this functionality directly from joblib, which can be installed with: pip install joblib. If this warning is raised when loading pickled models, you may need to re-serialize those models with scikit-learn 0.21+.\n",
      "  warnings.warn(msg, category=DeprecationWarning)\n"
     ]
    }
   ],
   "source": [
    "import mglearn\n",
    "import matplotlib.pyplot as plt\n"
   ]
  },
  {
   "cell_type": "code",
   "execution_count": 1,
   "metadata": {},
   "outputs": [],
   "source": [
    "import numpy as np\n",
    "import matplotlib.pyplot as plt\n",
    "\n",
    "def distance(p1, p2):\n",
    "    \"\"\"返回两点间的距离(欧几里得距离, Euclidean distance)\n",
    "       这个定义具有普遍性,可用于计算N维空间中的两点的距离.\n",
    "    \"\"\"\n",
    "    return np.sqrt(np.sum(np.power(p1 - p2, 2)))"
   ]
  },
  {
   "cell_type": "markdown",
   "metadata": {},
   "source": [
    "#### 导入SciKit-Learn的 KNeighbors分类器. "
   ]
  },
  {
   "cell_type": "code",
   "execution_count": 2,
   "metadata": {},
   "outputs": [],
   "source": [
    "import pandas as pd\n",
    "from sklearn.neighbors import KNeighborsClassifier\n",
    "model = KNeighborsClassifier(n_neighbors=3)"
   ]
  },
  {
   "cell_type": "markdown",
   "metadata": {},
   "source": [
    "# 习题: 应用kNN模型\n",
    "应用我们自己写的kNN分类器到一个真实的数据集,并对比我们的kNN分类器和scikit-learn模块的kNN分类器的表现. \n",
    "    \n",
    "数据集: 150朵鸢尾花(Iris):共有三种,每种的数量为50.\n",
    "对每一朵花,有如下变量(covariates): \n",
    "\n",
    "    花萼(sepal)长度, 花萼宽度;\n",
    "    花瓣(petal)长度, 花瓣宽度."
   ]
  },
  {
   "cell_type": "code",
   "execution_count": 3,
   "metadata": {},
   "outputs": [
    {
     "data": {
      "image/png": "[encoded data removed]",
      "text/plain": [
       "<Figure size 432x288 with 1 Axes>"
      ]
     },
     "metadata": {
      "needs_background": "light"
     },
     "output_type": "display_data"
    }
   ],
   "source": [
    "from sklearn import datasets\n",
    "iris = datasets.load_iris()\n",
    "\n",
    "#将iris数据集的部分列作为我们的数据集\n",
    "predictors = iris.data[:,0:2]\n",
    "outcomes = iris.target\n",
    "#print(outcomes == 0)\n",
    "#print(predictors[outcomes==0][:,0])\n",
    "plt.plot(predictors[outcomes==0][:,0], predictors[outcomes==0][:,1] , \"ro\")\n",
    "# 数据集中一共有三种鸢尾花,上面一行命令已经对第一种花的特征作图.对另外两种鸢尾花的特征作图.\n",
    "# ==your code\n",
    "\n",
    "plt.savefig(\"iris.svg\")"
   ]
  },
  {
   "cell_type": "code",
   "execution_count": 5,
   "metadata": {},
   "outputs": [],
   "source": [
    "#请确定三种花在特征空间中的边界. \n",
    "# 设置各个参数, 然后利用make_pred_grid()和plot_pred_grid().\n",
    "\n",
    "#==your code:\n"
   ]
  },
  {
   "cell_type": "code",
   "execution_count": 6,
   "metadata": {},
   "outputs": [],
   "source": [
    "# 利用scikit-learn模块作分类预测,并将预测结果 (sk_predictions)与knn_predict(p, predictors, outcomes,k)的结果(my_predictions)作比较.\n",
    "\n",
    "from sklearn.neighbors import KNeighborsClassifier\n",
    "\n",
    "# 建立knn模分类模型并作预测"
   ]
  },
  {
   "cell_type": "code",
   "execution_count": 8,
   "metadata": {},
   "outputs": [],
   "source": [
    "sk_predictions.shape"
   ]
  },
  {
   "cell_type": "code",
   "execution_count": 30,
   "metadata": {},
   "outputs": [
    {
     "data": {
      "text/plain": [
       "array([0, 0, 0, 0, 0, 0, 0, 0, 0, 0])"
      ]
     },
     "execution_count": 30,
     "metadata": {},
     "output_type": "execute_result"
    }
   ],
   "source": [
    "sk_predictions[:10]"
   ]
  },
  {
   "cell_type": "code",
   "execution_count": 24,
   "metadata": {},
   "outputs": [],
   "source": [
    " # 打印出knn_predict(p, predictors, outcomes,k)的结果: my_predictions"
   ]
  },
  {
   "cell_type": "code",
   "execution_count": 25,
   "metadata": {},
   "outputs": [],
   "source": [
    "#将预测结果 (sk_predictions)与knn_predict(p, predictors, outcomes,k)的结果(my_predictions)作比较\n",
    "#== your code"
   ]
  },
  {
   "cell_type": "code",
   "execution_count": 27,
   "metadata": {},
   "outputs": [],
   "source": [
    "# 两种算法的对比(直接运行下面的命令)\n",
    "# print(100 * np.mean(my_predictions == sk_predictions))"
   ]
  },
  {
   "cell_type": "code",
   "execution_count": 26,
   "metadata": {},
   "outputs": [],
   "source": [
    "# 对两种算法分别计算准确率\n"
   ]
  }
 ],
 "metadata": {
  "kernelspec": {
   "display_name": "Python 3",
   "language": "python",
   "name": "python3"
  },
  "language_info": {
   "codemirror_mode": {
    "name": "ipython",
    "version": 3
   },
   "file_extension": ".py",
   "mimetype": "text/x-python",
   "name": "python",
   "nbconvert_exporter": "python",
   "pygments_lexer": "ipython3",
   "version": "3.7.4"
  },
  "widgets": {
   "state": {},
   "version": "1.1.2"
  }
 },
 "nbformat": 4,
 "nbformat_minor": 2
}
