{
 "cells": [
  {
   "cell_type": "markdown",
   "metadata": {},
   "source": [
    "在拼接字符串时，最常见的情形是直接将两个字符串拼接起来。我们看例子，如下。"
   ]
  },
  {
   "cell_type": "code",
   "execution_count": 7,
   "metadata": {},
   "outputs": [
    {
     "data": {
      "text/plain": [
       "'50'"
      ]
     },
     "execution_count": 7,
     "metadata": {},
     "output_type": "execute_result"
    }
   ],
   "source": [
    "# 拼接字符串\n",
    "s1 = '5'\n",
    "s2 = '0'\n",
    "''.join([s1,s2])"
   ]
  },
  {
   "cell_type": "markdown",
   "metadata": {},
   "source": [
    "此时，连接符号是一个字符串对象，在Python中写作\"\"或者''. join()是这个字符串对象('')上的一个方法。\n",
    "join()方法的参数是一个列表，join会将列表里的元素依次以拼接字符串('')拼接成一个字符串。 我们看长一些的列表如何拼接。"
   ]
  },
  {
   "cell_type": "code",
   "execution_count": 8,
   "metadata": {},
   "outputs": [
    {
     "data": {
      "text/plain": [
       "'xyz'"
      ]
     },
     "execution_count": 8,
     "metadata": {},
     "output_type": "execute_result"
    }
   ],
   "source": [
    "# 拼接字符串\n",
    "s1 = 'x'\n",
    "s2 = 'y'\n",
    "s3 = 'z'\n",
    "''.join([s1,s2,s3])"
   ]
  },
  {
   "cell_type": "markdown",
   "metadata": {},
   "source": [
    "除了('')以外，任意字符串都可以做为拼接多个字符串时的连接符号。如分号(;)，逗号(,),以至于任意你定义的字符串。"
   ]
  },
  {
   "cell_type": "code",
   "execution_count": 9,
   "metadata": {},
   "outputs": [
    {
     "data": {
      "text/plain": [
       "'x;y'"
      ]
     },
     "execution_count": 9,
     "metadata": {},
     "output_type": "execute_result"
    }
   ],
   "source": [
    "s1 = 'x'\n",
    "s2 = 'y'\n",
    "';'.join([s1,s2])"
   ]
  },
  {
   "cell_type": "code",
   "execution_count": 10,
   "metadata": {},
   "outputs": [
    {
     "data": {
      "text/plain": [
       "'x爱上了y'"
      ]
     },
     "execution_count": 10,
     "metadata": {},
     "output_type": "execute_result"
    }
   ],
   "source": [
    "s1 = 'x'\n",
    "s2 = 'y'\n",
    "'爱上了'.join([s1,s2])"
   ]
  }
 ],
 "metadata": {
  "kernelspec": {
   "display_name": "Python 3",
   "language": "python",
   "name": "python3"
  },
  "language_info": {
   "codemirror_mode": {
    "name": "ipython",
    "version": 3
   },
   "file_extension": ".py",
   "mimetype": "text/x-python",
   "name": "python",
   "nbconvert_exporter": "python",
   "pygments_lexer": "ipython3",
   "version": "3.7.4"
  }
 },
 "nbformat": 4,
 "nbformat_minor": 2
}
