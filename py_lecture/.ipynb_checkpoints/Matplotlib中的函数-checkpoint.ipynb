{
 "cells": [
  {
   "cell_type": "markdown",
   "metadata": {},
   "source": [
    "#### python可视化---axhline()函数\n",
    "\n",
    "函数功能：绘制平行于x轴的水平参考线,往往作用在一个图片(figure)上的plot对象(axes)上.\n",
    "\n",
    "可用的参数如下：\n",
    "\n",
    "y：水平参考线的出发点\n",
    "\n",
    "c：参考线的线条颜色\n",
    "\n",
    "ls：参考线的线条风格\n",
    "\n",
    "lw：参考线的线条宽度\n",
    "\n",
    "平移性：上面的函数，同样适用于axvline()函数"
   ]
  },
  {
   "cell_type": "code",
   "execution_count": 14,
   "metadata": {},
   "outputs": [
    {
     "name": "stderr",
     "output_type": "stream",
     "text": [
      "/home/gang/.gangprograms/conda/lib/python3.7/site-packages/ipykernel_launcher.py:13: MatplotlibDeprecationWarning: Adding an axes using the same arguments as a previous axes currently reuses the earlier instance.  In a future version, a new instance will always be created and returned.  Meanwhile, this warning can be suppressed, and the future behavior ensured, by passing a unique label to each axes instance.\n",
      "  del sys.path[0]\n"
     ]
    },
    {
     "data": {
      "image/png": "[encoded data removed]",
      "text/plain": [
       "<Figure size 432x288 with 1 Axes>"
      ]
     },
     "metadata": {
      "needs_background": "light"
     },
     "output_type": "display_data"
    }
   ],
   "source": [
    "import matplotlib.pyplot as plt\n",
    "import numpy as np\n",
    "\n",
    "N = 4\n",
    "y = np.array([1.0, 0.99, 0.94, 0.91, 0.83, 0.80, 0.72, 0.53])\n",
    "f=plt.figure()\n",
    "plt.xlim(1,100000)\n",
    "plt.ylim(0.05,1.001)\n",
    "plt.xscale('log')\n",
    "plt.yscale('log')\n",
    "\n",
    "# add plot to the figure\n",
    "ax=f.add_subplot(111)  # An Axes is created\n",
    "ax.axhline(y=0.368, c=\"black\", ls=\"--\", lw=2,label=\"1/e\")\n",
    "ax.plot( y,\"--\",c=\"black\",label=\"self\")\n",
    "ax.set_title(r'N={:d}'.format(N))\n",
    "box=ax.get_position()\n",
    "ax.set_position([box.x0, box.y0, 0.7*box.width, box.height])\n",
    "L=plt.legend(bbox_to_anchor=(1.05,1),loc=2,borderaxespad=0.)\n",
    "\n",
    "f.savefig('N{:d}.png'.format(N),bbox_extra_artists=(L,),dpi=200,bbox_inches='tight')\n",
    "plt.show()"
   ]
  },
  {
   "cell_type": "code",
   "execution_count": null,
   "metadata": {},
   "outputs": [],
   "source": []
  }
 ],
 "metadata": {
  "kernelspec": {
   "display_name": "Python 3",
   "language": "python",
   "name": "python3"
  },
  "language_info": {
   "codemirror_mode": {
    "name": "ipython",
    "version": 3
   },
   "file_extension": ".py",
   "mimetype": "text/x-python",
   "name": "python",
   "nbconvert_exporter": "python",
   "pygments_lexer": "ipython3",
   "version": "3.7.4"
  }
 },
 "nbformat": 4,
 "nbformat_minor": 2
}
