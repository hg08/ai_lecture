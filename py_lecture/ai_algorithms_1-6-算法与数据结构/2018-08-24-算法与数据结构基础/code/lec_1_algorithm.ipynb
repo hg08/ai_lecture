{
 "cells": [
  {
   "cell_type": "markdown",
   "metadata": {},
   "source": [
    "# 第一节 数据结构与算法\n",
    "## 1. 算法引入\n",
    "   计算： $1+ 2+ 3 +...+ 99 + 100=?$\n",
    "   \n",
    "         $ 100 + 99 + ...+ 3+ 2 + 1 =?$\n",
    "   1+ 100 = 101\n",
    "   2 +99 = 101\n",
    "  \n",
    "  \n",
    "  例1. 算10的平方根。\n",
    "  思路1：\n",
    "  1 找两个数 x1=0, x2= 10\n",
    "  \n",
    "  2 计算平均 x = (x1+ x2 )/2\n",
    "  \n",
    "  3 计算 x的平方 - 10 < 0.0001**2\n",
    "  \n",
    "  4 输出结果\n",
    "  \n",
    " \n",
    "  \n",
    "  \n",
    "  "
   ]
  },
  {
   "cell_type": "code",
   "execution_count": 6,
   "metadata": {},
   "outputs": [
    {
     "name": "stdout",
     "output_type": "stream",
     "text": [
      "sqrt of 10:  3.1622695922851562\n"
     ]
    }
   ],
   "source": [
    "def sqrt(a, x1=0,x2 =10):\n",
    "    while 1: \n",
    "        x = (x1+x2)/2\n",
    "        t = (x**2 - 10)**2\n",
    "        if t < 0.0001**2:\n",
    "            return x\n",
    "        else:\n",
    "            if x**2- 10 <0:\n",
    "                x1 = x\n",
    "            else:\n",
    "                x2 = x\n",
    "            \n",
    "print(\"sqrt of 10: \",sqrt(10))  \n",
    "    \n",
    "    "
   ]
  },
  {
   "cell_type": "code",
   "execution_count": 2,
   "metadata": {},
   "outputs": [
    {
     "name": "stdout",
     "output_type": "stream",
     "text": [
      "计算次数:  1\n",
      "计算次数:  2\n",
      "计算次数:  3\n",
      "计算次数:  4\n",
      "计算次数:  5\n",
      "计算次数:  6\n",
      "计算次数:  7\n",
      "计算次数:  8\n",
      "计算次数:  9\n",
      "计算次数:  10\n",
      "计算次数:  11\n",
      "计算次数:  12\n",
      "计算次数:  13\n",
      "计算次数:  14\n",
      "计算次数:  15\n",
      "计算次数:  16\n",
      "计算次数:  17\n",
      "sqrt of 10:  3.1622695922851562\n"
     ]
    }
   ],
   "source": [
    " def sqrt(a, x1=0,x2 = 5):\n",
    "    count = 0\n",
    "    while 1: \n",
    "        x = (x1+x2)/2\n",
    "        t = (x**2 - 10)**2\n",
    "        if t < 0.0001**2:\n",
    "            count += 1\n",
    "            print(\"计算次数: \",count)\n",
    "            return x\n",
    "        else:\n",
    "            if x**2- 10 <0:\n",
    "                count += 1\n",
    "                print(\"计算次数: \",count)\n",
    "                x1 = x\n",
    "            else:\n",
    "                count += 1\n",
    "                print(\"计算次数: \",count)\n",
    "                x2 = x\n",
    "            \n",
    "print(\"sqrt of 10: \",sqrt(10)) "
   ]
  },
  {
   "cell_type": "markdown",
   "metadata": {},
   "source": [
    "例题1的第二种算法。\n"
   ]
  },
  {
   "cell_type": "code",
   "execution_count": 2,
   "metadata": {},
   "outputs": [
    {
     "name": "stdout",
     "output_type": "stream",
     "text": [
      "sqrt of 10 :  3.162280701754386\n"
     ]
    }
   ],
   "source": [
    "def sqrt2(a,x=3):\n",
    "    while (x**2-a)*(x**2-a) > 0.0001**2:\n",
    "        x = (x + a/x)/2\n",
    "    return x\n",
    "\n",
    "print(\"sqrt of 10 : \",sqrt2(10))\n",
    "        "
   ]
  },
  {
   "cell_type": "code",
   "execution_count": 4,
   "metadata": {
    "scrolled": false
   },
   "outputs": [
    {
     "name": "stdout",
     "output_type": "stream",
     "text": [
      "计算次数 1\n",
      "计算次数 2\n",
      "计算次数 2 计算结束。\n",
      "sqrt of 10 :  3.162280701754386\n"
     ]
    }
   ],
   "source": [
    "def sqrt2(a,x=3):\n",
    "    count = 0\n",
    "    while (x**2-a)*(x**2-a) > 0.0001**2:\n",
    "        count += 1\n",
    "        print(\"计算次数\",count)\n",
    "        x = (x + a/x)/2\n",
    "    print(\"计算次数\",count,\"计算结束。\")   \n",
    "    return x\n",
    "\n",
    "print(\"sqrt of 10 : \",sqrt2(10))"
   ]
  },
  {
   "cell_type": "markdown",
   "metadata": {},
   "source": [
    "总结：\n",
    "1. 解决问题的方法有多种;\n",
    "2. 为达到同样的目的，不同方法所需要步骤的数目不一样;\n",
    "3. 为了减少步骤的数目，选择解决问题方法非常重要。"
   ]
  },
  {
   "cell_type": "markdown",
   "metadata": {},
   "source": [
    "## 什么是算法？\n",
    "解题方案的准确而完整的描述，是一系列解决问题的清晰指令。 简单地说，算法就是解决问题的思路。\n",
    "\n",
    "注意：\n",
    "1. 算法是解决问题的思路。\n",
    "2. 算法与编程语言无关，它独立于编程语言.\n",
    "\n",
    "## 1.3 算法的特征\n",
    "\n",
    "有穷性：算法必须能在执行有限步骤之后终止。\n",
    "确切性：算法的每一步骤必须有确切的定义。\n",
    "输入: 一个算法有0个或多个输入，以刻画运算对象的初始情况。\n",
    "输出: 一个算法有一个或多个输出，给出对输入数据加工后的结果。没有输出的算法毫无意义。\n",
    "\n",
    "有效性: 算法中执行的每一个步骤都是可以被分解为基本的可执行的操作步，即每个步骤都可以在有限时间内完成。\n",
    "\n"
   ]
  },
  {
   "cell_type": "markdown",
   "metadata": {},
   "source": [
    "# 2 时间复杂度\n",
    "## 2.1 \n",
    "问题： 如何衡量算法的优劣？\n",
    "\n",
    "不同计算机执行同一算法所用的时间可能不同，但是如果它们执行同一算法，它们执行的**基本操作**的数量是一样的。\n",
    "\n",
    "所以，我们可用程序执行的基本操作的数量来衡量一个算法的优劣。\n",
    "\n",
    "分析：\n",
    "\n",
    "\n",
    "算术运算：加减乘除等运算；\n",
    "\n",
    "逻辑运算：或、且、非等运算；\n",
    "\n",
    "数据传输：输入、输出、赋值等运算;\n",
    "\n",
    "关系运算：大于、小于、等于、不等于等运算"
   ]
  },
  {
   "cell_type": "markdown",
   "metadata": {},
   "source": [
    "例3. 如果正整数a ,b, c满足条件$a+b+c=1000$ , 且 $a^2 +b^2 =c^2$, 求a, b, c的所有可能组合. "
   ]
  },
  {
   "cell_type": "code",
   "execution_count": 3,
   "metadata": {},
   "outputs": [
    {
     "name": "stdout",
     "output_type": "stream",
     "text": [
      "a,b,c 0 500 500\n",
      "a,b,c 200 375 425\n",
      "a,b,c 375 200 425\n",
      "a,b,c 500 0 500\n"
     ]
    },
    {
     "ename": "KeyboardInterrupt",
     "evalue": "",
     "output_type": "error",
     "traceback": [
      "\u001b[1;31m---------------------------------------------------------------------------\u001b[0m",
      "\u001b[1;31mKeyboardInterrupt\u001b[0m                         Traceback (most recent call last)",
      "\u001b[1;32m<ipython-input-3-b0aad619dcf5>\u001b[0m in \u001b[0;36m<module>\u001b[1;34m()\u001b[0m\n\u001b[0;32m      2\u001b[0m     \u001b[1;32mfor\u001b[0m \u001b[0mb\u001b[0m \u001b[1;32min\u001b[0m \u001b[0mrange\u001b[0m\u001b[1;33m(\u001b[0m\u001b[1;36m1001\u001b[0m\u001b[1;33m)\u001b[0m\u001b[1;33m:\u001b[0m\u001b[1;33m\u001b[0m\u001b[0m\n\u001b[0;32m      3\u001b[0m         \u001b[1;32mfor\u001b[0m \u001b[0mc\u001b[0m \u001b[1;32min\u001b[0m \u001b[0mrange\u001b[0m\u001b[1;33m(\u001b[0m\u001b[1;36m1001\u001b[0m\u001b[1;33m)\u001b[0m\u001b[1;33m:\u001b[0m\u001b[1;33m\u001b[0m\u001b[0m\n\u001b[1;32m----> 4\u001b[1;33m             \u001b[1;32mif\u001b[0m \u001b[0ma\u001b[0m \u001b[1;33m+\u001b[0m \u001b[0mb\u001b[0m \u001b[1;33m+\u001b[0m \u001b[0mc\u001b[0m \u001b[1;33m==\u001b[0m \u001b[1;36m1000\u001b[0m \u001b[1;32mand\u001b[0m \u001b[0ma\u001b[0m\u001b[1;33m**\u001b[0m\u001b[1;36m2\u001b[0m \u001b[1;33m+\u001b[0m \u001b[0mb\u001b[0m\u001b[1;33m**\u001b[0m\u001b[1;36m2\u001b[0m \u001b[1;33m==\u001b[0m \u001b[0mc\u001b[0m\u001b[1;33m**\u001b[0m\u001b[1;36m2\u001b[0m\u001b[1;33m:\u001b[0m\u001b[1;33m\u001b[0m\u001b[0m\n\u001b[0m\u001b[0;32m      5\u001b[0m                 \u001b[0mprint\u001b[0m\u001b[1;33m(\u001b[0m\u001b[1;34m'a,b,c'\u001b[0m\u001b[1;33m,\u001b[0m \u001b[0ma\u001b[0m\u001b[1;33m,\u001b[0m\u001b[0mb\u001b[0m\u001b[1;33m,\u001b[0m\u001b[0mc\u001b[0m\u001b[1;33m)\u001b[0m\u001b[1;33m\u001b[0m\u001b[0m\n\u001b[0;32m      6\u001b[0m \u001b[1;33m\u001b[0m\u001b[0m\n",
      "\u001b[1;31mKeyboardInterrupt\u001b[0m: "
     ]
    }
   ],
   "source": [
    "for a in range(1001):\n",
    "    for b in range(1001):\n",
    "        for c in range(1001):\n",
    "            if a + b + c == 1000 and a**2 + b**2 == c**2:\n",
    "                print('a,b,c', a,b,c)\n",
    "                "
   ]
  },
  {
   "cell_type": "code",
   "execution_count": 5,
   "metadata": {},
   "outputs": [
    {
     "name": "stdout",
     "output_type": "stream",
     "text": [
      "a,b,c 0 500 500\n",
      "a,b,c 200 375 425\n",
      "a,b,c 375 200 425\n",
      "a,b,c 500 0 500\n",
      "所用时间： 3.946225643157959\n"
     ]
    }
   ],
   "source": [
    "import time\n",
    "\n",
    "start = time.time()\n",
    "\n",
    "for a in range(1001):\n",
    "    for b in range(1001):\n",
    "        c = 1000 - a - b\n",
    "        if a**2 + b**2 == c**2:\n",
    "            print('a,b,c', a,b,c)\n",
    "end = time.time()\n",
    "t = end -start\n",
    "print(\"所用时间：\", t)"
   ]
  },
  {
   "cell_type": "markdown",
   "metadata": {},
   "source": [
    " 第一种算法： 基本操作数量 $n * n * n *10 = 10n^3$\n",
    " \n",
    " 第二种算法： 基本操作数量$n \\times n\\times 9= 9n^2$"
   ]
  },
  {
   "cell_type": "markdown",
   "metadata": {},
   "source": [
    " 第一种算法： 基本操作数量 $T(n)= n * n * n *10 = 10n^3$\n",
    " \n",
    " 分析： \n",
    "  n = 1, $T = 10$\n",
    "  \n",
    "  n = 2, $T = 10\\times 8 = 80$\n",
    "  \n",
    "  n =3 , $T = 10 \\times 27 = 270$\n",
    " \n",
    " \n",
    " 第二种算法： 基本操作数量$T(n) =n \\times n\\times 9= 9n^2$\n",
    " \n",
    "   n = 1, $T = 9$\n",
    "   \n",
    "  n = 2, $T = 9\\times 4 = 36$\n",
    "  \n",
    "  n =3 , $T = 9 \\times 9 = 81$"
   ]
  },
  {
   "cell_type": "markdown",
   "metadata": {},
   "source": [
    "## 2.4 为什么需要时间复杂度？\n",
    "    \n",
    "    1. 时间复杂度可用来判断程序执行的效率。\n",
    "    \n",
    "    2. 用时间复杂度可衡量算法的优劣，从而有助于我们写出优质代码。"
   ]
  },
  {
   "cell_type": "markdown",
   "metadata": {},
   "source": [
    "常见的时间复杂度        举例\n",
    "\n",
    "常数阶:  $T(N)= 5 $           \n",
    "\t\t\n",
    "线性阶:    $T(N) = 2\\times N $        \n",
    "\t\t\n",
    "平方阶:    $T= N^2 + 4$     \n",
    "\t\t\t\n",
    "对数阶:     $T= 3logN$    \n",
    "\t\t\t\n",
    "$NlogN$阶 :     $T =NlogN + N$\n",
    "\t\n",
    "立方阶: $N^3 +N^2$         \n",
    "\t\t\t\t\n",
    "指数阶: $2^N +3$  \n",
    "        "
   ]
  },
  {
   "cell_type": "markdown",
   "metadata": {},
   "source": [
    "# 2.5 常见时间复杂度的关系：\n",
    "\n",
    "# 2.6 小结\n",
    "\n",
    "  1. 时间复杂度的含义.(理解)\n",
    "  \n",
    "  2. 如何评价一个算法的优劣(了解)\n",
    "    \n",
    "  3. 常见时间复杂度的大小关系(掌握)"
   ]
  },
  {
   "cell_type": "markdown",
   "metadata": {},
   "source": [
    "# 3.  数据结构的引入\n",
    " \n",
    " 学习目标\n",
    "\n",
    "1. 掌握数据结构的概念\n",
    "\n",
    "2. 了解数据结构与算法的时间复杂度之间存在关系"
   ]
  },
  {
   "cell_type": "markdown",
   "metadata": {},
   "source": [
    "例子 保存学生信息 数据结构的应用"
   ]
  },
  {
   "cell_type": "code",
   "execution_count": 13,
   "metadata": {},
   "outputs": [
    {
     "name": "stdout",
     "output_type": "stream",
     "text": [
      "次数： 1\n",
      "('Li', 20, 'Chongqing')\n",
      "次数： 2\n"
     ]
    }
   ],
   "source": [
    "li = [(\"Zhang\",22,\"Chengdu\"),(\"Li\",20,\"Chongqing\"),(\"Qian\",20,\"Nanjing\")]\n",
    "#print(li[1][1])\n",
    "count = 0\n",
    "for i in range(len(li)):\n",
    "    if li[i][0] == \"Li\":\n",
    "        print(li[i])\n",
    "        count += 1\n",
    "        print(\"次数：\",count)\n",
    "        break\n",
    "    else:\n",
    "        count += 1\n",
    "        print(\"次数：\",count)"
   ]
  },
  {
   "cell_type": "code",
   "execution_count": 6,
   "metadata": {},
   "outputs": [
    {
     "name": "stdout",
     "output_type": "stream",
     "text": [
      "20\n"
     ]
    }
   ],
   "source": [
    "li = [{\"name\":\"Zhang\",\"age\": 22, \"hometown\":\"Chengdu\"}, \n",
    "      {\"name\":\"Li\",\"age\": 20, \"hometown\":\"Chongqing\"},\n",
    "      {\"name\":\"Qian\",\"age\": 20, \"hometown\":\"Nanjing\"}]\n",
    "print(li[1]['age'])"
   ]
  },
  {
   "cell_type": "code",
   "execution_count": 11,
   "metadata": {},
   "outputs": [
    {
     "name": "stdout",
     "output_type": "stream",
     "text": [
      "22\n",
      "{'age': 20, 'hometown': 'Chendu'}\n"
     ]
    }
   ],
   "source": [
    "li = {\"Zhang\":{\"age\":22,\"hometown\":\"Chendu\"},\n",
    "      \"Li\":{\"age\":22,\"hometown\":\"Chendu\"},\n",
    "      \"Qian\":{\"age\":20,\"hometown\":\"Chendu\"}}\n",
    "print(li['Li']['age'])\n",
    "\n",
    "print(li[\"Qian\"])"
   ]
  },
  {
   "cell_type": "markdown",
   "metadata": {},
   "source": [
    "总结：算法的时间复杂度与用什么类型保存数据有密切关系。"
   ]
  },
  {
   "cell_type": "markdown",
   "metadata": {},
   "source": [
    " ## 3.2 什么是数据结构？\n",
    "\t\n",
    " 数据结构是对基本数据类型的封装。数据结构确定一组数据如何保存. 例如上例子中，列表和字典都分别是一种数据结构。\n",
    "\t\n",
    "\t分析：\n",
    "    \n",
    "1. 基本数据类型有: int, float, str等\n",
    "\n",
    "2. 不同的数据结构，导致算法的时间复杂度不同.\n",
    "\n",
    "3. Python数据结构举例：列表，元组，字典，集合.\t\n",
    "\n",
    "注意：\n",
    "列表，元组，字典等常用序列都不是基本数据类型"
   ]
  },
  {
   "cell_type": "code",
   "execution_count": 19,
   "metadata": {},
   "outputs": [
    {
     "name": "stdout",
     "output_type": "stream",
     "text": [
      "0.009148927719479616\n",
      "0.19796530919785482\n",
      "0.044225341072603896\n"
     ]
    }
   ],
   "source": [
    "import timeit\n",
    "from timeit import Timer\n",
    "\n",
    "def t1():\n",
    "    li=[]\n",
    "    for i in range(1000):\n",
    "        li.append(i)\n",
    "\n",
    "def t2():\n",
    "    li =[]\n",
    "    for i in range(1000):\n",
    "        li = li + [i]\n",
    "        \n",
    "def t3():\n",
    "    li = []\n",
    "    for i in range(1000):\n",
    "        li.insert(0,i)\n",
    "                   \n",
    "\n",
    "timer1 = Timer(\"t1()\", \"from __main__ import t1\") \n",
    "print(timer1.timeit(100))\n",
    "\n",
    "timer2 = Timer(\"t2()\", \"from __main__ import t2\") \n",
    "print(timer2.timeit(100))\n",
    "\n",
    "timer3 = Timer(\"t3()\", \"from __main__ import t3\") \n",
    "print(timer3.timeit(100))"
   ]
  },
  {
   "cell_type": "markdown",
   "metadata": {},
   "source": [
    "小结：\n",
    "\n",
    "1.同一台计算机上运行，我们用操作所耗费的时间来衡量操作的效率\n",
    "\n",
    "2.列表的三个操作，insert方法耗时最多，append方法耗时最少\n",
    "\n",
    "3.操作列表时，一般选择append方法,而不原则列表“+“操作"
   ]
  },
  {
   "cell_type": "markdown",
   "metadata": {},
   "source": [
    "# 总结\n",
    "\n",
    "1. 算法入门\n",
    "\n",
    "    1） 不同的解决问题的思路，效率不一样。\n",
    "    \n",
    "    2） 为了衡量算法的效率，引入了时间复杂度。\n",
    "    \n",
    "     $T = T(N)$\n",
    "     \n",
    "    3) 常见的时间复杂度的大小关系.\n",
    "\n",
    "2. 数据结构基本概念\n",
    "    \n",
    "    1） 了解数据结构的概念\n",
    "    \n",
    "    2）数据结构的的不同操作的时间复杂度比较（以新列表的三种生成方法为例）\n",
    "    \n",
    "    3) 列表与字典的常见操作的时间复杂度比较\n",
    "    \n",
    "\n"
   ]
  }
 ],
 "metadata": {
  "kernelspec": {
   "display_name": "Python 3",
   "language": "python",
   "name": "python3"
  },
  "language_info": {
   "codemirror_mode": {
    "name": "ipython",
    "version": 3
   },
   "file_extension": ".py",
   "mimetype": "text/x-python",
   "name": "python",
   "nbconvert_exporter": "python",
   "pygments_lexer": "ipython3",
   "version": "3.6.5"
  }
 },
 "nbformat": 4,
 "nbformat_minor": 2
}
