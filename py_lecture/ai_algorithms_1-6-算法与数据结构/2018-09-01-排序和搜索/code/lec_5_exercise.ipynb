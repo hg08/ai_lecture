{
 "cells": [
  {
   "cell_type": "code",
   "execution_count": 2,
   "metadata": {},
   "outputs": [
    {
     "name": "stdout",
     "output_type": "stream",
     "text": [
      "[25, 30, 40, 60, 65, 75, 90]\n",
      "[25, 30, 40, 60, 65, 75, 90]\n"
     ]
    }
   ],
   "source": [
    "def bubble_sort(list):\n",
    "    \"\"\"\n",
    "    冒泡排序1: 大的元素向右冒泡 \n",
    "    :param list: 待排序的记录(列表)\n",
    "    \"\"\"\n",
    "    for j in range(len(list)-1,0,-1):\n",
    "        # j表示每次遍历需要比较的次数，是逐渐减小的\n",
    "        for i in range(j):\n",
    "            if list[i] > list[i+1]:\n",
    "                list[i], list[i+1] = list[i+1], list[i]\n",
    "\n",
    "li = [90,60,30,65,25,75,40]\n",
    "bubble_sort(li)\n",
    "print(li)\n",
    "\n",
    "def bubble_sort2(list):\n",
    "    \"\"\"\n",
    "    冒泡排序2: 小的元素向左冒泡 \n",
    "    :param list: 待排序的记录(列表)\n",
    "    \"\"\"\n",
    "    for j in range(len(list),0,-1):\n",
    "        # j表示每次遍历需要比较的次数，是逐渐减小的\n",
    "        for i in range(1,j):\n",
    "            if list[-i] < list[-i-1]:\n",
    "                list[-i], list[-i-1] = list[-i-1], list[-i]\n",
    "                \n",
    "li = [90,60,30,65,25,75,40]\n",
    "bubble_sort2(li)\n",
    "print(li)"
   ]
  },
  {
   "cell_type": "code",
   "execution_count": 4,
   "metadata": {},
   "outputs": [
    {
     "name": "stdout",
     "output_type": "stream",
     "text": [
      "[17, 20, 26, 31, 44, 54, 55, 77, 93]\n"
     ]
    }
   ],
   "source": [
    "def selection_sort(list):\n",
    "    \"\"\"\n",
    "    选择排序\n",
    "    :param list: 待排序序列\n",
    "    \"\"\"\n",
    "    n = len(list)\n",
    "    # 需要进行n-1次选择操作\n",
    "    for i in range(n-1):\n",
    "        # 记录最小位置\n",
    "        min_index = i\n",
    "        # 从i+1位置到末尾选择出最小数据\n",
    "        for j in range(i+1, n):\n",
    "            if list[j] < list[min_index]:\n",
    "                min_index = j\n",
    "        # 如果选择出的数据不在正确位置，进行交换\n",
    "        if min_index != i:\n",
    "            list[i], list[min_index] = list[min_index], list[i]\n",
    "\n",
    "list = [54,26,93,17,77,31,44,55,20]\n",
    "selection_sort(list)\n",
    "\n",
    "print(list)"
   ]
  },
  {
   "cell_type": "code",
   "execution_count": 37,
   "metadata": {},
   "outputs": [
    {
     "name": "stdout",
     "output_type": "stream",
     "text": [
      "i= 1\n",
      "    j= 1\n",
      "i= 2\n",
      "    j= 2\n",
      "    j= 1\n",
      "i= 3\n",
      "    j= 3\n",
      "    j= 2\n",
      "    j= 1\n",
      "i= 4\n",
      "    j= 4\n",
      "    j= 3\n",
      "    j= 2\n",
      "    j= 1\n",
      "i= 5\n",
      "    j= 5\n",
      "    j= 4\n",
      "    j= 3\n",
      "    j= 2\n",
      "    j= 1\n",
      "i= 6\n",
      "    j= 6\n",
      "    j= 5\n",
      "    j= 4\n",
      "    j= 3\n",
      "    j= 2\n",
      "    j= 1\n"
     ]
    }
   ],
   "source": [
    "def insert_sort(list):\n",
    "    \"\"\"\n",
    "    直接插入排序: 从第二个位置(即下标为1的元素)开始向前插入\n",
    "    \"\"\"\n",
    "    for i in range(1, len(list)):\n",
    "        # 从第i个元素开始向前比较，如果小于前一个元素，交换位置\n",
    "        print(\"i=\",i)\n",
    "        for j in range(i, 0, -1):\n",
    "            print(\"    j=\",j)\n",
    "            # 用待插入元素与有序表比较\n",
    "            if list[j] < list[j-1]:\n",
    "                list[j], list[j-1] = list[j-1], list[j]\n",
    "\n",
    "list = [9,6,3,5,2,7,4]\n",
    "insert_sort(list)\n",
    "#print(list)"
   ]
  },
  {
   "cell_type": "code",
   "execution_count": 1,
   "metadata": {},
   "outputs": [
    {
     "name": "stdout",
     "output_type": "stream",
     "text": [
      "loop:  5\n",
      "    i: 5\n",
      "    i: 6\n",
      "    i: 7\n",
      "    i: 8\n",
      "    i: 9\n",
      "loop:  2\n",
      "    i: 2\n",
      "    i: 3\n",
      "    i: 4\n",
      "    i: 5\n",
      "    i: 6\n",
      "    i: 7\n",
      "    i: 8\n",
      "    i: 9\n",
      "loop:  1\n",
      "    i: 1\n",
      "    i: 2\n",
      "    i: 3\n",
      "    i: 4\n",
      "    i: 5\n",
      "    i: 6\n",
      "    i: 7\n",
      "    i: 8\n",
      "    i: 9\n",
      "[18, 25, 27, 30, 51, 57, 59, 68, 70, 90]\n"
     ]
    }
   ],
   "source": [
    "def shell_sort(list):\n",
    "    \"\"\"希尔排序\"\"\"\n",
    "    n = len(list)\n",
    "    # 初始步长\n",
    "    gap = n//2\n",
    "    while gap > 0:\n",
    "        print(\"loop: \",gap)\n",
    "        # 按步长进行插入排序\n",
    "        for i in range(gap, n):\n",
    "            print(\"    i:\",i)\n",
    "            j = i\n",
    "            # 插入排序: 对每组分别排序\n",
    "            while j>=gap and list[j-gap] > list[j]:\n",
    "                list[j-gap], list[j] = list[j], list[j-gap]\n",
    "                j -= gap\n",
    "        # 得到新的步长\n",
    "        gap = gap // 2\n",
    "\n",
    "list = [57, 68, 59, 51, 70, 27, 90, 30, 25, 18]\n",
    "shell_sort(list)\n",
    "\n",
    "print(list)"
   ]
  },
  {
   "cell_type": "code",
   "execution_count": 2,
   "metadata": {},
   "outputs": [
    {
     "name": "stdout",
     "output_type": "stream",
     "text": [
      "快速排序:  [2, 3, 4, 6, 7, 8, 9]\n"
     ]
    }
   ],
   "source": [
    "def quick_sort(list, start, end):\n",
    "    \"\"\"快速排序\"\"\"\n",
    "    # 递归的退出条件\n",
    "    if start >= end:\n",
    "        return\n",
    "    # 设定起始元素为要寻找位置的基准元素\n",
    "    mid = list[start]\n",
    "    # i为序列左边的由左向右移动的游标(i)\n",
    "    i = start\n",
    "    # j为序列右边的由右向左移动的游标(j)\n",
    "    j = end\n",
    "    \n",
    "    while i < j:\n",
    "        \"\"\"如果low与high未重合，high指向的元素不比基准元素小，则high向左移动\"\"\"\n",
    "        while i < j and list[j] >= mid:\n",
    "            j -= 1\n",
    "        \"\"\"将j指向的元素放到i的位置上\"\"\"\n",
    "        list[i] = list[j]\n",
    "\n",
    "        \"\"\"如果i与j未重合，i指向的元素比基准元素小，则i向右移动\"\"\"\n",
    "        while i < j and list[i] < mid:\n",
    "            i += 1\n",
    "        \"\"\"将low指向的元素放到high的位置上\"\"\"\n",
    "        list[j] = list[i]\n",
    "        \n",
    "    \"\"\"退出循环后，i与j重合，此时所指位置为基准元素的正确位置\n",
    "    将基准元素放到该位置\"\"\"\n",
    "    list[i] = mid\n",
    "    \"\"\"对基准元素左边的子序列进行快速排序\"\"\"\n",
    "    quick_sort(list, start, i-1)\n",
    "    \"\"\"对基准元素右边的子序列进行快速排序\"\"\"\n",
    "    quick_sort(list, i+1, end)\n",
    "\n",
    "li = [9,6,3,7,2,8,4]\n",
    "quick_sort(li,0,len(li)-1)\n",
    "print(\"快速排序: \",li)"
   ]
  },
  {
   "cell_type": "code",
   "execution_count": 25,
   "metadata": {},
   "outputs": [
    {
     "name": "stdout",
     "output_type": "stream",
     "text": [
      "[50]\n",
      "[]\n",
      "[103]\n",
      "[]\n",
      "[]\n",
      "[103]\n",
      "[67]\n",
      "[]\n",
      "[39]\n",
      "[]\n",
      "[44]\n",
      "[]\n",
      "[67]\n",
      "[]\n",
      "[103]\n",
      "[]\n",
      "[2, 17, 25, 31, 39, 44, 50, 67, 103]\n"
     ]
    }
   ],
   "source": [
    "def merge_sort(list):\n",
    "    if len(list) <= 1:\n",
    "        return list\n",
    "    # 二分分解\n",
    "    num = len(list)//2\n",
    "    left = merge_sort(list[:num])\n",
    "    right = merge_sort(list[num:])\n",
    "    # 合并\n",
    "    return merge(left,right)\n",
    "\n",
    "def merge(left, right):\n",
    "    \"\"\"\n",
    "    合并操作，将两个有序数组left[]和right[]合并成一个大的有序数组.\n",
    "    归并排序的关键.\n",
    "    \"\"\"\n",
    "    #left与right的下标指针\n",
    "    l, r = 0, 0\n",
    "    result = []\n",
    "    while l<len(left) and r<len(right):\n",
    "        if left[l] < right[r]:\n",
    "            result.append(left[l])\n",
    "            l += 1\n",
    "        else:\n",
    "            result.append(right[r])\n",
    "            r += 1\n",
    "    print(left[l:])\n",
    "    print(right[r:])\n",
    "    result += left[l:]\n",
    "    result += right[r:]\n",
    "    return result\n",
    "\n",
    "list = [50,25,103,17,67,31,44,39,2]\n",
    "sorted_list = merge_sort(list)\n",
    "\n",
    "print(sorted_list)"
   ]
  },
  {
   "cell_type": "code",
   "execution_count": 26,
   "metadata": {},
   "outputs": [
    {
     "name": "stdout",
     "output_type": "stream",
     "text": [
      "[]\n",
      "[4, 6]\n",
      "[1, 2, 2, 3, 4, 6]\n"
     ]
    }
   ],
   "source": [
    "l1 = [1,2,3]\n",
    "l2 = [2,4,6]\n",
    "print(merge(l1,l2))\n"
   ]
  },
  {
   "cell_type": "code",
   "execution_count": 27,
   "metadata": {},
   "outputs": [
    {
     "name": "stdout",
     "output_type": "stream",
     "text": [
      "[1, 2, 3]\n"
     ]
    }
   ],
   "source": [
    "li = [1,2,3] +[]\n",
    "print(li)"
   ]
  },
  {
   "cell_type": "code",
   "execution_count": 4,
   "metadata": {},
   "outputs": [
    {
     "name": "stdout",
     "output_type": "stream",
     "text": [
      "True\n",
      "False\n"
     ]
    }
   ],
   "source": [
    "def binary_search(li,elem):\n",
    "    first = 0\n",
    "    last = len(li)-1\n",
    "    while first <= last:\n",
    "        midpoint = (first + last) // 2\n",
    "        #先判断中间点是否为待搜索元素\n",
    "        if li[midpoint] == elem:\n",
    "            return True\n",
    "        elif elem > li[midpoint]:\n",
    "            first = midpoint +1\n",
    "        else:\n",
    "            last = midpoint - 1\n",
    "    return False\n",
    "\n",
    "# list_test = [50,25, 13, 17, 44, 39, 2]\n",
    "list_test = [2, 40, 17, 25, 39, 44, 50]\n",
    "print(binary_search(list_test,2))\n",
    "print(binary_search(list_test,5))"
   ]
  },
  {
   "cell_type": "code",
   "execution_count": 5,
   "metadata": {},
   "outputs": [
    {
     "name": "stdout",
     "output_type": "stream",
     "text": [
      "[1]\n",
      "[1, 1]\n",
      "[1, 1, 2]\n",
      "[1, 1, 2, 3]\n"
     ]
    }
   ],
   "source": [
    "#生成斐波那契数列.\n",
    "\"\"\"斐波那契数列的含义:给定整数N,代表台阶数目,一次可以跨2个或者1个台阶,有多少种走法? 答案就是斐波那契数列的第N项的值.\n",
    "比如,N=3,可以连续跨三次,每次1个台阶;也可先跨2个,再跨1个;还可以先跨1个,再跨2个.共有三种走法,所以斐波那契数列的第3项等于3.\"\"\"\n",
    "def fb(n):\n",
    "    li = [1,1]\n",
    "    if n < 1:\n",
    "        return []\n",
    "    if n == 1:\n",
    "        return [1]\n",
    "    elif n == 2:\n",
    "        return li\n",
    "    else:         \n",
    "        i = 2\n",
    "        while i < n:\n",
    "            li.append(li[i-1]+li[i-2])\n",
    "            i += 1\n",
    "        return li\n",
    "\n",
    "print(fb(1))\n",
    "print(fb(2))\n",
    "print(fb(3))\n",
    "print(fb(4))"
   ]
  },
  {
   "cell_type": "code",
   "execution_count": 6,
   "metadata": {},
   "outputs": [
    {
     "name": "stdout",
     "output_type": "stream",
     "text": [
      "1\n",
      "1\n",
      "2\n",
      "3\n",
      "5\n"
     ]
    }
   ],
   "source": [
    "def f2(n):\n",
    "    \"\"\"求斐波那契数列第n项: T = O(N)\"\"\"\n",
    "    if n < 1:\n",
    "        return 0\n",
    "    elif n==1 or n==2:\n",
    "        return 1\n",
    "    else:\n",
    "        res = 1\n",
    "        pre = 1\n",
    "        tmp = 0\n",
    "        i = 3\n",
    "        while i <= n:\n",
    "            tmp = res\n",
    "            res += pre\n",
    "            pre = tmp\n",
    "            i += 1\n",
    "        return res\n",
    "            \n",
    "print(f2(1))        \n",
    "print(f2(2))\n",
    "print(f2(3))\n",
    "print(f2(4))\n",
    "print(f2(5))"
   ]
  },
  {
   "cell_type": "code",
   "execution_count": null,
   "metadata": {},
   "outputs": [],
   "source": []
  }
 ],
 "metadata": {
  "kernelspec": {
   "display_name": "Python 3",
   "language": "python",
   "name": "python3"
  },
  "language_info": {
   "codemirror_mode": {
    "name": "ipython",
    "version": 3
   },
   "file_extension": ".py",
   "mimetype": "text/x-python",
   "name": "python",
   "nbconvert_exporter": "python",
   "pygments_lexer": "ipython3",
   "version": "3.5.5"
  },
  "widgets": {
   "state": {},
   "version": "1.1.2"
  }
 },
 "nbformat": 4,
 "nbformat_minor": 2
}
