{
 "cells": [
  {
   "cell_type": "markdown",
   "metadata": {},
   "source": [
    "# 5 排序和搜索\n",
    "\n",
    "## 1. 课程内容\n",
    "    1.\t什么是排序,排序的稳定性;（了解）\n",
    "    2.\t常见的排序法;（了解）\n",
    "    3.排序方法的实现;（掌握）\n",
    "    4.\t排序算法的效率; (了解)\n",
    "    5. 二分查找的实现; (掌握)\n",
    "    6. 二分查找的时间复杂度.(了解)\n"
   ]
  },
  {
   "cell_type": "markdown",
   "metadata": {},
   "source": [
    "## 2. 排序的含义和 稳定性\n",
    "\n",
    "排序算法（英语：Sorting Algorithm）是一种能将一串数据依照特定顺序进行排列的一种算法。\n",
    "注意： 同一串数据可能会有多种序。\n",
    "\n",
    "\n",
    "稳定性：\n",
    "\n",
    "稳定排序：让原本有相等键值的记录维持相对次序不变的排序。举例： [1,2,4,2]，排序以后其中两个2元素的次序不变。\n",
    "\n",
    "不稳定排序：可能会让原本有相等键值的记录维持相对次序改变的排序。\n",
    "\n"
   ]
  },
  {
   "cell_type": "markdown",
   "metadata": {},
   "source": [
    "## 3. 排序算法\n",
    "\n",
    "###  冒泡排序\n",
    "\n",
    "冒泡排序（Bubble Sort）是一种简单的交换排序算法。\n",
    "\n",
    "其基本思路:\n",
    "\n",
    "1.对于待排序的序列，一次比较两个元素，若为逆序就把它们交换,\n",
    "\n",
    "重复地进行步骤1,直到没有再需要交换时，排序完成\n",
    "\n",
    "[3, 1, 4, 5]\n",
    "3> 1, 所以 交换3和1.\n",
    "[1,3,4,5]\n",
    "\n",
    "\n"
   ]
  },
  {
   "cell_type": "code",
   "execution_count": 1,
   "metadata": {},
   "outputs": [
    {
     "name": "stdout",
     "output_type": "stream",
     "text": [
      "[25, 30, 40, 60, 65, 75, 90]\n"
     ]
    }
   ],
   "source": [
    "# 冒泡算法1: 大的元素向右冒泡\n",
    "def bubble_sort(list):\n",
    "    # 冒泡区间：\n",
    "    for j in range(len(list)-1,0,-1):\n",
    "        for i in range(j):\n",
    "            if list[i] > list[i+1]:\n",
    "                list[i],list[i+1] = list[i+1],list[i]\n",
    "\n",
    "li = [90,60,30,65,25,75,40]\n",
    "bubble_sort(li)\n",
    "print(li)\n",
    "            "
   ]
  },
  {
   "cell_type": "code",
   "execution_count": 2,
   "metadata": {},
   "outputs": [
    {
     "name": "stdout",
     "output_type": "stream",
     "text": [
      "1\n",
      "5\n"
     ]
    }
   ],
   "source": [
    "li1 = [1,2,4,5]\n",
    "print(li1[0])\n",
    "print(li1[-1])"
   ]
  },
  {
   "cell_type": "code",
   "execution_count": null,
   "metadata": {},
   "outputs": [],
   "source": [
    "li2 =[65,25,75,40]"
   ]
  },
  {
   "cell_type": "code",
   "execution_count": 3,
   "metadata": {},
   "outputs": [
    {
     "name": "stdout",
     "output_type": "stream",
     "text": [
      "[25, 30, 40, 60, 65, 75, 90]\n"
     ]
    }
   ],
   "source": [
    "# 冒泡算法2： 小的元素向左冒泡\n",
    "def bubble_sort2(list):\n",
    "    # 冒泡区间\n",
    "    for j in range(len(list),0,-1):\n",
    "        for i in range(1,j):\n",
    "            if list[-i] < list[-i-1]:\n",
    "                list[-i], list[-i-1] = list[-i-1],list[-i]\n",
    "            \n",
    "li = [90,60,30,65,25,75,40]\n",
    "bubble_sort2(li)\n",
    "print(li)            \n",
    "            "
   ]
  },
  {
   "cell_type": "markdown",
   "metadata": {},
   "source": [
    "###  选择排序\n",
    "\n",
    "选择排序（Selection Sort）的基本思路:\n",
    "\n",
    "1.首先在未排序序列中找到最小（大）元素，存放到排序序列的起始位置，\n",
    "\n",
    "2.然后，从剩余未排序元素中继续寻找最小（大）元素，然后放到已排序序列的末尾。以此类推，直到所有元素均排序完毕。\n",
    "\n",
    "\n"
   ]
  },
  {
   "cell_type": "code",
   "execution_count": 6,
   "metadata": {},
   "outputs": [
    {
     "name": "stdout",
     "output_type": "stream",
     "text": [
      "第 1 步:\n",
      "    最小元素： 60\n",
      "    最小元素： 30\n",
      "    最小元素： 25\n",
      "第 2 步:\n",
      "    最小元素： 30\n",
      "第 3 步:\n",
      "    最小元素： 40\n",
      "第 4 步:\n",
      "    最小元素： 60\n",
      "第 5 步:\n",
      "    最小元素： 75\n",
      "    最小元素： 65\n",
      "第 6 步:\n",
      "选择排序：  [25, 30, 40, 60, 65, 75, 90]\n"
     ]
    }
   ],
   "source": [
    "# 选择排序\n",
    "def selection_sort(list):\n",
    "    # 定义一个变量n\n",
    "    n = len(list)\n",
    "    for i in range(n-1):\n",
    "        print(\"第\",i+1,\"步:\")\n",
    "        min_index = i\n",
    "        # 从i+1往后到末尾的元素选出最小的元素\n",
    "        for j in range(i+1,n):\n",
    "            if list[j] < list[min_index]:\n",
    "                min_index = j\n",
    "                print(\"    最小元素：\",list[min_index])\n",
    "         # 如果min_index位置的元素不在合适的位置\n",
    "        if min_index != i:\n",
    "            list[i], list[min_index] = list[min_index],list[i]\n",
    "            \n",
    "li = [90,60,30,65,25,75,40]\n",
    "selection_sort(li)\n",
    "print(\"选择排序： \", li)"
   ]
  },
  {
   "cell_type": "markdown",
   "metadata": {},
   "source": [
    "### 插入排序\n",
    "直接插入排序（Insertion Sort）:\n",
    "\n",
    "直接插入排序的基本操作就是将一个数据插入到有序表$\\{ a_1, a_2, ..., a_{n-1}\\}$中，从而得到一个新的、长度为$n+1$的有序表.\n",
    "\n"
   ]
  },
  {
   "cell_type": "code",
   "execution_count": 7,
   "metadata": {
    "scrolled": true
   },
   "outputs": [
    {
     "name": "stdout",
     "output_type": "stream",
     "text": [
      "i:  1\n",
      "    j: 1\n",
      "i:  2\n",
      "    j: 2\n",
      "    j: 1\n",
      "i:  3\n",
      "    j: 3\n",
      "    j: 2\n",
      "    j: 1\n",
      "i:  4\n",
      "    j: 4\n",
      "    j: 3\n",
      "    j: 2\n",
      "    j: 1\n",
      "i:  5\n",
      "    j: 5\n",
      "    j: 4\n",
      "    j: 3\n",
      "    j: 2\n",
      "    j: 1\n",
      "i:  6\n",
      "    j: 6\n",
      "    j: 5\n",
      "    j: 4\n",
      "    j: 3\n",
      "    j: 2\n",
      "    j: 1\n",
      "直接插入排序： [25, 30, 40, 60, 65, 75, 90]\n"
     ]
    }
   ],
   "source": [
    "# 直接插入排序\n",
    "def insert_sort(list):\n",
    "    for i in range(1, len(list)):\n",
    "        print(\"i: \", i)\n",
    "        for j in range(i,0,-1):\n",
    "            print(\"    j:\",j)\n",
    "            if list[j] < list[j-1]:\n",
    "                list[j], list[j-1] = list[j-1],list[j]\n",
    "\n",
    "li = [90,60,30,65,25,75,40]\n",
    "insert_sort(li)\n",
    "print(\"直接插入排序：\",li)\n",
    "        "
   ]
  },
  {
   "cell_type": "markdown",
   "metadata": {},
   "source": [
    "### Shell排序\n",
    "\n",
    "希尔排序(Shell Sort)是插入排序的一种,也称缩小增量排序，是直接插入排序算法的一种更高效的改进版本.希尔排序是非稳定排序算法. \n",
    "\n",
    "基本思想:\n",
    "\n",
    "1.把待排序的序列按某个增量$d_1$分组(一般取为$d_1 = n/2, n$为序列中元素的个数)，对每组进行直接插入排序；\n",
    "\n",
    "2.然后按增量$d_2$分组 (一般取$d_2 =d_1 /2$), 对每组再进行直接插入排序; \n",
    "\n",
    "3.重复第二步,当增量减至1时，对序列进行直接插入排序,排序完成。"
   ]
  },
  {
   "cell_type": "code",
   "execution_count": 13,
   "metadata": {},
   "outputs": [
    {
     "name": "stdout",
     "output_type": "stream",
     "text": [
      "loop:  5\n",
      "    i: 5\n",
      "    i: 6\n",
      "    i: 7\n",
      "    i: 8\n",
      "    i: 9\n",
      "loop:  2\n",
      "    i: 2\n",
      "    i: 3\n",
      "    i: 4\n",
      "    i: 5\n",
      "    i: 6\n",
      "    i: 7\n",
      "    i: 8\n",
      "    i: 9\n",
      "loop:  1\n",
      "    i: 1\n",
      "    i: 2\n",
      "    i: 3\n",
      "    i: 4\n",
      "    i: 5\n",
      "    i: 6\n",
      "    i: 7\n",
      "    i: 8\n",
      "    i: 9\n",
      "Shell排序： [18, 25, 27, 30, 34, 57, 59, 68, 70, 90]\n"
     ]
    }
   ],
   "source": [
    "# Shell排序\n",
    "def shell_sort(list):\n",
    "    n = len(list)\n",
    "    # 初始步长（增量）\n",
    "    gap = n // 2\n",
    "    while gap > 0:\n",
    "        # 按步长做插入排序\n",
    "        print(\"loop: \", gap)\n",
    "        for i in range(gap,n):\n",
    "            print(\"    i:\", i)\n",
    "            j = i\n",
    "            while  j>= gap and list[j-gap] > list[j]:\n",
    "                list[j],list[j-gap] = list[j-gap], list[j]\n",
    "                j -= gap\n",
    "        # 得到新的步长\n",
    "        gap = gap // 2\n",
    "\n",
    "li=[34,57,68,59,70,27,90,30,25,18]\n",
    "shell_sort(li)\n",
    "print(\"Shell排序：\", li)                \n",
    "    "
   ]
  },
  {
   "cell_type": "code",
   "execution_count": null,
   "metadata": {},
   "outputs": [],
   "source": []
  }
 ],
 "metadata": {
  "kernelspec": {
   "display_name": "Python 3",
   "language": "python",
   "name": "python3"
  },
  "language_info": {
   "codemirror_mode": {
    "name": "ipython",
    "version": 3
   },
   "file_extension": ".py",
   "mimetype": "text/x-python",
   "name": "python",
   "nbconvert_exporter": "python",
   "pygments_lexer": "ipython3",
   "version": "3.6.5"
  }
 },
 "nbformat": 4,
 "nbformat_minor": 2
}
