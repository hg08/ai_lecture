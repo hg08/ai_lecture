{
 "cells": [
  {
   "cell_type": "markdown",
   "metadata": {},
   "source": [
    "# 面试题\n",
    "题目: 实现一个特殊的栈, 在实现栈的基本功能上,再实现返回栈中的最小元素."
   ]
  },
  {
   "cell_type": "code",
   "execution_count": 4,
   "metadata": {},
   "outputs": [
    {
     "name": "stdout",
     "output_type": "stream",
     "text": [
      "0\n"
     ]
    }
   ],
   "source": [
    "class Stack():\n",
    "    # 初始化: 生成一个容器\n",
    "    def __init__(self):\n",
    "        self.__list=[]\n",
    "\n",
    "    # 判断是否为空\n",
    "    def is_empty(self):\n",
    "        return self.__list == []\n",
    "\n",
    "    # 访问栈顶: 不会把元素删除\n",
    "    def top(self):\n",
    "        if self.__list ==[]:\n",
    "            return None\n",
    "        return self.__list[-1]\n",
    "\n",
    "    # 向栈顶添加元素\n",
    "    def push(self, elem):\n",
    "        self.__list.append(elem)\n",
    "\n",
    "    # 从栈顶删除元素: 删除后,栈顶元素改变\n",
    "    def pop(self):\n",
    "        if self.__list == []:\n",
    "            return None\n",
    "        return self.__list.pop()\n",
    "\n",
    "    # 求栈中元素的个数\n",
    "    def size(self):\n",
    "        \"求元素的个数\"\n",
    "        return len(self.__list)\n",
    "    \n",
    "# 求栈的最小值\n",
    "def getMin(st):\n",
    "    st2 = Stack()\n",
    "    while st.size() != 0:\n",
    "        newNum = st.pop() # 弹出数据\n",
    "        if (st2.top() == None)  or (newNum < st2.top()):\n",
    "            st2.push(newNum)\n",
    "        else:\n",
    "            pass\n",
    "    return st2.top()\n",
    "        \n",
    "if __name__ == \"__main__\":\n",
    "    st1 = Stack()\n",
    "    st1.push(20) #加入20\n",
    "    st1.push(0) \n",
    "    st1.push(10) \n",
    "    st1.push(10) \n",
    "    st1.push(2) \n",
    "    print(getMin(st1))"
   ]
  },
  {
   "cell_type": "markdown",
   "metadata": {},
   "source": [
    "# 面试题2: 用一个栈实现另一个栈的排序\n",
    "题目: 一个栈中元素类型为整性,现在想将该栈从顶到底从大到小的顺序(倒三角状)排序,只许申请一个栈. 除此之外,可以申请新的变量,但不能申请额外的数据结构. 请完成排序.\n",
    "\n",
    "答: "
   ]
  },
  {
   "cell_type": "code",
   "execution_count": 5,
   "metadata": {},
   "outputs": [
    {
     "name": "stdout",
     "output_type": "stream",
     "text": [
      "1000\n",
      "200\n",
      "100\n",
      "20\n",
      "2\n",
      "1\n"
     ]
    }
   ],
   "source": [
    "def sortStack(st):\n",
    "    # 目的是使help栈大小成三角状\n",
    "    helpStack = Stack()\n",
    "    while st.size() != 0:\n",
    "        # 弹出st栈顶元素,存在cur中\n",
    "        cur = st.pop()\n",
    "        # 若help栈为空,则直接将cur入栈\n",
    "        if helpStack.top()==None:\n",
    "            helpStack.push(cur)\n",
    "        else: # 若help栈不为空,则进一步判断\n",
    "            if cur <= helpStack.top(): # 若cur入help栈满足三角状的关系,则可直接入栈\n",
    "                helpStack.push(cur)\n",
    "            else: # 否则不断弹出help栈的元素,将其入栈到st; 直到若cur入help栈满足三角状的关系停止help的出栈操作\n",
    "                while helpStack.top() != None and cur > helpStack.top():\n",
    "                    st.push(helpStack.pop())\n",
    "                # 此时cur入help栈已满足三角关系,则入help栈\n",
    "                helpStack.push(cur) \n",
    "    # 此时st已为空\n",
    "    # 将三角状的help栈依次弹出,并入栈到st,使st呈现出倒三角状\n",
    "    while helpStack.size() != 0:\n",
    "        st.push(helpStack.pop())\n",
    "if __name__ == \"__main__\":\n",
    "    stack = Stack()\n",
    "    stack.push(1)\n",
    "    stack.push(20)\n",
    "    stack.push(100)\n",
    "    stack.push(2)\n",
    "    stack.push(1000)\n",
    "    stack.push(200)\n",
    "\n",
    "    # 堆栈排序      \n",
    "    sortStack(stack)\n",
    "\n",
    "    # 显示堆栈(仅做测试,使用后栈会被掏空)\n",
    "    while(stack.size() != 0):\n",
    "        print(stack.pop())"
   ]
  },
  {
   "cell_type": "markdown",
   "metadata": {},
   "source": [
    "# 面试题 3: 逆序一个栈\n",
    "要求: 只能使用递归,不能使用其他数据结构\n",
    "\n",
    "答:"
   ]
  },
  {
   "cell_type": "code",
   "execution_count": 6,
   "metadata": {},
   "outputs": [
    {
     "name": "stdout",
     "output_type": "stream",
     "text": [
      "1\n",
      "2\n",
      "3\n",
      "4\n",
      "5\n"
     ]
    }
   ],
   "source": [
    "def getAndRemoveLastElement(stack):\n",
    "    result = stack.pop()\n",
    "    if stack.is_empty():\n",
    "        return result\n",
    "    else:\n",
    "        last = getAndRemoveLastElement(stack)\n",
    "        stack.push(result)\n",
    "        return last \n",
    "\n",
    "def reverse(stack):\n",
    "    if stack.is_empty():\n",
    "        return \n",
    "    i = getAndRemoveLastElement(stack)\n",
    "    reverse(stack)\n",
    "    stack.push(i)\n",
    "\n",
    "if __name__ == \"__main__\":\n",
    "    stack = Stack()\n",
    "    stack.push(1)\n",
    "    stack.push(2)\n",
    "    stack.push(3)\n",
    "    stack.push(4)\n",
    "    stack.push(5)\n",
    "\n",
    "    # 现在的栈张这样\n",
    "    #|5|\n",
    "    #|4|\n",
    "    #|3|\n",
    "    #|2|\n",
    "    #|1|\n",
    "\n",
    "    # 逆序栈\n",
    "    reverse(stack)\n",
    "\n",
    "    # 显示栈(仅做测试,使用后栈会被掏空)\n",
    "    while(stack.size() != 0):\n",
    "        print(stack.pop())"
   ]
  },
  {
   "cell_type": "code",
   "execution_count": null,
   "metadata": {},
   "outputs": [],
   "source": []
  }
 ],
 "metadata": {
  "kernelspec": {
   "display_name": "Python 3",
   "language": "python",
   "name": "python3"
  },
  "language_info": {
   "codemirror_mode": {
    "name": "ipython",
    "version": 3
   },
   "file_extension": ".py",
   "mimetype": "text/x-python",
   "name": "python",
   "nbconvert_exporter": "python",
   "pygments_lexer": "ipython3",
   "version": "3.6.5"
  },
  "widgets": {
   "state": {},
   "version": "1.1.2"
  }
 },
 "nbformat": 4,
 "nbformat_minor": 2
}
