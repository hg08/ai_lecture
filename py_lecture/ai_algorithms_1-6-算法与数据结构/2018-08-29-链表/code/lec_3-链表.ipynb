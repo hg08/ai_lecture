{
 "cells": [
  {
   "cell_type": "markdown",
   "metadata": {},
   "source": [
    "# 第三节 链表\n"
   ]
  },
  {
   "cell_type": "markdown",
   "metadata": {},
   "source": [
    "## 课程内容\n",
    "\n",
    " 1. 什么是链表\n",
    " 2. 链表的特点\n",
    " 3. 单向链表的实现."
   ]
  },
  {
   "cell_type": "markdown",
   "metadata": {},
   "source": [
    "## 2.  单向链表\n",
    "\n",
    "### 2.1 什么是单向链表？\n",
    "\n",
    "  1.  单向链表， 也称为单链表。 是一种特殊的线性表。\n",
    "  \n",
    "  2.  每个存储单元都分为数据域和链接域。数据域放置数据元素，链接域放下一个结点的位置。\n",
    "  \n",
    "  3. 有一个变量 p, 它保存了第一个结点的地址，p称为头指针。"
   ]
  },
  {
   "cell_type": "markdown",
   "metadata": {},
   "source": [
    "## 2.2 结点的实现\n",
    "\n",
    "我们把数据元素以及链表都看成类。\n",
    "\n",
    "\n",
    "\n",
    "\n"
   ]
  },
  {
   "cell_type": "code",
   "execution_count": 1,
   "metadata": {},
   "outputs": [],
   "source": [
    "class Node(object):\n",
    "    #初始化\n",
    "    def __init__(self,item):\n",
    "        #item 存放数据元素\n",
    "        self._item = item\n",
    "        #_next 存放下一个结点的位置\n",
    "        self._next = None"
   ]
  },
  {
   "cell_type": "markdown",
   "metadata": {},
   "source": [
    "## 2.3 单向链表上的操作\n",
    "\n",
    "0. 判断单链表是否为空 ： is_empty()\n",
    "\n",
    "1. 提取出单链表的长度 ： length()\n",
    "\n",
    "2. 遍历： travel()\n",
    "\n",
    "3.  在链表的头部添加一个结点 ：add(item)\n",
    "\n",
    "4.  在链表尾部添加一个结点 ： append（item）\n",
    "\n",
    "5.  在指定位置添加结点： insert(pos,item)\n",
    "\n",
    "6 . 删除结点： remove(item)\n",
    "\n",
    "7. 查找： search(item)\n"
   ]
  },
  {
   "cell_type": "code",
   "execution_count": 2,
   "metadata": {},
   "outputs": [
    {
     "name": "stdout",
     "output_type": "stream",
     "text": [
      "<class 'int'>\n"
     ]
    }
   ],
   "source": [
    "a = 100\n",
    "print(type(a))"
   ]
  },
  {
   "cell_type": "code",
   "execution_count": 3,
   "metadata": {},
   "outputs": [
    {
     "name": "stdout",
     "output_type": "stream",
     "text": [
      "<class 'str'>\n"
     ]
    }
   ],
   "source": [
    "a = 'hello'\n",
    "print(type(a))"
   ]
  },
  {
   "cell_type": "markdown",
   "metadata": {},
   "source": [
    "## 2.4 单向链表的实现\n",
    "\n",
    "\n"
   ]
  },
  {
   "cell_type": "code",
   "execution_count": 5,
   "metadata": {},
   "outputs": [
    {
     "name": "stdout",
     "output_type": "stream",
     "text": [
      "链表是否为空1： True\n",
      "遍历结果：\n",
      "200\n",
      "200\n",
      "50\n",
      "200\n",
      "100\n",
      "10\n",
      "50\n",
      "是否有2000:  False\n",
      "链表的长度：  5\n",
      "200\n",
      "200\n",
      "100\n",
      "10\n",
      "50\n"
     ]
    }
   ],
   "source": [
    "# 定义结点类\n",
    "class Node(object):\n",
    "    #初始化\n",
    "    def __init__(self,item):\n",
    "        #item 存放数据元素\n",
    "        self._item = item\n",
    "        #_next 存放下一个结点的位置\n",
    "        self._next = None\n",
    "        \n",
    "\n",
    "class SingleLinkList(object):\n",
    "    \"\"\"单向链表的定义 \"\"\"\n",
    "    def __init__(self,node=None):\n",
    "        # 默认结点为None\n",
    "        self._head = node\n",
    "    \n",
    "    # 判断单链表是否为空\n",
    "    def is_empty(self):\n",
    "        \"\"\"判断是否为空链表\"\"\"\n",
    "        return self._head == None\n",
    "        \n",
    "        #空： True\n",
    "        #非空： False\n",
    "    def add(self, item):\n",
    "        \"\"\"在链表的头部增加元素\"\"\"\n",
    "        node = Node(item)\n",
    "        node._next = self._head \n",
    "        self._head = node # self._head 指向新结点\n",
    "        \n",
    "    def append(self, item):\n",
    "        \"\"\"在链表在尾部增加元素\"\"\"\n",
    "        node= Node(item) # 待加入在结点\n",
    "        \n",
    "        if self.is_empty():\n",
    "            # 把node作为第一个结点\n",
    "            self._head = node\n",
    "        cur = self._head # 设置游标，定位到第一个结点\n",
    "        # 判断当前结点在下一个结点是否为空\n",
    "        while cur._next != None:\n",
    "            # 向右移动游标cur\n",
    "            cur = cur._next\n",
    "        #加入新结点\n",
    "        cur._next = node\n",
    "        \n",
    "    # 在指定位置添加一个结点\n",
    "    def insert(self, pos, item):\n",
    "        #考虑特殊的pos值\n",
    "        if pos <= 0:\n",
    "            self.add(item)\n",
    "        elif pos >=self.length()-1:\n",
    "            self.append(item)\n",
    "        else:\n",
    "            #设置一个游标，指向头结点\n",
    "            pre = self._head\n",
    "            # 定义一个变量count 计算游标位置\n",
    "            count = 0\n",
    "            # 确定待插入结点的位置\n",
    "            while count < pos-1:\n",
    "                # 向右移动游标\n",
    "                pre = pre._next\n",
    "                # count 增加1\n",
    "                count += 1\n",
    "            # 生成一个结点（item）\n",
    "            node = Node(item)\n",
    "            # 插入结点： 修改链接关系\n",
    "            node._next = pre._next  # 连接结点与“后半部分” \n",
    "            pre._next = node  # 连接结点与“前半部分”\n",
    "            \n",
    "                  \n",
    "        \n",
    "    # 求链表的长度\n",
    "    def length(self):\n",
    "        \"\"\"\n",
    "        求链表长度\n",
    "        返回： 链表结点的数目\n",
    "        \"\"\"\n",
    "        #游标： 当前结点\n",
    "        cur = self._head\n",
    "        #用count计数\n",
    "        count = 0\n",
    "        while cur != None:\n",
    "            count += 1\n",
    "            cur = cur._next\n",
    "        return count\n",
    "    \n",
    "    # 单链表的遍历 : 依次把单链表的所有结点的数据元素打印出\n",
    "    def travel(self):\n",
    "        # 游标 cur , 当前结点，指向头指针\n",
    "        cur = self._head \n",
    "        # 判断游标所指的结点是否为空\n",
    "        while cur != None:\n",
    "        # 如果不为空，打印出结点的数据元素\n",
    "            print(cur._item)\n",
    "            # 向右移动游标cur\n",
    "            cur = cur._next\n",
    "            \n",
    "    # 查询是否有某个元素（结点）\n",
    "    def search(self,item):\n",
    "        #游标cur, 指向头指针\n",
    "        cur = self._head \n",
    "        #判断cur所指的结点是否为空\n",
    "        while cur != None:\n",
    "            #判断当前结点的数据是否等于item\n",
    "            if cur._item == item:\n",
    "                return True\n",
    "            #移动游标\n",
    "            else:\n",
    "                cur = cur._next\n",
    "        return False\n",
    "        \n",
    "              \n",
    "    # 删除某个元素item（结点）\n",
    "    def remove(self, item):\n",
    "        \"\"\"删除某个特定数据元素\"\"\"\n",
    "        # 选择游标 cur\n",
    "        cur = self._head \n",
    "        # 游标 pre\n",
    "        pre = None\n",
    "        while cur != None:\n",
    "            # 检查当前结点的数据是否等于参数item\n",
    "            if cur._item == item:\n",
    "                # 如果待删除的结点为第一个结点\n",
    "                if cur == self._head:\n",
    "                    self._head = cur._next\n",
    "                # 对于一般情况\n",
    "                else:\n",
    "                    pre._next = cur._next\n",
    "                break\n",
    "            else:\n",
    "                # 移动游标\n",
    "                pre = cur\n",
    "                cur = cur._next\n",
    "                \n",
    "                    \n",
    "                    \n",
    "       \n",
    "              \n",
    "        \n",
    "if __name__ == \"__main__\":\n",
    "    # 实例化一个单向链表\n",
    "    ll = SingleLinkList()\n",
    "    print(\"链表是否为空1：\",ll.is_empty())  \n",
    "    \n",
    "    ll.add(100)\n",
    "    ll.add(200)\n",
    "    ll.add(200)\n",
    "    ll.add(200)\n",
    "    ll.append(10)\n",
    "    ll.insert(2,50)\n",
    "    ll.insert(200,50)\n",
    "    print(\"遍历结果：\")\n",
    "    ll.travel()\n",
    "    print(\"是否有2000: \",ll.search(2000))\n",
    "    ll.remove(200)\n",
    "    ll.remove(50)\n",
    "       \n",
    "    #print(\"链表是否为空2：\",ll.is_empty())\n",
    "    print(\"链表的长度： \", ll.length())\n",
    "    ll.travel()\n",
    "    \n",
    "    "
   ]
  },
  {
   "cell_type": "markdown",
   "metadata": {},
   "source": [
    "## 2.5 带头结点的链表\n",
    "\n",
    "头结点的特征:\n",
    "1.头结点的数据域无意义\n",
    "2.头结点的指针域指向线性表的第一个结点\n",
    "3.有头指针指向头结点\n",
    "4.头结点指针域为NULL时,线性表为空表\n",
    "\n",
    "## 2.6.链表与顺序表的区别\n",
    "优点：\n",
    "\n",
    "缺点：\n",
    "\n",
    "时间复杂度的比较：\n",
    "\n"
   ]
  },
  {
   "cell_type": "markdown",
   "metadata": {},
   "source": [
    "##  3. 单向循环链表 \n",
    "    1. 是另一种形式的链式存储结构.\n",
    "    2. 使线性表最后一个结点的指针(尾指针)指向链表的首结点，这种形式的线性表就叫循环链表.\n",
    "    3. 循环链表呈环状."
   ]
  },
  {
   "cell_type": "code",
   "execution_count": null,
   "metadata": {},
   "outputs": [],
   "source": []
  }
 ],
 "metadata": {
  "kernelspec": {
   "display_name": "Python 3",
   "language": "python",
   "name": "python3"
  },
  "language_info": {
   "codemirror_mode": {
    "name": "ipython",
    "version": 3
   },
   "file_extension": ".py",
   "mimetype": "text/x-python",
   "name": "python",
   "nbconvert_exporter": "python",
   "pygments_lexer": "ipython3",
   "version": "3.6.5"
  }
 },
 "nbformat": 4,
 "nbformat_minor": 2
}
