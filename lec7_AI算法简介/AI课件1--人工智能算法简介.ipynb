{
 "cells": [
  {
   "cell_type": "markdown",
   "metadata": {},
   "source": [
    "# 人工智能算法简介\n",
    "\n",
    "## 1. 目标\n",
    "1.1 了解人工智能可以做什么事情.\n",
    "\n",
    "1.2 了解线性代数的基本概念和例子. "
   ]
  },
  {
   "cell_type": "markdown",
   "metadata": {},
   "source": [
    "## 2 . 人工智能鸟瞰\n",
    "问题: \n",
    "人工智能(Artificial Intellegence, AI) 能做什么事情? \n",
    "\n",
    "搜索, 游戏设计,解方程, 限制条件问题, 机器学习, 自然语言处理,  机器视觉, 量化交易,...\n",
    "\n",
    "Python编程是本课程(AI)的基础.\n"
   ]
  },
  {
   "cell_type": "markdown",
   "metadata": {},
   "source": [
    "## 2.1 搜索\n",
    "\n",
    "最基本的算法----搜索. \n",
    "\n",
    "搜索的例子: 走迷宫, 魔方.\n",
    "\n",
    "搜索的类别:\n",
    "\n",
    "盲目搜索: (uninformed search): 广度优先搜索,深度优先搜索\n",
    "\n",
    "启发式搜索: (heuristic search) 均匀成本搜索, A\\*搜索\n",
    "\n",
    "\n",
    "对抗搜索: 游戏中,怎样打赢游戏. 例如MinMax搜索算法.\n",
    "\n"
   ]
  },
  {
   "cell_type": "markdown",
   "metadata": {},
   "source": [
    "智能体:(Intellegence agents) 利用人类设计的算法,让计算机系统自动去做正确的事情. 这样的系统就叫智能体. \n",
    "人工智能的目的: 设计出各式各样的智能体, 且在给定条件下,性能度量达到最优化.\n",
    "\n",
    "智能体能做什么? 感知环境和变化,并做出相应的操作于环境. 举例子:翻译机.\n",
    "\n",
    "理性智能体: 希望智能体表现达到最优化, 我们需要性能度量(measure)最大.\n",
    "\n",
    "搜索智能体: 已知起点,终点,要从起点到终点. 求: 路径. (走迷宫)\n",
    "\n",
    "要做的是: 定义出从起点到终点的动作的序列.  贪心搜索(贪婪搜索)\n",
    "\n",
    "成都--西安 --郑州--石家庄--北京\n",
    "\n",
    "成都--重庆--襄阳--济南--北京\n",
    "\n",
    "提高性能度量的方式: 软件,硬件(两方面)\n",
    "\n",
    "举例子: \n",
    "\n",
    "1.八皇后问题.\n",
    "\n",
    "2.搜索最短路径.\n"
   ]
  },
  {
   "cell_type": "markdown",
   "metadata": {},
   "source": [
    "## 2.2 机器学习\n",
    "\n",
    "机器学习是AI发展的趋势，是AI的核心内容．　如何让计算机从数据中获取并提高经验，并且准确执行,需要用到机器学习．\n",
    "\n",
    "\n",
    "机器学习的分类：\n",
    "\n",
    "\n",
    "监督学习：从有标签的数据中提取特征，用来做预测的过程．比如应用邮件分类,人脸识别,语音识别．\n",
    "\n",
    "\n",
    "非监督学习：数据集中的实例没有标签的学习过程．聚类，降维算法　\n",
    "\n",
    "\n",
    "强化学习：　设计智能体在随机的环境中演化，智能体可以在强化或延迟奖励中来学习．目的：　把奖励最大化．\n"
   ]
  },
  {
   "cell_type": "markdown",
   "metadata": {},
   "source": [
    "## 2.3 约束问题\n",
    "约束问题,其实是搜索问题,但是不关注路径,只关注结果. 问题用变量来表示,而不是用态描述.\n",
    "\n",
    "\n"
   ]
  },
  {
   "cell_type": "markdown",
   "metadata": {},
   "source": [
    "## 2.4 逻辑智能体\n",
    "逻辑被用来构建我们所在的世界的模型.\n",
    "\n",
    "很早以前,布尔发明了命题逻辑. \n",
    "\n",
    "用符号和连接词来为世界建立模型. 最终可以做预测. \n",
    "\n",
    "Prolog语言.\n",
    "\n",
    "## 2.5 自然语言处理\n",
    "在该领域,我们关注计算机和人类语言之间的相互作用. 视觉,感知,图像处理,..\n",
    "\n",
    "任务: 提取信息,操作,谈判,模式识别.\n"
   ]
  },
  {
   "cell_type": "markdown",
   "metadata": {},
   "source": [
    "## 2.6 操纵物理世界\n",
    "如何操纵物理世界的例子:  人类识别,语音识别,自动驾驶,机器人的自我运动...\n",
    "\n",
    "\n",
    "要学习掌握人工智能的算法,应用,我们需要练习. 准备工作主要包括: 线性代数, 概率基础,微积分等."
   ]
  },
  {
   "cell_type": "markdown",
   "metadata": {},
   "source": [
    "# 3.线性代数的基本概念\n",
    "\n",
    "## 3.1  矢量\n",
    "\n",
    "举例: 2D 矢量.\n",
    "\n",
    "门: (0,0)\n",
    "老师:(3,0) \n",
    "\n",
    "矢量:有大小,有方向的量.\n",
    "\n",
    "3D: 有三个分量的矢量.\n",
    "\n",
    "$${\\bf y} = \\left(\n",
    "\\begin{matrix}\n",
    "1\\\\\n",
    "1\\\\\n",
    "1\n",
    "\\end{matrix}\n",
    "\\right)$$\n",
    "\n",
    "矢量的元素(分量)用$y_i$来表示,$i=1,2,3$.  \n",
    "\n",
    "$y_1$ = 1."
   ]
  },
  {
   "cell_type": "markdown",
   "metadata": {},
   "source": [
    "注意:\n",
    "1. 我们所处的空间可以近似为一个三维矢量空间.取定某点为原点后,空间中每一点都是矢量. 所有矢量构成了三位矢量空间.\n",
    "2. 学习Python时,我们要区分矢量,列表和元组."
   ]
  },
  {
   "cell_type": "code",
   "execution_count": 2,
   "metadata": {},
   "outputs": [
    {
     "name": "stdout",
     "output_type": "stream",
     "text": [
      "<class 'tuple'>\n",
      "<class 'list'>\n"
     ]
    }
   ],
   "source": [
    "tup = (1,2,3)\n",
    "li = [1,2,3]\n",
    "print(type(tup))\n",
    "print(type(li))"
   ]
  },
  {
   "cell_type": "markdown",
   "metadata": {},
   "source": [
    "## 3.2矢量的基本操作\n",
    "\n",
    "### 3.2.1 矢量的加法\n",
    "$${\\bf x} =\n",
    "\\left(\n",
    "\\begin{matrix}\n",
    "2\\\\\n",
    "3\n",
    "\\end{matrix}\n",
    "\\right),$$\n",
    "\n",
    "$${\\bf z} =\n",
    "\\left(\n",
    "\\begin{matrix}\n",
    "1\\\\\n",
    "-1\n",
    "\\end{matrix}\n",
    "\\right).$$"
   ]
  },
  {
   "cell_type": "markdown",
   "metadata": {},
   "source": [
    "$${\\bf z} =\n",
    "\\left(\n",
    "\\begin{matrix}\n",
    "2\\\\\n",
    "3\n",
    "\\end{matrix}\n",
    "\\right)\n",
    "+\n",
    "\\left(\n",
    "\\begin{matrix}\n",
    "1\\\\\n",
    "-1\n",
    "\\end{matrix}\n",
    "\\right)=\n",
    "\\left(\n",
    "\\begin{matrix}\n",
    "3\\\\\n",
    "2\n",
    "\\end{matrix}\n",
    "\\right)\n",
    "$$"
   ]
  },
  {
   "cell_type": "code",
   "execution_count": 4,
   "metadata": {},
   "outputs": [
    {
     "name": "stdout",
     "output_type": "stream",
     "text": [
      "x+z= [3, 2]\n"
     ]
    }
   ],
   "source": [
    "# 例1. 用列表来实现矢量\n",
    "x = [2, 3]\n",
    "z = [1,-1]\n",
    "\n",
    "def sum_vector(vec1,vec2):\n",
    "    \"\"\"\n",
    "    矢量的加法.\n",
    "    \"\"\"\n",
    "    result = []\n",
    "    for i in range(len(x)):\n",
    "        result.append(vec1[i] + vec2[i])\n",
    "    return result\n",
    "\n",
    "print(\"x+z=\",sum_vector(x,z))\n",
    "    \n",
    "    "
   ]
  },
  {
   "cell_type": "markdown",
   "metadata": {},
   "source": [
    "一般地,两个二维矢量的加法定义: \n",
    "$$ a + b =\n",
    "\\left(\n",
    "\\begin{matrix}\n",
    "a_1\\\\\n",
    "a_2\n",
    "\\end{matrix}\n",
    "\\right)\n",
    "+\n",
    "\\left(\n",
    "\\begin{matrix}\n",
    "b_1\\\\\n",
    "b_2\n",
    "\\end{matrix}\n",
    "\\right)=\n",
    "\\left(\n",
    "\\begin{matrix}\n",
    "a_1 + b_1\\\\\n",
    "a_2 + b_2\n",
    "\\end{matrix}\n",
    "\\right)\n",
    "$$"
   ]
  },
  {
   "cell_type": "markdown",
   "metadata": {},
   "source": [
    "注意:\n",
    "1. 只有维度相同的矢量才可以相加\n",
    "2. 对于高维空间中的矢量的加法,以上公式可以类推"
   ]
  },
  {
   "cell_type": "markdown",
   "metadata": {},
   "source": [
    "### 3.2.2 矢量的数乘\n",
    "矢量的数乘:用一个数$\\lambda$与矢量相乘,表示为\n",
    "$$ \\lambda {\\bf x} =\n",
    "\\lambda \\left(\n",
    "\\begin{matrix}\n",
    "x_1\\\\\n",
    "x_2 \\\\\n",
    "\\vdots \\\\\n",
    "x_n\n",
    "\\end{matrix}\n",
    "\\right)\n",
    "=\n",
    "\\left(\n",
    "\\begin{matrix}\n",
    "\\lambda x_1\\\\\n",
    "\\lambda x_2 \\\\\n",
    "\\vdots \\\\\n",
    "\\lambda x_n\n",
    "\\end{matrix}\n",
    "\\right)\n",
    "$$"
   ]
  },
  {
   "cell_type": "code",
   "execution_count": 8,
   "metadata": {},
   "outputs": [
    {
     "name": "stdout",
     "output_type": "stream",
     "text": [
      "cx =  [6, 9, 0, 3]\n",
      "c2 x =  [0.2, 0.30000000000000004, 0.0, 0.1]\n"
     ]
    }
   ],
   "source": [
    "# 例2. 用列表来实现矢量\n",
    "# 并实现数乘\n",
    "\n",
    "x = [2, 3, 0, 1 ]\n",
    "c = 3\n",
    "c2 = 0.1\n",
    " \n",
    "def scalar_product(c,vec):\n",
    "    \"\"\"\n",
    "    矢量的数乘.\n",
    "    \"\"\"\n",
    "    result = []\n",
    "    for i in range(len(x)):\n",
    "        result.append(c * vec[i])\n",
    "    return result\n",
    "\n",
    "print(\"cx = \", scalar_product(c, x))\n",
    "print(\"c2 x = \", scalar_product(c2, x))"
   ]
  },
  {
   "cell_type": "markdown",
   "metadata": {},
   "source": [
    "矢量数乘的含义: 把矢量的分量变成原来的$\\lambda$倍.\n",
    "注意:\n",
    "1. 数乘中的常数可以是实数,也可以是复数(complex).\n",
    "2. 常数把矢量的模也变为原来的$|\\lambda|$倍."
   ]
  },
  {
   "cell_type": "markdown",
   "metadata": {},
   "source": [
    "### 3.2.2 矢量的长度 (矢量的模)\n",
    "\n",
    "$${\\bf z} =\n",
    "\\left(\n",
    "\\begin{matrix}\n",
    "4\\\\\n",
    "5\n",
    "\\end{matrix}\n",
    "\\right)\n",
    "$$\n",
    "\n",
    "$$2 {\\bf z} =\n",
    "\\left(\n",
    "\\begin{matrix}\n",
    "2\\times 4\\\\\n",
    "2\\times 5\n",
    "\\end{matrix}\n",
    "\\right)\n",
    "$$"
   ]
  },
  {
   "cell_type": "markdown",
   "metadata": {},
   "source": [
    "$|z| = \\sqrt{4^2 + 5^2}$  \n",
    "\n",
    "$|2z| = \\sqrt{8^2 + 10^2}$  "
   ]
  },
  {
   "cell_type": "code",
   "execution_count": 10,
   "metadata": {},
   "outputs": [
    {
     "name": "stdout",
     "output_type": "stream",
     "text": [
      "6.4031242374328485\n",
      "12.806248474865697\n"
     ]
    }
   ],
   "source": [
    "import math\n",
    "print(math.sqrt(41))\n",
    "print(math.sqrt(164))"
   ]
  },
  {
   "cell_type": "markdown",
   "metadata": {},
   "source": [
    "说明: 一般地,矢量的模定义为各分量平方和的平方根."
   ]
  },
  {
   "cell_type": "markdown",
   "metadata": {},
   "source": [
    "### 3.2.3 矢量的点积\n",
    "定义为:两个二维矢量对应元素的乘积:\n",
    "\n",
    "${\\bf x} \\cdot {\\bf y} = x_1 y_1 + x_2 y_2$.\n",
    "\n",
    "\n",
    "两个$N$维矢量的内积,定义为对应元素的乘积:\n",
    "\n",
    "${\\bf x} \\cdot {\\bf y} \\\\\n",
    "= x_1 y_1 + x_2 y_2 + x_3 y_3 + ... + x_n y_n \\\\\n",
    "= \\sum_{i=1}^{N} x_i y_i$.\n",
    "\n",
    "问: 满足交换律吗?\n",
    "\n",
    "${\\bf x} \\cdot {\\bf y} = x_1 y_1 + x_2 y_2\\\\\n",
    " = y_1x_1 + y_2 x_2 \\\\\n",
    " {\\bf y} \\cdot {\\bf x}$.\n",
    "\n",
    "所以,点积满足交换律."
   ]
  },
  {
   "cell_type": "markdown",
   "metadata": {},
   "source": [
    "$${\\bf z} =\n",
    "\\left(\n",
    "\\begin{matrix}\n",
    "2\\\\\n",
    "3\n",
    "\\end{matrix}\n",
    "\\right);$$\n",
    "\n",
    "$${\\bf y} = \n",
    "\\left(\n",
    "\\begin{matrix}\n",
    "1\\\\\n",
    "0\n",
    "\\end{matrix}\n",
    "\\right)\n",
    "$$"
   ]
  },
  {
   "cell_type": "markdown",
   "metadata": {},
   "source": [
    "${\\bf z}\\cdot {\\bf y} = 2\\times 1 + 3 \\times 0 $ =2\n",
    "\n",
    "注意:\n",
    "1. 矢量的点积,是一个数.\n",
    "2. 点积满足交换律.\n",
    "3. 书写的时候,不能省略$\\cdot$  符号.\n",
    "\n",
    "$\\bf x \\bf y \\ne \\bf x \\cdot \\bf y$"
   ]
  },
  {
   "cell_type": "markdown",
   "metadata": {},
   "source": [
    "举例: 一个人的基本信息可以用一个矢量来描述\n",
    "\n",
    "$$基本信息 = \n",
    "\\left(\n",
    "\\begin{matrix}\n",
    "24\\\\\n",
    "F \\\\\n",
    "158 \\\\\n",
    "50 \\\\\n",
    "OL \\\\\n",
    "5.8 \\\\\n",
    "F \\\\\n",
    "Chinese \\\\\n",
    "CN \\\\\n",
    "Tao \n",
    "\\end{matrix}\n",
    "\\right); \n",
    "$$\n",
    "经过编码后,得到 矢量:\n",
    "$${\\bf x} = \n",
    "\\left(\n",
    "\\begin{matrix}\n",
    "24\\\\\n",
    "0 \\\\\n",
    "158 \\\\\n",
    "50 \\\\\n",
    "4 \\\\\n",
    "5.8 \\\\\n",
    "0 \\\\\n",
    "201 \\\\\n",
    "0 \\\\\n",
    "0 \n",
    "\\end{matrix}\n",
    "\\right); \n",
    "$$\n",
    "\n",
    "举例:\n",
    "    网上的文章,由单词,词语构成.构建bag-of-word模型. 用一万个单词分别作为基矢量,张成的一万维的矢量空间. 任意一篇以作为该空间中的一个矢量. 有助于相似文章的搜索. \n",
    "    习题的地址:\n",
    "    https://github.com/hg08/ai_lecture/blob/master/week1/ex1_week1_1.pdf"
   ]
  },
  {
   "cell_type": "markdown",
   "metadata": {},
   "source": [
    "## 3.3 矩阵\n",
    "由特定行数和列数的数构成的数学对象,就叫矩阵. 形如\n",
    "$$ A =\n",
    "\\left(\n",
    "\\begin{matrix}\n",
    "A_{11} & A_{12} & A_{13}\\\\\n",
    "A_{21} & A_{22} & A_{23}\n",
    "\\end{matrix}\n",
    "\\right)\n",
    "$$\n",
    "的数学对象,就是一个2$\\times$ 3 矩阵. 比如\n",
    "\n",
    "$$ I =\n",
    "\\left(\n",
    "\\begin{matrix}\n",
    "1 & 0\\\\\n",
    "0 & 1\n",
    "\\end{matrix}\n",
    "\\right)\n",
    "$$\n",
    "\n",
    "\n",
    "$$ X =\n",
    "\\left(\n",
    "\\begin{matrix}\n",
    "0 & 1\\\\\n",
    "1 & 0\n",
    "\\end{matrix}\n",
    "\\right)\n",
    "$$\n",
    "\n",
    "$$ Z =\n",
    "\\left(\n",
    "\\begin{matrix}\n",
    "1 & 0\\\\\n",
    "0 & -1\n",
    "\\end{matrix}\n",
    "\\right)\n",
    "$$\n",
    "都是2$\\times2$矩阵."
   ]
  },
  {
   "cell_type": "markdown",
   "metadata": {},
   "source": [
    "总结: \n",
    "\n",
    "1. M$\\times$ N 个数构成的M行N列的数学对象,就是一个M$\\times$ N矩阵.\n",
    "\n",
    "2. M$\\times$ 1矩阵就是一个M维矢量."
   ]
  },
  {
   "cell_type": "markdown",
   "metadata": {},
   "source": [
    "矩阵的分量$A_{ij}$ 就是表示矩阵A的第i行第j列的元素. 第一个下标表示行数,第二个下标表示列数. \n",
    "\n",
    "在程序代码中,矩阵的分量$A_{ij}$表示为 $A[i][j]$."
   ]
  },
  {
   "cell_type": "markdown",
   "metadata": {},
   "source": [
    "## 3.4 矩阵的基本操作\n",
    "### 3.4.1 矩阵的和\n",
    "已知矩阵$A, B$具有相同的形状(size), 则 $A+B$定义为\n",
    "\n",
    "$(A+B)_{ij} = A_{ij} + B_{ij}$."
   ]
  },
  {
   "cell_type": "markdown",
   "metadata": {},
   "source": [
    "### 3.4.2 矩阵 的数乘\n",
    "一个常数与矩阵A的数乘定义为:\n",
    "\n",
    "$(\\lambda A)_{ij} =\\lambda A_{ij} $.\n",
    "例子:\n",
    "$$5 Z =\n",
    "5\\left(\n",
    "\\begin{matrix}\n",
    "1 & 0 \\\\\n",
    "0 & -1\n",
    "\\end{matrix}\n",
    "\\right)\n",
    "= \\left(\n",
    "\\begin{matrix}\n",
    "5 & 0 \\\\\n",
    "0 & -5\n",
    "\\end{matrix}\n",
    "\\right)\n",
    "$$"
   ]
  },
  {
   "cell_type": "markdown",
   "metadata": {},
   "source": [
    "### 3.4.3 矩阵乘法 (重点)\n",
    "不是任意两个矩阵都可以定义乘法.只有当第一个举证的列数等于第二个矩阵的行数的时候, 矩阵的乘法才可定义.\n",
    "\n",
    "$$AB =\n",
    "\\left(\n",
    "\\begin{matrix}\n",
    "0 & 1 & 2 \\\\\n",
    "3 & 4 & 5\n",
    "\\end{matrix}\n",
    "\\right)\n",
    "\\left(\n",
    "\\begin{matrix}\n",
    "0 & 1 \\\\\n",
    "2 & 3 \\\\\n",
    "4 & 5\n",
    "\\end{matrix}\n",
    "\\right)\n",
    "$$"
   ]
  },
  {
   "cell_type": "markdown",
   "metadata": {},
   "source": [
    "$(AB)_{11} = 0*0 + 1*2 + 2*4$\n",
    "\n",
    "$(AB)_{12} =$\n",
    "\n",
    "$(AB)_{13} =$\n",
    "\n",
    "$(AB)_{21} =$\n",
    "\n",
    "$(AB)_{22} =$\n",
    "\n",
    "$(AB)_{23} =$"
   ]
  },
  {
   "cell_type": "markdown",
   "metadata": {},
   "source": [
    "习题:  \n",
    "$$ Xa =\n",
    "\\left(\n",
    "\\begin{matrix}\n",
    "0 & 1\\\\\n",
    "1 & 0\n",
    "\\end{matrix}\n",
    "\\right) \n",
    "\\left(\n",
    "\\begin{matrix}\n",
    " 1\\\\\n",
    "0\n",
    "\\end{matrix}\n",
    "\\right) \n",
    "=?\n",
    "$$\n",
    "\n",
    "$$ Za =\n",
    "\\left(\n",
    "\\begin{matrix}\n",
    "1 & 0\\\\\n",
    "0 & -1\n",
    "\\end{matrix}\n",
    "\\right) \n",
    "\\left(\n",
    "\\begin{matrix}\n",
    " 1\\\\\n",
    "0\n",
    "\\end{matrix}\n",
    "\\right) \n",
    "=?\n",
    "$$\n",
    "\n",
    "$$ BA =\n",
    "\\left(\n",
    "\\begin{matrix}\n",
    "1 & 0\\\\\n",
    "\\end{matrix}\n",
    "\\right) \n",
    "\\left(\n",
    "\\begin{matrix}\n",
    " -1\\\\\n",
    "0\n",
    "\\end{matrix}\n",
    "\\right) \n",
    "=?\n",
    "$$"
   ]
  },
  {
   "cell_type": "markdown",
   "metadata": {},
   "source": [
    "上面习题得知: \n",
    "1. 结果为一个二维矢量!\n",
    "2. 矩阵乘以一个矢量可以改变为另一个矢量,也可能不变.\n",
    "3. 矢量的点积可以用矩阵乘法来表示. 前提:第一个矩阵写出一行矩阵 (转置矩阵).\n"
   ]
  }
 ],
 "metadata": {
  "kernelspec": {
   "display_name": "Python 3",
   "language": "python",
   "name": "python3"
  },
  "language_info": {
   "codemirror_mode": {
    "name": "ipython",
    "version": 3
   },
   "file_extension": ".py",
   "mimetype": "text/x-python",
   "name": "python",
   "nbconvert_exporter": "python",
   "pygments_lexer": "ipython3",
   "version": "3.5.5"
  },
  "widgets": {
   "state": {},
   "version": "1.1.2"
  }
 },
 "nbformat": 4,
 "nbformat_minor": 2
}
