{
 "cells": [
  {
   "cell_type": "markdown",
   "metadata": {},
   "source": [
    "# 项目3： 滑动平均--使数据变光滑\n",
    "一串数据可能包含很多毛刺（由高频率的噪声引起），但其实这串数据在现实生活中是平滑的。其中一个平滑数据的操作便是滑动平均。"
   ]
  },
  {
   "cell_type": "code",
   "execution_count": 15,
   "metadata": {},
   "outputs": [
    {
     "name": "stdout",
     "output_type": "stream",
     "text": [
      "[3.3333333333333335, 5.0, 6.0, 3.0, 3.0, 3.6666666666666665]\n"
     ]
    }
   ],
   "source": [
    "import random\n",
    "\n",
    "random.seed(1)\n",
    "\n",
    "def moving_window_average(x, n_neighbors=1):\n",
    "    \"\"\"求移动窗口内的平均值\"\"\"\n",
    "    n = len(x)\n",
    "    width = n_neighbors*2 + 1\n",
    "    x = [x[0]]*n_neighbors + x + [x[-1]]*n_neighbors\n",
    "    # 完成该函数\n",
    "    # 对所有i (i 从0取到n-1)返回一个从i到i+width的平均值的列表\n",
    "     \n",
    "        \n",
    "x=[0,10,5,3,1,5]\n",
    "print(moving_window_average(x, 1))"
   ]
  },
  {
   "cell_type": "code",
   "execution_count": 16,
   "metadata": {},
   "outputs": [],
   "source": [
    "import random\n",
    "\n",
    "random.seed(1) # 这一行固定随机函数的值，只是为了方便检查你的结果\n",
    "    \n",
    "#此处写你的代码!\n",
    "\n",
    "\n",
    "x = [random.random() for i in range(1000)]\n",
    "Y = [x]\n",
    "for i in range(1,10):\n",
    "    Y.append(moving_window_average(x,i))\n"
   ]
  },
  {
   "cell_type": "code",
   "execution_count": null,
   "metadata": {},
   "outputs": [],
   "source": [
    "# 打印出Y中的每一个列表的最大值与最小值之差，保存在列表ranges中.\n",
    "# 此处写你的代码!\n"
   ]
  }
 ],
 "metadata": {
  "kernelspec": {
   "display_name": "Python 3",
   "language": "python",
   "name": "python3"
  },
  "language_info": {
   "codemirror_mode": {
    "name": "ipython",
    "version": 3
   },
   "file_extension": ".py",
   "mimetype": "text/x-python",
   "name": "python",
   "nbconvert_exporter": "python",
   "pygments_lexer": "ipython3",
   "version": "3.6.5"
  }
 },
 "nbformat": 4,
 "nbformat_minor": 2
}
