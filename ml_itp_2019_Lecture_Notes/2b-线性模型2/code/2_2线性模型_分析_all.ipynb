{
 "cells": [
  {
   "cell_type": "markdown",
   "metadata": {},
   "source": [
    "## 1. 一般线性回归\n",
    "为了对比, 回顾一下前面学过的kNN回归算法的结果:"
   ]
  },
  {
   "cell_type": "code",
   "execution_count": 3,
   "metadata": {},
   "outputs": [],
   "source": [
    "# 导入模块:\n",
    "import mglearn \n",
    "import numpy as np\n",
    "import matplotlib.pyplot as plt  \n",
    "\n",
    "from sklearn.model_selection import train_test_split \n",
    "from sklearn.neighbors import KNeighborsRegressor \n",
    "from sklearn.linear_model import LinearRegression "
   ]
  },
  {
   "cell_type": "code",
   "execution_count": 4,
   "metadata": {},
   "outputs": [
    {
     "data": {
      "text/plain": [
       "<matplotlib.legend.Legend at 0x7f5937c1a940>"
      ]
     },
     "execution_count": 4,
     "metadata": {},
     "output_type": "execute_result"
    },
    {
     "data": {
      "image/png": "[encoded data removed]",
      "text/plain": [
       "<Figure size 432x288 with 1 Axes>"
      ]
     },
     "metadata": {
      "needs_background": "light"
     },
     "output_type": "display_data"
    }
   ],
   "source": [
    "#生成数据集: 只有一个特征的数据集\n",
    "X, y = mglearn.datasets.make_wave(n_samples=40)  \n",
    "X_train, X_test, y_train, y_test = train_test_split(X, y, random_state=42) \n",
    "\n",
    "#如果数据仅有一个特征,利用array.reshape(-1, 1)改变数组形状;\n",
    "#如果数据中仅包含一个样本,则可利用array.reshape(1, -1)改变数组形状.\n",
    "line = np.linspace(-3,3, 1000).reshape(-1,1)\n",
    "n_neighbors = 13 # 可改变k值:1,5,10\n",
    "\n",
    "# 训练回归模型\n",
    "reg = KNeighborsRegressor(n_neighbors=n_neighbors)\n",
    "reg.fit(X_train,y_train)\n",
    "\n",
    "#print(X)\n",
    "#print(y)\n",
    "# print(X_train.shape)\n",
    "# print(y_train.shape)\n",
    "# # print(reg.predict(X_test))\n",
    "# print(X_test)\n",
    "# print(y_test)\n",
    "\n",
    "# 作图: 包括回归曲线, 训练集,测试集 共三行代码\n",
    "# ==Your code\n",
    "# 回归曲线\n",
    "plt.plot(line[:,0],reg.predict(line),\"-\")\n",
    "#训练集\n",
    "plt.plot(X_train[:,0], y_train, \"or\" )\n",
    "\n",
    "# 一个样本\n",
    "#new = np.array([[15.0]])\n",
    "#plt.plot(new[:,0], reg.predict(new),\"ob\")\n",
    "# 测试集\n",
    "#plt.plot(X_test[:,0], reg.predict(X_test) , \"vb\" )\n",
    "plt.plot(X_test[:,0], y_test , \"vb\" )\n",
    "# # 图形标识\n",
    "plt.title(\"{} neighbor(s)\\n train score:{:.2f} test score: {:.2f}\".format(n_neighbors, reg.score(X_train,y_train),                                                                        reg.score(X_test,y_test)))\n",
    "plt.xlabel(\"Feature\")\n",
    "plt.ylabel(\"Target\")\n",
    "plt.legend([\"Predictions\", \"Training data/target\", \"Test data/target\"])"
   ]
  },
  {
   "cell_type": "markdown",
   "metadata": {},
   "source": [
    "分析:\n",
    "    1.当k = 1,  kNN回归模型对训练集非常准确,而对测试集预测很不准确.(过拟合)\n",
    "    2.  当k 很大,  kNN回归模型对训练集非常不准确,对测试集预测也不准确.(欠拟合)"
   ]
  },
  {
   "cell_type": "markdown",
   "metadata": {},
   "source": [
    "## 1. 简单线性回归"
   ]
  },
  {
   "cell_type": "markdown",
   "metadata": {},
   "source": [
    "#### (1) 对于只有一个特征的数据集\n",
    "线性回归模型\n",
    "\n",
    "$\\hat y = \\beta_1 x_1 + \\beta_0$,\n",
    "\n",
    "$\\beta_1$是斜率, $\\beta_0$是y轴上的截距.\n",
    "\n",
    "$\\hat y$称为response, 是模型的\\ 预测值___.\n"
   ]
  },
  {
   "cell_type": "markdown",
   "metadata": {},
   "source": [
    "\n",
    "#### (2) 对于只有$n$个特征的数据集\n",
    "线性回归模型\n",
    "\n",
    "$\\hat y = \\beta_0 x_0+ \\beta_1 x_1 +...+ \\beta_n  x_n$ (总是设置 $x_0 = 1$)\n",
    "\n",
    "我们也可把$\\hat y$看作是输入特征$x_0,x_1,...,x_n$的带权重的求和.($n$ : 特征的数目.)\n",
    "\n",
    "我们可将系数记为一个矢量$\\bf \\beta$\n",
    "$${\\bf \\beta} = \\left(\n",
    "\\begin{matrix}\n",
    " \\beta_0    \\\\\n",
    " \\beta_1 \\\\\n",
    " \\vdots \\\\\n",
    " \\beta_n \\\\\n",
    "\\end{matrix} \n",
    "\\right),\n",
    "$$\n",
    "举例:\n",
    "$${\\bf \\beta} = \\left(\n",
    "\\begin{matrix}\n",
    " 10    \\\\\n",
    " 0.4 \\\\\n",
    " 0.6 \\\\\n",
    "\\end{matrix} \n",
    "\\right),\n",
    "$$\n",
    "其中,${\\bf\\beta}_0, {\\bf\\beta}_1,...,{\\bf\\beta}_n$是模型的参数.\n",
    "\n",
    "\n",
    "可将**一个样本**的特征记为一个矢量$\\bf x$ \n",
    "$${\\bf x} = \\left(\n",
    "\\begin{matrix}\n",
    " 1  \\\\\n",
    " x_1 \\\\\n",
    " \\vdots \\\\\n",
    " x_n \\\\\n",
    "\\end{matrix} \n",
    "\\right),\n",
    "$$\n",
    "举例:\n",
    "$${\\bf x} = \\left(\n",
    "\\begin{matrix}\n",
    " 1  \\\\\n",
    " 60 \\\\\n",
    " 80 \\\\\n",
    "\\end{matrix} \n",
    "\\right),\n",
    "$$\n",
    "其中,$x_1$表示第1个特征, ...,$n$表示第$n$个特征.\n",
    "\n",
    "所以, 我们可以写出线性回归模型的矢量形式:\n",
    "$$\\hat y = {\\bf\\beta}^T {\\bf x},$$\n",
    "\n",
    "$$\\hat y = {\\bf\\beta}\\cdot {\\bf x},$$\n",
    "其中,${\\bf\\beta}^T$是$\\bf\\beta$的转置 (所以是一个**行矢量**), $\\hat y$ 是 ${\\bf\\beta}^T$ 和 ${\\bf x}$的点积."
   ]
  },
  {
   "cell_type": "markdown",
   "metadata": {},
   "source": [
    "#### (3) 代价函数(cost function) \n",
    "又称损失函数(loss funtion).\n",
    "\n",
    "Mean Square Error: 均方差(MSE)\n",
    "\n",
    "Root Mean Square Error : 根均方差(RMSE)\n",
    "\n",
    "实践中,往往计算均方差损失函数(MSE lost function), 从而获得参数${\\bf\\beta}$的值(训练出模型).  \n",
    "\n",
    "$$\\text{MSE}({\\bf\\beta}) = \\frac{1}{m}\\sum_{i=1}^m({\\bf\\beta}^T {\\bf x}^{(i)} -y^{(i)})^2.$$\n",
    "\n",
    "解出上面这个方程,就可以得到$\\bf\\beta$的值,也就是**线性模型**. 其解为:\n",
    "\n",
    "$$\\hat{\\bf \\beta} = ({\\bf X}^T\\cdot {\\bf X})^{-1}\\cdot {\\bf X}^T \\cdot {\\bf y},$$\n",
    "\n",
    "$\\hat{\\bf \\beta}$就是使得损失函数最小的参数组成的矢量;\n",
    "\n",
    "$\\bf X$是$m\\times n$矩阵, $\\bf\\beta$是$n\\times 1$矩阵(矢量);\n",
    "\n",
    "${\\bf y}$是目标值$y^{(1), ..., y^{(m)}}$构成的矢量, $n\\times 1$矩阵.\n",
    "\n",
    "我们称这个方程为**正则方程** (Normal Equation). \n",
    "\n",
    "注意:用正则方程来计算$\\bf\\beta$的时间复杂度为$O(n^3)$, 当特征数目$n$很大时,不要用这种方法来求$\\bf\\beta$."
   ]
  },
  {
   "cell_type": "code",
   "execution_count": 5,
   "metadata": {},
   "outputs": [
    {
     "name": "stdout",
     "output_type": "stream",
     "text": [
      "(40, 1)\n",
      "[0.47954524]\n",
      "-0.09847983994403892\n",
      "Traing set score: 0.65\n",
      "Test set score: 0.77\n"
     ]
    },
    {
     "data": {
      "text/plain": [
       "Text(0, 0.5, 'Target')"
      ]
     },
     "execution_count": 5,
     "metadata": {},
     "output_type": "execute_result"
    },
    {
     "data": {
      "image/png": "[encoded data removed]",
      "text/plain": [
       "<Figure size 432x288 with 1 Axes>"
      ]
     },
     "metadata": {
      "needs_background": "light"
     },
     "output_type": "display_data"
    }
   ],
   "source": [
    "#linear_regression.py  \n",
    "\n",
    "# 导入线性回归模型\n",
    "from sklearn.linear_model import LinearRegression\n",
    "\n",
    "#生成数据集: 只有一个特征的数据集\n",
    "X, y = mglearn.datasets.make_wave(n_samples=40)  \n",
    "X_train, X_test, y_train, y_test = train_test_split(X, y, random_state=42)  \n",
    "print(X.shape)\n",
    "\n",
    "# 训练出线性回归模型\n",
    "#==Your code\n",
    "lr = LinearRegression()\n",
    "#拟合\n",
    "lr.fit(X_train, y_train)\n",
    "\n",
    "# 计算并打印斜率和截距\n",
    "# beta_1 are stored in the coef_ attribute,  \n",
    "# beta_0 is stored in the intercept_ attribute. \n",
    "# ==Your code\n",
    "print(lr.coef_)\n",
    "print(lr.intercept_)\n",
    "\n",
    "# 分别计算训练集和测试集的拟合优度, 保留三位小数 \n",
    "#==Your code\n",
    "#print(lr.score(X_train,y_train))\n",
    "print(\"Traing set score: {:.2f}\".format(lr.score(X_train,y_train)))  \n",
    "print(\"Test set score: {:.2f}\".format(lr.score(X_test,y_test)))\n",
    "\n",
    "# 作图:\n",
    "# 对回归方程作图; 对训练集数据作图; 对测试集数据作图\n",
    "# ==Your code\n",
    "line = np.linspace(-3,3, 1000).reshape(-1,1)\n",
    "plt.plot(line[:,0],lr.predict(line))\n",
    "plt.plot(X_train[:,0], y_train, \"o\", c=\"r\" )\n",
    "plt.plot(X_test[:,0], y_test , \"v\", c=\"b\" )\n",
    "plt.xlabel(\"Feature\")\n",
    "plt.ylabel(\"Target\")"
   ]
  },
  {
   "cell_type": "markdown",
   "metadata": {},
   "source": [
    "数据的很多细节都被丢掉了. **我们的目标(Target标签)是特征的线性函数** 是一个很强的假设,也就是说,是过于( 简单)的模型! \n",
    "\n",
    "    1. coef_是Numpy数组；　intercept_是一个浮点型数.\n",
    "    2. 训练集和测试集的准确度都不高.这说明我们的方法是 (欠)拟合的，而不是(过)拟合的.\n",
    "    3. 但是对于具有更多特征的数据集，线性模型是很有用的！这种情况下，更多的情况是过拟合出现，而非欠拟合.(例)\n",
    "\n",
    "当你的特征数目($n$)大于你的数据点的数目(样本个数)时,目标$y$往往可以用线性模型很好地预测出来. "
   ]
  },
  {
   "cell_type": "markdown",
   "metadata": {},
   "source": [
    "下面就是一个例子.这个例子中,特征数目为(),样本数目(). 前者( )后者."
   ]
  },
  {
   "cell_type": "code",
   "execution_count": 9,
   "metadata": {},
   "outputs": [
    {
     "name": "stdout",
     "output_type": "stream",
     "text": [
      "(379, 104)\n",
      "lr.coef_:[-1.24333702e+02  8.51109172e-01 -8.78824412e+01  7.81825048e+00\n",
      " -4.06861380e+01  2.61890125e+01  5.47007747e+01 -6.90846361e+01\n",
      "  5.01049890e+01  2.81858069e+01 -1.29429225e+01  4.81643468e+01\n",
      "  6.04965107e+01  5.50775611e+01  1.81667676e+03  2.51073616e+02\n",
      "  4.21555936e+02 -8.23756618e+01  2.68876268e+02 -1.07656749e+02\n",
      " -3.77037674e+02 -3.83383088e+02  3.51523319e+02 -7.35748233e+00\n",
      "  2.67286847e+01  5.65099476e+01 -5.50667199e+00 -1.17926994e+01\n",
      " -1.28473035e+01 -2.76838844e+01 -2.87669962e+00 -3.85586219e-01\n",
      " -4.86621419e+00 -1.85513649e+01  2.19279307e+01 -8.67842854e+00\n",
      "  1.76334139e+01 -2.61834116e+01  2.16356003e+01  2.99410370e+00\n",
      "  1.04966826e+01  4.01265710e+01  1.63439867e+01  5.61180816e+01\n",
      " -1.91007517e+01  1.71622607e+01  4.10508880e+00  2.18656074e+01\n",
      "  2.81273665e+00  7.81825048e+00 -1.18525934e+01 -3.62608172e+01\n",
      "  3.05044951e+00  3.65981310e+01 -3.33277779e+00 -9.46859265e+00\n",
      " -9.73239134e+00  9.48538941e+00 -2.02269638e+01  2.06984374e+01\n",
      "  2.40062595e+01 -2.30341997e+01  1.10903548e+02 -6.00556451e+00\n",
      "  1.84622075e+01 -2.29697796e+01  2.29081600e+00  2.38457928e+01\n",
      "  2.72633112e+01 -3.62438600e+01  2.99700977e+01 -2.37983636e+01\n",
      " -3.88143747e+01 -6.99662703e+00  1.07015056e+01 -7.44225841e+01\n",
      "  4.91085514e+00 -6.78709407e+00  2.87845206e+01 -2.59067397e+01\n",
      " -2.42083666e+00 -3.87810818e+01 -2.28957639e+01  6.78634328e+01\n",
      " -2.08310147e+01 -2.57250801e+01 -5.43081961e+00 -3.02197012e+01\n",
      "  4.93010816e+01 -7.63875125e+01  9.45133507e+01 -2.58006003e+01\n",
      " -7.40603658e+00 -1.00712059e+01 -1.24819910e+01  2.21603357e+01\n",
      " -2.13920836e+01 -2.88530760e+01  1.45291424e+00  1.89124871e+01\n",
      "  5.70082642e+00 -9.67164307e+00 -2.30418042e+01 -1.06648201e+01]\n",
      "lr.intercept_:-17.071858659614886\n",
      "Traing set score: 0.93\n",
      "Test set score:0.18\n"
     ]
    }
   ],
   "source": [
    "#linear_regression2.py  \n",
    "\n",
    "#生成数据集\n",
    "X, y = mglearn.datasets.load_extended_boston()    \n",
    "X_train, X_test, y_train, y_test = train_test_split(X, y, random_state=40)  \n",
    "#查看训练集的形状\n",
    "#==Your code\n",
    "print(X_train.shape)\n",
    "lr = LinearRegression()\n",
    "#拟合\n",
    "lr.fit(X_train, y_train)\n",
    "  \n",
    "#计算并打印( )\n",
    "# w are stored in the coef_ attribute,  \n",
    "# b is stored in the intercept_ attribute.  \n",
    "print(\"lr.coef_:{}\".format(lr.coef_))  \n",
    "print(\"lr.intercept_:{}\".format(lr.intercept_))  \n",
    "\n",
    "# # 分别计算训练集和测试集的拟合优度, 保留三位小数 \n",
    "print(\"Traing set score: {:.2f}\".format(lr.score(X_train,y_train)))  \n",
    "print(\"Test set score:{:.2f}\".format(lr.score(X_test,y_test))) "
   ]
  },
  {
   "cell_type": "markdown",
   "metadata": {},
   "source": [
    "分析:\n",
    "1. 对于训练集，我们预测得(非常准确 ) ，然而对于测试集上预测结果却( 非常不准确).$R^2= (   ) $,比较(差) ,说明回归模型 (不好 )  ！\n",
    "2. 上述差别说明：出现了 (    )！ 可以猜测: 对于特征数目很多的数据集(常称为**高维度数据集**),线性模型变得更有用,同时更容易出现(    ).\n",
    "3. 我们需要一个能让我们控制复杂度的模型. 其中一个常见的选择是:岭回归.\n"
   ]
  },
  {
   "cell_type": "markdown",
   "metadata": {},
   "source": [
    "## 2. 岭回归(Ridge regression)"
   ]
  },
  {
   "cell_type": "markdown",
   "metadata": {},
   "source": [
    "Ridge回归也是一种线性回归. 这个方法在OLS基础上，加入了额外的约束条件.\n",
    "\n",
    "另外，我们也想让系数的绝对值尽可能的(小 )，即$\\beta$的所有元素都应该接近0．\n",
    "\n",
    "要求每个特征尽可能少地影响输出结果，也就是说，斜率要尽可能地(平缓 ),但是预测要尽可能准确！\n",
    "\n",
    "加这个约束条件是**正则化**（regularization）的一个例子. \n",
    "\n",
    "正则化的含义就是：约束一个模型以避免过拟合.\n",
    "\n",
    "正则化的思想非常重要，它使得我们可以在“完美拟合”与“简化模型”这一对矛盾之间找到一个平衡点，从而生成更具有普遍性的模型！正如V.N.Vapnik所说:\n",
    "\"Regularization theory was one of the first signs of the existence of intelligent inference.\"\n",
    "\n",
    "岭回归用的正则化方法是L2正则化. "
   ]
  },
  {
   "cell_type": "markdown",
   "metadata": {},
   "source": [
    "岭回归的cost function (代价函数/损失函数)$J(\\beta)$为:\n",
    "\n",
    "$$J(\\beta) = \\text{MSE}(\\beta) + \\alpha \\frac{1}{2}\\sum_{i=1}^n \\beta_i^2$$ \n",
    "\n",
    "(注意: $\\beta_0$没有被正则化.)\n",
    "\n",
    "求解$\\bf \\beta$的常用方法:\n",
    "\n",
    "直接求解法. 公式表示为\n",
    "$$\\hat{\\bf \\beta} = ({\\bf X}^T\\cdot {\\bf X} + \\alpha {\\bf I})^{-1}\\cdot {\\bf X}^T \\cdot {\\bf y} $$\n",
    " \n",
    "梯度下降法(Gradient Descent). (类比前面学过的最小二乘法)\n",
    "\n",
    "公式表达为:\n",
    "$$\\nabla_{\\beta}\\text{MSE}({\\bf\\beta}) \n",
    "= \\left(\n",
    "\\begin{matrix}\n",
    " \\nabla_{\\beta_0}\\text{MSE}({\\bf\\beta})  \\\\\n",
    " \\nabla_{\\beta_1}\\text{MSE}({\\bf\\beta}) \\\\\n",
    " \\vdots \\\\\n",
    " \\nabla_{\\beta_n}\\text{MSE}({\\bf\\beta})\\\\\n",
    "\\end{matrix} \n",
    "\\right)\n",
    "= \\frac{2}{m}{\\bf X}^T \\cdot ({\\bf X}{\\bf\\beta} - {\\bf y});\n",
    "$$\n",
    "\n",
    "\n",
    "$${\\bf\\beta}^{(\\text{next step})} = {\\bf\\beta} - \\eta\\nabla_{\\beta}\\text{MSE}({\\bf\\beta}).$$\n",
    "\n",
    "\n",
    "岭回归算法已经在\n",
    "    sklearn.linear_mode.Ridge\n",
    "中实现了."
   ]
  },
  {
   "cell_type": "code",
   "execution_count": 10,
   "metadata": {},
   "outputs": [
    {
     "name": "stdout",
     "output_type": "stream",
     "text": [
      "ridge.coef_:[-1.68841751e+00 -1.21756532e+00 -2.27229851e+00  8.29280456e-01\n",
      " -7.80743588e-02  8.01618677e+00 -2.42717943e-03 -4.69537735e+00\n",
      "  3.64484835e+00 -1.77450946e+00 -1.84658519e+00  2.34935270e+00\n",
      " -2.79784030e+00 -1.03828380e+00  5.46354029e-03 -1.04992699e+00\n",
      "  1.58455850e+00 -1.63046007e+00 -1.31404896e+00 -1.22931685e+00\n",
      " -3.40603690e-01 -1.96170505e+00 -1.69996969e+00 -1.54520138e+00\n",
      " -1.24905930e+00 -1.16408825e+00  1.86922579e+00 -1.84135671e+00\n",
      "  2.15195000e+00  3.35085730e-01  3.44036564e+00 -1.95818731e+00\n",
      " -4.40322283e-01 -1.85312908e-01  3.52398000e-01  6.53546832e-01\n",
      " -1.00762321e+00 -1.77017868e+00  3.42121918e+00  1.40858792e+00\n",
      "  8.78498660e-01 -3.91280661e+00  2.17738798e+00 -3.71752448e+00\n",
      "  1.09951744e+00  2.54048858e+00 -1.16310771e+00 -5.71331629e-01\n",
      " -1.92919163e+00  8.29280456e-01 -4.89291341e+00 -3.66126587e+00\n",
      "  1.33975269e+00 -1.17914224e+00  2.83125614e+00  3.21978680e+00\n",
      "  3.94302777e-01  1.81255267e+00 -2.30766974e+00 -1.67414246e+00\n",
      " -3.53533236e+00 -2.17067231e+00 -9.25952604e-01 -2.49153483e+00\n",
      " -1.56089350e+00 -2.84270976e+00  1.55929616e+00 -1.87680529e+00\n",
      "  1.49432569e+01 -3.73266046e-01  1.24079331e+00 -6.62933260e+00\n",
      " -7.51009416e+00 -4.29159411e+00  1.07477261e+01 -6.26321565e+00\n",
      "  1.33172263e+00 -1.83931263e+00  3.61427066e+00  4.13554858e-01\n",
      " -1.69295163e+00 -1.99290831e+00 -3.25029990e+00  1.10791584e+00\n",
      " -1.59379257e+00 -2.74743398e+00 -7.72288993e-01 -3.81884579e+00\n",
      "  3.77400765e-01  7.07738434e-01  7.60386326e-01  2.49785438e+00\n",
      "  2.58562952e+00 -6.27464245e+00  1.51479963e+00  1.18250473e+00\n",
      " -1.16152937e+00 -6.38485861e+00  6.47776806e-01 -1.79770156e+00\n",
      " -1.71496657e+00 -1.00265130e+00 -5.90324030e+00  6.40531651e+00]\n",
      "ridge.intercept_:21.860845710548528\n",
      "Traing set score: 0.834\n",
      "Test set score:0.860\n"
     ]
    }
   ],
   "source": [
    "from sklearn.linear_model import Ridge  \n",
    "# 生成数据  \n",
    "X, y = mglearn.datasets.load_extended_boston()   \n",
    "X_train, X_test, y_train, y_test = train_test_split(X, y, random_state=40)  \n",
    "\n",
    "# __训练岭回归模型__\n",
    "# ==Your code \n",
    "ridge = Ridge().fit(X_train,y_train)\n",
    "  \n",
    "\n",
    "# __计算系数和截距__\n",
    "# w are stored in the coef_ attribute,  \n",
    "# b is stored in the intercept_ attribute.   \n",
    "print(\"ridge.coef_:{}\".format(ridge.coef_))  \n",
    "print(\"ridge.intercept_:{}\".format(ridge.intercept_))  \n",
    "  \n",
    "# __分别计算训练集和测试集的拟合优度, 保留三位小数__\n",
    "print(\"Traing set score: {:.3f}\".format(ridge.score(X_train,y_train)))  \n",
    "print(\"Test set score:{:.3f}\".format(ridge.score(X_test,y_test))) "
   ]
  },
  {
   "cell_type": "markdown",
   "metadata": {},
   "source": [
    "分析:\n",
    "\n",
    "1. 使用了岭回归以后,训练集的$R^2$值变(小/大)了,但测试集的$R^2$值更(小/大)了! 符合预期吗?. ( ) \n",
    "2. 用一般线性回归,我们得到过拟合的模型.\n",
    "3. 复杂性更低的模型在训练集上表现得更() ,但更具有( ). \n",
    "4. 普遍性是我们需求的,所以,我们应该选择(岭回归)."
   ]
  },
  {
   "cell_type": "code",
   "execution_count": 26,
   "metadata": {},
   "outputs": [
    {
     "name": "stdout",
     "output_type": "stream",
     "text": [
      "ridge.coef_:[-4.73873405e-01  5.28247994e-01 -1.06958900e+00  5.92607731e-01\n",
      " -8.91840067e-01  4.21790652e+00 -2.40867119e-01 -2.43870277e+00\n",
      "  8.62424453e-01 -1.21347351e+00 -1.97719601e+00  1.14796737e+00\n",
      " -3.89232356e+00 -2.47129790e-01  1.56057305e-03 -3.04232989e-01\n",
      "  2.24993541e-01 -4.43075818e-01 -3.81650678e-01 -3.83786061e-01\n",
      " -6.84597322e-02 -4.79908805e-01 -4.38270052e-01 -3.98616367e-01\n",
      " -2.64162155e-01 -3.46435924e-01  1.00465950e+00 -3.06901159e-01\n",
      "  7.84501967e-01  1.68070762e-01  1.47903367e+00 -1.32360792e-01\n",
      " -2.43980753e-01 -2.32106322e-03 -2.19720607e-01 -1.34517025e-01\n",
      "  5.77764006e-01 -4.80835391e-01  6.48309453e-01  1.71050919e-01\n",
      " -6.23517357e-01 -6.80318404e-01  1.47607788e-02 -1.15520631e+00\n",
      "  3.14005656e-01  3.39321516e-01 -5.19817664e-01 -3.27938308e-01\n",
      " -1.29531791e+00  5.92607731e-01 -7.71077178e-01  5.67215736e-01\n",
      "  3.06805607e-01  1.83634727e-02  1.30165446e+00  1.05873832e+00\n",
      "  5.35371268e-01  9.53642541e-01 -8.68968837e-01 -1.45485723e+00\n",
      " -3.79933518e-01 -9.93063702e-01 -5.01021579e-01 -5.70520032e-01\n",
      " -8.63108932e-01 -1.11475781e+00  2.44715927e-01 -1.73658951e+00\n",
      "  6.39844634e+00  1.51995717e+00  2.72971946e-01 -6.34790677e-01\n",
      " -1.41057496e+00 -2.03207921e-01  5.35279530e+00 -2.43277127e+00\n",
      "  1.80384256e-01 -1.52166621e+00  8.54212810e-01 -2.79185989e-01\n",
      " -1.28039751e+00  2.26441496e-01 -2.85839205e+00 -1.31676393e+00\n",
      " -5.56163451e-01 -1.22934539e+00 -1.76707572e+00 -2.16713601e+00\n",
      " -1.29334202e+00  8.14095103e-01  4.68279182e-01  3.90434666e-01\n",
      "  1.46107055e+00 -1.83281857e+00  4.13645182e-01 -5.16911982e-01\n",
      " -4.37212821e-01 -2.07866144e+00 -1.66483814e+00 -1.40126452e+00\n",
      " -2.40059786e+00  5.78696000e-01 -3.83608980e+00 -8.25940647e-01]\n",
      "ridge.intercept_:24.992481968111107\n",
      "Traing set score: 0.744\n",
      "Test set score:0.738\n"
     ]
    }
   ],
   "source": [
    "# 岭回归 设置alpha=10  \n",
    "X, y = mglearn.datasets.load_extended_boston()   \n",
    "X_train, X_test, y_train, y_test = train_test_split(X, y, random_state=40)  \n",
    "# 训练模型\n",
    "ridge10 = Ridge(10).fit(X_train,y_train)\n",
    "# w are stored in the coef_ attribute,  \n",
    "# b is stored in the intercept_ attribute.  \n",
    "print(\"ridge.coef_:{}\".format(ridge10.coef_))  \n",
    "print(\"ridge.intercept_:{}\".format(ridge10.intercept_))  \n",
    "\n",
    "# 分别计算训练集和测试集的拟合优度, 保留三位小数\n",
    "print(\"Traing set score: {:.3f}\".format(ridge10.score(X_train,y_train)))  \n",
    "print(\"Test set score:{:.3f}\".format(ridge10.score(X_test,y_test))) "
   ]
  },
  {
   "cell_type": "code",
   "execution_count": 27,
   "metadata": {},
   "outputs": [
    {
     "data": {
      "image/png": "[encoded data removed]",
      "text/plain": [
       "<Figure size 432x288 with 1 Axes>"
      ]
     },
     "metadata": {
      "needs_background": "light"
     },
     "output_type": "display_data"
    }
   ],
   "source": [
    "#作图\n",
    "import numpy as np\n",
    "import matplotlib.pyplot as plt\n",
    "\n",
    "# Fixing random state for reproducibility\n",
    "np.random.seed(1968080)\n",
    "\n",
    "#mu, sigma = 100, 15\n",
    "x =  ridge10.coef_ \n",
    "\n",
    "# the histogram of the data\n",
    "n, bins, patches = plt.hist(x, 50, density=True, facecolor='g', alpha=0.75)\n",
    "\n",
    "\n",
    "plt.xlabel('Smarts')\n",
    "plt.ylabel('Probability')\n",
    "plt.title('Histogram of coeficients')\n",
    "plt.xlim(-40, 40)\n",
    "plt.ylim(0, 0.5)\n",
    "plt.grid(True)\n",
    "plt.show()"
   ]
  },
  {
   "cell_type": "code",
   "execution_count": 28,
   "metadata": {
    "scrolled": true
   },
   "outputs": [
    {
     "name": "stdout",
     "output_type": "stream",
     "text": [
      "(506, 104)\n",
      "ridge.coef_:[ -2.51093708  -4.40780651  -7.01158699   6.98164328   4.60252503\n",
      "  20.37745171   4.84724306 -11.32285035  11.53154764  -0.82818736\n",
      "  -3.17268106  13.10617157   3.90513101  -2.83607391   0.0330412\n",
      "  -0.99786882  10.74578946  -3.06852448   2.04731927  -0.75240948\n",
      "  -1.45235485  -4.51390867  -3.23233534  -3.48728891  -0.31494778\n",
      "  -0.37866594   2.32129529  -2.69452896   5.71568922   2.15707132\n",
      "   8.38399804  -5.57683863  -2.46162689   0.71494      8.20557149\n",
      "   3.56191627  -3.46562193  -5.67085404   6.16355404   3.89414047\n",
      "   7.79919439   1.18988404   4.52294334  -5.60819225   3.60916349\n",
      "   7.1714945   -3.63571246  -1.00202595  -9.42321607   6.98164328\n",
      " -15.40639576 -19.59979766   3.56376237  -3.19525489   3.39745852\n",
      "   7.19358243  -2.46887654  -0.21812797  -6.07302495  -0.20899375\n",
      "  -6.5106119   -9.80901447   0.52484864  -6.29267324   0.17153792\n",
      "  -5.88779587   1.43739909   1.08719472  18.94222821  -3.18103689\n",
      "  -2.07227461 -13.33746886 -12.65137616 -14.14180269  13.10988154\n",
      " -10.69253851   1.05829066   2.48194087  10.6164527   -2.51311819\n",
      "   0.25406929  -9.37779401  -4.83457027  12.98353266  -5.40254805\n",
      "  -4.31546608  -1.25631952  -7.2587162   10.38822311  -7.04828387\n",
      "   1.98403733   8.26655201  -1.09201931 -11.79109772   0.17180397\n",
      "   8.33703687  -3.13063818 -15.36755905   2.74026933   0.83480287\n",
      "  -0.42790877  -1.72108911  -8.72872607  17.05948553]\n",
      "ridge.intercept_:7.141417385542219\n",
      "Traing set score: 0.882\n",
      "Test set score:0.911\n"
     ]
    }
   ],
   "source": [
    "# 岭回归: 设置 alpha = 0.1 设置 alpha适当地小 模型更具普遍性)\n",
    "  \n",
    "X, y = mglearn.datasets.load_extended_boston()   \n",
    "X_train, X_test, y_train, y_test = train_test_split(X, y, random_state=40)  \n",
    "\n",
    "# 训练模型  \n",
    "# your code\n",
    "print(X.shape)\n",
    "ridge01 = Ridge(0.10).fit(X_train,y_train)\n",
    "\n",
    "# w are stored in the coef_ attribute,  \n",
    "# b is stored in the intercept_ attribute.  \n",
    "print(\"ridge.coef_:{}\".format(ridge01.coef_))  \n",
    "print(\"ridge.intercept_:{}\".format(ridge01.intercept_))  \n",
    "\n",
    "# 分别计算训练集和测试集的拟合优度, 保留三位小数\n",
    "print(\"Traing set score: {:.3f}\".format(ridge01.score(X_train,y_train)))  \n",
    "print(\"Test set score:{:.3f}\".format(ridge01.score(X_test,y_test))) \n"
   ]
  },
  {
   "cell_type": "code",
   "execution_count": 29,
   "metadata": {},
   "outputs": [
    {
     "data": {
      "image/png": "[encoded data removed]",
      "text/plain": [
       "<Figure size 432x288 with 1 Axes>"
      ]
     },
     "metadata": {
      "needs_background": "light"
     },
     "output_type": "display_data"
    }
   ],
   "source": [
    "#作图\n",
    "import numpy as np\n",
    "import matplotlib.pyplot as plt\n",
    "\n",
    "# Fixing random state for reproducibility\n",
    "np.random.seed(1968080)\n",
    "\n",
    "#mu, sigma = 100, 15\n",
    "x =  ridge01.coef_ \n",
    "\n",
    "# the histogram of the data\n",
    "n, bins, patches = plt.hist(x, 50, density=True, facecolor='g', alpha=0.75)\n",
    "\n",
    "\n",
    "plt.xlabel('Smarts')\n",
    "plt.ylabel('Probability')\n",
    "plt.title('Histogram of coeficients')\n",
    "plt.xlim(-40, 40)\n",
    "plt.ylim(0, 0.5)\n",
    "plt.grid(True)\n",
    "plt.show()"
   ]
  },
  {
   "cell_type": "code",
   "execution_count": 30,
   "metadata": {},
   "outputs": [
    {
     "name": "stdout",
     "output_type": "stream",
     "text": [
      "(506, 104)\n"
     ]
    },
    {
     "data": {
      "text/plain": [
       "<matplotlib.legend.Legend at 0x7f59366f5ba8>"
      ]
     },
     "execution_count": 30,
     "metadata": {},
     "output_type": "execute_result"
    },
    {
     "data": {
      "image/png": "[encoded data removed]",
      "text/plain": [
       "<Figure size 432x288 with 1 Axes>"
      ]
     },
     "metadata": {
      "needs_background": "light"
     },
     "output_type": "display_data"
    }
   ],
   "source": [
    "# 续# 系数值与alpha的依赖关系\n",
    "plt.plot(ridge.coef_, \"s\", label=\"Ridge alpha=1\")\n",
    "#plt.plot(ridge10.coef_, \"^\", label=\"Ridge alpha=10\")\n",
    "plt.plot(ridge01.coef_, \"v\", label=\"Ridge alpha=0.1\")\n",
    "print(X.shape) \n",
    "plt.plot(lr.coef_, \"o\", label=\"LinearRegression\")\n",
    "plt.xlabel(\"coeficient index\")\n",
    "plt.ylabel(\"Coefficient value\")\n",
    "plt.hlines(0,0,len(lr.coef_))\n",
    "plt.ylim(-100, 100)\n",
    "plt.legend()"
   ]
  },
  {
   "cell_type": "markdown",
   "metadata": {},
   "source": [
    "分析:\n",
    "1. x轴: 模型的系数的() . 比如coef.index=0 对应第( )特征, coef.index=1对应第( )特征, ...\n",
    "\n",
    "2. y轴: 模型的( ).\n",
    "\n",
    "3. 岭回归: alpha=10对应的系数值取值大约在( )!\n",
    "\n",
    "4. 岭回归: alpha=1, alpha=0.1对应的系数值取值的范围都要( ).\n",
    "\n",
    "5. 无正则化的线性回归方法得到的系数值,范围更大还是更小? ( ) 是我们想要的结果吗? ( )"
   ]
  },
  {
   "cell_type": "markdown",
   "metadata": {},
   "source": [
    "## 3. Lasso回归"
   ]
  },
  {
   "cell_type": "markdown",
   "metadata": {},
   "source": [
    "Lasso回归(Least Absolute Shrinkage and Selection Operator regression),\n",
    "\n",
    "另一种正规化线性回归方法. \n",
    "\n",
    "与岭回归一样,该法也是添加一个**正则项**到损失函数(cost function),使系数尽量接近0.\n",
    "\n",
    "在Lasso回归模型中，我们用的是L1正规化: \n",
    "\n",
    "使用L1正则化后,一些最不重要的系数**精确地**等于0 (有些特征直接被忽略掉了).\n",
    "\n",
    "这可以视为自动特征选择的的一种形式.\n",
    "\n",
    "有些特征被( ),使得我们构建了一个更易解释的模型(稀疏模型),\n",
    "\n",
    "能揭示数据最重要的特征.\n",
    "\n",
    "\n",
    "Lasso回归的损失函数$J(\\beta)$为:\n",
    "\n",
    "$$J(\\beta) = MSE(\\beta) + \\alpha \\sum_{i=1}^n |\\beta_i|$$ \n",
    "\n",
    "(注意: $\\beta_0$没有被正则化.)"
   ]
  },
  {
   "cell_type": "code",
   "execution_count": 31,
   "metadata": {},
   "outputs": [
    {
     "name": "stdout",
     "output_type": "stream",
     "text": [
      "(379, 104)\n",
      "lasso.coef_:[-0.          0.         -0.          0.         -0.          0.\n",
      " -0.          0.         -0.         -0.         -0.          0.\n",
      " -0.32441098 -0.          0.         -0.          0.         -0.\n",
      " -0.         -0.         -0.         -0.         -0.         -0.\n",
      " -0.         -0.          0.          0.          0.          0.\n",
      "  0.          0.          0.          0.          0.          0.\n",
      "  0.          0.         -0.          0.         -0.         -0.\n",
      " -0.         -0.         -0.         -0.         -0.         -0.\n",
      " -0.          0.          0.          0.          0.          0.\n",
      "  0.          0.          0.          0.          0.         -0.\n",
      " -0.         -0.         -0.         -0.         -0.         -0.\n",
      " -0.         -0.          0.          0.          0.         -0.\n",
      " -0.         -0.          0.         -0.         -0.         -0.\n",
      " -0.         -2.73694035 -0.73382069 -0.         -0.          0.\n",
      " -0.         -0.         -0.          0.         -0.         -0.\n",
      " -0.         -0.         -0.         -0.         -0.         -0.\n",
      " -0.         -0.         -0.         -0.         -0.          0.\n",
      " -0.         -0.        ]\n",
      "lasso.intercept_:23.777825319453992\n",
      "Traing set score: 0.12\n",
      "Test set score:0.10\n"
     ]
    }
   ],
   "source": [
    "#lasso_regression.py  \n",
    "from sklearn.linear_model import Lasso  \n",
    "\n",
    "# 生成模型  \n",
    "X, y = mglearn.datasets.load_extended_boston()   \n",
    "X_train,X_test,y_train,y_test=train_test_split(X,y,random_state=40)  \n",
    "print(X_train.shape)\n",
    "# 训练Lasso回归模型\n",
    "# Your code\n",
    "lasso = Lasso().fit(X_train,y_train)\n",
    "\n",
    "print(\"lasso.coef_:{}\".format(lasso.coef_))  \n",
    "print(\"lasso.intercept_:{}\".format(lasso.intercept_))  \n",
    "  \n",
    "print(\"Traing set score: {:.2f}\".format(lasso.score(X_train,y_train)))  \n",
    "print(\"Test set score:{:.2f}\".format(lasso.score(X_test,y_test)))  "
   ]
  },
  {
   "cell_type": "markdown",
   "metadata": {},
   "source": [
    "分析:\n",
    "    1. Lasso回归对训练集和测试集的R^2分别为 (),() . 预测都做得(差). 说明出现了( )\n",
    "    2. 共有(104 )特征,只用到了( 3)个特征. \n",
    "    3. Lasso()有正规化参数alpha. 其默认值alpha=1.0. alpha的值描述将系数推向０的力度. \n",
    "\n",
    "为了减少欠拟合的影响，我们增加另一个参数max_iter之值. mat_iter的值为运行时迭代的次数之最大值."
   ]
  },
  {
   "cell_type": "code",
   "execution_count": 32,
   "metadata": {},
   "outputs": [
    {
     "name": "stdout",
     "output_type": "stream",
     "text": [
      "lasso.coef_:[ -0.          -0.          -0.           0.          -0.\n",
      "   0.          -0.          -7.83175845   7.72112291   0.\n",
      "  -0.           0.          -0.          -0.          -0.\n",
      "  -0.           0.          -0.          -0.          -0.\n",
      "  -0.          -7.57528476  -0.          -0.          -0.\n",
      "  -0.           1.01619811  -0.           0.          -0.\n",
      "   0.          -0.77056513   0.          -0.           0.\n",
      "   0.          -0.          -0.           0.           0.\n",
      "   0.          -0.           0.          -8.5544616    0.\n",
      "   6.49229073  -0.          -0.          -0.           0.\n",
      "  -4.86695189  -3.15397475   0.          -0.           0.\n",
      "   7.74739138   0.           3.37036655  -0.          -1.01945969\n",
      "  -4.67711816  -1.05909637  -0.          -0.          -0.\n",
      "  -4.79229223   0.          -0.          26.4330005   -0.64282018\n",
      "  -0.          -8.48483347 -11.5520677   -9.7055464   14.92670387\n",
      "  -6.29599732  -0.          -0.29677602   4.57239306   0.\n",
      "  -0.27696565  -2.111057    -0.96785033   0.          -0.\n",
      "  -0.           0.          -0.           0.           0.\n",
      "   0.           0.           0.45673343  -6.53072993   1.99027172\n",
      "   0.           0.         -16.54235847   0.           0.\n",
      "  -0.          -0.          -8.50513944   7.61285648]\n",
      "lasso.intercept_:20.649022552637483\n",
      "No.of features used:33\n",
      "Traing set score: 0.84\n",
      "Test set score:0.88\n"
     ]
    }
   ],
   "source": [
    "#lasso001_regression.py   \n",
    "X, y = mglearn.datasets.load_extended_boston()  \n",
    "  \n",
    "X_train, X_test, y_train, y_test = train_test_split(X, y, random_state=40)  \n",
    "lasso001 = Lasso(alpha=0.01,max_iter=10000).fit(X_train, y_train)  \n",
    "  \n",
    "print(\"lasso.coef_:{}\".format(lasso001.coef_))  \n",
    "print(\"lasso.intercept_:{}\".format(lasso001.intercept_))  \n",
    "print(\"No.of features used:{}\".format(np.sum(lasso001.coef_!=0)))  \n",
    "\n",
    "print(\"Traing set score: {:.2f}\".format(lasso001.score(X_train,y_train)))  \n",
    "print(\"Test set score:{:.2f}\".format(lasso001.score(X_test,y_test)))  "
   ]
  },
  {
   "cell_type": "markdown",
   "metadata": {},
   "source": [
    "分析:\n",
    "    1. 更(低)的alpha值可使我们拟合出更复杂的模型,从而在训练集和测试集上都有(更好)的预测性能.\n",
    "    2. 此例中,alpha=0.01, max_iter=100000. 相对默认值,训练集和测试集的拟合优度都有没有提升.(有 )\n",
    "    3. 相比岭回归,这个Lasso回归模型的拟合优度更高,而所用的特征数只使105个特征中的(  )个.所以Lasso回归所得的模型比岭回归模型更(简单),更易解释.\n",
    "\n",
    "alpha过小,显然会导致(过拟合 )现象!"
   ]
  },
  {
   "cell_type": "code",
   "execution_count": 33,
   "metadata": {},
   "outputs": [
    {
     "name": "stdout",
     "output_type": "stream",
     "text": [
      "lasso.coef_:[ -0.          -0.         -10.09064445  13.2051059    0.86308473\n",
      "  49.06843514  19.09522224 -36.17813894  14.271978    -0.\n",
      "   0.          29.81105885  13.88471689  -0.           0.\n",
      "  -0.         253.05474965  -0.           0.          -0.\n",
      "  -0.         -17.43608062  -0.          -0.           0.\n",
      "   0.           2.4706027   -0.          -0.           0.\n",
      "   1.58354071  -6.85171888  -6.26625799  -0.           9.69109069\n",
      "   0.96177465  -0.         -12.19422048   2.24167346   0.\n",
      "  24.06615666   0.84195471   2.36642153   0.           8.03544841\n",
      "  13.41187754  -2.41717185  -0.          -9.99139122   1.20489747\n",
      " -15.31132801 -23.45725037   2.49990278   5.19145198  -2.84897655\n",
      "  -0.          -3.2800947    4.4199195   -9.64934672   0.\n",
      "  -3.17287256 -19.0926105    9.45617763  -5.25004059  -0.\n",
      "  -7.43639398   2.76771368   0.          13.7376533  -12.17818062\n",
      "  -0.         -15.19812636 -10.8670811  -21.28760443   4.00569782\n",
      " -22.6208016    0.98960385   0.          16.05677288  -6.62265138\n",
      "   0.         -16.73389228  -4.72855789  29.45651225  -6.98613035\n",
      "  -0.           0.          -0.86645974  22.37205789 -20.17700463\n",
      "   8.89254341   5.12751907  -0.74189949  -7.42863376   0.\n",
      "  12.237528    -8.50935457 -23.12235534   2.32319914   1.75974152\n",
      "  -0.          -4.66551137 -10.82639766  15.3642046 ]\n",
      "lasso.intercept_:-13.458663086031127\n",
      "No.of features used:70\n",
      "Traing set score: 0.91\n",
      "Test set score:0.91\n"
     ]
    },
    {
     "name": "stderr",
     "output_type": "stream",
     "text": [
      "/home/huang/.programs/.programs/anaconda3/lib/python3.7/site-packages/sklearn/linear_model/coordinate_descent.py:492: ConvergenceWarning: Objective did not converge. You might want to increase the number of iterations. Fitting data with very small alpha may cause precision problems.\n",
      "  ConvergenceWarning)\n"
     ]
    }
   ],
   "source": [
    "#lasso0001_regression.py \n",
    "# 训练Lasso回归模型,lasso00001,设置alpha=0.0001, max_iter=10000\n",
    "  \n",
    "X, y = mglearn.datasets.load_extended_boston()  \n",
    "  \n",
    "X_train, X_test, y_train, y_test = train_test_split(X, y, random_state=40)  \n",
    "# 训练模型\n",
    "# your code\n",
    "lasso0001 = Lasso(alpha=0.001,max_iter=10000).fit(X_train, y_train) \n",
    "  \n",
    "print(\"lasso.coef_:{}\".format(lasso0001.coef_))  \n",
    "print(\"lasso.intercept_:{}\".format(lasso0001.intercept_))  \n",
    "print(\"No.of features used:{}\".format(np.sum(lasso0001.coef_!=0)))  \n",
    "\n",
    "print(\"Traing set score: {:.2f}\".format(lasso0001.score(X_train,y_train)))  \n",
    "print(\"Test set score:{:.2f}\".format(lasso0001.score(X_test,y_test))) "
   ]
  },
  {
   "cell_type": "code",
   "execution_count": 72,
   "metadata": {},
   "outputs": [
    {
     "data": {
      "text/plain": [
       "<matplotlib.legend.Legend at 0x2ce94626198>"
      ]
     },
     "execution_count": 72,
     "metadata": {},
     "output_type": "execute_result"
    },
    {
     "data": {
      "image/png": "[encoded data removed]",
      "text/plain": [
       "<Figure size 432x288 with 1 Axes>"
      ]
     },
     "metadata": {},
     "output_type": "display_data"
    }
   ],
   "source": [
    "# 续: 作出不同模型的系数的图\n",
    "# 系数值与Lasso alpha的依赖关系\n",
    "plt.plot(lasso.coef_, \"s\", label=\"Lass alpha=1\")\n",
    "plt.plot(lasso001.coef_, \"^\", label=\"Lasso alpha=0.01\")\n",
    "plt.plot(lasso0001.coef_, \"v\", label=\"Lasso alpha=0.001\")\n",
    "\n",
    "plt.plot(ridge01.coef_, \"o\", label=\"Ridge alpha=0.1\") \n",
    "plt.xlabel(\"coeficient index\")\n",
    "plt.ylabel(\"Coefficient magnitude\")\n",
    "plt.ylim(-100, 100)\n",
    "plt.legend(ncol=2, loc=(0,1.05))"
   ]
  },
  {
   "cell_type": "markdown",
   "metadata": {},
   "source": [
    "对系数的特征作分析:\n",
    "    1. 对alpha=1, ()\n",
    "    \n",
    "    2. 减小alpha到0.01, ( )\n",
    "    \n",
    "    3. 减小alpha到0.0001, ( )\n",
    "    \n",
    "   \n",
    "    \n",
    "    4. 岭回归和Lasso回归的预测能力对比: ( )\n",
    "\n"
   ]
  },
  {
   "cell_type": "markdown",
   "metadata": {},
   "source": [
    "## 4. 线性分类模型"
   ]
  },
  {
   "cell_type": "markdown",
   "metadata": {},
   "source": [
    "线性模型也可用于分类问题. 预测值为如下公式：\n",
    "\n",
    "$$\\hat y = \\beta_0 + \\beta_1 x_1 + ... + \\beta_n x_n $$\n",
    "\n",
    "这公式与一般线性回归非常相似.\n",
    "\n",
    "唯一不同的是,我们添加了线性分类模型的阈值0. \n",
    "\n",
    "线性分类模型的规则如下：\n",
    " \n",
    "如果 $\\hat y < 0$, 预测其类为　-1;\n",
    "\n",
    "如果 $\\hat y > 0$, 预测其类为　1.\n"
   ]
  },
  {
   "cell_type": "markdown",
   "metadata": {},
   "source": [
    "对线性回归模型,输出是特征的线性函数:\n",
    "\n",
    "一条直线,一个平面,或者一个超平面(高维空间中).\n",
    "\n",
    "|特征数 | 预测值$\\hat y$作为特征x的函数|\n",
    "|--------|-------------- |\n",
    "|1   | 2维空间中的一条直线 |\n",
    "|2   | 3维空间中的一个平面 |\n",
    "|3   | 4维空间中的一个超平面 |\n",
    "|4   | 5维空间中的一个超平面\n",
    "|5   | ... |"
   ]
  },
  {
   "cell_type": "markdown",
   "metadata": {},
   "source": [
    "二元分类器就是用直线，平面或超平面将两类分开的分类器.\n",
    "\n",
    "这里的直线,平面,或超平面就是分类器的**决策边界**."
   ]
  },
  {
   "cell_type": "markdown",
   "metadata": {},
   "source": [
    "目前存在很多机器学习算法来构造线性分类器. \n",
    "\n",
    "它们的不同点只有如下两点:\n",
    "\n",
    "1. 判定斜率和截距拟合数据的好坏程度的方法. \n",
    "\n",
    "(数据拟合得很好的标准)\n",
    "\n",
    "2. 是否用正则化方法,用了什么正则化方法."
   ]
  },
  {
   "cell_type": "markdown",
   "metadata": {},
   "source": [
    "最常见的两种线性分类器算法是: \n",
    "\n",
    "逻辑回归(logistic regression)和\n",
    "\n",
    "支持向量机(linear support vector machines, linear SVMs).\n",
    "\n",
    "它们已经分别在\n",
    "    \n",
    "    linear_model.LogisticRegression\n",
    "    svm.LinearSVC\n",
    "\n",
    "中实现了. SVC代表support vector classifier(支持向量分类器)."
   ]
  },
  {
   "cell_type": "code",
   "execution_count": 36,
   "metadata": {},
   "outputs": [
    {
     "name": "stderr",
     "output_type": "stream",
     "text": [
      "/home/huang/.programs/.programs/anaconda3/lib/python3.7/site-packages/sklearn/utils/deprecation.py:77: DeprecationWarning: Function make_blobs is deprecated; Please import make_blobs directly from scikit-learn\n",
      "  warnings.warn(msg, category=DeprecationWarning)\n",
      "/home/huang/.programs/.programs/anaconda3/lib/python3.7/site-packages/sklearn/svm/base.py:931: ConvergenceWarning: Liblinear failed to converge, increase the number of iterations.\n",
      "  \"the number of iterations.\", ConvergenceWarning)\n",
      "/home/huang/.programs/.programs/anaconda3/lib/python3.7/site-packages/sklearn/linear_model/logistic.py:433: FutureWarning: Default solver will be changed to 'lbfgs' in 0.22. Specify a solver to silence this warning.\n",
      "  FutureWarning)\n"
     ]
    },
    {
     "data": {
      "image/png": "[encoded data removed]",
      "text/plain": [
       "<Figure size 720x216 with 2 Axes>"
      ]
     },
     "metadata": {},
     "output_type": "display_data"
    }
   ],
   "source": [
    "from sklearn.linear_model import LogisticRegression  \n",
    "from sklearn.svm import LinearSVC  \n",
    "import mglearn\n",
    "\n",
    "X,y = mglearn.datasets.make_forge()  \n",
    "fig, axes = plt.subplots(1, 2, figsize=(10,3))  \n",
    "\n",
    "for model, ax in zip([LinearSVC(), LogisticRegression()],axes):  \n",
    "    clf = model.fit(X,y)  \n",
    "    mglearn.plots.plot_2d_separator(clf, X, fill=False, eps=0.5, ax=ax, alpha=.7)  \n",
    "    mglearn.discrete_scatter(X[:, 0], X[:,1], y, ax=ax)  \n",
    "    ax.set_title(\"{}\".format(clf.__class__.__name__))  \n",
    "    ax.set_xlabel(\"X0\")  \n",
    "    ax.set_ylabel(\"X1\")  \n",
    "axes[0].legend()  \n",
    "plt.show()  "
   ]
  },
  {
   "cell_type": "code",
   "execution_count": 37,
   "metadata": {
    "scrolled": true
   },
   "outputs": [
    {
     "name": "stderr",
     "output_type": "stream",
     "text": [
      "/home/huang/.programs/.programs/anaconda3/lib/python3.7/site-packages/sklearn/utils/deprecation.py:77: DeprecationWarning: Function make_blobs is deprecated; Please import make_blobs directly from scikit-learn\n",
      "  warnings.warn(msg, category=DeprecationWarning)\n",
      "/home/huang/.programs/.programs/anaconda3/lib/python3.7/site-packages/sklearn/svm/base.py:931: ConvergenceWarning: Liblinear failed to converge, increase the number of iterations.\n",
      "  \"the number of iterations.\", ConvergenceWarning)\n"
     ]
    },
    {
     "data": {
      "image/png": "[encoded data removed]",
      "text/plain": [
       "<Figure size 432x288 with 1 Axes>"
      ]
     },
     "metadata": {},
     "output_type": "display_data"
    }
   ],
   "source": [
    "# 线性支持向量机分类器 \n",
    "  \n",
    "X,y = mglearn.datasets.make_forge()   \n",
    "clf = LinearSVC().fit(X,y)  \n",
    "\n",
    "mglearn.plots.plot_2d_separator(clf, X, fill=False, eps=0.5, alpha=.7)  \n",
    "mglearn.discrete_scatter(X[:, 0], X[:,1], y)  \n",
    "plt.title(\"{}\".format(\"LinearSVC\"))  \n",
    "plt.xlabel(\"X0\")  \n",
    "plt.ylabel(\"X1\")  \n",
    "plt.legend()  \n",
    "plt.show()"
   ]
  },
  {
   "cell_type": "code",
   "execution_count": 38,
   "metadata": {},
   "outputs": [
    {
     "name": "stderr",
     "output_type": "stream",
     "text": [
      "/home/huang/.programs/.programs/anaconda3/lib/python3.7/site-packages/sklearn/utils/deprecation.py:77: DeprecationWarning: Function make_blobs is deprecated; Please import make_blobs directly from scikit-learn\n",
      "  warnings.warn(msg, category=DeprecationWarning)\n",
      "/home/huang/.programs/.programs/anaconda3/lib/python3.7/site-packages/sklearn/linear_model/logistic.py:433: FutureWarning: Default solver will be changed to 'lbfgs' in 0.22. Specify a solver to silence this warning.\n",
      "  FutureWarning)\n"
     ]
    },
    {
     "data": {
      "image/png": "[encoded data removed]",
      "text/plain": [
       "<Figure size 432x288 with 1 Axes>"
      ]
     },
     "metadata": {},
     "output_type": "display_data"
    }
   ],
   "source": [
    "# 续:逻辑回归分类器  \n",
    "X,y = mglearn.datasets.make_forge()   \n",
    "clf = LogisticRegression().fit(X,y)  \n",
    "\n",
    "mglearn.plots.plot_2d_separator(clf, X, fill=False, eps=0.5, alpha=.7)  \n",
    "mglearn.discrete_scatter(X[:, 0], X[:,1], y)  \n",
    "plt.title(\"{}\".format(\"LogisticRegression\"))  \n",
    "plt.xlabel(\"X0\")  \n",
    "plt.ylabel(\"X1\")  \n",
    "plt.legend()  \n",
    "plt.show()"
   ]
  },
  {
   "cell_type": "markdown",
   "metadata": {},
   "source": [
    "分析: \n",
    "\n",
    "1. x轴是数据集的第一个特征,y轴是数据集的第二个特征\n",
    "\n",
    "2. 我们分别用线性支持向量机分类器和逻辑回归分类器计算出了决策边界. \n",
    "\n",
    "它是一条直线.\n",
    "\n",
    "3. 任何新数据如果落在上方,则归为1类; 如果落在下方,则归为0类.\n",
    "\n",
    "4. 这两种分类器算出的决策边界相似. 注意: 都有两个数据点分类有误!\n",
    "\n",
    "5. 两种分类算法都使用L2正则化方法."
   ]
  },
  {
   "cell_type": "markdown",
   "metadata": {},
   "source": [
    "在LogisticRegression和LinearSVC中,控制正则化的参数为C. \n",
    "\n",
    "C值越大,意味着更少的正则化."
   ]
  },
  {
   "cell_type": "code",
   "execution_count": 39,
   "metadata": {},
   "outputs": [
    {
     "name": "stderr",
     "output_type": "stream",
     "text": [
      "/home/huang/.programs/.programs/anaconda3/lib/python3.7/site-packages/sklearn/utils/deprecation.py:77: DeprecationWarning: Function make_blobs is deprecated; Please import make_blobs directly from scikit-learn\n",
      "  warnings.warn(msg, category=DeprecationWarning)\n"
     ]
    },
    {
     "data": {
      "image/png": "[encoded data removed]",
      "text/plain": [
       "<Figure size 432x288 with 1 Axes>"
      ]
     },
     "metadata": {},
     "output_type": "display_data"
    }
   ],
   "source": [
    "# 线性支持向量机分类器: C的取值,对决策边界的影响 \n",
    "X,y = mglearn.datasets.make_forge()   \n",
    "clf = LinearSVC(C=0.01).fit(X,y)  \n",
    "\n",
    "mglearn.plots.plot_2d_separator(clf, X, fill=False, eps=0.5, alpha=.7)  \n",
    "mglearn.discrete_scatter(X[:, 0], X[:,1], y)  \n",
    "plt.title(\"{}\".format(\"LinearSVC\"))  \n",
    "plt.xlabel(\"X0\")  \n",
    "plt.ylabel(\"X1\")  \n",
    "plt.legend()  \n",
    "plt.show()"
   ]
  },
  {
   "cell_type": "code",
   "execution_count": 40,
   "metadata": {},
   "outputs": [
    {
     "name": "stderr",
     "output_type": "stream",
     "text": [
      "/home/huang/.programs/.programs/anaconda3/lib/python3.7/site-packages/sklearn/utils/deprecation.py:77: DeprecationWarning: Function make_blobs is deprecated; Please import make_blobs directly from scikit-learn\n",
      "  warnings.warn(msg, category=DeprecationWarning)\n",
      "/home/huang/.programs/.programs/anaconda3/lib/python3.7/site-packages/sklearn/svm/base.py:931: ConvergenceWarning: Liblinear failed to converge, increase the number of iterations.\n",
      "  \"the number of iterations.\", ConvergenceWarning)\n"
     ]
    },
    {
     "data": {
      "image/png": "[encoded data removed]",
      "text/plain": [
       "<Figure size 432x288 with 1 Axes>"
      ]
     },
     "metadata": {},
     "output_type": "display_data"
    }
   ],
   "source": [
    "# 线性支持向量机分类器: C=100,对决策边界的影响(2)   \n",
    "  \n",
    "X,y = mglearn.datasets.make_forge()   \n",
    "clf = LinearSVC(C=100).fit(X,y)  \n",
    "\n",
    "mglearn.plots.plot_2d_separator(clf, X, fill=False, eps=0.5, alpha=.7)  \n",
    "mglearn.discrete_scatter(X[:, 0], X[:,1], y)  \n",
    "plt.title(\"{}\".format(\"LinearSVC\"))  \n",
    "plt.xlabel(\"X0\")  \n",
    "plt.ylabel(\"X1\")  \n",
    "plt.legend()  \n",
    "plt.show()"
   ]
  },
  {
   "cell_type": "markdown",
   "metadata": {},
   "source": [
    "分析:\n",
    "    1. C越小,边界越( ) (对训练集的拟合优度可能小一些: 可能存在相对错误的分类. 用了正则化方法!是我们期待的结果)\n",
    "    2. C越大,边界越( ).(对训练集的拟合优度可能非常高:出现(过拟合/欠拟合).\n",
    "\n",
    "与线性回归一样,对低维数据集来说, 线性分类器中的\"线性\"太苛刻了.当数据集的特征较多时,线性模型用来做分类器就非常强大!"
   ]
  },
  {
   "cell_type": "code",
   "execution_count": 41,
   "metadata": {},
   "outputs": [
    {
     "ename": "NameError",
     "evalue": "name 'logreg' is not defined",
     "output_type": "error",
     "traceback": [
      "\u001b[0;31m---------------------------------------------------------------------------\u001b[0m",
      "\u001b[0;31mNameError\u001b[0m                                 Traceback (most recent call last)",
      "\u001b[0;32m<ipython-input-41-fd7bbc2fcfd7>\u001b[0m in \u001b[0;36m<module>\u001b[0;34m\u001b[0m\n\u001b[1;32m      9\u001b[0m \u001b[0;31m# your code\u001b[0m\u001b[0;34m\u001b[0m\u001b[0;34m\u001b[0m\u001b[0;34m\u001b[0m\u001b[0m\n\u001b[1;32m     10\u001b[0m \u001b[0;34m\u001b[0m\u001b[0m\n\u001b[0;32m---> 11\u001b[0;31m \u001b[0mprint\u001b[0m\u001b[0;34m(\u001b[0m\u001b[0;34m\"Traing set score: {:.3f}\"\u001b[0m\u001b[0;34m.\u001b[0m\u001b[0mformat\u001b[0m\u001b[0;34m(\u001b[0m\u001b[0mlogreg\u001b[0m\u001b[0;34m.\u001b[0m\u001b[0mscore\u001b[0m\u001b[0;34m(\u001b[0m\u001b[0mX_train\u001b[0m\u001b[0;34m,\u001b[0m\u001b[0my_train\u001b[0m\u001b[0;34m)\u001b[0m\u001b[0;34m)\u001b[0m\u001b[0;34m)\u001b[0m\u001b[0;34m\u001b[0m\u001b[0;34m\u001b[0m\u001b[0m\n\u001b[0m\u001b[1;32m     12\u001b[0m \u001b[0mprint\u001b[0m\u001b[0;34m(\u001b[0m\u001b[0;34m\"Test set score:{:.3f}\"\u001b[0m\u001b[0;34m.\u001b[0m\u001b[0mformat\u001b[0m\u001b[0;34m(\u001b[0m\u001b[0mlogreg\u001b[0m\u001b[0;34m.\u001b[0m\u001b[0mscore\u001b[0m\u001b[0;34m(\u001b[0m\u001b[0mX_test\u001b[0m\u001b[0;34m,\u001b[0m\u001b[0my_test\u001b[0m\u001b[0;34m)\u001b[0m\u001b[0;34m)\u001b[0m\u001b[0;34m)\u001b[0m\u001b[0;34m\u001b[0m\u001b[0;34m\u001b[0m\u001b[0m\n",
      "\u001b[0;31mNameError\u001b[0m: name 'logreg' is not defined"
     ]
    }
   ],
   "source": [
    "# 训练逻辑回归模型lorreg: 以含有多个特征的数据集为例: 默认C=1\n",
    "from sklearn.datasets import  load_breast_cancer\n",
    "\n",
    "cancer = load_breast_cancer()\n",
    "X_train, X_test, y_train,y_test = train_test_split(\n",
    "    cancer.data, cancer.target, stratify=cancer.target,\n",
    "                 random_state=42 )\n",
    "# 训练模型\n",
    "# your code\n",
    "\n",
    "print(\"Traing set score: {:.3f}\".format(logreg.score(X_train,y_train)))  \n",
    "print(\"Test set score:{:.3f}\".format(logreg.score(X_test,y_test)))"
   ]
  },
  {
   "cell_type": "markdown",
   "metadata": {},
   "source": [
    "分析: \n",
    "1. 默认值C=1 给出了很好的预测结果. 对训练集和测试集都很高.\n",
    "2. 由于两者很接近,说明出现了:(欠拟合,过拟合)! 所以C 可以选(更大,更小)的值."
   ]
  },
  {
   "cell_type": "code",
   "execution_count": null,
   "metadata": {},
   "outputs": [],
   "source": [
    "# 训练逻辑回归模型lorreg100\n",
    "# 以含有多个特征的数据集为例: 选C=100.即更复杂的模型.\n",
    "\n",
    "cancer = load_breast_cancer()\n",
    "X_train, X_test, y_train,y_test = train_test_split(cancer.data, cancer.target, \n",
    "                                                   stratify=cancer.target,\n",
    "                 random_state=42 )\n",
    "# 训练模型\n",
    "#==Your code\n",
    "\n",
    "print(X_train.shape)\n",
    "print(\"Traing set score: {:.3f}\".format(logreg100.score(X_train,y_train)))  \n",
    "print(\"Test set score:{:.3f}\".format(logreg100.score(X_test,y_test)))"
   ]
  },
  {
   "cell_type": "markdown",
   "metadata": {},
   "source": [
    "分析:\n",
    "   1. C=100, 模型更复杂了.(正则化更少)\n",
    "   2. 训练集和测试集的拟合优度都有没有提高 分别为(),()!\n",
    "   \n",
    "正则化更多(C取值更小)时,模型会怎么样?"
   ]
  },
  {
   "cell_type": "code",
   "execution_count": null,
   "metadata": {},
   "outputs": [],
   "source": [
    "# 训练逻辑回归模型lorreg001\n",
    "# 以含有多个特征的数据集为例: 选C=0.01.即更多正则化的模型.\n",
    "cancer = load_breast_cancer()\n",
    "X_train, X_test, y_train,y_test = train_test_split(cancer.data, cancer.target, \n",
    "                                                   stratify=cancer.target,\n",
    "                 random_state=42 )\n",
    "\n",
    "# 训练模型\n",
    "#==Your code\n",
    "\n",
    "print(X_train.shape)\n",
    "print(\"Traing set score: {:.3f}\".format(logreg001.score(X_train,y_train)))  \n",
    "print(\"Test set score:{:.3f}\".format(logreg001.score(X_test,y_test)))"
   ]
  },
  {
   "cell_type": "markdown",
   "metadata": {},
   "source": [
    "分析:\n",
    "    1. C=0.01时,训练集和测试集的拟合优度(升高,降低)了!\n",
    "    2. 当C过小时,得到一个(过拟合, 欠拟合)的模型(underfit model or overfit model).\n"
   ]
  },
  {
   "cell_type": "markdown",
   "metadata": {},
   "source": [
    "下面考察C值的不同,对线性模型的系数值的影响."
   ]
  },
  {
   "cell_type": "code",
   "execution_count": 42,
   "metadata": {},
   "outputs": [
    {
     "ename": "NameError",
     "evalue": "name 'logreg' is not defined",
     "output_type": "error",
     "traceback": [
      "\u001b[0;31m---------------------------------------------------------------------------\u001b[0m",
      "\u001b[0;31mNameError\u001b[0m                                 Traceback (most recent call last)",
      "\u001b[0;32m<ipython-input-42-1a129613d7cc>\u001b[0m in \u001b[0;36m<module>\u001b[0;34m\u001b[0m\n\u001b[1;32m      1\u001b[0m \u001b[0;31m# 续: 作出不同模型的系数的图\u001b[0m\u001b[0;34m\u001b[0m\u001b[0;34m\u001b[0m\u001b[0;34m\u001b[0m\u001b[0m\n\u001b[1;32m      2\u001b[0m \u001b[0;31m# 系数值与C的依赖关系\u001b[0m\u001b[0;34m\u001b[0m\u001b[0;34m\u001b[0m\u001b[0;34m\u001b[0m\u001b[0m\n\u001b[0;32m----> 3\u001b[0;31m \u001b[0mplt\u001b[0m\u001b[0;34m.\u001b[0m\u001b[0mplot\u001b[0m\u001b[0;34m(\u001b[0m\u001b[0mlogreg\u001b[0m\u001b[0;34m.\u001b[0m\u001b[0mcoef_\u001b[0m\u001b[0;34m.\u001b[0m\u001b[0mT\u001b[0m\u001b[0;34m,\u001b[0m \u001b[0;34m\"s\"\u001b[0m\u001b[0;34m,\u001b[0m \u001b[0mlabel\u001b[0m\u001b[0;34m=\u001b[0m\u001b[0;34m\"C=1\"\u001b[0m\u001b[0;34m)\u001b[0m\u001b[0;34m\u001b[0m\u001b[0;34m\u001b[0m\u001b[0m\n\u001b[0m\u001b[1;32m      4\u001b[0m \u001b[0mplt\u001b[0m\u001b[0;34m.\u001b[0m\u001b[0mplot\u001b[0m\u001b[0;34m(\u001b[0m\u001b[0mlogreg100\u001b[0m\u001b[0;34m.\u001b[0m\u001b[0mcoef_\u001b[0m\u001b[0;34m.\u001b[0m\u001b[0mT\u001b[0m\u001b[0;34m,\u001b[0m \u001b[0;34m\"^\"\u001b[0m\u001b[0;34m,\u001b[0m \u001b[0mlabel\u001b[0m\u001b[0;34m=\u001b[0m\u001b[0;34m\"C=100\"\u001b[0m\u001b[0;34m)\u001b[0m\u001b[0;34m\u001b[0m\u001b[0;34m\u001b[0m\u001b[0m\n\u001b[1;32m      5\u001b[0m \u001b[0mplt\u001b[0m\u001b[0;34m.\u001b[0m\u001b[0mplot\u001b[0m\u001b[0;34m(\u001b[0m\u001b[0mlasso001\u001b[0m\u001b[0;34m.\u001b[0m\u001b[0mcoef_\u001b[0m\u001b[0;34m.\u001b[0m\u001b[0mT\u001b[0m\u001b[0;34m,\u001b[0m \u001b[0;34m\"v\"\u001b[0m\u001b[0;34m,\u001b[0m \u001b[0mlabel\u001b[0m\u001b[0;34m=\u001b[0m\u001b[0;34m\"C=0.001\"\u001b[0m\u001b[0;34m)\u001b[0m\u001b[0;34m\u001b[0m\u001b[0;34m\u001b[0m\u001b[0m\n",
      "\u001b[0;31mNameError\u001b[0m: name 'logreg' is not defined"
     ]
    }
   ],
   "source": [
    "# 续: 作出不同模型的系数的图\n",
    "# 系数值与C的依赖关系\n",
    "plt.plot(logreg.coef_.T, \"s\", label=\"C=1\")\n",
    "plt.plot(logreg100.coef_.T, \"^\", label=\"C=100\")\n",
    "plt.plot(lasso001.coef_.T, \"v\", label=\"C=0.001\")\n",
    "print(logreg.coef_.shape)\n",
    "print(logreg.coef_.T.shape)\n",
    "print(cancer.data.shape)\n",
    "\n",
    "plt.xlabel(\"coeficient index\")\n",
    "plt.ylabel(\"Coefficient magnitude\")\n",
    "plt.ylim(-5, 5)\n",
    "plt.legend()"
   ]
  },
  {
   "cell_type": "markdown",
   "metadata": {},
   "source": [
    "分析:\n",
    "    \n",
    "    logreg.coef_: 二维数组, 里面只有一个元素,该元素为一个一维数组.\n",
    "    logreg.coef_.T: 形状为(30,1)的2维数组.\n",
    "    "
   ]
  },
  {
   "cell_type": "markdown",
   "metadata": {},
   "source": [
    "如果我们想要更简单的模型,可以选用L1正则化方法. 可设置penalty=\"l1\"."
   ]
  },
  {
   "cell_type": "code",
   "execution_count": 43,
   "metadata": {},
   "outputs": [
    {
     "name": "stdout",
     "output_type": "stream",
     "text": [
      "(426, 30)\n",
      "Traing set score: 0.918\n",
      "Test set score:0.930\n"
     ]
    },
    {
     "name": "stderr",
     "output_type": "stream",
     "text": [
      "/home/huang/.programs/.programs/anaconda3/lib/python3.7/site-packages/sklearn/linear_model/logistic.py:433: FutureWarning: Default solver will be changed to 'lbfgs' in 0.22. Specify a solver to silence this warning.\n",
      "  FutureWarning)\n"
     ]
    }
   ],
   "source": [
    "# 以含有多个特征的数据集为例: 选不同的C,附加参数penalty=\"l1\".\n",
    "\n",
    "cancer = load_breast_cancer()\n",
    "X_train, X_test, y_train,y_test = train_test_split(cancer.data, cancer.target, \n",
    "                                                   stratify=cancer.target,\n",
    "                 random_state=42 )\n",
    "lr_l1 = LogisticRegression(C=0.01,penalty=\"l1\").fit(X_train, y_train)\n",
    "print(X_train.shape)\n",
    "print(\"Traing set score: {:.3f}\".format(lr_l1.score(X_train,y_train)))  \n",
    "print(\"Test set score:{:.3f}\".format(lr_l1.score(X_test,y_test)))"
   ]
  },
  {
   "cell_type": "code",
   "execution_count": 44,
   "metadata": {},
   "outputs": [
    {
     "name": "stderr",
     "output_type": "stream",
     "text": [
      "/home/huang/.programs/.programs/anaconda3/lib/python3.7/site-packages/sklearn/linear_model/logistic.py:433: FutureWarning: Default solver will be changed to 'lbfgs' in 0.22. Specify a solver to silence this warning.\n",
      "  FutureWarning)\n"
     ]
    },
    {
     "name": "stdout",
     "output_type": "stream",
     "text": [
      "(426, 30)\n",
      "Traing set score: 0.960\n",
      "Test set score:0.958\n"
     ]
    },
    {
     "name": "stderr",
     "output_type": "stream",
     "text": [
      "/home/huang/.programs/.programs/anaconda3/lib/python3.7/site-packages/sklearn/svm/base.py:931: ConvergenceWarning: Liblinear failed to converge, increase the number of iterations.\n",
      "  \"the number of iterations.\", ConvergenceWarning)\n"
     ]
    }
   ],
   "source": [
    "# 以含有多个特征的数据集为例: 选不同的C,附加参数penalty=\"l1\".\n",
    "cancer = load_breast_cancer()\n",
    "X_train, X_test, y_train,y_test = train_test_split(cancer.data, cancer.target, \n",
    "                                                   stratify=cancer.target,\n",
    "                 random_state=42 )\n",
    "lr_l1 = LogisticRegression(C=1,penalty=\"l1\").fit(X_train, y_train)\n",
    "print(X_train.shape)\n",
    "print(\"Traing set score: {:.3f}\".format(lr_l1.score(X_train,y_train)))  \n",
    "print(\"Test set score:{:.3f}\".format(lr_l1.score(X_test,y_test)))"
   ]
  },
  {
   "cell_type": "code",
   "execution_count": 45,
   "metadata": {},
   "outputs": [
    {
     "name": "stderr",
     "output_type": "stream",
     "text": [
      "/home/huang/.programs/.programs/anaconda3/lib/python3.7/site-packages/sklearn/linear_model/logistic.py:433: FutureWarning: Default solver will be changed to 'lbfgs' in 0.22. Specify a solver to silence this warning.\n",
      "  FutureWarning)\n"
     ]
    },
    {
     "name": "stdout",
     "output_type": "stream",
     "text": [
      "(426, 30)\n",
      "Traing set score: 0.986\n",
      "Test set score:0.979\n"
     ]
    }
   ],
   "source": [
    "# 以含有多个特征的数据集为例: 选不同的C,附加参数penalty=\"l1\".\n",
    "from sklearn.datasets import  load_breast_cancer\n",
    "from sklearn.linear_model import LogisticRegression\n",
    "\n",
    "cancer = load_breast_cancer()\n",
    "X_train, X_test, y_train,y_test = train_test_split(cancer.data, cancer.target, \n",
    "                            stratify=cancer.target, random_state=42 )\n",
    "lr_l1 = LogisticRegression(C=100,penalty=\"l1\").fit(X_train, y_train)\n",
    "print(X_train.shape)\n",
    "print(\"Traing set score: {:.3f}\".format(lr_l1.score(X_train,y_train)))  \n",
    "print(\"Test set score:{:.3f}\".format(lr_l1.score(X_test,y_test)))"
   ]
  }
 ],
 "metadata": {
  "kernelspec": {
   "display_name": "Python 3",
   "language": "python",
   "name": "python3"
  },
  "language_info": {
   "codemirror_mode": {
    "name": "ipython",
    "version": 3
   },
   "file_extension": ".py",
   "mimetype": "text/x-python",
   "name": "python",
   "nbconvert_exporter": "python",
   "pygments_lexer": "ipython3",
   "version": "3.7.4"
  },
  "widgets": {
   "state": {},
   "version": "1.1.2"
  }
 },
 "nbformat": 4,
 "nbformat_minor": 2
}
