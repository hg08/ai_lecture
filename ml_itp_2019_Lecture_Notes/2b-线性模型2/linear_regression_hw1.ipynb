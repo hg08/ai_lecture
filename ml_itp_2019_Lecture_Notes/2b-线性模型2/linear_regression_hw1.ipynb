{
 "cells": [
  {
   "cell_type": "code",
   "execution_count": null,
   "metadata": {},
   "outputs": [],
   "source": [
    "import pandas as pd\n",
    "import numpy as np\n",
    "\n",
    "from sklearn.model_selection import cross_val_predict\n",
    "from sklearn.linear_model import LinearRegression\n",
    "from sklearn.linear_model import LogisticRegression\n",
    "from sklearn.ensemble import RandomForestRegressor\n",
    "from sklearn.ensemble import RandomForestClassifier\n",
    "\n",
    "from sklearn.metrics import accuracy_score\n",
    "from sklearn.metrics import r2_score\n",
    "\n",
    "import matplotlib.pyplot as plt"
   ]
  },
  {
   "cell_type": "code",
   "execution_count": null,
   "metadata": {},
   "outputs": [],
   "source": [
    "# 1.利用pandas读文件\"merged_movie_data.csv\"到df,显示出前10行. \n",
    "#== Your code\n"
   ]
  },
  {
   "cell_type": "code",
   "execution_count": 9,
   "metadata": {},
   "outputs": [],
   "source": [
    "# 2. 打印出所有的列名\n"
   ]
  },
  {
   "cell_type": "markdown",
   "metadata": {},
   "source": [
    "3.\n",
    "\n",
    "(1)在df中创建一个名为\"profitable\"的新列, 对于movie revenue大于movie budget的数据,profitable的值设置为1,其余的数据profitable设置为0.\n",
    "\n",
    "(2)定义并保存如下结果,以便我们用来做回归和分类.\n",
    "\n",
    "定义 regression_target 为 'revenue'.\n",
    "\n",
    "定义classification_target 为 'profitable'.\n"
   ]
  },
  {
   "cell_type": "code",
   "execution_count": null,
   "metadata": {},
   "outputs": [],
   "source": [
    "# Your code\n",
    "\n",
    "\n",
    "\n"
   ]
  },
  {
   "cell_type": "markdown",
   "metadata": {},
   "source": [
    "4: 为例简化问题,我们只分析没有缺失值的行. 请除去那些含有无穷或缺失值的行."
   ]
  },
  {
   "cell_type": "code",
   "execution_count": null,
   "metadata": {},
   "outputs": [],
   "source": [
    "# 4.可能用到的方法: df.replace()\n",
    "# your code: \n"
   ]
  },
  {
   "cell_type": "markdown",
   "metadata": {},
   "source": [
    "5:\n",
    "\n",
    "我们的df中,许多变量包含genre(体裁)actors/actresses,和 keywords.\n",
    "让我们对没一种体裁增加指标列. \n",
    "请确定genre列所有的体裁(genres). 保证运用strip()函数到每一个genre,以去除其后面的字符.\n",
    "\n",
    "然后,把列出的每种体裁作为这个df的一个新的列. \n",
    "如果一部电影属于某个体裁,那么这一列的值就为1, 否则为0.\n",
    "注意: 一部电影可以同时属于几个不同的体裁.\n",
    "调用df[genres].head()查看结果."
   ]
  },
  {
   "cell_type": "code",
   "execution_count": null,
   "metadata": {},
   "outputs": [],
   "source": [
    "list_genres = df.genres.apply(lambda x: str(x).split(\",\"))\n",
    "\n",
    "genres = []\n",
    "for row in list_genres:\n",
    "    row = [genre.strip() for genre in row]\n",
    "    for genre in row:\n",
    "        # ==Your code \n",
    "        \n",
    "\n",
    "for genre in genres:\n",
    "    df[genre] = df['genres'].str.contains(genre).astype(int)\n",
    "\n",
    "df[genres].head()\n"
   ]
  },
  {
   "cell_type": "markdown",
   "metadata": {},
   "source": [
    "6:\n",
    "\n",
    "这个数据集中的一些变量已经是数值型,它们可用于分类和回归. \n",
    "我们保存下这些变量,以便后面分析.\n",
    "\n",
    "(1)对其中的连续变量(数值型变量)两两配对,做出散点图.\n",
    "\n",
    "[可选] 做散点图时,你可能用到的方法pd.tools.potting.scatter_matrix(),\n",
    "plt.tight_layout().\n",
    "\n",
    "(2)搜索并理解skew()方法的含义,然后估算每一个变量的偏度(skew). 打印出来."
   ]
  },
  {
   "cell_type": "code",
   "execution_count": null,
   "metadata": {},
   "outputs": [],
   "source": [
    "# 题目给出的代码\n",
    "continuous_covariates = ['budget', 'popularity', 'runtime', 'vote_count', 'vote_average']\n",
    "outcomes_and_continuous_covariates = continuous_covariates + [regression_target, classification_target]\n",
    "plotting_variables = ['budget', 'popularity', regression_target]\n",
    "# 作图\n",
    "#==Your code \n",
    "\n",
    "# 计算变量的偏度 (skew).\n",
    "#== Your code"
   ]
  },
  {
   "cell_type": "markdown",
   "metadata": {},
   "source": [
    "偏度（skewness），是统计数据分布偏斜方向和程度的度量，是统计数据分布非对称程度的数字特征。偏度(Skewness)亦称偏态、偏态系数。 \n",
    "\n",
    "表征概率分布密度曲线相对于平均值不对称程度的特征数。直观看来就是密度函数曲线尾部的相对长度。 \n",
    "定义上偏度是样本的三阶标准化矩： "
   ]
  },
  {
   "cell_type": "markdown",
   "metadata": {},
   "source": [
    "7: \n",
    "\n",
    "变量budget, popularity, runtime, vote_count, and revenue 全都是右偏的. \n",
    "请转换这些变量,以消除这个右偏性.\n",
    "\n",
    "具体做法: 应用np.log10()方法. 因为有些变量值精确地为0, 所以我们增加一个小的正值到每一个变量上来确保对数函数可以定义. \n",
    "\n",
    "(注意: $\\log(0) = -\\infty$)\n"
   ]
  },
  {
   "cell_type": "code",
   "execution_count": null,
   "metadata": {},
   "outputs": [],
   "source": [
    "# ==Your code\n"
   ]
  },
  {
   "cell_type": "code",
   "execution_count": null,
   "metadata": {},
   "outputs": [],
   "source": [
    "# 查看df\n",
    "df"
   ]
  }
 ],
 "metadata": {
  "kernelspec": {
   "display_name": "Python 3",
   "language": "python",
   "name": "python3"
  },
  "language_info": {
   "codemirror_mode": {
    "name": "ipython",
    "version": 3
   },
   "file_extension": ".py",
   "mimetype": "text/x-python",
   "name": "python",
   "nbconvert_exporter": "python",
   "pygments_lexer": "ipython3",
   "version": "3.5.5"
  },
  "widgets": {
   "state": {},
   "version": "1.1.2"
  }
 },
 "nbformat": 4,
 "nbformat_minor": 2
}
