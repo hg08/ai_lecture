{
 "cells": [
  {
   "cell_type": "markdown",
   "metadata": {},
   "source": [
    "## 1. 一般线性回归\n",
    "为了对比, 回顾一下前面学过的kNN回归算法的结果:"
   ]
  },
  {
   "cell_type": "code",
   "execution_count": 1,
   "metadata": {},
   "outputs": [],
   "source": [
    "# 导入模块:\n",
    "import mglearn \n",
    "import numpy as np\n",
    "import matplotlib.pyplot as plt  \n",
    "\n",
    "from sklearn.model_selection import train_test_split \n",
    "from sklearn.neighbors import KNeighborsRegressor \n",
    "from sklearn.linear_model import LinearRegression "
   ]
  },
  {
   "cell_type": "code",
   "execution_count": 49,
   "metadata": {},
   "outputs": [
    {
     "data": {
      "text/plain": [
       "<matplotlib.legend.Legend at 0x2ce932e10b8>"
      ]
     },
     "execution_count": 49,
     "metadata": {},
     "output_type": "execute_result"
    },
    {
     "data": {
      "image/png": "[encoded data removed]",
      "text/plain": [
       "<Figure size 432x288 with 1 Axes>"
      ]
     },
     "metadata": {},
     "output_type": "display_data"
    }
   ],
   "source": [
    "#生成数据集: 只有一个特征的数据集\n",
    "X, y = mglearn.datasets.make_wave(n_samples=40)  \n",
    "X_train, X_test, y_train, y_test = train_test_split(X, y, random_state=42) \n",
    "\n",
    "#如果数据仅有一个特征,利用array.reshape(-1, 1)改变数组形状;\n",
    "#如果数据中仅包含一个样本,则可利用array.reshape(1, -1)改变数组形状.\n",
    "line = np.linspace(-3,3, 1000).reshape(-1,1)\n",
    "n_neighbors = 13 # 可改变k值:1,5,10\n",
    "\n",
    "# 训练回归模型\n",
    "reg = KNeighborsRegressor(n_neighbors=n_neighbors)\n",
    "reg.fit(X_train,y_train)\n",
    "\n",
    "#print(X)\n",
    "#print(y)\n",
    "# print(X_train.shape)\n",
    "# print(y_train.shape)\n",
    "# # print(reg.predict(X_test))\n",
    "# print(X_test)\n",
    "# print(y_test)\n",
    "\n",
    "# 作图: 包括回归曲线, 训练集,测试集 共三行代码\n",
    "# ==Your code\n",
    "# 回归曲线\n",
    "plt.plot(line[:,0],reg.predict(line),\"-\")\n",
    "#训练集\n",
    "plt.plot(X_train[:,0], y_train, \"or\" )\n",
    "\n",
    "# 一个样本\n",
    "#new = np.array([[15.0]])\n",
    "#plt.plot(new[:,0], reg.predict(new),\"ob\")\n",
    "# 测试集\n",
    "#plt.plot(X_test[:,0], reg.predict(X_test) , \"vb\" )\n",
    "plt.plot(X_test[:,0], y_test , \"vb\" )\n",
    "# # 图形标识\n",
    "plt.title(\"{} neighbor(s)\\n train score:{:.2f} test score: {:.2f}\".format(n_neighbors, reg.score(X_train,y_train),                                                                        reg.score(X_test,y_test)))\n",
    "plt.xlabel(\"Feature\")\n",
    "plt.ylabel(\"Target\")\n",
    "plt.legend([\"Predictions\", \"Training data/target\", \"Test data/target\"])"
   ]
  },
  {
   "cell_type": "markdown",
   "metadata": {},
   "source": [
    "分析:\n",
    "    1.当k = 1,  kNN回归模型对训练集非常准确,而对测试集预测很不准确.(过拟合)\n",
    "    2.  当k 很大,  kNN回归模型对训练集非常不准确,而对测试集预测不准确.(欠拟合)"
   ]
  },
  {
   "cell_type": "markdown",
   "metadata": {},
   "source": [
    "## 1. 简单线性回归"
   ]
  },
  {
   "cell_type": "markdown",
   "metadata": {},
   "source": [
    "#### (1) 对于只有一个特征的数据集\n",
    "线性回归模型\n",
    "\n",
    "$\\hat y = \\beta_1 x_1 + \\beta_0$,\n",
    "\n",
    "$\\beta_1$是斜率, $\\beta_0$是y轴上的截距.\n",
    "\n",
    "$\\hat y$称为response, 是模型的\\ 预测值___.\n"
   ]
  },
  {
   "cell_type": "markdown",
   "metadata": {},
   "source": [
    "\n",
    "#### (2) 对于只有$n$个特征的数据集\n",
    "线性回归模型\n",
    "\n",
    "$\\hat y = \\beta_0 x_0+ \\beta_1 x_1 +...+ \\beta_n  x_n$ (总是设置 $x_0 = 1$)\n",
    "\n",
    "我们也可把$\\hat y$看作是输入特征$x_0,x_1,...,x_n$的带权重的求和.($n$ : 特征的数目.)\n",
    "\n",
    "我们可将系数记为一个矢量$\\bf \\beta$\n",
    "$${\\bf \\beta} = \\left(\n",
    "\\begin{matrix}\n",
    " \\beta_0    \\\\\n",
    " \\beta_1 \\\\\n",
    " \\vdots \\\\\n",
    " \\beta_n \\\\\n",
    "\\end{matrix} \n",
    "\\right),\n",
    "$$\n",
    "举例:\n",
    "$${\\bf \\beta} = \\left(\n",
    "\\begin{matrix}\n",
    " 10    \\\\\n",
    " 0.4 \\\\\n",
    " 0.6 \\\\\n",
    "\\end{matrix} \n",
    "\\right),\n",
    "$$\n",
    "其中,${\\bf\\beta}_0, {\\bf\\beta}_1,...,{\\bf\\beta}_n$是模型的参数.\n",
    "\n",
    "\n",
    "可将**一个样本**的特征记为一个矢量$\\bf x$ \n",
    "$${\\bf x} = \\left(\n",
    "\\begin{matrix}\n",
    " 1  \\\\\n",
    " x_1 \\\\\n",
    " \\vdots \\\\\n",
    " x_n \\\\\n",
    "\\end{matrix} \n",
    "\\right),\n",
    "$$\n",
    "举例:\n",
    "$${\\bf x} = \\left(\n",
    "\\begin{matrix}\n",
    " 1  \\\\\n",
    " 60 \\\\\n",
    " 80 \\\\\n",
    "\\end{matrix} \n",
    "\\right),\n",
    "$$\n",
    "其中,$x_1$表示第1个特征, ...,$n$表示第$n$个特征.\n",
    "\n",
    "所以, 我们可以写出线性回归模型的矢量形式:\n",
    "$$\\hat y = {\\bf\\beta}^T {\\bf x},$$\n",
    "\n",
    "$$\\hat y = {\\bf\\beta}\\cdot {\\bf x},$$\n",
    "其中,${\\bf\\beta}^T$是$\\bf\\beta$的转置 (所以是一个**行矢量**), $\\hat y$ 是 ${\\bf\\beta}^T$ 和 ${\\bf x}$的点积."
   ]
  },
  {
   "cell_type": "markdown",
   "metadata": {},
   "source": [
    "#### (3) 代价函数(cost function) \n",
    "又称损失函数(loss funtion).\n",
    "\n",
    "Mean Square Error: 均方差(MSE)\n",
    "\n",
    "Root Mean Square Error : 根均方差(RMSE)\n",
    "\n",
    "实践中,往往计算均方差损失函数(MSE lost function), 从而获得参数${\\bf\\beta}$的值(训练出模型).  (对比: 前面学过RMSE, 但我们计算MSE,而不是RMSE.)\n",
    "\n",
    "$$\\text{MSE}({\\bf\\beta}) = \\frac{1}{m}\\sum_{i=1}^m({\\bf\\beta}^T {\\bf x}^{(i)} -y^{(i)})^2.$$\n",
    "\n",
    "解出上面这个方程,就可以得到$\\bf\\beta$的值,也就是**线性模型**. 其解为:\n",
    "\n",
    "$$\\hat{\\bf \\beta} = ({\\bf X}^T\\cdot {\\bf X})^{-1}\\cdot {\\bf X}^T \\cdot {\\bf y},$$\n",
    "\n",
    "$\\hat{\\bf \\beta}$就是使得损失函数最小的参数组成的矢量;\n",
    "\n",
    "$\\bf X$是$m\\times n$矩阵, $\\bf\\beta$是$n\\times 1$矩阵(矢量);\n",
    "\n",
    "${\\bf y}$是目标值$y^{(1), ..., y^{(m)}}$构成的矢量, $n\\times 1$矩阵.\n",
    "\n",
    "我们称这个方程为**正则方程** (Normal Equation). \n",
    "\n",
    "注意:用正则方程来计算$\\bf\\beta$的时间复杂度为$O(n^3)$, 当特征数目$n$很大时,不要用这种方法来求$\\bf\\beta$."
   ]
  },
  {
   "cell_type": "code",
   "execution_count": 32,
   "metadata": {},
   "outputs": [
    {
     "name": "stdout",
     "output_type": "stream",
     "text": [
      "(40, 1)\n",
      "[0.47954524]\n",
      "-0.09847983994403892\n",
      "Traing set score: 0.65\n",
      "Test set score: 0.77\n"
     ]
    },
    {
     "data": {
      "text/plain": [
       "Text(0,0.5,'Target')"
      ]
     },
     "execution_count": 32,
     "metadata": {},
     "output_type": "execute_result"
    },
    {
     "data": {
      "image/png": "[encoded data removed]",
      "text/plain": [
       "<Figure size 432x288 with 1 Axes>"
      ]
     },
     "metadata": {},
     "output_type": "display_data"
    }
   ],
   "source": [
    "#linear_regression.py  \n",
    "\n",
    "# 导入线性回归模型\n",
    "from sklearn.linear_model import LinearRegression\n",
    "\n",
    "#生成数据集: 只有一个特征的数据集\n",
    "X, y = mglearn.datasets.make_wave(n_samples=40)  \n",
    "X_train, X_test, y_train, y_test = train_test_split(X, y, random_state=42)  \n",
    "print(X.shape)\n",
    "\n",
    "# 训练出线性回归模型\n",
    "#==Your code\n",
    "lr = LinearRegression()\n",
    "#拟合\n",
    "lr.fit(X_train, y_train)\n",
    "\n",
    "# 计算并打印斜率和截距\n",
    "# beta_1 are stored in the coef_ attribute,  \n",
    "# beta_0 is stored in the intercept_ attribute. \n",
    "# ==Your code\n",
    "print(lr.coef_)\n",
    "print(lr.intercept_)\n",
    "\n",
    "# 分别计算训练集和测试集的拟合优度, 保留三位小数 \n",
    "#==Your code\n",
    "#print(lr.score(X_train,y_train))\n",
    "print(\"Traing set score: {:.2f}\".format(lr.score(X_train,y_train)))  \n",
    "print(\"Test set score: {:.2f}\".format(lr.score(X_test,y_test)))\n",
    "\n",
    "# 作图:\n",
    "# 对回归方程作图; 对训练集数据作图; 对测试集数据作图\n",
    "# ==Your code\n",
    "line = np.linspace(-3,3, 1000).reshape(-1,1)\n",
    "plt.plot(line[:,0],lr.predict(line))\n",
    "plt.plot(X_train[:,0], y_train, \"o\", c=\"r\" )\n",
    "plt.plot(X_test[:,0], y_test , \"v\", c=\"b\" )\n",
    "plt.xlabel(\"Feature\")\n",
    "plt.ylabel(\"Target\")"
   ]
  },
  {
   "cell_type": "markdown",
   "metadata": {},
   "source": [
    "数据的很多细节都被丢掉了. **我们的目标(Target标签)是特征的线性函数** 是一个很强的假设,也就是说,是过于( 简单)的模型! \n",
    "\n",
    "    1. coef_是Numpy数组；　intercept_是一个浮点型数.\n",
    "    2. 训练集和测试集的准确度都不高.这说明我们的方法是 (欠)拟合的，而不是(过)拟合的.\n",
    "    3. 但是对于具有更多特征的数据集，线性模型是很有用的！这种情况下，更多的情况是过拟合出现，而非欠拟合.(例)\n",
    "\n",
    "当你的特征数目($n$)大于你的数据点的数目(样本个数)时,目标$y$往往可以用线性模型很好地预测出来. "
   ]
  },
  {
   "cell_type": "markdown",
   "metadata": {},
   "source": [
    "下面就是一个例子.这个例子中,特征数目为(),样本数目(). 前者( )后者."
   ]
  },
  {
   "cell_type": "code",
   "execution_count": 36,
   "metadata": {},
   "outputs": [
    {
     "name": "stdout",
     "output_type": "stream",
     "text": [
      "(379, 104)\n",
      "lr.coef_:[-1.28951445e+02 -1.34428510e+00 -8.67318455e+01  7.77632358e+00\n",
      " -3.99171323e+01  2.70293830e+01  5.47208851e+01 -6.56642421e+01\n",
      "  5.09798804e+01  2.65026504e+01 -1.30928694e+01  4.74536524e+01\n",
      "  6.03409502e+01  5.10356536e+01  1.78502944e+03  2.28227572e+02\n",
      "  4.20670688e+02 -8.17911638e+01  2.68870969e+02 -1.03756878e+02\n",
      " -3.71719154e+02 -4.05628354e+02  3.86397260e+02  1.60061974e+00\n",
      "  2.40250959e+01  6.01420724e+01 -5.58474352e+00 -1.21070403e+01\n",
      " -1.27840747e+01 -2.75737758e+01 -3.09926850e+00 -3.67752456e-01\n",
      " -4.97206841e+00 -1.83700135e+01  2.20802645e+01 -8.71607064e+00\n",
      "  2.01513767e+01 -2.63241394e+01  2.12213309e+01  2.75196442e+00\n",
      "  1.24451343e+01  4.12662428e+01  1.59151010e+01  5.68862279e+01\n",
      " -1.71528356e+01  1.68930772e+01  4.43661965e+00  1.96345586e+01\n",
      "  3.33113995e+00  7.77632358e+00 -1.19634667e+01 -3.62913234e+01\n",
      "  3.17167393e+00  3.67202215e+01 -3.69170261e+00 -8.75746266e+00\n",
      " -9.76048562e+00  9.49754359e+00 -2.02144606e+01  1.95083142e+01\n",
      "  2.32452089e+01 -2.32090567e+01  1.09897457e+02 -5.65403462e+00\n",
      "  1.82206197e+01 -2.40725372e+01  3.25570869e+00  2.28703328e+01\n",
      "  2.69598229e+01 -3.65331029e+01  2.95197946e+01 -2.42789751e+01\n",
      " -3.85761634e+01 -7.47720856e+00  1.08916581e+01 -7.46418921e+01\n",
      "  4.70679858e+00 -7.06500937e+00  2.92461833e+01 -2.63284366e+01\n",
      " -2.18077945e+00 -3.83661698e+01 -2.28775602e+01  6.78604641e+01\n",
      " -2.03876378e+01 -2.62335193e+01 -5.62511005e+00 -3.29828098e+01\n",
      "  4.86983530e+01 -7.64545861e+01  9.34630920e+01 -2.61806424e+01\n",
      " -8.23391783e+00 -1.10643585e+01 -1.20961612e+01  2.20278818e+01\n",
      " -1.96245095e+01 -2.80329087e+01  1.53095029e+00  1.95557966e+01\n",
      "  4.93387371e+00 -9.69755206e+00 -2.19874572e+01 -1.06940800e+01]\n",
      "lr.intercept_:-17.19233494448031\n",
      "Traing set score: 0.93\n",
      "Test set score:0.23\n"
     ]
    }
   ],
   "source": [
    "#linear_regression2.py  \n",
    "\n",
    "#生成数据集\n",
    "X, y = mglearn.datasets.load_extended_boston()    \n",
    "X_train, X_test, y_train, y_test = train_test_split(X, y, random_state=40)  \n",
    "#查看训练集的形状\n",
    "#==Your code\n",
    "print(X_train.shape)\n",
    "lr = LinearRegression()\n",
    "#拟合\n",
    "lr.fit(X_train, y_train)\n",
    "\n",
    "# ( )\n",
    "  \n",
    "#计算并打印( )\n",
    "# w are stored in the coef_ attribute,  \n",
    "# b is stored in the intercept_ attribute.  \n",
    "print(\"lr.coef_:{}\".format(lr.coef_))  \n",
    "print(\"lr.intercept_:{}\".format(lr.intercept_))  \n",
    "\n",
    "# # 分别计算训练集和测试集的拟合优度, 保留三位小数 \n",
    "print(\"Traing set score: {:.2f}\".format(lr.score(X_train,y_train)))  \n",
    "print(\"Test set score:{:.2f}\".format(lr.score(X_test,y_test))) "
   ]
  },
  {
   "cell_type": "markdown",
   "metadata": {},
   "source": [
    "分析:\n",
    "1. 对于训练集，我们预测得(非常准确 ) ，然而对于测试集上预测结果却( 非常不准确).$R^2= (0.23 ) $,比较(差) ,说明回归模型 (不好 )  ！\n",
    "2. 上述差别说明：出现了 (过拟合 )！ 可以猜测: 对于特征数目很多的数据集(常称为**高维度数据集**),线性模型变得更有用,同时更容易出现( 过拟合).\n",
    "3. 我们需要一个能让我们控制复杂度的模型. 其中一个常见的选择是:岭回归.\n"
   ]
  },
  {
   "cell_type": "markdown",
   "metadata": {},
   "source": [
    "## 2. 岭回归(Ridge regression)"
   ]
  },
  {
   "cell_type": "markdown",
   "metadata": {},
   "source": [
    "Ridge回归也是一种线性回归. 这个方法在OLS基础上，加入了额外的约束条件.\n",
    "\n",
    "另外，我们也想让系数的绝对值尽可能的(小 )，即$\\beta$的所有元素都应该接近0．\n",
    "\n",
    "要求每个特征尽可能少地影响输出结果，也就是说，斜率要尽可能地(平缓 ),但是预测要尽可能准确！\n",
    "\n",
    "加这个约束条件是**正则化**（regularization）的一个例子. \n",
    "\n",
    "正则化的含义就是：约束一个模型以避免过拟合.\n",
    "\n",
    "岭回归用的正则化方法是L2正则化. "
   ]
  },
  {
   "cell_type": "markdown",
   "metadata": {},
   "source": [
    "岭回归的cost function (代价函数/损失函数)$J(\\beta)$为:\n",
    "\n",
    "$$J(\\beta) = \\text{MSE}(\\beta) + \\alpha \\frac{1}{2}\\sum_{i=1}^n \\beta_i^2$$ \n",
    "\n",
    "(注意: $\\beta_0$没有被正则化.)\n",
    "\n",
    "求解$\\bf \\beta$的常用方法:\n",
    "\n",
    "直接求解法. 公式表示为\n",
    "$$\\hat{\\bf \\beta} = ({\\bf X}^T\\cdot {\\bf X} + \\alpha {\\bf I})^{-1}\\cdot {\\bf X}^T \\cdot {\\bf y} $$\n",
    " \n",
    "梯度下降法(Gradient Descent). (类比前面学过的最小二乘法)\n",
    "\n",
    "公式表达为:\n",
    "$$\\nabla_{\\beta}\\text{MSE}({\\bf\\beta}) \n",
    "= \\left(\n",
    "\\begin{matrix}\n",
    " \\nabla_{\\beta_0}\\text{MSE}({\\bf\\beta})  \\\\\n",
    " \\nabla_{\\beta_1}\\text{MSE}({\\bf\\beta}) \\\\\n",
    " \\vdots \\\\\n",
    " \\nabla_{\\beta_n}\\text{MSE}({\\bf\\beta})\\\\\n",
    "\\end{matrix} \n",
    "\\right)\n",
    "= \\frac{2}{m}{\\bf X}^T \\cdot ({\\bf X}{\\bf\\beta} - {\\bf y});\n",
    "$$\n",
    "\n",
    "\n",
    "$${\\bf\\beta}^{(\\text{next step})} = {\\bf\\beta} - \\eta\\nabla_{\\beta}\\text{MSE}({\\bf\\beta}).$$\n",
    "\n",
    "\n",
    "岭回归算法已经在\n",
    "    sklearn.linear_mode.Ridge\n",
    "中实现了."
   ]
  },
  {
   "cell_type": "code",
   "execution_count": 37,
   "metadata": {},
   "outputs": [
    {
     "name": "stdout",
     "output_type": "stream",
     "text": [
      "ridge.coef_:[-1.70295812e+00 -1.21646220e+00 -2.26391270e+00  8.30845896e-01\n",
      " -8.58331367e-02  8.01116071e+00 -5.65999560e-03 -4.69520099e+00\n",
      "  3.64886980e+00 -1.76903379e+00 -1.84601461e+00  2.32007300e+00\n",
      " -2.80633098e+00 -1.00796122e+00  5.43017764e-03 -1.05926024e+00\n",
      "  1.58394405e+00 -1.66367827e+00 -1.33734211e+00 -1.24701369e+00\n",
      " -3.45676068e-01 -1.97789722e+00 -1.71426435e+00 -1.55777662e+00\n",
      " -1.22046160e+00 -1.18685106e+00  1.86974330e+00 -1.84090506e+00\n",
      "  2.15362590e+00  3.33286814e-01  3.44159376e+00 -1.96103914e+00\n",
      " -4.39026619e-01 -1.86641840e-01  3.53642680e-01  6.52130195e-01\n",
      " -1.00510187e+00 -1.77202481e+00  3.42271888e+00  1.40820125e+00\n",
      "  8.83430865e-01 -3.91620276e+00  2.18270833e+00 -3.72297245e+00\n",
      "  1.10970075e+00  2.54657815e+00 -1.16437597e+00 -5.84765670e-01\n",
      " -1.92913457e+00  8.30845896e-01 -4.88404275e+00 -3.65276071e+00\n",
      "  1.33691241e+00 -1.17583545e+00  2.82947313e+00  3.21863173e+00\n",
      "  3.94714722e-01  1.80083969e+00 -2.30349790e+00 -1.68219494e+00\n",
      " -3.55230706e+00 -2.18599021e+00 -9.27982628e-01 -2.53092628e+00\n",
      " -1.58471861e+00 -2.87271300e+00  1.62300691e+00 -1.90732301e+00\n",
      "  1.49389562e+01 -3.87316528e-01  1.24464700e+00 -6.64540858e+00\n",
      " -7.52121608e+00 -4.29542567e+00  1.07727555e+01 -6.29926886e+00\n",
      "  1.32751219e+00 -1.84322821e+00  3.61675455e+00  4.16241023e-01\n",
      " -1.69159673e+00 -1.97566230e+00 -3.25849616e+00  1.11350329e+00\n",
      " -1.60578810e+00 -2.75642376e+00 -7.75620554e-01 -3.82545173e+00\n",
      "  3.69223888e-01  7.20424872e-01  7.71237641e-01  2.50362234e+00\n",
      "  2.60244298e+00 -6.29040903e+00  1.51485823e+00  1.18394049e+00\n",
      " -1.15724635e+00 -6.39479783e+00  6.52519686e-01 -1.79273639e+00\n",
      " -1.73340672e+00 -1.03519815e+00 -5.83840387e+00  6.39666192e+00]\n",
      "ridge.intercept_:21.902879994989433\n",
      "Traing set score: 0.834\n",
      "Test set score:0.860\n"
     ]
    }
   ],
   "source": [
    "from sklearn.linear_model import Ridge  \n",
    "# 生成数据  \n",
    "X, y = mglearn.datasets.load_extended_boston()   \n",
    "X_train, X_test, y_train, y_test = train_test_split(X, y, random_state=40)  \n",
    "\n",
    "# __训练岭回归模型__\n",
    "# ==Your code \n",
    "ridge = Ridge().fit(X_train,y_train)\n",
    "  \n",
    "\n",
    "# __计算系数和截距__\n",
    "# w are stored in the coef_ attribute,  \n",
    "# b is stored in the intercept_ attribute.   \n",
    "print(\"ridge.coef_:{}\".format(ridge.coef_))  \n",
    "print(\"ridge.intercept_:{}\".format(ridge.intercept_))  \n",
    "  \n",
    "# __分别计算训练集和测试集的拟合优度, 保留三位小数__\n",
    "print(\"Traing set score: {:.3f}\".format(ridge.score(X_train,y_train)))  \n",
    "print(\"Test set score:{:.3f}\".format(ridge.score(X_test,y_test))) "
   ]
  },
  {
   "cell_type": "markdown",
   "metadata": {},
   "source": [
    "分析:\n",
    "\n",
    "1. 使用了岭回归以后,训练集的$R^2$值变(小)了,但测试集的$R^2$值更(大)了! 符合预期吗?. (符合) \n",
    "2. 用一般线性回归,我们得到过拟合的模型.\n",
    "3. 复杂性更低的模型在训练集上表现得更() ,但更具有( ). \n",
    "4. 普遍性是我们需求的,所以,我们应该选择(岭回归)."
   ]
  },
  {
   "cell_type": "code",
   "execution_count": 38,
   "metadata": {},
   "outputs": [
    {
     "name": "stdout",
     "output_type": "stream",
     "text": [
      "ridge.coef_:[-4.72978583e-01  5.28253093e-01 -1.06903456e+00  5.92707488e-01\n",
      " -8.92622782e-01  4.21655755e+00 -2.40712354e-01 -2.43911615e+00\n",
      "  8.62632274e-01 -1.21316036e+00 -1.97759490e+00  1.14882159e+00\n",
      " -3.89327171e+00 -2.46618012e-01  1.56042909e-03 -3.03655993e-01\n",
      "  2.25006574e-01 -4.43021806e-01 -3.81489958e-01 -3.83104166e-01\n",
      " -6.84347071e-02 -4.79103669e-01 -4.37509305e-01 -3.97941237e-01\n",
      " -2.63617847e-01 -3.46300190e-01  1.00482787e+00 -3.06989448e-01\n",
      "  7.84590208e-01  1.68054257e-01  1.47912385e+00 -1.32423716e-01\n",
      " -2.43891428e-01 -2.38487240e-03 -2.19783244e-01 -1.34529319e-01\n",
      "  5.77756894e-01 -4.80851545e-01  6.48886621e-01  1.71191724e-01\n",
      " -6.23834561e-01 -6.81128096e-01  1.50736845e-02 -1.15542986e+00\n",
      "  3.14339397e-01  3.39744193e-01 -5.19977049e-01 -3.26780566e-01\n",
      " -1.29587759e+00  5.92707488e-01 -7.70469286e-01  5.67396376e-01\n",
      "  3.06780662e-01  1.83610096e-02  1.30176438e+00  1.05892881e+00\n",
      "  5.35323389e-01  9.53206521e-01 -8.68813371e-01 -1.45602329e+00\n",
      " -3.81448455e-01 -9.94427557e-01 -5.01073312e-01 -5.73408709e-01\n",
      " -8.65116954e-01 -1.11694215e+00  2.47847470e-01 -1.73871417e+00\n",
      "  6.39749762e+00  1.51857671e+00  2.72783273e-01 -6.36088106e-01\n",
      " -1.41178591e+00 -2.04450646e-01  5.35359875e+00 -2.43453512e+00\n",
      "  1.80202708e-01 -1.52176779e+00  8.53387435e-01 -2.79608778e-01\n",
      " -1.28099419e+00  2.29085561e-01 -2.85966418e+00 -1.31683797e+00\n",
      " -5.56216133e-01 -1.22944480e+00 -1.76716523e+00 -2.16775885e+00\n",
      " -1.29348589e+00  8.14443940e-01  4.68604781e-01  3.90550035e-01\n",
      "  1.46408847e+00 -1.83503431e+00  4.13828079e-01 -5.16943480e-01\n",
      " -4.34887700e-01 -2.08029468e+00 -1.66481482e+00 -1.39999231e+00\n",
      " -2.40201334e+00  5.78315915e-01 -3.83363929e+00 -8.27102851e-01]\n",
      "ridge.intercept_:24.992163723662927\n",
      "Traing set score: 0.744\n",
      "Test set score:0.738\n"
     ]
    }
   ],
   "source": [
    "# 岭回归 设置alpha=10  \n",
    "X, y = mglearn.datasets.load_extended_boston()   \n",
    "X_train, X_test, y_train, y_test = train_test_split(X, y, random_state=40)  \n",
    "# 训练模型\n",
    "#== YOur code\n",
    "ridge10 = Ridge(10).fit(X_train,y_train)\n",
    "# w are stored in the coef_ attribute,  \n",
    "# b is stored in the intercept_ attribute.  \n",
    "print(\"ridge.coef_:{}\".format(ridge10.coef_))  \n",
    "print(\"ridge.intercept_:{}\".format(ridge10.intercept_))  \n",
    "\n",
    "# 分别计算训练集和测试集的拟合优度, 保留三位小数\n",
    "print(\"Traing set score: {:.3f}\".format(ridge10.score(X_train,y_train)))  \n",
    "print(\"Test set score:{:.3f}\".format(ridge10.score(X_test,y_test))) "
   ]
  },
  {
   "cell_type": "code",
   "execution_count": 51,
   "metadata": {
    "scrolled": true
   },
   "outputs": [
    {
     "name": "stdout",
     "output_type": "stream",
     "text": [
      "(506, 104)\n",
      "ridge.coef_:[ -2.54171528  -4.40280845  -6.94575634   6.98585965   4.54144384\n",
      "  20.38460228   4.81777145 -11.27920498  11.51535566  -0.81412944\n",
      "  -3.1819808   12.84302096   3.86106122  -2.57450557   0.03270935\n",
      "  -1.01805783  10.73771463  -3.22774335   1.93051619  -0.83736493\n",
      "  -1.48091441  -4.54697514  -3.26173563  -3.51078527  -0.10001851\n",
      "  -0.44269772   2.31684786  -2.6779432    5.71938223   2.13061958\n",
      "   8.35928137  -5.58523544  -2.48246571   0.7318481    8.22742882\n",
      "   3.53992396  -3.42199025  -5.69994342   6.1576751    3.89751695\n",
      "   7.87210832   1.28022309   4.49586417  -5.5720898    3.63919207\n",
      "   7.19200148  -3.61187168  -1.15280942  -9.39379853   6.98585965\n",
      " -15.40357021 -19.57814913   3.57279069  -3.16913942   3.39900803\n",
      "   7.18423778  -2.4681977   -0.26016564  -6.06357558  -0.2305055\n",
      "  -6.59049677  -9.8714996    0.51177895  -6.35749201   0.15877661\n",
      "  -5.98561019   1.72193405   0.91443683  18.8593817   -3.17715953\n",
      "  -2.07191174 -13.38621281 -12.63997996 -14.1574299   13.27659943\n",
      " -10.91626054   1.03402975   2.4642415   10.6553589   -2.51711675\n",
      "   0.29155278  -9.34240931  -4.81069232  13.000462    -5.45244525\n",
      "  -4.34586175  -1.26531366  -7.2694684   10.29419363  -7.04006158\n",
      "   1.99951114   8.27803839  -1.06134762 -11.80483343   0.15576987\n",
      "   8.35099572  -3.15884388 -15.36372664   2.73519413   0.88307274\n",
      "  -0.5334209   -1.78208579  -8.4155681   17.03709376]\n",
      "ridge.intercept_:7.343723058837609\n",
      "Traing set score: 0.882\n",
      "Test set score:0.911\n"
     ]
    }
   ],
   "source": [
    "# 岭回归: 设置 alpha = 0.1 设置 alpha适当地小 模型更具普遍性)\n",
    "  \n",
    "X, y = mglearn.datasets.load_extended_boston()   \n",
    "X_train, X_test, y_train, y_test = train_test_split(X, y, random_state=40)  \n",
    "\n",
    "# 训练模型  \n",
    "# your code\n",
    "print(X.shape)\n",
    "ridge01 = Ridge(0.10).fit(X_train,y_train)\n",
    "\n",
    "# w are stored in the coef_ attribute,  \n",
    "# b is stored in the intercept_ attribute.  \n",
    "print(\"ridge.coef_:{}\".format(ridge01.coef_))  \n",
    "print(\"ridge.intercept_:{}\".format(ridge01.intercept_))  \n",
    "\n",
    "# 分别计算训练集和测试集的拟合优度, 保留三位小数\n",
    "print(\"Traing set score: {:.3f}\".format(ridge01.score(X_train,y_train)))  \n",
    "print(\"Test set score:{:.3f}\".format(ridge01.score(X_test,y_test))) \n"
   ]
  },
  {
   "cell_type": "code",
   "execution_count": 53,
   "metadata": {},
   "outputs": [
    {
     "name": "stdout",
     "output_type": "stream",
     "text": [
      "(506, 104)\n"
     ]
    },
    {
     "data": {
      "text/plain": [
       "<matplotlib.legend.Legend at 0x2ce933d2240>"
      ]
     },
     "execution_count": 53,
     "metadata": {},
     "output_type": "execute_result"
    },
    {
     "data": {
      "image/png": "[encoded data removed]",
      "text/plain": [
       "<Figure size 432x288 with 1 Axes>"
      ]
     },
     "metadata": {},
     "output_type": "display_data"
    }
   ],
   "source": [
    "# 续# 系数值与alpha的依赖关系\n",
    "plt.plot(ridge.coef_, \"s\", label=\"Ridge alpha=1\")\n",
    "#plt.plot(ridge10.coef_, \"^\", label=\"Ridge alpha=10\")\n",
    "plt.plot(ridge01.coef_, \"v\", label=\"Ridge alpha=0.1\")\n",
    "print(X.shape) \n",
    "plt.plot(lr.coef_, \"o\", label=\"LinearRegression\")\n",
    "plt.xlabel(\"coeficient index\")\n",
    "plt.ylabel(\"Coefficient value\")\n",
    "plt.hlines(0,0,len(lr.coef_))\n",
    "plt.ylim(-100, 100)\n",
    "plt.legend()"
   ]
  },
  {
   "cell_type": "markdown",
   "metadata": {},
   "source": [
    "分析:\n",
    "1. x轴: 模型的系数的() . 比如coef.index=0 对应第( )特征, coef.index=1对应第( )特征, ...\n",
    "\n",
    "2. y轴: 模型的( ).\n",
    "\n",
    "3. 岭回归: alpha=10对应的系数值取值大约在( )!\n",
    "\n",
    "4. 岭回归: alpha=1, alpha=0.1对应的系数值取值的范围都要( ).\n",
    "\n",
    "5. 无正则化的线性回归方法得到的系数值,范围更大还是更小? ( ) 是我们想要的结果吗? ( )"
   ]
  },
  {
   "cell_type": "markdown",
   "metadata": {},
   "source": [
    "## 3. Lasso回归"
   ]
  },
  {
   "cell_type": "markdown",
   "metadata": {},
   "source": [
    "Lasso回归(Least Absolute Shrinkage and Selection Operator regression),\n",
    "\n",
    "另一种正规化线性回归方法. \n",
    "\n",
    "与岭回归一样,该法也是添加一个**正则项**到损失函数(cost function),使系数尽量接近0.\n",
    "\n",
    "在Lasso回归模型中，我们用的是L1正规化: \n",
    "\n",
    "使用L1正则化后,一些最不重要的系数**精确地**等于0 (有些特征直接被忽略掉了).\n",
    "\n",
    "这可以视为自动特征选择的的一种形式.\n",
    "\n",
    "有些特征被( ),使得我们构建了一个更易解释的模型(稀疏模型),\n",
    "\n",
    "能揭示数据最重要的特征.\n",
    "\n",
    "\n",
    "Lasso回归的损失函数$J(\\beta)$为:\n",
    "\n",
    "$$J(\\beta) = MSE(\\beta) + \\alpha \\sum_{i=1}^n |\\beta_i|$$ \n",
    "\n",
    "(注意: $\\beta_0$没有被正则化.)"
   ]
  },
  {
   "cell_type": "code",
   "execution_count": 55,
   "metadata": {},
   "outputs": [
    {
     "name": "stdout",
     "output_type": "stream",
     "text": [
      "(379, 104)\n",
      "lasso.coef_:[-0.          0.         -0.          0.         -0.          0.\n",
      " -0.          0.         -0.         -0.         -0.          0.\n",
      " -0.32441098 -0.          0.         -0.          0.         -0.\n",
      " -0.         -0.         -0.         -0.         -0.         -0.\n",
      " -0.         -0.          0.          0.          0.          0.\n",
      "  0.          0.          0.          0.          0.          0.\n",
      "  0.          0.         -0.          0.         -0.         -0.\n",
      " -0.         -0.         -0.         -0.         -0.         -0.\n",
      " -0.          0.          0.          0.          0.          0.\n",
      "  0.          0.          0.          0.          0.         -0.\n",
      " -0.         -0.         -0.         -0.         -0.         -0.\n",
      " -0.         -0.          0.          0.          0.         -0.\n",
      " -0.         -0.          0.         -0.         -0.         -0.\n",
      " -0.         -2.73694035 -0.73382069 -0.         -0.          0.\n",
      " -0.         -0.         -0.          0.         -0.         -0.\n",
      " -0.         -0.         -0.         -0.         -0.         -0.\n",
      " -0.         -0.         -0.         -0.         -0.          0.\n",
      " -0.         -0.        ]\n",
      "lasso.intercept_:23.77782531945399\n",
      "Traing set score: 0.12\n",
      "Test set score:0.10\n"
     ]
    }
   ],
   "source": [
    "#lasso_regression.py  \n",
    "from sklearn.linear_model import Lasso  \n",
    "\n",
    "# 生成模型  \n",
    "X, y = mglearn.datasets.load_extended_boston()   \n",
    "X_train,X_test,y_train,y_test=train_test_split(X,y,random_state=40)  \n",
    "print(X_train.shape)\n",
    "# 训练Lasso回归模型\n",
    "# Your code\n",
    "lasso = Lasso().fit(X_train,y_train)\n",
    "\n",
    "print(\"lasso.coef_:{}\".format(lasso.coef_))  \n",
    "print(\"lasso.intercept_:{}\".format(lasso.intercept_))  \n",
    "  \n",
    "print(\"Traing set score: {:.2f}\".format(lasso.score(X_train,y_train)))  \n",
    "print(\"Test set score:{:.2f}\".format(lasso.score(X_test,y_test)))  "
   ]
  },
  {
   "cell_type": "markdown",
   "metadata": {},
   "source": [
    "分析:\n",
    "    1. Lasso回归对训练集和测试集的R^2分别为 (),() . 预测都做得(差). 说明出现了(欠拟合)\n",
    "    2. 共有(104 )特征,只用到了( 3)个特征. \n",
    "    3. Lasso()有正规化参数alpha. 其默认值alpha=1.0. alpha的值描述将系数推向０的力度. \n",
    "\n",
    "为了减少欠拟合的影响，我们增加另一个参数max_iter之值. mat_iter的值为运行时迭代的次数之最大值."
   ]
  },
  {
   "cell_type": "code",
   "execution_count": 66,
   "metadata": {},
   "outputs": [
    {
     "name": "stdout",
     "output_type": "stream",
     "text": [
      "lasso.coef_:[ -0.          -0.          -0.           0.          -0.\n",
      "   0.          -0.          -7.84968389   7.832237     0.\n",
      "  -0.           0.          -0.          -0.          -0.\n",
      "  -0.           0.          -0.          -0.          -0.\n",
      "  -0.          -7.8388834   -0.          -0.          -0.\n",
      "  -0.           1.0200844   -0.           0.          -0.\n",
      "   0.          -0.772847     0.          -0.           0.\n",
      "   0.          -0.          -0.           0.           0.\n",
      "   0.          -0.           0.          -8.67890668   0.\n",
      "   6.55056477  -0.          -0.          -0.           0.\n",
      "  -4.8481841   -3.12877187   0.          -0.           0.\n",
      "   7.72511936   0.           3.35229301  -0.          -1.04225152\n",
      "  -4.63170707  -1.03361748  -0.          -0.          -0.\n",
      "  -4.89917926   0.          -0.          26.33655724  -0.49637589\n",
      "  -0.          -8.57005656 -11.52940583  -9.69854673  15.01851427\n",
      "  -6.72210643  -0.          -0.28080308   4.57055822   0.\n",
      "  -0.22987436  -2.24997803  -0.92231678   0.          -0.\n",
      "  -0.           0.          -0.           0.           0.\n",
      "   0.           0.           0.4193672   -6.4803126    1.96976767\n",
      "   0.           0.         -16.63283558   0.           0.\n",
      "  -0.          -0.          -8.22268789   7.5328733 ]\n",
      "lasso.intercept_:20.640800272860396\n",
      "No.of features used:33\n",
      "Traing set score: 0.84\n",
      "Test set score:0.88\n"
     ]
    }
   ],
   "source": [
    "#lasso001_regression.py   \n",
    "X, y = mglearn.datasets.load_extended_boston()  \n",
    "  \n",
    "X_train, X_test, y_train, y_test = train_test_split(X, y, random_state=40)  \n",
    "lasso001 = Lasso(alpha=0.01,max_iter=10000).fit(X_train, y_train)  \n",
    "  \n",
    "print(\"lasso.coef_:{}\".format(lasso001.coef_))  \n",
    "print(\"lasso.intercept_:{}\".format(lasso001.intercept_))  \n",
    "print(\"No.of features used:{}\".format(np.sum(lasso001.coef_!=0)))  \n",
    "\n",
    "print(\"Traing set score: {:.2f}\".format(lasso001.score(X_train,y_train)))  \n",
    "print(\"Test set score:{:.2f}\".format(lasso001.score(X_test,y_test)))  "
   ]
  },
  {
   "cell_type": "markdown",
   "metadata": {},
   "source": [
    "分析:\n",
    "    1. 更(低)的alpha值可使我们拟合出更复杂的模型,从而在训练集和测试集上都有(更好)的预测性能.\n",
    "    2. 此例中,alpha=0.01, max_iter=100000. 相对默认值,训练集和测试集的拟合优度都有没有提升.(有 )\n",
    "    3. 相比岭回归,这个Lasso回归模型的拟合优度更高,而所用的特征数只使105个特征中的(  )个.所以Lasso回归所得的模型比岭回归模型更(简单),更易解释.\n",
    "\n",
    "alpha过小,显然会导致(过拟合 )现象!"
   ]
  },
  {
   "cell_type": "code",
   "execution_count": 71,
   "metadata": {},
   "outputs": [
    {
     "name": "stdout",
     "output_type": "stream",
     "text": [
      "lasso.coef_:[ -0.          -0.         -10.20656209  13.33609506   0.63881475\n",
      "  48.96128811  18.93743693 -36.19688654  14.10300593  -0.\n",
      "   0.          28.98284998  13.68445403  -0.           0.\n",
      "  -0.         252.64349932  -0.           0.          -0.\n",
      "  -0.         -17.53882962  -0.          -0.           0.\n",
      "   0.           2.4754909   -0.          -0.           0.\n",
      "   1.65589239  -6.86874831  -6.3198252   -0.           9.78128386\n",
      "   0.90946864  -0.         -12.07756684   2.12838627   0.\n",
      "  24.27027891   1.13674649   2.2958079    0.           7.97332068\n",
      "  13.45793201  -2.34211132  -0.          -9.9320061    1.14763668\n",
      " -15.33902582 -23.47963408   2.5104258    5.16737446  -2.80966947\n",
      "  -0.          -3.27683571   4.35108324  -9.67012621   0.\n",
      "  -3.37769417 -19.28356932   9.62013497  -5.27186612  -0.\n",
      "  -7.6394013    3.27019118   0.          13.60313271 -12.05520577\n",
      "  -0.         -15.30710385 -10.73641882 -21.42127154   4.32974595\n",
      " -23.08253709   0.97906033   0.          16.1457672   -6.59149099\n",
      "   0.         -16.61436742  -4.62479388  29.51648556  -6.95508542\n",
      "  -0.           0.          -0.87659827  22.18682877 -20.09686068\n",
      "   8.90789151   5.05486177  -0.57098569  -7.46274127   0.\n",
      "  12.36938043  -8.71920573 -23.15211208   2.23755937   1.94880335\n",
      "  -0.          -4.6785975  -10.34010072  15.24324056]\n",
      "lasso.intercept_:-12.747735035958076\n",
      "No.of features used:70\n",
      "Traing set score: 0.91\n",
      "Test set score:0.91\n"
     ]
    },
    {
     "name": "stderr",
     "output_type": "stream",
     "text": [
      "C:\\ProgramData\\Anaconda3\\lib\\site-packages\\sklearn\\linear_model\\coordinate_descent.py:491: ConvergenceWarning: Objective did not converge. You might want to increase the number of iterations. Fitting data with very small alpha may cause precision problems.\n",
      "  ConvergenceWarning)\n"
     ]
    }
   ],
   "source": [
    "#lasso0001_regression.py \n",
    "# 训练Lasso回归模型,lasso00001,设置alpha=0.0001, max_iter=10000\n",
    "  \n",
    "X, y = mglearn.datasets.load_extended_boston()  \n",
    "  \n",
    "X_train, X_test, y_train, y_test = train_test_split(X, y, random_state=40)  \n",
    "# 训练模型\n",
    "# your code\n",
    "lasso0001 = Lasso(alpha=0.001,max_iter=10000).fit(X_train, y_train) \n",
    "  \n",
    "print(\"lasso.coef_:{}\".format(lasso0001.coef_))  \n",
    "print(\"lasso.intercept_:{}\".format(lasso0001.intercept_))  \n",
    "print(\"No.of features used:{}\".format(np.sum(lasso0001.coef_!=0)))  \n",
    "\n",
    "print(\"Traing set score: {:.2f}\".format(lasso0001.score(X_train,y_train)))  \n",
    "print(\"Test set score:{:.2f}\".format(lasso0001.score(X_test,y_test))) "
   ]
  },
  {
   "cell_type": "code",
   "execution_count": 72,
   "metadata": {},
   "outputs": [
    {
     "data": {
      "text/plain": [
       "<matplotlib.legend.Legend at 0x2ce94626198>"
      ]
     },
     "execution_count": 72,
     "metadata": {},
     "output_type": "execute_result"
    },
    {
     "data": {
      "image/png": "[encoded data removed]",
      "text/plain": [
       "<Figure size 432x288 with 1 Axes>"
      ]
     },
     "metadata": {},
     "output_type": "display_data"
    }
   ],
   "source": [
    "# 续: 作出不同模型的系数的图\n",
    "# 系数值与Lasso alpha的依赖关系\n",
    "plt.plot(lasso.coef_, \"s\", label=\"Lass alpha=1\")\n",
    "plt.plot(lasso001.coef_, \"^\", label=\"Lasso alpha=0.01\")\n",
    "plt.plot(lasso0001.coef_, \"v\", label=\"Lasso alpha=0.001\")\n",
    "\n",
    "plt.plot(ridge01.coef_, \"o\", label=\"Ridge alpha=0.1\") \n",
    "plt.xlabel(\"coeficient index\")\n",
    "plt.ylabel(\"Coefficient magnitude\")\n",
    "plt.ylim(-100, 100)\n",
    "plt.legend(ncol=2, loc=(0,1.05))"
   ]
  },
  {
   "cell_type": "markdown",
   "metadata": {},
   "source": [
    "对系数的特征作分析:\n",
    "    1. 对alpha=1, ()\n",
    "    \n",
    "    2. 减小alpha到0.01, ( )\n",
    "    \n",
    "    3. 减小alpha到0.0001, ( )\n",
    "    \n",
    "   \n",
    "    \n",
    "    4. 岭回归和Lasso回归的预测能力对比: ( )\n",
    "\n"
   ]
  },
  {
   "cell_type": "markdown",
   "metadata": {},
   "source": [
    "## 4. 线性分类模型"
   ]
  },
  {
   "cell_type": "markdown",
   "metadata": {},
   "source": [
    "线性模型也可用于分类问题. 预测值为如下公式：\n",
    "\n",
    "$$\\hat y = \\beta_0 + \\beta_1 x_1 + ... + \\beta_n x_n $$\n",
    "\n",
    "这公式与一般线性回归非常相似.\n",
    "\n",
    "唯一不同的是,我们添加了线性分类模型的阈值0. \n",
    "\n",
    "线性分类模型的规则如下：\n",
    " \n",
    "如果 $\\hat y < 0$, 预测其类为　-1;\n",
    "\n",
    "如果 $\\hat y > 0$, 预测其类为　1.\n"
   ]
  },
  {
   "cell_type": "markdown",
   "metadata": {},
   "source": [
    "对线性回归模型,输出是特征的线性函数:\n",
    "\n",
    "一条直线,一个平面,或者一个超平面(高维空间中).\n",
    "\n",
    "|特征数 | 预测值$\\hat y$作为特征x的函数|\n",
    "|--------|-------------- |\n",
    "|1   | 2维空间中的一条直线 |\n",
    "|2   | 3维空间中的一个平面 |\n",
    "|3   | 4维空间中的一个超平面 |\n",
    "|4   | 5维空间中的一个超平面\n",
    "|5   | ... |"
   ]
  },
  {
   "cell_type": "markdown",
   "metadata": {},
   "source": [
    "二元分类器就是用直线，平面或超平面将两类分开的分类器.\n",
    "\n",
    "这里的直线,平面,或超平面就是分类器的**决策边界**."
   ]
  },
  {
   "cell_type": "markdown",
   "metadata": {},
   "source": [
    "目前存在很多机器学习算法来构造线性分类器. \n",
    "\n",
    "它们的不同点只有如下两点:\n",
    "\n",
    "1. 判定斜率和截距拟合数据的好坏程度的方法. \n",
    "\n",
    "(数据拟合得很好的标准)\n",
    "\n",
    "2. 是否用正则化方法,用了什么正则化方法."
   ]
  },
  {
   "cell_type": "markdown",
   "metadata": {},
   "source": [
    "最常见的两种线性分类器算法是: \n",
    "\n",
    "逻辑回归(logistic regression)和\n",
    "\n",
    "支持向量机(linear support vector machines, linear SVMs).\n",
    "\n",
    "它们已经分别在\n",
    "    \n",
    "    linear_model.LogisticRegression\n",
    "    svm.LinearSVC\n",
    "\n",
    "中实现了. SVC代表support vector classifier(支持向量分类器)."
   ]
  },
  {
   "cell_type": "code",
   "execution_count": 73,
   "metadata": {},
   "outputs": [
    {
     "data": {
      "image/png": "[encoded data removed]",
      "text/plain": [
       "<Figure size 720x216 with 2 Axes>"
      ]
     },
     "metadata": {},
     "output_type": "display_data"
    }
   ],
   "source": [
    "from sklearn.linear_model import LogisticRegression  \n",
    "from sklearn.svm import LinearSVC  \n",
    "import mglearn\n",
    "\n",
    "X,y = mglearn.datasets.make_forge()  \n",
    "fig, axes = plt.subplots(1, 2, figsize=(10,3))  \n",
    "\n",
    "for model, ax in zip([LinearSVC(), LogisticRegression()],axes):  \n",
    "    clf = model.fit(X,y)  \n",
    "    mglearn.plots.plot_2d_separator(clf, X, fill=False, eps=0.5, ax=ax, alpha=.7)  \n",
    "    mglearn.discrete_scatter(X[:, 0], X[:,1], y, ax=ax)  \n",
    "    ax.set_title(\"{}\".format(clf.__class__.__name__))  \n",
    "    ax.set_xlabel(\"X0\")  \n",
    "    ax.set_ylabel(\"X1\")  \n",
    "axes[0].legend()  \n",
    "plt.show()  "
   ]
  },
  {
   "cell_type": "code",
   "execution_count": 74,
   "metadata": {
    "scrolled": true
   },
   "outputs": [
    {
     "data": {
      "image/png": "[encoded data removed]",
      "text/plain": [
       "<Figure size 432x288 with 1 Axes>"
      ]
     },
     "metadata": {},
     "output_type": "display_data"
    }
   ],
   "source": [
    "# 线性支持向量机分类器 \n",
    "  \n",
    "X,y = mglearn.datasets.make_forge()   \n",
    "clf = LinearSVC().fit(X,y)  \n",
    "\n",
    "mglearn.plots.plot_2d_separator(clf, X, fill=False, eps=0.5, alpha=.7)  \n",
    "mglearn.discrete_scatter(X[:, 0], X[:,1], y)  \n",
    "plt.title(\"{}\".format(\"LinearSVC\"))  \n",
    "plt.xlabel(\"X0\")  \n",
    "plt.ylabel(\"X1\")  \n",
    "plt.legend()  \n",
    "plt.show()"
   ]
  },
  {
   "cell_type": "code",
   "execution_count": 75,
   "metadata": {},
   "outputs": [
    {
     "data": {
      "image/png": "[encoded data removed]",
      "text/plain": [
       "<Figure size 432x288 with 1 Axes>"
      ]
     },
     "metadata": {},
     "output_type": "display_data"
    }
   ],
   "source": [
    "# 续:逻辑回归分类器  \n",
    "X,y = mglearn.datasets.make_forge()   \n",
    "clf = LogisticRegression().fit(X,y)  \n",
    "\n",
    "mglearn.plots.plot_2d_separator(clf, X, fill=False, eps=0.5, alpha=.7)  \n",
    "mglearn.discrete_scatter(X[:, 0], X[:,1], y)  \n",
    "plt.title(\"{}\".format(\"LogisticRegression\"))  \n",
    "plt.xlabel(\"X0\")  \n",
    "plt.ylabel(\"X1\")  \n",
    "plt.legend()  \n",
    "plt.show()"
   ]
  },
  {
   "cell_type": "markdown",
   "metadata": {},
   "source": [
    "分析: \n",
    "\n",
    "1. x轴是数据集的第一个特征,y轴是数据集的第二个特征\n",
    "\n",
    "2. 我们分别用线性支持向量机分类器和逻辑回归分类器计算出了决策边界. \n",
    "\n",
    "它是一条直线.\n",
    "\n",
    "3. 任何新数据如果落在上方,则归为1类; 如果落在下方,则归为0类.\n",
    "\n",
    "4. 这两种分类器算出的决策边界相似. 注意: 都有两个数据点分类有误!\n",
    "\n",
    "5. 两种分类算法都使用L2正则化方法."
   ]
  },
  {
   "cell_type": "markdown",
   "metadata": {},
   "source": [
    "在LogisticRegression和LinearSVC中,控制正则化的参数为C. \n",
    "\n",
    "C值越大,意味着更少的正则化."
   ]
  },
  {
   "cell_type": "code",
   "execution_count": 76,
   "metadata": {},
   "outputs": [
    {
     "data": {
      "image/png": "[encoded data removed]",
      "text/plain": [
       "<Figure size 432x288 with 1 Axes>"
      ]
     },
     "metadata": {},
     "output_type": "display_data"
    }
   ],
   "source": [
    "# 线性支持向量机分类器: C的取值,对决策边界的影响 \n",
    "X,y = mglearn.datasets.make_forge()   \n",
    "clf = LinearSVC(C=0.01).fit(X,y)  \n",
    "\n",
    "mglearn.plots.plot_2d_separator(clf, X, fill=False, eps=0.5, alpha=.7)  \n",
    "mglearn.discrete_scatter(X[:, 0], X[:,1], y)  \n",
    "plt.title(\"{}\".format(\"LinearSVC\"))  \n",
    "plt.xlabel(\"X0\")  \n",
    "plt.ylabel(\"X1\")  \n",
    "plt.legend()  \n",
    "plt.show()"
   ]
  },
  {
   "cell_type": "code",
   "execution_count": 77,
   "metadata": {},
   "outputs": [
    {
     "data": {
      "image/png": "[encoded data removed]",
      "text/plain": [
       "<Figure size 432x288 with 1 Axes>"
      ]
     },
     "metadata": {},
     "output_type": "display_data"
    }
   ],
   "source": [
    "# 线性支持向量机分类器: C=100,对决策边界的影响(2)   \n",
    "  \n",
    "X,y = mglearn.datasets.make_forge()   \n",
    "clf = LinearSVC(C=100).fit(X,y)  \n",
    "\n",
    "mglearn.plots.plot_2d_separator(clf, X, fill=False, eps=0.5, alpha=.7)  \n",
    "mglearn.discrete_scatter(X[:, 0], X[:,1], y)  \n",
    "plt.title(\"{}\".format(\"LinearSVC\"))  \n",
    "plt.xlabel(\"X0\")  \n",
    "plt.ylabel(\"X1\")  \n",
    "plt.legend()  \n",
    "plt.show()"
   ]
  },
  {
   "cell_type": "markdown",
   "metadata": {},
   "source": [
    "分析:\n",
    "    1. C越小,边界越( ) (对训练集的拟合优度可能小一些: 可能存在相对错误的分类. 用了正则化方法!是我们期待的结果)\n",
    "    2. C越大,边界越( ).(对训练集的拟合优度可能非常高:出现(过拟合, 欠拟合).\n",
    "\n",
    "与线性回归一样,对低维数据集来说, 线性分类器中的\"线性\"太苛刻了.当数据集的特征较多时,线性模型用来做分类器就非常强大!"
   ]
  },
  {
   "cell_type": "code",
   "execution_count": null,
   "metadata": {},
   "outputs": [],
   "source": [
    "# 训练逻辑回归模型lorreg: 以含有多个特征的数据集为例: 默认C=1\n",
    "from sklearn.datasets import  load_breast_cancer\n",
    "\n",
    "cancer = load_breast_cancer()\n",
    "X_train, X_test, y_train,y_test = train_test_split(\n",
    "    cancer.data, cancer.target, stratify=cancer.target,\n",
    "                 random_state=42 )\n",
    "# 训练模型\n",
    "# your code\n",
    "\n",
    "print(\"Traing set score: {:.3f}\".format(logreg.score(X_train,y_train)))  \n",
    "print(\"Test set score:{:.3f}\".format(logreg.score(X_test,y_test)))"
   ]
  },
  {
   "cell_type": "markdown",
   "metadata": {},
   "source": [
    "分析: \n",
    "1. 默认值C=1 给出了很好的预测结果. 对训练集和测试集都很高.\n",
    "2. 由于两者很接近,说明出现了:(欠拟合,过拟合)! 所以C 可以选(更大,更小)的值."
   ]
  },
  {
   "cell_type": "code",
   "execution_count": null,
   "metadata": {},
   "outputs": [],
   "source": [
    "# 训练逻辑回归模型lorreg100\n",
    "# 以含有多个特征的数据集为例: 选C=100.即更复杂的模型.\n",
    "\n",
    "cancer = load_breast_cancer()\n",
    "X_train, X_test, y_train,y_test = train_test_split(cancer.data, cancer.target, \n",
    "                                                   stratify=cancer.target,\n",
    "                 random_state=42 )\n",
    "# 训练模型\n",
    "#==Your code\n",
    "\n",
    "print(X_train.shape)\n",
    "print(\"Traing set score: {:.3f}\".format(logreg100.score(X_train,y_train)))  \n",
    "print(\"Test set score:{:.3f}\".format(logreg100.score(X_test,y_test)))"
   ]
  },
  {
   "cell_type": "markdown",
   "metadata": {},
   "source": [
    "分析:\n",
    "   1. C=100, 模型更复杂了.(正则化更少)\n",
    "   2. 训练集和测试集的拟合优度都有没有提高 分别为(),()!\n",
    "   \n",
    "正则化更多(C取值更小)时,模型会怎么样?"
   ]
  },
  {
   "cell_type": "code",
   "execution_count": null,
   "metadata": {},
   "outputs": [],
   "source": [
    "# 训练逻辑回归模型lorreg001\n",
    "# 以含有多个特征的数据集为例: 选C=0.01.即更多正则化的模型.\n",
    "cancer = load_breast_cancer()\n",
    "X_train, X_test, y_train,y_test = train_test_split(cancer.data, cancer.target, \n",
    "                                                   stratify=cancer.target,\n",
    "                 random_state=42 )\n",
    "\n",
    "# 训练模型\n",
    "#==Your code\n",
    "\n",
    "print(X_train.shape)\n",
    "print(\"Traing set score: {:.3f}\".format(logreg001.score(X_train,y_train)))  \n",
    "print(\"Test set score:{:.3f}\".format(logreg001.score(X_test,y_test)))"
   ]
  },
  {
   "cell_type": "markdown",
   "metadata": {},
   "source": [
    "分析:\n",
    "    1. C=0.01时,训练集和测试集的拟合优度(升高,降低)了!\n",
    "    2. 当C过小时,得到一个(过拟合, 欠拟合)的模型(underfit model or overfit model).\n"
   ]
  },
  {
   "cell_type": "markdown",
   "metadata": {},
   "source": [
    "下面考察C值的不同,对线性模型的系数值的影响."
   ]
  },
  {
   "cell_type": "code",
   "execution_count": null,
   "metadata": {},
   "outputs": [],
   "source": [
    "# 续: 作出不同模型的系数的图\n",
    "# 系数值与C的依赖关系\n",
    "plt.plot(logreg.coef_.T, \"s\", label=\"C=1\")\n",
    "plt.plot(logreg100.coef_.T, \"^\", label=\"C=100\")\n",
    "plt.plot(lasso001.coef_.T, \"v\", label=\"C=0.001\")\n",
    "print(logreg.coef_.shape)\n",
    "print(logreg.coef_.T.shape)\n",
    "print(cancer.data.shape)\n",
    "\n",
    "plt.xlabel(\"coeficient index\")\n",
    "plt.ylabel(\"Coefficient magnitude\")\n",
    "plt.ylim(-5, 5)\n",
    "plt.legend()"
   ]
  },
  {
   "cell_type": "markdown",
   "metadata": {},
   "source": [
    "分析:\n",
    "    \n",
    "    logreg.coef_: 二维数组, 里面只有一个元素,该元素为一个一维数组.\n",
    "    logreg.coef_.T: 形状为(30,1)的2维数组.\n",
    "    "
   ]
  },
  {
   "cell_type": "markdown",
   "metadata": {},
   "source": [
    "如果我们想要更简单的模型,可以选用L1正则化方法. 可设置penalty=\"l1\"."
   ]
  },
  {
   "cell_type": "code",
   "execution_count": null,
   "metadata": {},
   "outputs": [],
   "source": [
    "# 以含有多个特征的数据集为例: 选不同的C,附加参数penalty=\"l1\".\n",
    "\n",
    "cancer = load_breast_cancer()\n",
    "X_train, X_test, y_train,y_test = train_test_split(cancer.data, cancer.target, \n",
    "                                                   stratify=cancer.target,\n",
    "                 random_state=42 )\n",
    "lr_l1 = LogisticRegression(C=0.01,penalty=\"l1\").fit(X_train, y_train)\n",
    "print(X_train.shape)\n",
    "print(\"Traing set score: {:.3f}\".format(lr_l1.score(X_train,y_train)))  \n",
    "print(\"Test set score:{:.3f}\".format(lr_l1.score(X_test,y_test)))"
   ]
  },
  {
   "cell_type": "code",
   "execution_count": null,
   "metadata": {},
   "outputs": [],
   "source": [
    "# 以含有多个特征的数据集为例: 选不同的C,附加参数penalty=\"l1\".\n",
    "cancer = load_breast_cancer()\n",
    "X_train, X_test, y_train,y_test = train_test_split(cancer.data, cancer.target, \n",
    "                                                   stratify=cancer.target,\n",
    "                 random_state=42 )\n",
    "lr_l1 = LogisticRegression(C=1,penalty=\"l1\").fit(X_train, y_train)\n",
    "print(X_train.shape)\n",
    "print(\"Traing set score: {:.3f}\".format(lr_l1.score(X_train,y_train)))  \n",
    "print(\"Test set score:{:.3f}\".format(lr_l1.score(X_test,y_test)))"
   ]
  },
  {
   "cell_type": "code",
   "execution_count": null,
   "metadata": {},
   "outputs": [],
   "source": [
    "# 以含有多个特征的数据集为例: 选不同的C,附加参数penalty=\"l1\".\n",
    "from sklearn.datasets import  load_breast_cancer\n",
    "from sklearn.linear_model import LogisticRegression\n",
    "\n",
    "cancer = load_breast_cancer()\n",
    "X_train, X_test, y_train,y_test = train_test_split(cancer.data, cancer.target, \n",
    "                            stratify=cancer.target, random_state=42 )\n",
    "lr_l1 = LogisticRegression(C=100,penalty=\"l1\").fit(X_train, y_train)\n",
    "print(X_train.shape)\n",
    "print(\"Traing set score: {:.3f}\".format(lr_l1.score(X_train,y_train)))  \n",
    "print(\"Test set score:{:.3f}\".format(lr_l1.score(X_test,y_test)))"
   ]
  }
 ],
 "metadata": {
  "kernelspec": {
   "display_name": "Python 3",
   "language": "python",
   "name": "python3"
  },
  "language_info": {
   "codemirror_mode": {
    "name": "ipython",
    "version": 3
   },
   "file_extension": ".py",
   "mimetype": "text/x-python",
   "name": "python",
   "nbconvert_exporter": "python",
   "pygments_lexer": "ipython3",
   "version": "3.6.5"
  },
  "widgets": {
   "state": {},
   "version": "1.1.2"
  }
 },
 "nbformat": 4,
 "nbformat_minor": 2
}
