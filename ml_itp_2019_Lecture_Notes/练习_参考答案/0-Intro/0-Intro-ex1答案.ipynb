{
 "cells": [
  {
   "cell_type": "markdown",
   "metadata": {},
   "source": [
    "# 项目1： 统计字母频率\n",
    "给定一个字符串，统计其字母出现的频率."
   ]
  },
  {
   "cell_type": "code",
   "execution_count": 1,
   "metadata": {},
   "outputs": [
    {
     "name": "stdout",
     "output_type": "stream",
     "text": [
      "abcdefghijklmnopqrstuvwxyzABCDEFGHIJKLMNOPQRSTUVWXYZ\n"
     ]
    }
   ],
   "source": [
    "# Tip:\n",
    "# - 导入string库\n",
    "# - 创建一个变量，命名为alphabet\n",
    "# - 使用string的数据属性ascii_letters获取大小写英文字符，存在alphabet中\n",
    "\n",
    "# ==Your code==\n",
    "import string\n",
    "alphabet = string.ascii_letters\n",
    "print(alphabet)"
   ]
  },
  {
   "cell_type": "code",
   "execution_count": 2,
   "metadata": {},
   "outputs": [
    {
     "name": "stdout",
     "output_type": "stream",
     "text": [
      "{'H': 1, 'y': 1, 'f': 1, 'u': 2, 'p': 1, 'i': 2, 't': 6, 'k': 1, 'm': 2, ',': 2, 'r': 6, 'M': 1, 'n': 4, 'e': 11, 'b': 1, 'w': 1, 'o': 4, 'c': 2, 'A': 1, 'a': 7, 'd': 3, 'h': 3, 'F': 1, '.': 1, 'l': 3}\n"
     ]
    }
   ],
   "source": [
    "sentence = 'Heal the world, Make it a better place.For you and for me, And the entire human race'\n",
    "count_letters = {}\n",
    "\n",
    "# Tip:\n",
    "# - count_letters 字典应该包含 sentence中所有大小写字母出现的次数\n",
    "\n",
    "\n",
    "for letter in sentence:\n",
    "    if letter != ' ':\n",
    "        count_letters[letter] = 0\n",
    "\n",
    "for letter in sentence:\n",
    "    if letter != ' ':\n",
    "        count_letters[letter] += 1\n",
    "\n",
    "print(count_letters)"
   ]
  },
  {
   "cell_type": "code",
   "execution_count": 3,
   "metadata": {},
   "outputs": [
    {
     "data": {
      "text/plain": [
       "{'A': 1,\n",
       " 'F': 1,\n",
       " 'H': 1,\n",
       " 'M': 1,\n",
       " 'a': 7,\n",
       " 'b': 1,\n",
       " 'c': 2,\n",
       " 'd': 3,\n",
       " 'e': 11,\n",
       " 'f': 1,\n",
       " 'h': 3,\n",
       " 'i': 2,\n",
       " 'k': 1,\n",
       " 'l': 3,\n",
       " 'm': 2,\n",
       " 'n': 4,\n",
       " 'o': 4,\n",
       " 'p': 1,\n",
       " 'r': 6,\n",
       " 't': 6,\n",
       " 'u': 2,\n",
       " 'w': 1,\n",
       " 'y': 1}"
      ]
     },
     "execution_count": 3,
     "metadata": {},
     "output_type": "execute_result"
    }
   ],
   "source": [
    "# Tip:\n",
    "# 将上述功能写成函数，记为counter\n",
    "\n",
    "def counter(input_string):\n",
    "    count_letters = {}\n",
    "    for letter in input_string:\n",
    "        if letter in alphabet:\n",
    "            count_letters[letter] = 0\n",
    "    for letter in input_string:\n",
    "        if letter in alphabet:\n",
    "            count_letters[letter] += 1\n",
    "    return count_letters\n",
    "\n",
    "counter(sentence)"
   ]
  },
  {
   "cell_type": "code",
   "execution_count": 4,
   "metadata": {},
   "outputs": [],
   "source": [
    "address = \"  Four score and seven years ago our fathers brought forth  \\\\\\nNow we are engaged in a great civil war  testing whether that nation  or any nation so conceived                                   and so dedicated         \\n\\n                                                                                                                                upon this continent  \\\\\\nNow we are engaged in a great civil war  testing whether that nation  or any nation so conceived   can long endure. We are met on a great battle...   \\n\\n                                                                                                                                       a new nation  \\\\\\nNow we are engaged in a great civil war  testing whether that nation  or any nation so conceived   as a final resting place for those who died here   \\n\\n                                                                                                                      conceived in liberty  \\\\\\nNow we are engaged in a great civil war  testing whether that nation  or any nation so conceived   that the nation might live. This we may   \\n\\n                                                                                                  and dedicated to the proposition that all men are created equal.  \\nNow we are engaged in a great civil war  testing whether that nation  or any nation so conceived                               in all propriety do.\""
   ]
  },
  {
   "cell_type": "code",
   "execution_count": 5,
   "metadata": {},
   "outputs": [
    {
     "name": "stdout",
     "output_type": "stream",
     "text": [
      "{'u': 6, 'p': 6, 'i': 54, 'f': 4, 't': 68, 'W': 1, 'm': 4, 'N': 5, 's': 21, 'v': 13, 'r': 44, 'y': 9, 'e': 87, 'n': 69, 'b': 3, 'w': 23, 'T': 1, 'o': 53, 'c': 24, 'q': 1, 'a': 73, 'g': 26, 'd': 25, 'h': 28, 'F': 1, 'l': 16}\n"
     ]
    }
   ],
   "source": [
    "# Tip:\n",
    "# 使用counter函数统计上述字符串的字母频率\n",
    "\n",
    "address_count = counter(address)\n",
    "print(address_count)"
   ]
  },
  {
   "cell_type": "code",
   "execution_count": 6,
   "metadata": {},
   "outputs": [
    {
     "name": "stdout",
     "output_type": "stream",
     "text": [
      "e\n"
     ]
    }
   ],
   "source": [
    "# Tip:\n",
    "# 求address中出现频率最高的字母\n",
    "\n",
    "most_frequent_letter = ''\n",
    "Max = 0\n",
    "for letter in address_count:\n",
    "    if address_count[letter] > Max:\n",
    "        Max = address_count[letter]\n",
    "        most_frequent_letter = letter\n",
    "print(most_frequent_letter)"
   ]
  },
  {
   "cell_type": "code",
   "execution_count": 7,
   "metadata": {},
   "outputs": [
    {
     "data": {
      "text/plain": [
       "[('e', 87), ('a', 73), ('n', 69)]"
      ]
     },
     "execution_count": 7,
     "metadata": {},
     "output_type": "execute_result"
    }
   ],
   "source": [
    "li_result= sorted(address_count.items(), key=lambda x:x[1], reverse=True)\n",
    "# x表示dict.items()中的一个元素，x[0]表示按键排序，x[1]则表示按值排序\n",
    "# 比较值或者键,由key决定\n",
    "li_result[:3]"
   ]
  },
  {
   "cell_type": "markdown",
   "metadata": {},
   "source": [
    "# 项目 2： 蒙特卡罗方法计算$\\pi$\n",
    "已知：\n",
    "$$\\frac{正方形的内切圆的面积}{正方形的面积} = \\frac{\\pi}{4}$$\n",
    "用近似的方法求$\\pi$."
   ]
  },
  {
   "cell_type": "code",
   "execution_count": 8,
   "metadata": {},
   "outputs": [
    {
     "name": "stdout",
     "output_type": "stream",
     "text": [
      "0.7853981633974483\n"
     ]
    }
   ],
   "source": [
    "# Tip:\n",
    "# 使用math库，计算pi/4,并打印输出\n",
    "\n",
    "import math\n",
    "pi = math.pi\n",
    "print(pi/4)\n"
   ]
  },
  {
   "cell_type": "code",
   "execution_count": 9,
   "metadata": {},
   "outputs": [
    {
     "data": {
      "text/plain": [
       "0.142805189379827"
      ]
     },
     "execution_count": 9,
     "metadata": {},
     "output_type": "execute_result"
    }
   ],
   "source": [
    "# Tip:\n",
    "# 使用random.uniform()定义一个函数rand, 产生一个0到1之间的float型的数\n",
    "\n",
    "import random\n",
    "random.seed(10) # 用于检查结果\n",
    "def rand():\n",
    "    # define `rand` here!\n",
    "    res = random.uniform(-1,1)\n",
    "    return res\n",
    "    \n",
    "rand()"
   ]
  },
  {
   "cell_type": "code",
   "execution_count": 10,
   "metadata": {},
   "outputs": [
    {
     "name": "stdout",
     "output_type": "stream",
     "text": [
      "1.4142135623730951\n"
     ]
    }
   ],
   "source": [
    "import math\n",
    "\n",
    "# Tip\n",
    "# - 编写一个函数distance，计算两个点x和y之间的距离\n",
    "# - 使用你的函数计算点x=(0,0)，y=(1,1)之间的距离\n",
    "# - 开方 math.sqrt\n",
    "\n",
    "def distance(x, y):\n",
    "    res = math.sqrt((x[0] - y[0])**2 + (x[1] - y[1])**2)\n",
    "    return res\n",
    "   \n",
    "print(distance((0,0),(1,1)))"
   ]
  },
  {
   "cell_type": "code",
   "execution_count": 11,
   "metadata": {},
   "outputs": [
    {
     "name": "stdout",
     "output_type": "stream",
     "text": [
      "False\n"
     ]
    }
   ],
   "source": [
    "import random, math\n",
    "random.seed(1)\n",
    "# Tip: \n",
    "# - 编写函数判断点x是否在单位圆内\n",
    "# - 调用函数in_circle判断点(0,0)是否在以(0,0)为原点的单位圆内\n",
    "\n",
    "def in_circle(x, origin = [0]*2):\n",
    "   # Define your function here!\n",
    "    if distance(x, origin) < 1:\n",
    "        return True\n",
    "    else:\n",
    "        return False\n",
    "\n",
    "print(in_circle((1,1),(0,0)))\n",
    "   "
   ]
  },
  {
   "cell_type": "code",
   "execution_count": 12,
   "metadata": {},
   "outputs": [
    {
     "name": "stdout",
     "output_type": "stream",
     "text": [
      "0.78486\n",
      "3.13944\n"
     ]
    }
   ],
   "source": [
    "R = 100000\n",
    "\n",
    "# Tip:\n",
    "# - 统计有多少个点落在单位圆内\n",
    "# - 计算 落在单位圆内点数 的比例 \n",
    "# -  计算pi.\n",
    "\n",
    "inside = []\n",
    "for i in range(R):\n",
    "    point = [rand(), rand()]\n",
    "    # append inside here!\n",
    "    inside.append(in_circle(point))\n",
    "\n",
    "print(sum(inside) / R)\n",
    "print(4 * sum(inside) / R)"
   ]
  },
  {
   "cell_type": "code",
   "execution_count": 13,
   "metadata": {},
   "outputs": [
    {
     "name": "stdout",
     "output_type": "stream",
     "text": [
      "-0.0005381633974482769\n"
     ]
    }
   ],
   "source": [
    "# 计算误差\n",
    "\n",
    "print(sum(inside) / R - math.pi/4 )"
   ]
  },
  {
   "cell_type": "markdown",
   "metadata": {},
   "source": [
    "# 项目3： 滑动平均\n",
    "一串数据可能包含很多毛刺（由噪声引起），我们可以对其进行数据处理使之更加光滑.一种让数据数据更光滑的操作便是滑动平均。"
   ]
  },
  {
   "cell_type": "code",
   "execution_count": 14,
   "metadata": {},
   "outputs": [
    {
     "name": "stdout",
     "output_type": "stream",
     "text": [
      "[3.3333333333333335, 5.0, 6.0, 3.0, 3.0, 3.6666666666666665]\n"
     ]
    }
   ],
   "source": [
    "import random\n",
    "\n",
    "random.seed(1)\n",
    "\n",
    "def moving_window_average(x, n_neighbors=1):\n",
    "    n = len(x)\n",
    "    width = n_neighbors*2 + 1\n",
    "    x = [x[0]]*n_neighbors + x + [x[-1]]*n_neighbors\n",
    "    # 为完成该函数:\n",
    "    # 返回一个列表, 该列表的元素为从x[i]到 x[i+width]的平均值, i的取值为从0到n-1.\n",
    "    li = []\n",
    "    for i in range(n):\n",
    "        mean = 0\n",
    "        for j in range(width):\n",
    "            mean += x[i+j]\n",
    "        mean = mean/width\n",
    "        li.append(mean)\n",
    "    return li    \n",
    "        \n",
    "x=[0,10,5,3,1,5]\n",
    "print(moving_window_average(x, 1))"
   ]
  },
  {
   "cell_type": "code",
   "execution_count": 15,
   "metadata": {},
   "outputs": [],
   "source": [
    "import random\n",
    "\n",
    "random.seed(1) # This line fixes the value called by your function,\n",
    "               # and is used for answer-checking.\n",
    "    \n",
    "\n",
    "x = [random.random() for i in range(1000)]\n",
    "Y = [x]\n",
    "# 研究处理后的数据的光滑程度与窗口大小的关系\n",
    "# 第一步: 将选择不同窗口大小时所得的数据添加到Y中\n",
    "for i in range(1,10):\n",
    "    # write your code here!\n",
    "    Y.append(moving_window_average(x,i))\n"
   ]
  },
  {
   "cell_type": "code",
   "execution_count": 16,
   "metadata": {},
   "outputs": [
    {
     "name": "stdout",
     "output_type": "stream",
     "text": [
      "[0.9973152343362711, 0.9128390185520854, 0.801645771909397, 0.7137391224212468, 0.6230146948375028, 0.5042284086774562, 0.5071013753101629, 0.4590090496908159, 0.44659549539083265, 0.4433696944090051]\n"
     ]
    }
   ],
   "source": [
    "# 第二步: 对处理后的数据,分别计算其最大值与最小值之差,保存到列表ranges中\n",
    "# ==your code==\n",
    "ranges = []\n",
    "for li in Y:\n",
    "    ranges.append((max(li))-min(li))\n",
    "print(ranges)\n"
   ]
  },
  {
   "cell_type": "code",
   "execution_count": 19,
   "metadata": {},
   "outputs": [
    {
     "data": {
      "image/png": "[encoded data removed]",
      "text/plain": [
       "<Figure size 432x288 with 1 Axes>"
      ]
     },
     "metadata": {},
     "output_type": "display_data"
    }
   ],
   "source": [
    "import matplotlib.pyplot as plt\n",
    "plt.plot(ranges, 'or-')\n",
    "plt.xlabel(\"$n_{neighbors}$\")\n",
    "plt.ylabel(\"max-min\")\n",
    "plt.show()"
   ]
  },
  {
   "cell_type": "code",
   "execution_count": null,
   "metadata": {},
   "outputs": [],
   "source": []
  }
 ],
 "metadata": {
  "kernelspec": {
   "display_name": "Python 3",
   "language": "python",
   "name": "python3"
  },
  "language_info": {
   "codemirror_mode": {
    "name": "ipython",
    "version": 3
   },
   "file_extension": ".py",
   "mimetype": "text/x-python",
   "name": "python",
   "nbconvert_exporter": "python",
   "pygments_lexer": "ipython3",
   "version": "3.5.5"
  },
  "widgets": {
   "state": {},
   "version": "1.1.2"
  }
 },
 "nbformat": 4,
 "nbformat_minor": 2
}
