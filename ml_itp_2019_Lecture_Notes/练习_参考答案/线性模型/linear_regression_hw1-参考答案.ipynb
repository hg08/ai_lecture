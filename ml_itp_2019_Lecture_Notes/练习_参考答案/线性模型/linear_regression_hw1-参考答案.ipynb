{
 "cells": [
  {
   "cell_type": "code",
   "execution_count": 27,
   "metadata": {},
   "outputs": [],
   "source": [
    "import pandas as pd\n",
    "import numpy as np\n",
    "\n",
    "from sklearn.model_selection import cross_val_predict\n",
    "from sklearn.model_selection import cross_val_score\n",
    "from sklearn.linear_model import LinearRegression\n",
    "from sklearn.linear_model import LogisticRegression\n",
    "from sklearn.ensemble import RandomForestRegressor\n",
    "from sklearn.ensemble import RandomForestClassifier\n",
    "\n",
    "from sklearn.metrics import accuracy_score\n",
    "from sklearn.metrics import r2_score\n",
    "\n",
    "import matplotlib.pyplot as plt"
   ]
  },
  {
   "cell_type": "code",
   "execution_count": 28,
   "metadata": {},
   "outputs": [
    {
     "data": {
      "text/html": [
       "<div>\n",
       "<style scoped>\n",
       "    .dataframe tbody tr th:only-of-type {\n",
       "        vertical-align: middle;\n",
       "    }\n",
       "\n",
       "    .dataframe tbody tr th {\n",
       "        vertical-align: top;\n",
       "    }\n",
       "\n",
       "    .dataframe thead th {\n",
       "        text-align: right;\n",
       "    }\n",
       "</style>\n",
       "<table border=\"1\" class=\"dataframe\">\n",
       "  <thead>\n",
       "    <tr style=\"text-align: right;\">\n",
       "      <th></th>\n",
       "      <th>budget</th>\n",
       "      <th>genres</th>\n",
       "      <th>homepage</th>\n",
       "      <th>id</th>\n",
       "      <th>keywords</th>\n",
       "      <th>original_language</th>\n",
       "      <th>original_title</th>\n",
       "      <th>overview</th>\n",
       "      <th>popularity</th>\n",
       "      <th>production_companies</th>\n",
       "      <th>...</th>\n",
       "      <th>revenue</th>\n",
       "      <th>runtime</th>\n",
       "      <th>spoken_languages</th>\n",
       "      <th>status</th>\n",
       "      <th>tagline</th>\n",
       "      <th>title</th>\n",
       "      <th>vote_average</th>\n",
       "      <th>vote_count</th>\n",
       "      <th>movie_id</th>\n",
       "      <th>cast</th>\n",
       "    </tr>\n",
       "  </thead>\n",
       "  <tbody>\n",
       "    <tr>\n",
       "      <th>0</th>\n",
       "      <td>237000000</td>\n",
       "      <td>Action, Adventure, Fantasy, Science Fiction</td>\n",
       "      <td>http://www.avatarmovie.com/</td>\n",
       "      <td>19995</td>\n",
       "      <td>culture clash, future, space war, space colony...</td>\n",
       "      <td>en</td>\n",
       "      <td>Avatar</td>\n",
       "      <td>In the 22nd century, a paraplegic Marine is di...</td>\n",
       "      <td>150.437577</td>\n",
       "      <td>Ingenious Film Partners, Twentieth Century Fox...</td>\n",
       "      <td>...</td>\n",
       "      <td>2787965087</td>\n",
       "      <td>162.0</td>\n",
       "      <td>English, Español</td>\n",
       "      <td>Released</td>\n",
       "      <td>Enter the World of Pandora.</td>\n",
       "      <td>Avatar</td>\n",
       "      <td>7.2</td>\n",
       "      <td>11800</td>\n",
       "      <td>19995</td>\n",
       "      <td>Sam Worthington, Zoe Saldana, Sigourney Weaver...</td>\n",
       "    </tr>\n",
       "    <tr>\n",
       "      <th>1</th>\n",
       "      <td>300000000</td>\n",
       "      <td>Adventure, Fantasy, Action</td>\n",
       "      <td>http://disney.go.com/disneypictures/pirates/</td>\n",
       "      <td>285</td>\n",
       "      <td>ocean, drug abuse, exotic island, east india t...</td>\n",
       "      <td>en</td>\n",
       "      <td>Pirates of the Caribbean: At World's End</td>\n",
       "      <td>Captain Barbossa, long believed to be dead, ha...</td>\n",
       "      <td>139.082615</td>\n",
       "      <td>Walt Disney Pictures, Jerry Bruckheimer Films,...</td>\n",
       "      <td>...</td>\n",
       "      <td>961000000</td>\n",
       "      <td>169.0</td>\n",
       "      <td>English</td>\n",
       "      <td>Released</td>\n",
       "      <td>At the end of the world, the adventure begins.</td>\n",
       "      <td>Pirates of the Caribbean: At World's End</td>\n",
       "      <td>6.9</td>\n",
       "      <td>4500</td>\n",
       "      <td>285</td>\n",
       "      <td>Johnny Depp, Orlando Bloom, Keira Knightley, S...</td>\n",
       "    </tr>\n",
       "  </tbody>\n",
       "</table>\n",
       "<p>2 rows × 22 columns</p>\n",
       "</div>"
      ],
      "text/plain": [
       "      budget                                       genres  \\\n",
       "0  237000000  Action, Adventure, Fantasy, Science Fiction   \n",
       "1  300000000                   Adventure, Fantasy, Action   \n",
       "\n",
       "                                       homepage     id  \\\n",
       "0                   http://www.avatarmovie.com/  19995   \n",
       "1  http://disney.go.com/disneypictures/pirates/    285   \n",
       "\n",
       "                                            keywords original_language  \\\n",
       "0  culture clash, future, space war, space colony...                en   \n",
       "1  ocean, drug abuse, exotic island, east india t...                en   \n",
       "\n",
       "                             original_title  \\\n",
       "0                                    Avatar   \n",
       "1  Pirates of the Caribbean: At World's End   \n",
       "\n",
       "                                            overview  popularity  \\\n",
       "0  In the 22nd century, a paraplegic Marine is di...  150.437577   \n",
       "1  Captain Barbossa, long believed to be dead, ha...  139.082615   \n",
       "\n",
       "                                production_companies  \\\n",
       "0  Ingenious Film Partners, Twentieth Century Fox...   \n",
       "1  Walt Disney Pictures, Jerry Bruckheimer Films,...   \n",
       "\n",
       "                         ...                             revenue runtime  \\\n",
       "0                        ...                          2787965087   162.0   \n",
       "1                        ...                           961000000   169.0   \n",
       "\n",
       "   spoken_languages    status                                         tagline  \\\n",
       "0  English, Español  Released                     Enter the World of Pandora.   \n",
       "1           English  Released  At the end of the world, the adventure begins.   \n",
       "\n",
       "                                      title vote_average vote_count  movie_id  \\\n",
       "0                                    Avatar          7.2      11800     19995   \n",
       "1  Pirates of the Caribbean: At World's End          6.9       4500       285   \n",
       "\n",
       "                                                cast  \n",
       "0  Sam Worthington, Zoe Saldana, Sigourney Weaver...  \n",
       "1  Johnny Depp, Orlando Bloom, Keira Knightley, S...  \n",
       "\n",
       "[2 rows x 22 columns]"
      ]
     },
     "execution_count": 28,
     "metadata": {},
     "output_type": "execute_result"
    }
   ],
   "source": [
    "# 读文件到df,显示出前10行\n",
    "#== Your code\n",
    "df = pd.read_csv('merged_movie_data.csv')\n",
    "df.head(2)"
   ]
  },
  {
   "cell_type": "code",
   "execution_count": 29,
   "metadata": {},
   "outputs": [
    {
     "data": {
      "text/plain": [
       "Index(['budget', 'genres', 'homepage', 'id', 'keywords', 'original_language',\n",
       "       'original_title', 'overview', 'popularity', 'production_companies',\n",
       "       'production_countries', 'release_date', 'revenue', 'runtime',\n",
       "       'spoken_languages', 'status', 'tagline', 'title', 'vote_average',\n",
       "       'vote_count', 'movie_id', 'cast'],\n",
       "      dtype='object')"
      ]
     },
     "execution_count": 29,
     "metadata": {},
     "output_type": "execute_result"
    }
   ],
   "source": [
    "# 打印出所有的列名\n",
    "df.columns"
   ]
  },
  {
   "cell_type": "markdown",
   "metadata": {},
   "source": [
    "2.Now we will define the regression and classification outcomes. Specifically, we will use the revenue column as the target for regression. For classification, we will construct an indicator of profitability for each movie.\n",
    "\n",
    "(1)Create a new column in df called profitable, \n",
    "defined as 1 if the movie revenue is greater than the movie budget, and 0 otherwise.\n",
    "\n",
    "Next, define and store the outcomes we will use for regression and classification.\n",
    "\n",
    "(2)Define regression_target as 'revenue'.\n",
    "Define classification_target as 'profitable'.\n",
    "\n",
    "(1)在df中创建一个名为\"profitable\"的新列, 对于movie revenue大于movie budget的数据,profitable的值设置为1,其余的数据profitable设置为0.\n",
    "\n",
    "(2)定义并保存如下结果,以便我们用来做回归和分类.\n",
    "定义 regression_target 为 'revenue'.\n",
    "定义classification_target 为 'profitable'.\n"
   ]
  },
  {
   "cell_type": "code",
   "execution_count": 30,
   "metadata": {},
   "outputs": [
    {
     "data": {
      "text/plain": [
       "Index(['budget', 'genres', 'homepage', 'id', 'keywords', 'original_language',\n",
       "       'original_title', 'overview', 'popularity', 'production_companies',\n",
       "       'production_countries', 'release_date', 'revenue', 'runtime',\n",
       "       'spoken_languages', 'status', 'tagline', 'title', 'vote_average',\n",
       "       'vote_count', 'movie_id', 'cast', 'profitable'],\n",
       "      dtype='object')"
      ]
     },
     "execution_count": 30,
     "metadata": {},
     "output_type": "execute_result"
    }
   ],
   "source": [
    "# Your code\n",
    "df['profitable'] = df.revenue > df.budget # True\n",
    "df['profitable'] = df['profitable'].astype(int) # True --> 1\n",
    "\n",
    "regression_target = 'revenue'\n",
    "classification_target = 'profitable'\n",
    "\n",
    "# For checking\n",
    "df.columns\n"
   ]
  },
  {
   "cell_type": "markdown",
   "metadata": {},
   "source": [
    "For simplicity, we will proceed by analyzing only the rows without any missing data. \n",
    "\n",
    "In this exercise, we will remove rows with any infinite or missing values.\n",
    "\n",
    "为例简化问题,我们只分析没有缺失值的行. 请除去那些含有无穷或缺失值的行."
   ]
  },
  {
   "cell_type": "code",
   "execution_count": 31,
   "metadata": {},
   "outputs": [
    {
     "data": {
      "text/html": [
       "<div>\n",
       "<style scoped>\n",
       "    .dataframe tbody tr th:only-of-type {\n",
       "        vertical-align: middle;\n",
       "    }\n",
       "\n",
       "    .dataframe tbody tr th {\n",
       "        vertical-align: top;\n",
       "    }\n",
       "\n",
       "    .dataframe thead th {\n",
       "        text-align: right;\n",
       "    }\n",
       "</style>\n",
       "<table border=\"1\" class=\"dataframe\">\n",
       "  <thead>\n",
       "    <tr style=\"text-align: right;\">\n",
       "      <th></th>\n",
       "      <th>budget</th>\n",
       "      <th>genres</th>\n",
       "      <th>homepage</th>\n",
       "      <th>id</th>\n",
       "      <th>keywords</th>\n",
       "      <th>original_language</th>\n",
       "      <th>original_title</th>\n",
       "      <th>overview</th>\n",
       "      <th>popularity</th>\n",
       "      <th>production_companies</th>\n",
       "      <th>...</th>\n",
       "      <th>runtime</th>\n",
       "      <th>spoken_languages</th>\n",
       "      <th>status</th>\n",
       "      <th>tagline</th>\n",
       "      <th>title</th>\n",
       "      <th>vote_average</th>\n",
       "      <th>vote_count</th>\n",
       "      <th>movie_id</th>\n",
       "      <th>cast</th>\n",
       "      <th>profitable</th>\n",
       "    </tr>\n",
       "  </thead>\n",
       "  <tbody>\n",
       "    <tr>\n",
       "      <th>0</th>\n",
       "      <td>237000000</td>\n",
       "      <td>Action, Adventure, Fantasy, Science Fiction</td>\n",
       "      <td>http://www.avatarmovie.com/</td>\n",
       "      <td>19995</td>\n",
       "      <td>culture clash, future, space war, space colony...</td>\n",
       "      <td>en</td>\n",
       "      <td>Avatar</td>\n",
       "      <td>In the 22nd century, a paraplegic Marine is di...</td>\n",
       "      <td>150.437577</td>\n",
       "      <td>Ingenious Film Partners, Twentieth Century Fox...</td>\n",
       "      <td>...</td>\n",
       "      <td>162.0</td>\n",
       "      <td>English, Español</td>\n",
       "      <td>Released</td>\n",
       "      <td>Enter the World of Pandora.</td>\n",
       "      <td>Avatar</td>\n",
       "      <td>7.2</td>\n",
       "      <td>11800</td>\n",
       "      <td>19995</td>\n",
       "      <td>Sam Worthington, Zoe Saldana, Sigourney Weaver...</td>\n",
       "      <td>1</td>\n",
       "    </tr>\n",
       "  </tbody>\n",
       "</table>\n",
       "<p>1 rows × 23 columns</p>\n",
       "</div>"
      ],
      "text/plain": [
       "      budget                                       genres  \\\n",
       "0  237000000  Action, Adventure, Fantasy, Science Fiction   \n",
       "\n",
       "                      homepage     id  \\\n",
       "0  http://www.avatarmovie.com/  19995   \n",
       "\n",
       "                                            keywords original_language  \\\n",
       "0  culture clash, future, space war, space colony...                en   \n",
       "\n",
       "  original_title                                           overview  \\\n",
       "0         Avatar  In the 22nd century, a paraplegic Marine is di...   \n",
       "\n",
       "   popularity                               production_companies     ...      \\\n",
       "0  150.437577  Ingenious Film Partners, Twentieth Century Fox...     ...       \n",
       "\n",
       "  runtime  spoken_languages    status                      tagline   title  \\\n",
       "0   162.0  English, Español  Released  Enter the World of Pandora.  Avatar   \n",
       "\n",
       "  vote_average vote_count movie_id  \\\n",
       "0          7.2      11800    19995   \n",
       "\n",
       "                                                cast  profitable  \n",
       "0  Sam Worthington, Zoe Saldana, Sigourney Weaver...           1  \n",
       "\n",
       "[1 rows x 23 columns]"
      ]
     },
     "execution_count": 31,
     "metadata": {},
     "output_type": "execute_result"
    }
   ],
   "source": [
    "# 可能用到的方法: df.replace()\n",
    "# your code: \n",
    "df = df.replace([np.inf, -np.inf], np.nan)\n",
    "df = df.dropna(how=\"any\")\n",
    "\n",
    "# For checking\n",
    "df.head(1)"
   ]
  },
  {
   "cell_type": "markdown",
   "metadata": {},
   "source": [
    "Many of the variables in our dataframe contain the names of genre, actors/actresses, and keywords. \n",
    "\n",
    "Let's add indicator columns for each genre.\n",
    "\n",
    "Determine all the genres in the genre column. Make sure to use the strip() function on each genre to remove trailing characters.\n",
    "\n",
    "Next, include each listed genre as a new column in the dataframe. \n",
    "Each element of these genre columns should be 1 if the movie belongs to that particular genre, and 0 otherwise.\n",
    "(Keep in mind, a movie may belong to several genres at once.)\n",
    "Call df[genres].head() to view your results.\n",
    "\n",
    "我们的df中,许多变量包含genre(体裁)actors/actresses,和 keywords.让我们对没一种体裁增加指标列. 请确定genre列所有的体裁(genres). 保证运用strip()函数到每一个genre,以去除其后面的字符.\n",
    "\n",
    "然后,把列出的每种体裁作为这个df的一个新的列. \n",
    "如果一部电影属于某个体裁,那么这一列的值就为1, 否则为0.\n",
    "注意: 一部电影可以同时属于几个不同的体裁.\n",
    "调用df[genres].head()查看结果."
   ]
  },
  {
   "cell_type": "code",
   "execution_count": 32,
   "metadata": {},
   "outputs": [
    {
     "data": {
      "text/html": [
       "<div>\n",
       "<style scoped>\n",
       "    .dataframe tbody tr th:only-of-type {\n",
       "        vertical-align: middle;\n",
       "    }\n",
       "\n",
       "    .dataframe tbody tr th {\n",
       "        vertical-align: top;\n",
       "    }\n",
       "\n",
       "    .dataframe thead th {\n",
       "        text-align: right;\n",
       "    }\n",
       "</style>\n",
       "<table border=\"1\" class=\"dataframe\">\n",
       "  <thead>\n",
       "    <tr style=\"text-align: right;\">\n",
       "      <th></th>\n",
       "      <th>budget</th>\n",
       "      <th>genres</th>\n",
       "      <th>homepage</th>\n",
       "      <th>id</th>\n",
       "      <th>keywords</th>\n",
       "      <th>original_language</th>\n",
       "      <th>original_title</th>\n",
       "      <th>overview</th>\n",
       "      <th>popularity</th>\n",
       "      <th>production_companies</th>\n",
       "      <th>...</th>\n",
       "      <th>Comedy</th>\n",
       "      <th>Romance</th>\n",
       "      <th>Horror</th>\n",
       "      <th>Mystery</th>\n",
       "      <th>War</th>\n",
       "      <th>History</th>\n",
       "      <th>Music</th>\n",
       "      <th>Documentary</th>\n",
       "      <th>TV Movie</th>\n",
       "      <th>Foreign</th>\n",
       "    </tr>\n",
       "  </thead>\n",
       "  <tbody>\n",
       "    <tr>\n",
       "      <th>0</th>\n",
       "      <td>237000000</td>\n",
       "      <td>Action, Adventure, Fantasy, Science Fiction</td>\n",
       "      <td>http://www.avatarmovie.com/</td>\n",
       "      <td>19995</td>\n",
       "      <td>culture clash, future, space war, space colony...</td>\n",
       "      <td>en</td>\n",
       "      <td>Avatar</td>\n",
       "      <td>In the 22nd century, a paraplegic Marine is di...</td>\n",
       "      <td>150.437577</td>\n",
       "      <td>Ingenious Film Partners, Twentieth Century Fox...</td>\n",
       "      <td>...</td>\n",
       "      <td>0</td>\n",
       "      <td>0</td>\n",
       "      <td>0</td>\n",
       "      <td>0</td>\n",
       "      <td>0</td>\n",
       "      <td>0</td>\n",
       "      <td>0</td>\n",
       "      <td>0</td>\n",
       "      <td>0</td>\n",
       "      <td>0</td>\n",
       "    </tr>\n",
       "  </tbody>\n",
       "</table>\n",
       "<p>1 rows × 43 columns</p>\n",
       "</div>"
      ],
      "text/plain": [
       "      budget                                       genres  \\\n",
       "0  237000000  Action, Adventure, Fantasy, Science Fiction   \n",
       "\n",
       "                      homepage     id  \\\n",
       "0  http://www.avatarmovie.com/  19995   \n",
       "\n",
       "                                            keywords original_language  \\\n",
       "0  culture clash, future, space war, space colony...                en   \n",
       "\n",
       "  original_title                                           overview  \\\n",
       "0         Avatar  In the 22nd century, a paraplegic Marine is di...   \n",
       "\n",
       "   popularity                               production_companies   ...     \\\n",
       "0  150.437577  Ingenious Film Partners, Twentieth Century Fox...   ...      \n",
       "\n",
       "  Comedy Romance  Horror  Mystery War History Music Documentary  TV Movie  \\\n",
       "0      0       0       0        0   0       0     0           0         0   \n",
       "\n",
       "   Foreign  \n",
       "0        0  \n",
       "\n",
       "[1 rows x 43 columns]"
      ]
     },
     "execution_count": 32,
     "metadata": {},
     "output_type": "execute_result"
    }
   ],
   "source": [
    "# ==Your code\n",
    "# 将genres转成列表\n",
    "list_genres = df.genres.apply(lambda x: str(x).split(\",\"))\n",
    "\n",
    "genres = []\n",
    "for row in list_genres:\n",
    "    row = [genre.strip() for genre in row]\n",
    "    for genre in row:\n",
    "        # Your code \n",
    "        if genre not in genres:\n",
    "            genres.append(genre)\n",
    "     \n",
    "# Series.str.contains : \n",
    "# Test if pattern or regex is contained within a string of a Series or Index.\n",
    "\n",
    "# Return boolean Series or Index based on whether a given \n",
    "# pattern or regex is contained within a string of a Series or Index.            \n",
    "for genre in genres:\n",
    "    df[genre] = df['genres'].str.contains(genre).astype(int)\n",
    "\n",
    "df[genres].head() # 只显示部分列,这里由索引列表由genres决定.\n",
    "# 对比: df[]中可以传入一个列表作为索引对象.如下\n",
    "# df[[\"Action\", \"Fantasy\"]].head()\n",
    "# 对比: df.genres.head()\n",
    "# 增加的列数\n",
    "len(genres)\n",
    "df.columns\n",
    "# For checking\n",
    "df.head(1)\n"
   ]
  },
  {
   "cell_type": "markdown",
   "metadata": {},
   "source": [
    "5 .Some variables in the dataset are already numeric and perhaps useful for regression and classification. \n",
    "\n",
    "In this exercise, we will store the names of these variables for future use. \n",
    "\n",
    "We will also take a look at some of the continuous variables and outcomes by plotting each pair in a scatter plot. \n",
    "\n",
    "Finally, we will evaluate the skew of each variable.\n",
    "\n",
    "(5) 这个数据集中的一些变量已经是数值型,它们可用于分类和回归. \n",
    "保存这些变量,以便后面分析.\n",
    "\n",
    "对其中的连续变量(数值型变量)budget, popularity, revenue两两配对,做出散点图.\n",
    "\n",
    "[可选] 做散点图时,你可能用到的方法pd.tools.potting.scatter_matrix(),\n",
    "plt.tight_layout().\n",
    "\n",
    "搜索并理解skew()方法的含义,然后估算每一个变量的偏度(skew). 打印出来."
   ]
  },
  {
   "cell_type": "code",
   "execution_count": 33,
   "metadata": {},
   "outputs": [
    {
     "name": "stdout",
     "output_type": "stream",
     "text": [
      "['budget', 'popularity', 'runtime', 'vote_count', 'vote_average', 'revenue', 'profitable']\n"
     ]
    },
    {
     "data": {
      "image/png": "[encoded data removed]",
      "text/plain": [
       "<Figure size 432x288 with 9 Axes>"
      ]
     },
     "metadata": {},
     "output_type": "display_data"
    },
    {
     "name": "stdout",
     "output_type": "stream",
     "text": [
      "skew of  budget :  1.754872159281025\n",
      "skew of  popularity :  7.968138736869573\n",
      "skew of  runtime :  1.0598039846193392\n",
      "skew of  vote_count :  2.461040753709467\n",
      "skew of  vote_average :  -1.0800375233967405\n",
      "skew of  revenue :  3.084680371302008\n",
      "skew of  profitable :  -1.0810296751847972\n"
     ]
    }
   ],
   "source": [
    "# 题目给出的代码\n",
    "continuous_covariates = ['budget', 'popularity', 'runtime', 'vote_count', 'vote_average']\n",
    "outcomes_and_continuous_covariates = continuous_covariates + [regression_target, classification_target]\n",
    "plotting_variables = ['budget', 'popularity', regression_target]\n",
    "\n",
    "print(outcomes_and_continuous_covariates)\n",
    "\n",
    "axes = pd.plotting.scatter_matrix(df[plotting_variables], alpha = 0.15,color=(0,0,0),hist_kwds={\"color\":(0,0,0)},facecolor=(1,0,0))\n",
    "plt.tight_layout()\n",
    "\n",
    "# show the plot.\n",
    "plt.show()\n",
    "\n",
    "# determine the skew.\n",
    "for x in outcomes_and_continuous_covariates:\n",
    "    print(\"skew of \",x,\": \",df[x].skew())"
   ]
  },
  {
   "cell_type": "markdown",
   "metadata": {},
   "source": [
    "### 偏度 \n",
    "\n",
    "偏度（skewness），是统计数据分布偏斜方向和程度的度量，是统计数据分布非对称程度的数字特征。偏度(Skewness)亦称偏态、偏态系数。 \n",
    "\n",
    "表征概率分布密度曲线相对于平均值不对称程度的特征数。直观看来就是密度函数曲线尾部的相对长度。 \n",
    "\n",
    "定义上随机变量$X$的偏度是样本的三阶标准化矩： \n",
    "\n",
    "$\\gamma_1 = E[(\\frac{X-\\mu}{\\sigma})^3] = \\frac{E[X^3]-3\\mu\\sigma^2 -\\mu^3}{\\sigma^3}$, $\\sigma$是标准差, $E$表示期望算子.  \n",
    "\n",
    "\n",
    "概率论和统计学中，偏度衡量实数随机变量概率分布的不对称性。\n",
    "\n",
    "偏度的值可以为正，可以为负或者甚至是无法定义. \n",
    "\n",
    "在数量上，偏度为负（负偏态）就意味着在概率密度函数左侧的尾部比右侧的长，绝大多数的值（包括中位数在内）位于平均值的右侧.\n",
    "\n",
    "偏度为正（正偏态）就意味着在概率密度函数右侧的尾部比左侧的长，绝大多数的值（但不一定包括中位数）位于平均值的左侧. \n",
    "\n",
    "偏度为零就表示数值相对均匀地分布在平均值的两侧，但不一定意味着其为对称分布.\n"
   ]
  },
  {
   "cell_type": "markdown",
   "metadata": {},
   "source": [
    "6: \n",
    "\n",
    "变量budget, popularity, runtime, vote_count, and revenue 全都是右偏的. \n",
    "请转换这些变量,以消除这个右偏性.\n",
    "\n",
    "具体做法: 应用np.log10()方法. 因为有些变量值精确地为0, 所以我们增加一个小的正值到每一个变量上来确保对数函数可以定义. \n",
    "\n",
    "(注意: $\\log(0) = -\\infty$)\n"
   ]
  },
  {
   "cell_type": "code",
   "execution_count": 34,
   "metadata": {},
   "outputs": [
    {
     "data": {
      "text/html": [
       "<div>\n",
       "<style scoped>\n",
       "    .dataframe tbody tr th:only-of-type {\n",
       "        vertical-align: middle;\n",
       "    }\n",
       "\n",
       "    .dataframe tbody tr th {\n",
       "        vertical-align: top;\n",
       "    }\n",
       "\n",
       "    .dataframe thead th {\n",
       "        text-align: right;\n",
       "    }\n",
       "</style>\n",
       "<table border=\"1\" class=\"dataframe\">\n",
       "  <thead>\n",
       "    <tr style=\"text-align: right;\">\n",
       "      <th></th>\n",
       "      <th>budget</th>\n",
       "      <th>genres</th>\n",
       "      <th>homepage</th>\n",
       "      <th>id</th>\n",
       "      <th>keywords</th>\n",
       "      <th>original_language</th>\n",
       "      <th>original_title</th>\n",
       "      <th>overview</th>\n",
       "      <th>popularity</th>\n",
       "      <th>production_companies</th>\n",
       "      <th>...</th>\n",
       "      <th>Comedy</th>\n",
       "      <th>Romance</th>\n",
       "      <th>Horror</th>\n",
       "      <th>Mystery</th>\n",
       "      <th>War</th>\n",
       "      <th>History</th>\n",
       "      <th>Music</th>\n",
       "      <th>Documentary</th>\n",
       "      <th>TV Movie</th>\n",
       "      <th>Foreign</th>\n",
       "    </tr>\n",
       "  </thead>\n",
       "  <tbody>\n",
       "    <tr>\n",
       "      <th>0</th>\n",
       "      <td>8.374748</td>\n",
       "      <td>Action, Adventure, Fantasy, Science Fiction</td>\n",
       "      <td>http://www.avatarmovie.com/</td>\n",
       "      <td>19995</td>\n",
       "      <td>culture clash, future, space war, space colony...</td>\n",
       "      <td>en</td>\n",
       "      <td>Avatar</td>\n",
       "      <td>In the 22nd century, a paraplegic Marine is di...</td>\n",
       "      <td>2.180234</td>\n",
       "      <td>Ingenious Film Partners, Twentieth Century Fox...</td>\n",
       "      <td>...</td>\n",
       "      <td>0</td>\n",
       "      <td>0</td>\n",
       "      <td>0</td>\n",
       "      <td>0</td>\n",
       "      <td>0</td>\n",
       "      <td>0</td>\n",
       "      <td>0</td>\n",
       "      <td>0</td>\n",
       "      <td>0</td>\n",
       "      <td>0</td>\n",
       "    </tr>\n",
       "  </tbody>\n",
       "</table>\n",
       "<p>1 rows × 43 columns</p>\n",
       "</div>"
      ],
      "text/plain": [
       "     budget                                       genres  \\\n",
       "0  8.374748  Action, Adventure, Fantasy, Science Fiction   \n",
       "\n",
       "                      homepage     id  \\\n",
       "0  http://www.avatarmovie.com/  19995   \n",
       "\n",
       "                                            keywords original_language  \\\n",
       "0  culture clash, future, space war, space colony...                en   \n",
       "\n",
       "  original_title                                           overview  \\\n",
       "0         Avatar  In the 22nd century, a paraplegic Marine is di...   \n",
       "\n",
       "   popularity                               production_companies   ...     \\\n",
       "0    2.180234  Ingenious Film Partners, Twentieth Century Fox...   ...      \n",
       "\n",
       "  Comedy Romance  Horror  Mystery War History Music Documentary  TV Movie  \\\n",
       "0      0       0       0        0   0       0     0           0         0   \n",
       "\n",
       "   Foreign  \n",
       "0        0  \n",
       "\n",
       "[1 rows x 43 columns]"
      ]
     },
     "execution_count": 34,
     "metadata": {},
     "output_type": "execute_result"
    }
   ],
   "source": [
    "# ==Your code\n",
    "li = [\"budget\",\"popularity\",\"runtime\",\"vote_count\",\"revenue\"]\n",
    "for x in li:\n",
    "   df[x] = np.log10(df[x] + 1)\n",
    "\n",
    "# checking\n",
    "df.head(1)"
   ]
  },
  {
   "cell_type": "code",
   "execution_count": 35,
   "metadata": {
    "scrolled": true
   },
   "outputs": [
    {
     "data": {
      "text/plain": [
       "Index(['budget', 'genres', 'homepage', 'id', 'keywords', 'original_language',\n",
       "       'original_title', 'overview', 'popularity', 'production_companies',\n",
       "       'production_countries', 'release_date', 'revenue', 'runtime',\n",
       "       'spoken_languages', 'status', 'tagline', 'title', 'vote_average',\n",
       "       'vote_count', 'movie_id', 'cast', 'profitable', 'Action', 'Adventure',\n",
       "       'Fantasy', 'Science Fiction', 'Crime', 'Drama', 'Thriller', 'Animation',\n",
       "       'Family', 'Western', 'Comedy', 'Romance', 'Horror', 'Mystery', 'War',\n",
       "       'History', 'Music', 'Documentary', 'TV Movie', 'Foreign'],\n",
       "      dtype='object')"
      ]
     },
     "execution_count": 35,
     "metadata": {},
     "output_type": "execute_result"
    }
   ],
   "source": [
    "df.columns"
   ]
  },
  {
   "cell_type": "code",
   "execution_count": 36,
   "metadata": {},
   "outputs": [
    {
     "name": "stdout",
     "output_type": "stream",
     "text": [
      "25\n",
      "43\n"
     ]
    }
   ],
   "source": [
    "all_covariates = ['budget', 'popularity', 'runtime', 'vote_count',\n",
    "                  'vote_average', 'Action', 'Adventure', 'Fantasy', \n",
    "                  'Science Fiction', 'Crime', 'Drama', 'Thriller', \n",
    "                  'Animation', 'Family', 'Western', 'Comedy', 'Romance',\n",
    "                  'Horror', 'Mystery', 'War', 'History', 'Music', \n",
    "                  'Documentary', 'TV Movie', 'Foreign']\n",
    "print(len(all_covariates))\n",
    "df.head(2)\n",
    "all_col = ['budget', 'genres', 'homepage', 'id', 'keywords', 'original_language',\n",
    "       'original_title', 'overview', 'popularity', 'production_companies',\n",
    "       'production_countries', 'release_date', 'revenue', 'runtime',\n",
    "       'spoken_languages', 'status', 'tagline', 'title', 'vote_average',\n",
    "       'vote_count', 'movie_id', 'cast', 'profitable', 'Action', 'Adventure',\n",
    "       'Fantasy', 'Science Fiction', 'Crime', 'Drama', 'Thriller', 'Animation',\n",
    "       'Family', 'Western', 'Comedy', 'Romance', 'Horror', 'Mystery', 'War',\n",
    "       'History', 'Music', 'Documentary', 'TV Movie', 'Foreign']\n",
    "print(len(all_col))"
   ]
  },
  {
   "cell_type": "markdown",
   "metadata": {},
   "source": [
    "## 项目第二部分"
   ]
  },
  {
   "cell_type": "markdown",
   "metadata": {},
   "source": [
    "电影数据集: a database of 5000 movies catalogued by The Movie Database (TMDb). \n",
    "\n",
    "每部电影的可用信息是: 其预算(budget),收益(revenue), 等级评定(rating), 演员(actors and actresses)等. \n",
    "该项目中,我们利用这个数据集来决定-----是否关于一部电影的某些信息能预测电影的总收益(revenue). 我们也将试图预测是否一部电影的总收益(revenue)能否超过其预算(budget)."
   ]
  },
  {
   "cell_type": "markdown",
   "metadata": {},
   "source": [
    "预备知识:\n",
    "\n",
    "#### 协变量(1): 基本含义\n",
    "\n",
    "covariate:  characteristics (excluding the actual treatment) of the participants in an experiment. \n",
    "\n",
    "If you collect data on characteristics before you run an experiment, you could use that data to see how your treatment affects different groups or populations. \n",
    "Or, you could use that data to control for the influence of any covariate.\n",
    "\n",
    "协变量可能影响一项研究的结果.\n",
    "Covariates may affect the outcome in a study.\n",
    "\n",
    "\n",
    "例如,  你在进行一项试验,想看看玉米有多耐旱.\n",
    "干旱的程度(级别)就是一种处理,但干旱程度却不是影响玉米表现的唯一因素. 玉米的尺寸就会影响其耐旱程度的一个因素,因此你应该将玉米的尺寸作为一个协变量.\n",
    "\n",
    "\n",
    "A covariate can be an independent variable (i.e. of direct interest) or it can be an unwanted, confounding variable. 增加一个协变量到一个模型, 可以增加结果的准确度(accuracy).\n",
    "\n",
    "\n",
    "协变量的另一个例子: (from Penn State): 假如你在对比男人和女人的工资以查看谁挣钱更多. 你需要控制的一个因子是: 人们离开大学时间越长,往往挣钱更多. 此例中,离开大学的时间便是一个协变量.\n",
    "\n",
    "\n",
    "#### 协变量(2):协变量的引申含义\n",
    "\n",
    "Covariate really has only one meaning, but it gets tricky because the meaning has different implications in different situations, and people use it in slightly different ways.  And these different ways of using the term have BIG implications for what your model means.\n",
    "\n",
    "The most precise definition is its use in Analysis of Covariance, a type of General Linear Model in which the independent variables of interest are categorical(分立值), but you also need to control for an observed, continuous variable–the covariate.\n",
    "\n",
    "L: 协变量是连续型变量.\n",
    "\n",
    "在这样的场景下, 协变量总是连续的,总是一个控制变量, 且总是测量所得(observed) (i.e. observations weren’t randomly assigned its values, you just measured what was there).\n",
    "\n",
    "一个简单例子:  a study looking at the effect of a training program on math ability.  自变量(independent variable)是training condition–whether participants received the math training or some irrelevant training.  因变量(dependent variable)是他们接受训练以后的数学分数. \n",
    "\n",
    "但是,即使在每一个训练组, 将有许多variation in people’s math ability.  如果你不控制它们, it is just unexplained variation.  Having a lot of unexplained variation makes it pretty tough to see the actual effect of the training–it gets lost in all the noise.\n",
    "\n",
    "因此如果你 use pretest math score as a covariate, you can control for where people started out.  So you get a clearer picture of whether people do well on the final test due to the training or due to the math ability they had coming in.\n",
    "\n",
    "Okay, great.  Where’s the confusion?\n",
    "\n",
    "Covariates as Continuous Predictor Variables\n",
    "\n",
    "The confusion is that, really, the model doesn’t care that the covariate is something you don’t have a hypothesis about.  Something you’re just controlling for. Mathematically, it’s the same model, and you run it the same way.\n",
    "\n",
    "And so people who understand this often use the term covariate to mean ANY 连续的特征变量 in your model, 无论它在你的假设中只是一个控制变量,还是最重要的特征变量( predictor).  And我感到愧疚(guilty) as charged.  It’s a lot easier to say covariate than continuous predictor variable.\n",
    "\n",
    "但是SPSS(IBM的统计软件)也这样做.  You 可以运行一个线性回归模型with only continuous predictor variables in SPSS GLM by putting them in the Covariate box.  All the Covariate box does is define the predictor variable as continuous.\n",
    "\n",
    "(SAS’s PROC GLM does the same thing, but it doesn’t specifically label them as Covariates.  In PROC GLM, the assumption is: 所有的特征变量都是连续的.  If they’re categorical, it’s up to you, the user, to specify them as such in the CLASS statement.)\n",
    "\n",
    " \n",
    "#### 协变量用作控制变量\n",
    "\n",
    "But the other part of the original ANCOVA definition is that a covariate is a control variable.\n",
    "\n",
    "So sometimes people use the term Covariate to mean any control variable.  Because really, you can covary out (实现,执行) the effects of a categorical control variable just as easily.\n",
    "\n",
    "In our little math training example, you may be unable to pretest(进行预测) the participants.  Maybe you can only get them for one session. But it’s quick and easy to ask them, even after the test, “Did you take Calculus?”  It’s not as good of a control variable as a pretest score, but you can at least get at their previous math training.\n",
    "\n",
    "You’d use it in the model in the exact same way you would the pretest score.  You’d just have to define it as categorical.\n",
    "\n",
    "Once again, there isn’t really a good term for categorical control variable, so people sometimes refer to it as the covariate.\n",
    "\n",
    "#### 究竟什么是协变量 ?\n",
    "\n",
    "It’s hard to say.  There is no disputing (争议,争吵) the first definition, so it’s clear there.\n",
    "\n",
    "I prefer to just be careful, in setting up hypotheses, running analyses, and in writing up results, to be clear about which variables I’m hypothesizing about and which ones I’m controlling for, and whether each variable is continuous or categorical.\n",
    "\n",
    "值得考虑: 一个变量是连续的,还是离散的?\n",
    "\n",
    "The names that the variables, or the models, end up having, aren’t important as long as you’re clear about what you’re testing and how.\n",
    "\n",
    "\n",
    "\n",
    "#### 题目\n",
    "我们将应用前面学习过的两个模型: 线性回归(逻辑回归)与随机森林. 我们利用它们来做回归预测和分类. 我们将运用这些方法来预测总收益. 我们用逻辑回归将电影分类,从而预测哪些电影可盈利,哪些电影不可盈利. \n",
    "\n",
    "首先,我们实力会回归和分类模型.\n",
    "Code is provided that prepares the covariates and outcomes we will use for data analysis."
   ]
  },
  {
   "cell_type": "markdown",
   "metadata": {},
   "source": [
    "#### 1.\n",
    "\n",
    "依次分别实例化 \n",
    "\n",
    "LinearRegression(), \n",
    "\n",
    "LogisticRegression(), \n",
    "\n",
    "RandomForestRegressor(), \n",
    "\n",
    "和RandomForestClassifier() 对象为\n",
    "\n",
    "linear_regression, \n",
    "\n",
    "logistic_regression,\n",
    "\n",
    "forest_regression,\n",
    "\n",
    "和forest_classifier.\n",
    "\n",
    "对于随机森林模型, 指定参数 \n",
    "\n",
    "max_depth=4,\n",
    "\n",
    "random_state=0."
   ]
  },
  {
   "cell_type": "code",
   "execution_count": 37,
   "metadata": {},
   "outputs": [],
   "source": [
    "# 从`df`中定义所有的协变量(all_covariates)和目标(outcomes)\n",
    "all_covariates = ['budget', 'popularity', 'runtime', 'vote_count',\n",
    "                  'vote_average', 'Action', 'Adventure', 'Fantasy', \n",
    "                  'Science Fiction', 'Crime', 'Drama', 'Thriller', \n",
    "                  'Animation', 'Family', 'Western', 'Comedy', 'Romance',\n",
    "                  'Horror', 'Mystery', 'War', 'History', 'Music', \n",
    "                  'Documentary', 'TV Movie', 'Foreign']\n",
    "\n",
    "regression_outcome = df[regression_target]\n",
    "classification_outcome = df[classification_target]\n",
    "# 假设: 此处的covariates的含义是:连续变量.\n",
    "covariates = df[all_covariates]\n",
    "\n",
    "# 实例化所有的回归模型和分类器\n",
    "linear_regression = LinearRegression()\n",
    "logistic_regression = LogisticRegression()\n",
    "forest_regression = LogisticRegression()\n",
    "forest_classifier = RandomForestClassifier()"
   ]
  },
  {
   "cell_type": "markdown",
   "metadata": {},
   "source": [
    "### 2. \n",
    "创建两个函数来评估模型的好坏,即计算模型的得分.  \n",
    "\n",
    "对回归模型, 我们用关联(correlation)来表示得分.\n",
    "\n",
    "对分类模型,我们用准确度(accuracy)来表示得分."
   ]
  },
  {
   "cell_type": "code",
   "execution_count": 38,
   "metadata": {},
   "outputs": [],
   "source": [
    "def correlation(estimator, X, y):\n",
    "    predictions = estimator.fit(X, y).predict(X)\n",
    "    return r2_score(y, predictions)\n",
    "    \n",
    "def accuracy(estimator, X, y):\n",
    "    predictions = estimator.fit(X, y).predict(X)\n",
    "    return accuracy_score(y, predictions)\n"
   ]
  },
  {
   "cell_type": "markdown",
   "metadata": {},
   "source": [
    "### 3.\n",
    "请对线性分类模型和随机森林分类模型做性能的交叉验证."
   ]
  },
  {
   "cell_type": "code",
   "execution_count": 39,
   "metadata": {},
   "outputs": [
    {
     "data": {
      "image/png": "[encoded data removed]",
      "text/plain": [
       "<Figure size 432x288 with 1 Axes>"
      ]
     },
     "metadata": {},
     "output_type": "display_data"
    }
   ],
   "source": [
    "# 对线性分类模型和随机森林分类模型,计算交叉验证准确度(cross-validated accuracy)\n",
    "# 参考cross_val_score()用法: http://scikit-learn.org/stable/modules/generated/sklearn.model_selection.cross_val_score.html\n",
    "logistic_regression_scores = cross_val_score(logistic_regression,covariates, classification_outcome,cv=10,scoring=accuracy)\n",
    "forest_classification_scores = cross_val_score(forest_classifier,covariates, classification_outcome,cv=10,scoring=accuracy)\n",
    "\n",
    "# 作图\n",
    "plt.axes().set_aspect('equal', 'box')\n",
    "plt.scatter(logistic_regression_scores, forest_classification_scores)\n",
    "plt.plot((0, 1), (0, 1), 'k-')\n",
    "\n",
    "plt.xlim(0, 1)\n",
    "plt.ylim(0, 1)\n",
    "plt.xlabel(\"Linear Classification Score\")\n",
    "plt.ylabel(\"Forest Classification Score\")\n",
    "\n",
    "# 显示图像\n",
    "plt.show()"
   ]
  },
  {
   "cell_type": "markdown",
   "metadata": {},
   "source": [
    "### 5.\n",
    "\n",
    "在第3题,我们看到: 预测的收益只是稍微有效.预测一部电影的收益刚好为0是不现实的. \n",
    "下面我们将去除这些电影, 并重新运行我们的模型,以决定是否拟合出的模型的性能有所提高. \n",
    "\n",
    "本题中, 我们将对子数据集再次运行回归分析."
   ]
  },
  {
   "cell_type": "code",
   "execution_count": 40,
   "metadata": {},
   "outputs": [],
   "source": [
    "# 选出收益大于0的电影,构成子数据集,保存为positive_revenue_df\n",
    "positive_revenue_df = df[df.revenue > 0]\n",
    "\n",
    "# Replace the dataframe in the following code, and run.\n",
    "\n",
    "regression_outcome = positive_revenue_df[regression_target]\n",
    "classification_outcome = positive_revenue_df[classification_target]\n",
    "covariates = positive_revenue_df[all_covariates]\n",
    "\n",
    "# Reinstantiate all regression models and classifiers.\n",
    "linear_regression = LinearRegression()\n",
    "logistic_regression = LogisticRegression()\n",
    "forest_regression = RandomForestRegressor(max_depth=4, random_state=0)\n",
    "forest_classifier = RandomForestClassifier(max_depth=4, random_state=0)\n",
    "\n",
    "linear_regression_scores = cross_val_score(linear_regression, covariates, regression_outcome, cv=10, scoring=correlation)\n",
    "forest_regression_scores = cross_val_score(forest_regression, covariates, regression_outcome, cv=10, scoring=correlation)\n",
    "logistic_regression_scores = cross_val_score(logistic_regression, covariates, classification_outcome, cv=10, scoring=accuracy)\n",
    "forest_classification_scores = cross_val_score(forest_classifier, covariates, classification_outcome, cv=10, scoring=accuracy)"
   ]
  },
  {
   "cell_type": "markdown",
   "metadata": {},
   "source": [
    "### 6.\n",
    "计算交叉验证性能:\n",
    "利用线性回归和随机森林回归模型,对具有正的收益的电影计算交叉验证性能."
   ]
  },
  {
   "cell_type": "markdown",
   "metadata": {},
   "source": [
    "依次调用 cross_val_score()方法,分别利用 linear_regression和 forest regression作为模型. 分别保存cross_val_score()的结果到linear_regression_scores 和 forest_regression_scores.\n",
    "\n",
    "设置参数cv=10,以用10重交叉验证,设置 scoring=correlation以利用前面定义的关联函数来作为评估标准. \n",
    "\n",
    "利用命令 plt.show() 做出每一个关于线性模型和随机森林回归的交叉验证fold的实际收入和预测收入的关联.\n",
    "\n",
    "考虑: \n",
    "\n",
    "()哪一个模型更好?\n",
    "\n",
    "()对于预测电影的收益,哪一个变量最重要?\n"
   ]
  },
  {
   "cell_type": "code",
   "execution_count": 41,
   "metadata": {},
   "outputs": [
    {
     "data": {
      "image/png": "[encoded data removed]",
      "text/plain": [
       "<Figure size 432x288 with 1 Axes>"
      ]
     },
     "metadata": {},
     "output_type": "display_data"
    },
    {
     "name": "stdout",
     "output_type": "stream",
     "text": [
      "('budget', 0.33840312756405294)\n",
      "('popularity', 0.1016951617421002)\n",
      "('runtime', 0.018592491437324322)\n",
      "('vote_count', 0.5179644896865263)\n",
      "('vote_average', 0.011479111677455061)\n",
      "('Action', 0.001265854609162398)\n",
      "('Adventure', 0.00227871227020963)\n",
      "('Fantasy', 0.0)\n",
      "('Science Fiction', 0.0)\n",
      "('Crime', 0.0026853600108842223)\n",
      "('Drama', 0.0015522315688570596)\n",
      "('Thriller', 0.0)\n",
      "('Animation', 0.0005879798158977145)\n",
      "('Family', 0.001062688910927346)\n",
      "('Western', 0.000752265180420894)\n",
      "('Comedy', 0.0)\n",
      "('Romance', 0.0)\n",
      "('Horror', 0.0)\n",
      "('Mystery', 0.0016805255261818151)\n",
      "('War', 0.0)\n",
      "('History', 0.0)\n",
      "('Music', 0.0)\n",
      "('Documentary', 0.0)\n",
      "('TV Movie', 0.0)\n",
      "('Foreign', 0.0)\n"
     ]
    }
   ],
   "source": [
    "# Determine the cross-validated correlation for linear and random forest models.\n",
    "linear_regression_scores = cross_val_score(linear_regression, covariates, regression_outcome, cv=10,scoring=correlation)\n",
    "forest_regression_scores = cross_val_score(forest_regression, covariates, regression_outcome, cv=10, scoring=correlation)\n",
    "\n",
    "# Plot Results\n",
    "plt.axes().set_aspect('equal', 'box')\n",
    "plt.scatter(linear_regression_scores, forest_regression_scores)\n",
    "plt.plot((0, 1), (0, 1), 'k-')\n",
    "\n",
    "plt.xlim(0, 1)\n",
    "plt.ylim(0, 1)\n",
    "plt.xlabel(\"Linear Regression Score\")\n",
    "plt.ylabel(\"Forest Regression Score\")\n",
    "\n",
    "# Show the plot.\n",
    "plt.show()\n",
    "\n",
    "# 打印出随机森林回归方法中每个协变量的重要性. 可能用到的方法: feature_importances_\n",
    "forest_regression.fit(positive_revenue_df[all_covariates], regression_outcome)\n",
    "# Your code\n",
    "for row in zip(all_covariates, forest_regression.feature_importances_,):\n",
    "    print(row)\n",
    "    \n",
    "# 对于预测电影的收益,哪一个变量最重要?\n",
    "# Your code"
   ]
  },
  {
   "cell_type": "markdown",
   "metadata": {},
   "source": [
    "分析:\n",
    "根据此关联图的值,可见:  对于收益为正的电影, 随机森林模型好,还是线性模型更好?\n",
    "\n",
    "\n",
    "### 7.\n",
    "对收益为正的电影,请对线性模型和随机森林分类模型计算交叉验证性能."
   ]
  },
  {
   "cell_type": "code",
   "execution_count": 42,
   "metadata": {},
   "outputs": [
    {
     "data": {
      "image/png": "[encoded data removed]",
      "text/plain": [
       "<Figure size 432x288 with 1 Axes>"
      ]
     },
     "metadata": {},
     "output_type": "display_data"
    },
    {
     "name": "stdout",
     "output_type": "stream",
     "text": [
      "('budget', 0.08359719057310135)\n",
      "('popularity', 0.4877045624202596)\n",
      "('runtime', 0.03627645067457281)\n",
      "('vote_count', 0.2108983363047868)\n",
      "('vote_average', 0.0544354230045012)\n",
      "('Action', 0.004901780068684141)\n",
      "('Adventure', 0.01050519411619063)\n",
      "('Fantasy', 0.014685679319053433)\n",
      "('Science Fiction', 0.0034485713578329543)\n",
      "('Crime', 0.003673793344462487)\n",
      "('Drama', 0.02484362932062891)\n",
      "('Thriller', 0.0018965793473123757)\n",
      "('Animation', 0.0002657212639893513)\n",
      "('Family', 0.008996712093599925)\n",
      "('Western', 0.0009338293417977317)\n",
      "('Comedy', 0.006298038524905772)\n",
      "('Romance', 0.006568626316910688)\n",
      "('Horror', 0.0)\n",
      "('Mystery', 0.006101715382183856)\n",
      "('War', 0.01002608405080379)\n",
      "('History', 0.00850809449122243)\n",
      "('Music', 0.0008386015199349613)\n",
      "('Documentary', 0.008883658297862956)\n",
      "('TV Movie', 0.0)\n",
      "('Foreign', 0.005711728865401886)\n"
     ]
    }
   ],
   "source": [
    "# 对线性回归模型和随机森林回归模型,计算交叉验证准确度(cross-validated accuracy)\n",
    "logistic_regression_scores = cross_val_score(logistic_regression, covariates, classification_outcome, cv=10, scoring=accuracy)\n",
    "forest_classification_scores = cross_val_score(forest_classifier, covariates, classification_outcome, cv=10, scoring=accuracy)\n",
    "\n",
    "# 作图\n",
    "plt.axes().set_aspect('equal', 'box')\n",
    "plt.scatter(logistic_regression_scores, forest_classification_scores)\n",
    "plt.plot((0, 1), (0, 1), 'k-')\n",
    "\n",
    "plt.xlim(0, 1)\n",
    "plt.ylim(0, 1)\n",
    "plt.xlabel(\"Linear Classification Score\")\n",
    "plt.ylabel(\"Forest Classification Score\")\n",
    "\n",
    "# 显示图像\n",
    "plt.show()\n",
    "# 打印出随机森林分类方法中每个协变量的重要性. 可能用到的方法: model.feature_importances_,  其中的model是你拟合出的随机森林分类器.\n",
    "forest_classifier.fit(positive_revenue_df[all_covariates], classification_outcome)\n",
    "# your code\n",
    "li = []\n",
    "for row in zip(all_covariates, forest_classifier.feature_importances_,):\n",
    "    print(row)\n",
    "    li.append(row[1])\n",
    "    \n",
    "# 列出对电影是否盈利影响最大的三个协变量.\n",
    "# your code\n"
   ]
  },
  {
   "cell_type": "markdown",
   "metadata": {},
   "source": [
    "分析: \n",
    "(1)根据交叉验证关联的度量(metric),随机森林模型与线性模型哪个表现得更好?\n",
    "\n",
    "(2) 对于预测电影的盈利与否,哪三个因素最重要?"
   ]
  },
  {
   "cell_type": "markdown",
   "metadata": {},
   "source": [
    "对于线性回归模型和随机森林回归模型,请计算交叉验证的性能(cross-validated performance)."
   ]
  },
  {
   "cell_type": "code",
   "execution_count": 43,
   "metadata": {},
   "outputs": [
    {
     "data": {
      "image/png": "[encoded data removed]",
      "text/plain": [
       "<Figure size 432x288 with 1 Axes>"
      ]
     },
     "metadata": {},
     "output_type": "display_data"
    }
   ],
   "source": [
    "#对线性模型和随机森林模型,计算交叉验证准确度(cross-validated accuracy).\n",
    "linear_regression_scores = cross_val_score(linear_regression, covariates, regression_outcome, cv=10, scoring=correlation)\n",
    "forest_regression_scores = cross_val_score(forest_regression, covariates, regression_outcome, cv=10, scoring=correlation)\n",
    "\n",
    "# 作图\n",
    "plt.axes().set_aspect('equal', 'box')\n",
    "plt.scatter(linear_regression_scores, forest_regression_scores)\n",
    "plt.plot((0, 1), (0, 1), 'k-')\n",
    "plt.xlim(0, 1)\n",
    "plt.ylim(0, 1)\n",
    "plt.xlabel(\"Linear Regression Score\")\n",
    "plt.ylabel(\"Forest Regression Score\")\n",
    "\n",
    "# 显示图像\n",
    "plt.show()"
   ]
  },
  {
   "cell_type": "markdown",
   "metadata": {},
   "source": [
    "根据交叉验证关联的度量(metric),随机森林模型与线性模型哪个表现得更好?"
   ]
  }
 ],
 "metadata": {
  "kernelspec": {
   "display_name": "Python 3",
   "language": "python",
   "name": "python3"
  },
  "language_info": {
   "codemirror_mode": {
    "name": "ipython",
    "version": 3
   },
   "file_extension": ".py",
   "mimetype": "text/x-python",
   "name": "python",
   "nbconvert_exporter": "python",
   "pygments_lexer": "ipython3",
   "version": "3.5.5"
  },
  "widgets": {
   "state": {},
   "version": "1.1.2"
  }
 },
 "nbformat": 4,
 "nbformat_minor": 2
}
