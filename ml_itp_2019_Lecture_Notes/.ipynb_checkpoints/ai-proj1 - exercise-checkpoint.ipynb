{
 "cells": [
  {
   "cell_type": "markdown",
   "metadata": {},
   "source": [
    "# 项目1： 统计字母频率\n",
    "给定一个字符串，统计其字母出现的频率."
   ]
  },
  {
   "cell_type": "code",
   "execution_count": 1,
   "metadata": {},
   "outputs": [],
   "source": [
    "# Tip:\n",
    "# - 导入string库\n",
    "# - 创建一个变量，命名为alphabet\n",
    "# - 使用string的数据属性ascii_letters获取大小写英文字符，存在alphabet中\n",
    "\n",
    "# ==Your code==\n"
   ]
  },
  {
   "cell_type": "code",
   "execution_count": 3,
   "metadata": {},
   "outputs": [],
   "source": [
    "sentence = 'Heal the world, Make it a better place.For you and for me, And the entire human race'\n",
    "count_letters = {}\n",
    "\n",
    "# Tip:\n",
    "# - count_letters 字典应该包含 sentence中所有大小写字母出现的次数\n",
    "\n",
    "# ==Your code==\n",
    "\n",
    "\n",
    "print(count_letters)"
   ]
  },
  {
   "cell_type": "code",
   "execution_count": 2,
   "metadata": {},
   "outputs": [],
   "source": [
    "# Tip:\n",
    "# 将上述功能写成函数，记为counter\n",
    "\n",
    "def counter(input_string):\n",
    "    #==your code==\n",
    "\n",
    "counter(sentence)"
   ]
  },
  {
   "cell_type": "code",
   "execution_count": 5,
   "metadata": {},
   "outputs": [],
   "source": [
    "address = \"  Four score and seven years ago our fathers brought forth  \\\\\\nNow we are engaged in a great civil war  testing whether that nation  or any nation so conceived                                   and so dedicated         \\n\\n                                                                                                                                upon this continent  \\\\\\nNow we are engaged in a great civil war  testing whether that nation  or any nation so conceived   can long endure. We are met on a great battle...   \\n\\n                                                                                                                                       a new nation  \\\\\\nNow we are engaged in a great civil war  testing whether that nation  or any nation so conceived   as a final resting place for those who died here   \\n\\n                                                                                                                      conceived in liberty  \\\\\\nNow we are engaged in a great civil war  testing whether that nation  or any nation so conceived   that the nation might live. This we may   \\n\\n                                                                                                  and dedicated to the proposition that all men are created equal.  \\nNow we are engaged in a great civil war  testing whether that nation  or any nation so conceived                               in all propriety do.\""
   ]
  },
  {
   "cell_type": "code",
   "execution_count": 5,
   "metadata": {},
   "outputs": [],
   "source": [
    "# Tip:\n",
    "# 使用上面定义的counter函数统计上述字符串的字母频率\n",
    "#==Your code=="
   ]
  },
  {
   "cell_type": "code",
   "execution_count": 6,
   "metadata": {},
   "outputs": [],
   "source": [
    "# Tip:\n",
    "# 求address中出现频率最高的字母\n",
    "\n",
    "#==Your code=="
   ]
  },
  {
   "cell_type": "markdown",
   "metadata": {},
   "source": [
    "# 项目 2： 蒙特卡罗方法计算$\\pi$\n",
    "已知：\n",
    "$$\\frac{正方形的内切圆的面积}{正方形的面积} = \\frac{\\pi}{4}$$\n",
    "用近似的方法求$\\pi$."
   ]
  },
  {
   "cell_type": "code",
   "execution_count": 7,
   "metadata": {},
   "outputs": [],
   "source": [
    "# Tip:\n",
    "# 使用math库，计算pi/4,并打印输出\n",
    "\n",
    "#==Your code==\n"
   ]
  },
  {
   "cell_type": "code",
   "execution_count": 8,
   "metadata": {},
   "outputs": [],
   "source": [
    "# Tip:\n",
    "# 使用random.uniform()定义一个函数rand, 产生一个0到1之间的float型的数\n",
    "\n",
    "import random\n",
    "random.seed(10) # 用于检查结果\n",
    "def rand():\n",
    "    # define `rand` here!\n",
    "    #==Your code==\n",
    "\n",
    "# 测试\n",
    "rand()"
   ]
  },
  {
   "cell_type": "code",
   "execution_count": 9,
   "metadata": {},
   "outputs": [],
   "source": [
    "import math\n",
    "\n",
    "# Tip\n",
    "# - 编写一个函数distance，计算两个点x和y之间的距离\n",
    "# - 使用你的函数计算点x=(0,0)，y=(1,1)之间的距离\n",
    "# - 开方 math.sqrt\n",
    "\n",
    "# ==YOur code==\n",
    "   \n",
    "print(distance((0,0),(1,1)))"
   ]
  },
  {
   "cell_type": "code",
   "execution_count": 10,
   "metadata": {},
   "outputs": [],
   "source": [
    "import random, math\n",
    "random.seed(1)\n",
    "# Tip: \n",
    "# - 编写函数in_circle,判断点x是否在单位圆内.\n",
    "# - 调用函数in_circle判断点(0,0)是否在以(0,0)为原点的单位圆内\n",
    "\n",
    "def in_circle(x, origin = [0]*2):\n",
    "   # your code==\n",
    "\n",
    "\n",
    "   \n",
    "    \n",
    "\n",
    "   "
   ]
  },
  {
   "cell_type": "code",
   "execution_count": 18,
   "metadata": {},
   "outputs": [],
   "source": [
    "R = 10000\n",
    "\n",
    "# - 统计有多少个点落在单位圆内\n",
    "inside = []\n",
    "for i in range(R):\n",
    "    point = [rand(), rand()]\n",
    "    # append inside here!\n",
    "    \n",
    "# - 计算 落在单位圆内点数 的比例 \n",
    "# ==your code==\n",
    "\n",
    "#-  计算pi.\n",
    "#==your code==\n"
   ]
  },
  {
   "cell_type": "code",
   "execution_count": 12,
   "metadata": {},
   "outputs": [],
   "source": [
    "# 计算误差: 计算用上面的方法计算的pi值与真实pi的差值\n"
   ]
  },
  {
   "cell_type": "markdown",
   "metadata": {},
   "source": [
    "# 项目3： 滑动平均\n",
    "一串数据可能包含很多毛刺（由噪声引起），我们可以对其进行数据处理使之更加光滑.一种让数据数据更光滑的操作便是滑动平均。"
   ]
  },
  {
   "cell_type": "code",
   "execution_count": 13,
   "metadata": {},
   "outputs": [],
   "source": [
    "import random\n",
    "\n",
    "random.seed(1)\n",
    "\n",
    "def moving_window_average(x, n_neighbors=1):\n",
    "    n = len(x)\n",
    "    width = n_neighbors*2 + 1\n",
    "    x = [x[0]]*n_neighbors + x + [x[-1]]*n_neighbors\n",
    "    # 为完成该函数:\n",
    "    # 返回一个列表, 该列表的元素为从x[i]到 x[i+width]的平均值, i的取值为从0到n-1.\n",
    "    #==Your code==    \n",
    "\n",
    "# 测试    \n",
    "x=[0,10,5,3,1,5]\n",
    "print(moving_window_average(x, 1))"
   ]
  },
  {
   "cell_type": "code",
   "execution_count": 24,
   "metadata": {},
   "outputs": [],
   "source": [
    "import random\n",
    "\n",
    "random.seed(1) #  此行用于检查结果\n",
    "    \n",
    "x = [random.random() for i in range(1000)]\n",
    "Y = [x]\n",
    "# 研究处理后的数据的光滑程度与窗口大小的关系\n",
    "# 第一步: 将选择不同窗口大小时所得的数据添加到Y中\n",
    "for i in range(1,10):\n",
    "    #==Your code==\n"
   ]
  },
  {
   "cell_type": "code",
   "execution_count": 15,
   "metadata": {},
   "outputs": [],
   "source": [
    "# 第二步: 对处理后的数据,分别计算其最大值与最小值之差,保存到列表ranges中\n",
    "\n",
    "ranges = []\n",
    "# ==your code==\n"
   ]
  },
  {
   "cell_type": "code",
   "execution_count": 16,
   "metadata": {},
   "outputs": [],
   "source": [
    "# 运行如下代码, 观察所得结果\n",
    "import matplotlib.pyplot as plt\n",
    "plt.plot(ranges, 'or-')\n",
    "plt.xlabel(\"n_neighbors\")\n",
    "plt.ylabel(\"max - min\")\n",
    "#plt.show()"
   ]
  }
 ],
 "metadata": {
  "kernelspec": {
   "display_name": "Python 3",
   "language": "python",
   "name": "python3"
  },
  "language_info": {
   "codemirror_mode": {
    "name": "ipython",
    "version": 3
   },
   "file_extension": ".py",
   "mimetype": "text/x-python",
   "name": "python",
   "nbconvert_exporter": "python",
   "pygments_lexer": "ipython3",
   "version": "3.5.5"
  },
  "widgets": {
   "state": {},
   "version": "1.1.2"
  }
 },
 "nbformat": 4,
 "nbformat_minor": 2
}
