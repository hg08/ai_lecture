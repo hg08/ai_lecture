{
 "cells": [
  {
   "cell_type": "markdown",
   "metadata": {},
   "source": [
    "# 统计词频"
   ]
  },
  {
   "cell_type": "code",
   "execution_count": 1,
   "metadata": {},
   "outputs": [],
   "source": [
    "# 测试文本\n",
    "text = \"This is a text. I wirte it for testing. If 'you' want to change it to any other content, you can try it and it does not matter.\"\n",
    "\n",
    "# 写一个函数,统计词频,返回一个字典 count_dict. 其关键字为单词,其对应的值为该单词在文本中出现的次数\n",
    "def count_words(text):\n",
    "    count_dict = {}\n",
    "    for word in text.split(\" \"):\n",
    "        # 对于见过的词, 数目加1\n",
    "        if word in count_dict:\n",
    "            #==your code\n",
    "            \n",
    "        #对于未见的词,...\n",
    "        else:\n",
    "            #==Your code\n",
    "    return count_dict\n",
    "# 测试\n",
    "count_words(text)"
   ]
  },
  {
   "cell_type": "code",
   "execution_count": 2,
   "metadata": {},
   "outputs": [],
   "source": [
    "# 对上面的函数做修改,使得它将单词的大小写视为同样的单词\n",
    "\n",
    "def count_words(text):\n",
    "    #==Your code\n",
    "    \n",
    "    return count_dict\n",
    "\n",
    "count_words(text)"
   ]
  },
  {
   "cell_type": "code",
   "execution_count": 3,
   "metadata": {},
   "outputs": [],
   "source": [
    "# 去除标点符号. \n",
    "# 提示: 可以使用 字符串的replace()函数\n",
    "\n",
    "def count_words(text):\n",
    "    #==your code\n",
    "    \n",
    "    return count_dict\n",
    "\n",
    "count_words(text)"
   ]
  },
  {
   "cell_type": "code",
   "execution_count": 5,
   "metadata": {},
   "outputs": [],
   "source": [
    "# 利用collections里面的Counter工具完成count_words(text)同样的功能\n",
    "from collections import Counter\n",
    "\n",
    "def count_words_simple(text):\n",
    "    \"\"\"统计给定文本中的词频. 返回一个字典,每个单词作为关键字,其出现的次数作为对应的值.不区分大小写,去除标点符号.\"\"\"\n",
    "    #可参考的函数: 字符串的lower(), replace(),split()等函数\n",
    "    \n",
    "    #==Your code\n",
    "    \n",
    "    return word_count\n",
    "\n",
    "count_words_simple(text)"
   ]
  },
  {
   "cell_type": "code",
   "execution_count": 6,
   "metadata": {},
   "outputs": [],
   "source": [
    "#输入text到前面的两种方法,对比两种方法的结果,返回布尔值\n"
   ]
  },
  {
   "cell_type": "code",
   "execution_count": 7,
   "metadata": {},
   "outputs": [],
   "source": [
    "#打印出以下表达式的结果 : count_words(text) is count_words_simple(text)"
   ]
  }
 ],
 "metadata": {
  "kernelspec": {
   "display_name": "Python 3",
   "language": "python",
   "name": "python3"
  },
  "language_info": {
   "codemirror_mode": {
    "name": "ipython",
    "version": 3
   },
   "file_extension": ".py",
   "mimetype": "text/x-python",
   "name": "python",
   "nbconvert_exporter": "python",
   "pygments_lexer": "ipython3",
   "version": "3.7.4"
  },
  "widgets": {
   "state": {},
   "version": "1.1.2"
  }
 },
 "nbformat": 4,
 "nbformat_minor": 2
}
